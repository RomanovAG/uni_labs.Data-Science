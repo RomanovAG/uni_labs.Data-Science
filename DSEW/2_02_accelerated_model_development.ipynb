{
 "cells": [
  {
   "cell_type": "markdown",
   "id": "0bf7f930-76a1-4c16-84e4-cf1e73b54c55",
   "metadata": {},
   "source": [
    "<a href=\"https://www.nvidia.com/dli\"> <img src=\"images/DLI_Header.png\" alt=\"Header\" style=\"width: 400px;\"/> </a>"
   ]
  },
  {
   "cell_type": "markdown",
   "id": "400a41da-bc38-4e9a-9ece-d2744ffb16b0",
   "metadata": {
    "tags": []
   },
   "source": [
    "# Enhancing Data Science Outcomes With Efficient Workflow #"
   ]
  },
  {
   "cell_type": "markdown",
   "id": "8897c66c-4f9d-48b4-a60b-ddae16f2f61b",
   "metadata": {},
   "source": [
    "## 02 - Accelerated Model Development ##\n",
    "This lab covers the machine learning model development step of the data science workflow. Model development involves model building, evaluation, fine-tuning, model selection, and model persistence. \n",
    "\n",
    "<p><img src='images/pipeline_overview_2.png' width=1080></p>\n",
    "\n",
    "**Table of Contents**\n",
    "<br>\n",
    "In this notebook, we will train machine learning models using the Random Forest and XGBoost algorithms. This notebook covers the below sections: \n",
    "1. [cuML and Dask-cuML for Accelerated Machine Learning Algorithms](#s2-1)\n",
    "2. [cuML Random Forest on a Single GPU](#s2-2)\n",
    "    * [Exercise #1 - Model Performance](#s2-e1)\n",
    "    * [Data Size vs. Model Performance](#s2-2.1)\n",
    "    * [Dask-cuML Random Forest on Multi-GPU](#s2-2.2)\n",
    "3. [XGBoost](#s2-3)\n",
    "    * [XGBoost on a Single GPU](#s2-3.1)\n",
    "    * [XGBoost on GPU Cluster with Dask](#s2-3.2)\n",
    "    * [Exercise #2 - Experimentation](#s2-e2)\n",
    "    * [Save Model](#s2-3.3)\n",
    "4. [Feature Importances](#s2-4)"
   ]
  },
  {
   "cell_type": "markdown",
   "id": "9e6f44ca-b82b-444e-aebf-eb2c77e90b93",
   "metadata": {
    "tags": []
   },
   "source": [
    "<a name='s2-1'></a>\n",
    "## cuML and Dask for GPU-Accelerated Machine Learning Algorithms ##\n",
    "Machine learning requires processing large amounts of data to extra patterns. In fact, machine learning generally works better with more data. Beyond data manipulation, RAPIDS provides a streamlined approach to solve data science problems end to end. It parallelizes compute to multiple cores in the GPU to achieve improved performance over traditional data processing tools. Once data has been loaded on the GPU, we can use cuML to train machine learning models using a `fit`-`transform`-`predict`-style API and Dask-cuML to distribute our computation across a GPU cluster. \n",
    "\n",
    "**cuML** [[doc]](https://docs.rapids.ai/api/cuml/stable/]) is a suite of fast, GPU-accelerated machine learning algorithms designed for data science and analytical tasks. cuML provides a scikit-learn-like API that is familiar to data scientists and machine learning engineers. This enables them to accelerate model development without going into the details of CUDA programming. With cuML, we can train machine learning models more efficiently, therefore allowing for more exploration and experimentation to improve model performance. \n",
    "\n",
    "As we previously mentioned, [Dask](https://www.dask.org/) is a parallel computing library built on Python. It allows easy management of distributed workers and excels at handling large, distributed data science workflows. Increasingly, machine learning tasks must process massive amounts of data and require the processing to be distributed across multiple GPUs. Dask-cuML enables scalable distributed training on a GPU cluster. \n",
    "\n",
    "Using Dask with GPU-based machine learning can help us scale in several dimensions: \n",
    "1. When the challenge is computing bound, GPU-accelerated machine learning algorithms can speed up computationally intensive workflows\n",
    "2. When the challenge is memory bound, Dask offers the ability to work with larger datasets and thereby improving the performance and resilience of models\n",
    "\n",
    "<p><img src='images/tip.png' width=720></p>\n",
    "\n",
    "When the dataset is small, we don't expect to observe cuML performance to be faster than scikit-learn. In many cases, performance advantages appear as the dataset grows. A modern GPU can have thousands of cores. To realize the benefits of acceleration, we can maximize performance by providing enough data to keep the hardware busy. "
   ]
  },
  {
   "cell_type": "markdown",
   "id": "9e0f56f4-c6e5-4cc7-80a8-8d3e2ca90671",
   "metadata": {},
   "source": [
    "<a name='s2-2'></a>\n",
    "## cuML Random Forest on a Single GPU ##\n",
    "cuML has a GPU-accelerated `cuml.ensemble.RandomForestClassifier()`[[doc]](https://docs.rapids.ai/api/cuml/stable/api.html#random-forest) algorithm. The cuML Random Forest model uses a high-performance **quantiles** split algorithm when building the trees. The quantiles split algorithm precomputes the potential split values for each feature one time per tree at the root node. Each feature column is sorted in ascending order and split into bins such that each bin contains an equal portion of the root node’s dataset. The end range of each bin is considered as a potential split value. \n",
    "\n",
    "There are a number of [parameters](https://docs.rapids.ai/api/cuml/stable/api.html#cuml.ensemble.RandomForestClassifier) that can be tuned related to `split_criterion`, `samples`, `depth`, `features`, and `n_bins`. "
   ]
  },
  {
   "cell_type": "code",
   "execution_count": 1,
   "id": "caf069b1-9852-4d8a-b8e4-96a0349b0816",
   "metadata": {},
   "outputs": [],
   "source": [
    "# import dependencies\n",
    "import warnings\n",
    "warnings.filterwarnings('ignore')\n",
    "\n",
    "from cuml.model_selection import train_test_split\n",
    "from cuml.ensemble import RandomForestClassifier as cumlRF\n",
    "from cuml.metrics import precision_recall_curve, roc_auc_score, confusion_matrix, accuracy_score\n",
    "from sklearn.metrics import roc_curve, classification_report, f1_score\n",
    "\n",
    "import dask_cudf\n",
    "import cudf\n",
    "import numpy as np\n",
    "import matplotlib.pyplot as plt\n",
    "import time\n",
    "import gc"
   ]
  },
  {
   "cell_type": "code",
   "execution_count": 2,
   "id": "96610e96-4757-4e3f-81f6-823c566466f6",
   "metadata": {},
   "outputs": [],
   "source": [
    "# initialize features list\n",
    "features_list=['brand', 'cat_0', 'cat_1', 'cat_2', 'cat_3', \n",
    "               'price', 'ts_hour', 'ts_minute', 'ts_weekday', \n",
    "               'brand_target_sum', 'brand_count', 'cat_0_target_sum', \n",
    "               'cat_0_count', 'cat_1_target_sum', 'cat_1_count', \n",
    "               'cat_2_target_sum', 'cat_2_count', 'cat_3_target_sum', \n",
    "               'cat_3_count', 'TE_brand_target', 'TE_cat_0_target', \n",
    "               'TE_cat_1_target', 'TE_cat_2_target', 'TE_cat_3_target', \n",
    "               'relative_price_product', 'relative_price_category']\n",
    "\n",
    "include=features_list+['target']"
   ]
  },
  {
   "cell_type": "markdown",
   "id": "1a4e0ac3-7cdd-4682-9f2c-94ac2ebbdf2a",
   "metadata": {},
   "source": [
    "We start by importing data. Since we are training with a single GPU, we will load the data input the memory with `.compute()`. Data needs to be split into a train and test set, which can be accomplished with `cuml.model_selection.train_test_split()`[[doc]](https://docs.rapids.ai/api/cuml/stable/api.html#model-selection-and-data-splitting). "
   ]
  },
  {
   "cell_type": "code",
   "execution_count": 3,
   "id": "f7fe023a-5ae2-4b9c-880e-c61acb4e3e7d",
   "metadata": {
    "scrolled": true,
    "tags": []
   },
   "outputs": [
    {
     "name": "stdout",
     "output_type": "stream",
     "text": [
      "Total of 2461697 records. \n"
     ]
    }
   ],
   "source": [
    "# load data\n",
    "parquet_dir='processed_parquet'\n",
    "\n",
    "ddf=dask_cudf.read_parquet(parquet_dir, columns=include)\n",
    "gdf=ddf.compute()\n",
    "\n",
    "print(f'Total of {len(gdf)} records. ')"
   ]
  },
  {
   "cell_type": "code",
   "execution_count": 4,
   "id": "f77f311a-f6fd-4053-93a5-9c1e40c461e4",
   "metadata": {},
   "outputs": [],
   "source": [
    "# define features and target\n",
    "y=gdf['target']\n",
    "X=gdf[features_list]\n",
    "\n",
    "# split data into train and test sett\n",
    "X_train, X_test, y_train, y_test=train_test_split(X, y, random_state=42)"
   ]
  },
  {
   "cell_type": "markdown",
   "id": "9d55062f-0f69-4862-89d2-2fec66b69a18",
   "metadata": {},
   "source": [
    "<p><img src='images/tip.png' width=720></p>\n",
    "\n",
    "\n",
    "Recall that Dask-cuDF is the recommended way of loading large datasets. "
   ]
  },
  {
   "cell_type": "markdown",
   "id": "3bdf2b66-637d-4d04-a9d2-abad55c58ba2",
   "metadata": {},
   "source": [
    "Next, we will train the model. We are using the default model parameters and 100 for `n_estimators` to compare the training times between cuML and scikit-learn. "
   ]
  },
  {
   "cell_type": "code",
   "execution_count": 5,
   "id": "aefaa272-534a-4a9c-90a4-1574e4089a1e",
   "metadata": {},
   "outputs": [],
   "source": [
    "# set estimator parameters\n",
    "rf_params={\n",
    "    'n_estimators': 100, \n",
    "}\n",
    "\n",
    "# initialize estimator with key parameters\n",
    "rf=cumlRF(**rf_params)"
   ]
  },
  {
   "cell_type": "code",
   "execution_count": 6,
   "id": "9a621bc2-9dd2-4f93-a460-9fe5e5ce5875",
   "metadata": {
    "scrolled": true,
    "tags": []
   },
   "outputs": [
    {
     "name": "stdout",
     "output_type": "stream",
     "text": [
      "Training 1846272 samples took 0.29 minutes. \n"
     ]
    }
   ],
   "source": [
    "# fit estimator\n",
    "start=time.time()\n",
    "rf.fit(X_train, y_train)\n",
    "elapsed_time=time.time()-start\n",
    "\n",
    "print(f'Training {len(X_train)} samples took {round(elapsed_time/60, 2)} minutes. ')"
   ]
  },
  {
   "cell_type": "markdown",
   "id": "876235f5-4433-4655-9838-f0258ccef8b1",
   "metadata": {},
   "source": [
    "<a name='s2-e1'></a>\n",
    "### Exercise #1 - Performance Model Evaluation ###\n",
    "\n",
    "We can use the `cuml.metrics.precision_recall_curve()`[[doc]](https://docs.rapids.ai/api/cuml/stable/api/#cuml.metrics.precision_recall_curve) and `cuml.metrics.roc_auc_score()`[[doc]](https://docs.rapids.ai/api/cuml/stable/api/#cuml.metrics.roc_auc_score) functions to calculate the model performance. Alternatively, we can check the overall performance of the model with `cuml.metrics.accuracy.accuracy_score()`[[doc]](https://docs.rapids.ai/api/cuml/stable/api.html#metrics-regression-classification-and-distance). \n",
    "\n",
    "**Instructions**: <br>\n",
    "* Modify the `<FIXME>`s only and execute the below cell to calculate the precision, recall, and AUC ROC scores. "
   ]
  },
  {
   "cell_type": "code",
   "execution_count": 8,
   "id": "40b16da5-2fda-4621-942d-d834b32c44bc",
   "metadata": {
    "tags": []
   },
   "outputs": [
    {
     "name": "stdout",
     "output_type": "stream",
     "text": [
      "Area Under the Receiver Operating Characteristic Curve is 0.63. \n"
     ]
    }
   ],
   "source": [
    "# perform model evaluation\n",
    "prediction_test=rf.predict_proba(X_test)[1]\n",
    "\n",
    "precision, recall, thresholds=precision_recall_curve(y_test, prediction_test)\n",
    "auc_roc=roc_auc_score(y_test, prediction_test)\n",
    "\n",
    "print(f'Area Under the Receiver Operating Characteristic Curve is {round(auc_roc, 2)}. ')"
   ]
  },
  {
   "cell_type": "raw",
   "id": "d1c15c23-b8ea-4caa-97e1-23df32e199ed",
   "metadata": {
    "tags": []
   },
   "source": [
    "prediction_test=rf.predict_proba(X_test)[1]\n",
    "\n",
    "precision, recall, thresholds=precision_recall_curve(y_test, prediction_test)\n",
    "auc_roc=roc_auc_score(y_test, prediction_test)\n",
    "\n",
    "print(f'Area Under the Receiver Operating Characteristic Curve is {round(auc_roc, 2)}. ')"
   ]
  },
  {
   "cell_type": "markdown",
   "id": "4acc330d-9283-4527-ae55-ad3f766d07ba",
   "metadata": {},
   "source": [
    "Click ... to show **solution**."
   ]
  },
  {
   "cell_type": "markdown",
   "id": "eab53b3c-5339-4b96-a293-7f9209dcfdba",
   "metadata": {},
   "source": [
    "<p><img src='images/tip.png' width=720></p>\n",
    "\n",
    "Using `metrics` from cuML requires CuPy arrays. The scikit-learn equivalent can be used when the outputs are moved to the host. "
   ]
  },
  {
   "cell_type": "code",
   "execution_count": 9,
   "id": "ccde364f-a8c7-4557-9ea7-5281fe8f5882",
   "metadata": {
    "scrolled": true,
    "tags": []
   },
   "outputs": [
    {
     "data": {
      "image/png": "[encoded data removed]",
      "text/plain": [
       "<Figure size 640x480 with 1 Axes>"
      ]
     },
     "metadata": {},
     "output_type": "display_data"
    }
   ],
   "source": [
    "# calculate fpr and tpr using sklearn\n",
    "prediction_test_numpy=prediction_test.to_numpy()\n",
    "y_test_numpy=y_test.to_numpy()\n",
    "fpr, tpr, _=roc_curve(y_test_numpy, prediction_test_numpy)\n",
    "\n",
    "# plot ROC\n",
    "plt.plot(fpr, tpr, label=f'ROC Curve (Area = {round(auc_roc, 2)})')\n",
    "plt.plot([0, 1], [0, 1], linestyle='--', label='ROC Random')\n",
    "plt.xlabel('False Positive Rate')\n",
    "plt.ylabel('True Positive Rate')\n",
    "plt.title('Receiver Operating Characteristic')\n",
    "plt.legend(loc='lower right')\n",
    "plt.show()"
   ]
  },
  {
   "cell_type": "code",
   "execution_count": 10,
   "id": "e1f05e93-2236-40ee-806f-9e7a292fa3f9",
   "metadata": {
    "scrolled": true,
    "tags": []
   },
   "outputs": [
    {
     "name": "stdout",
     "output_type": "stream",
     "text": [
      "F1 Score is 0.37. \n",
      "Classification Report: \n",
      "               precision    recall  f1-score   support\n",
      "\n",
      "           0       0.63      0.85      0.72    362341\n",
      "           1       0.56      0.28      0.37    253084\n",
      "\n",
      "    accuracy                           0.61    615425\n",
      "   macro avg       0.60      0.56      0.55    615425\n",
      "weighted avg       0.60      0.61      0.58    615425\n",
      "\n",
      "Confusion Matrix: \n",
      " [[307197  55144]\n",
      " [182061  71023]]\n"
     ]
    }
   ],
   "source": [
    "# calculate classification report using sklearn\n",
    "best_threshold=.5\n",
    "\n",
    "# get prediction label if using best threshold\n",
    "prediction_label_numpy=(prediction_test >= best_threshold).astype('int64').to_numpy()\n",
    "\n",
    "# calculate F1 score\n",
    "f1=f1_score(y_test_numpy, prediction_label_numpy)\n",
    "print(f'F1 Score is {round(f1, 2)}. ')\n",
    "\n",
    "# generate classification report and confusion matrix\n",
    "print(\"Classification Report: \\n\", classification_report(y_test_numpy, prediction_label_numpy))\n",
    "print(\"Confusion Matrix: \\n\", confusion_matrix(y_test_numpy, prediction_label_numpy))"
   ]
  },
  {
   "cell_type": "markdown",
   "id": "f308add8-3ff3-458b-be86-5e4d336754ca",
   "metadata": {},
   "source": [
    "<a name='s2-2.1'></a>\n",
    "### Mode Size vs. Model Performance ###\n",
    "Model performance generally improves as the size of the training dataset grows. Increasing the number of trees can also improve model performance. cuML speeds up machine learning training and enables more experimentation. We will train several models to see the effects of data size and `n_estimators`. "
   ]
  },
  {
   "cell_type": "code",
   "execution_count": 11,
   "id": "b4649271-63b5-438b-bd54-0273ab0f732b",
   "metadata": {},
   "outputs": [],
   "source": [
    "# define model to train random forest classifier\n",
    "def train(frac, n_estimators): \n",
    "    \n",
    "    gdf_sample=gdf.sample(frac=frac)\n",
    "    X=gdf_sample[features_list]\n",
    "    y=gdf_sample['target']\n",
    "    X_train, X_test, y_train, y_test=train_test_split(X, y, random_state=42)\n",
    "    \n",
    "    rf=cumlRF(n_estimators=n_estimators)\n",
    "    \n",
    "    # time training\n",
    "    start=time.time()\n",
    "    rf.fit(X_train, y_train)\n",
    "    elapsed_time=time.time()-start\n",
    "    \n",
    "    # calculate auc roc\n",
    "    prediction_test=rf.predict_proba(X_test)[1]\n",
    "    auc_roc=roc_auc_score(y_test, prediction_test)\n",
    "    \n",
    "    return elapsed_time, auc_roc, len(X_train)"
   ]
  },
  {
   "cell_type": "code",
   "execution_count": 12,
   "id": "c0a79da0-6f59-415f-b18c-21ee141ff818",
   "metadata": {
    "scrolled": true,
    "tags": []
   },
   "outputs": [
    {
     "name": "stdout",
     "output_type": "stream",
     "text": [
      "Training 50 trees yielded 63.36% AUC and took 0.12 minutes. \n",
      "Training 150 trees yielded 63.3% AUC and took 0.35 minutes. \n",
      "Training 250 trees yielded 63.37% AUC and took 0.59 minutes. \n",
      "Training 350 trees yielded 63.34% AUC and took 0.82 minutes. \n",
      "Training 450 trees yielded 63.38% AUC and took 1.06 minutes. \n"
     ]
    }
   ],
   "source": [
    "# create lists to contain experiment statistics\n",
    "auc_roc_scores=[]\n",
    "model_sizes=[]\n",
    "times=[]\n",
    "\n",
    "for n_estimators in range(50, 451, 100): \n",
    "    elapsed_time, auc_roc, sample_size=train(1, n_estimators)\n",
    "    \n",
    "    times.append(elapsed_time)\n",
    "    auc_roc_scores.append(auc_roc)\n",
    "    model_sizes.append(n_estimators)\n",
    "    \n",
    "    print(f'Training {n_estimators} trees yielded {round(auc_roc*100, 2)}% AUC and took {round(elapsed_time/60, 2)} minutes. ')"
   ]
  },
  {
   "cell_type": "code",
   "execution_count": 13,
   "id": "b037b824-bec7-4fb4-9cfa-d1206475b274",
   "metadata": {
    "scrolled": true,
    "tags": []
   },
   "outputs": [
    {
     "data": {
      "image/png": "[encoded data removed]",
      "text/plain": [
       "<Figure size 640x480 with 2 Axes>"
      ]
     },
     "metadata": {},
     "output_type": "display_data"
    }
   ],
   "source": [
    "# plot auc roc vs. model size\n",
    "fig, axes=plt.subplots()\n",
    "\n",
    "ln_1=axes.plot(model_sizes, auc_roc_scores, label='AUC score', color='blue')\n",
    "axes.set_ylabel('AUC Score')\n",
    "\n",
    "axes_right=axes.twinx()\n",
    "ln_2=axes_right.plot(model_sizes, times, label='Training Time', color='orange')\n",
    "axes_right.set_ylabel('Training Time (s)')\n",
    "\n",
    "axes.legend(ln_1+ln_2, [ln.get_label() for ln in ln_1+ln_2])\n",
    "\n",
    "plt.xlabel('Training Size')\n",
    "plt.ticklabel_format(style='plain')\n",
    "plt.show()"
   ]
  },
  {
   "cell_type": "code",
   "execution_count": 14,
   "id": "a1545bef-ca47-490e-8b03-c04714f8146e",
   "metadata": {
    "scrolled": true,
    "tags": []
   },
   "outputs": [
    {
     "name": "stdout",
     "output_type": "stream",
     "text": [
      "Training 369254 samples with 350 trees yielded 62.24% AUC and took 0.11 minutes. \n",
      "Training 738509 samples with 350 trees yielded 62.66% AUC and took 0.27 minutes. \n",
      "Training 1107763 samples with 350 trees yielded 63.21% AUC and took 0.45 minutes. \n",
      "Training 1477018 samples with 350 trees yielded 63.24% AUC and took 0.63 minutes. \n",
      "Training 1846272 samples with 350 trees yielded 63.35% AUC and took 0.82 minutes. \n"
     ]
    }
   ],
   "source": [
    "# create lists to contain experiment statistics\n",
    "auc_roc_scores=[]\n",
    "sample_sizes=[]\n",
    "times=[]\n",
    "\n",
    "for frac in np.arange(0.2, 1.1, 0.2): \n",
    "    n_estimators=350\n",
    "    elapsed_time, auc_roc, sample_size=train(frac, n_estimators=n_estimators)\n",
    "    \n",
    "    times.append(elapsed_time)\n",
    "    auc_roc_scores.append(auc_roc)\n",
    "    sample_sizes.append(sample_size)\n",
    "    \n",
    "    print(f'Training {sample_size} samples with {n_estimators} trees yielded {round(auc_roc*100, 2)}% AUC and took {round(elapsed_time/60, 2)} minutes. ')"
   ]
  },
  {
   "cell_type": "code",
   "execution_count": 15,
   "id": "6d300544-cc9f-4d72-b93f-b6af81290751",
   "metadata": {
    "scrolled": true,
    "tags": []
   },
   "outputs": [
    {
     "data": {
      "image/png": "[encoded data removed]",
      "text/plain": [
       "<Figure size 640x480 with 2 Axes>"
      ]
     },
     "metadata": {},
     "output_type": "display_data"
    }
   ],
   "source": [
    "# plot auc roc vs. sample size\n",
    "fig, axes=plt.subplots()\n",
    "\n",
    "ln_1=axes.plot(sample_sizes, auc_roc_scores, label='AUC score', color='blue')\n",
    "axes.set_ylabel('AUC Score')\n",
    "\n",
    "axes_right=axes.twinx()\n",
    "ln_2=axes_right.plot(sample_sizes, times, label='Training Time', color='orange')\n",
    "axes_right.set_ylabel('Training Time (s)')\n",
    "\n",
    "axes.legend(ln_1+ln_2, [ln.get_label() for ln in ln_1+ln_2])\n",
    "\n",
    "plt.xlabel('Training Size')\n",
    "plt.ticklabel_format(style='plain')\n",
    "plt.show()"
   ]
  },
  {
   "cell_type": "markdown",
   "id": "544fa226-5454-4236-a944-8d2692890bb9",
   "metadata": {},
   "source": [
    "As the size of data and model increase, the model performance tends to better. Importantly, the amount of time it takes for cuML to train the model is approximately linear. "
   ]
  },
  {
   "cell_type": "code",
   "execution_count": 16,
   "id": "ca69f599-9318-4d5d-ac3b-207f0fe8f056",
   "metadata": {
    "scrolled": true,
    "tags": []
   },
   "outputs": [
    {
     "data": {
      "text/plain": [
       "11817"
      ]
     },
     "execution_count": 16,
     "metadata": {},
     "output_type": "execute_result"
    }
   ],
   "source": [
    "# clean up\n",
    "del gdf, X, y, ddf, rf, X_train, X_test, y_train, y_test\n",
    "gc.collect()"
   ]
  },
  {
   "cell_type": "markdown",
   "id": "8b96a8c2-e1e0-4990-88b9-1df4c1d24017",
   "metadata": {
    "tags": []
   },
   "source": [
    "<a name='s2-2.2'></a>\n",
    "### Dask-cuML Random Forest on Multi-GPU ###\n",
    "To accelerate this process, cuML can construct trees in parallel across multiple GPUs across a cluster using [Dask](https://www.dask.org/). \n",
    "\n",
    "Dask can be used to scale cuML's Random Forest classifier in two ways: \n",
    "1. Data can be randomly split and shared equally across all workers, in which case each worker builds trees on a subset of the full data. In other words, For a forest with `N` trees being built on `w` workers, each worker simply builds `N/w` trees on a subset of the total dataset it has available locally. This requires partitioning the data in a well-shuffled, balanced way in advance. This random sharing approach effectively expands the amount of available memory and typically works well. With this approach, both the dataset and trees are distributed across multiple GPUs, leading to better than linear speedup scaling across multiple devices. There could be some small differences in terms of accuracy between single-GPU and multi-GPU runs, which is to be expected given the different data distributions. \n",
    "2. Training data can be replicated so that each worker receives `w` partitions when `.fit()` is called. This will give all workers a complete view of the dataset. This would produce results approximately identical to single-GPU fitting.\n",
    "\n",
    "The random sharing approach effectively expands the amount of available memory and typically works well but requires careful data splitting and model tuning to achieve good results. We will distribute and split data into each GPU worker and train several trees in parallel. "
   ]
  },
  {
   "cell_type": "markdown",
   "id": "3ef1f29c-11ad-4f05-bb94-3c113ecbb4a6",
   "metadata": {},
   "source": [
    "By default, Dask will only use a single GPU. To use multiple GPUs, users will want to either use the `dask_cuda.LocalCUDACluster()`[[doc]](https://docs.rapids.ai/api/dask-cuda/stable/api.html) API or launch Dask workers from the command line (one per GPU). We will also initialize a `dask.distributed.Client` and point it to the cluster. The Dask client connects to and submits computations to a Dask cluster. "
   ]
  },
  {
   "cell_type": "code",
   "execution_count": 17,
   "id": "c09ac827-15e2-4f66-8fcd-b1797fb70412",
   "metadata": {
    "scrolled": true,
    "tags": []
   },
   "outputs": [
    {
     "name": "stderr",
     "output_type": "stream",
     "text": [
      "2023-12-24 19:37:32,443 - distributed.preloading - INFO - Creating preload: dask_cuda.initialize\n",
      "2023-12-24 19:37:32,443 - distributed.preloading - INFO - Import preload module: dask_cuda.initialize\n",
      "2023-12-24 19:37:32,515 - distributed.preloading - INFO - Creating preload: dask_cuda.initialize\n",
      "2023-12-24 19:37:32,515 - distributed.preloading - INFO - Import preload module: dask_cuda.initialize\n",
      "2023-12-24 19:37:32,570 - distributed.preloading - INFO - Creating preload: dask_cuda.initialize\n",
      "2023-12-24 19:37:32,571 - distributed.preloading - INFO - Import preload module: dask_cuda.initialize\n",
      "2023-12-24 19:37:32,645 - distributed.preloading - INFO - Creating preload: dask_cuda.initialize\n",
      "2023-12-24 19:37:32,645 - distributed.preloading - INFO - Import preload module: dask_cuda.initialize\n"
     ]
    }
   ],
   "source": [
    "# import dependencies\n",
    "from dask.distributed import Client, wait\n",
    "from dask_cuda import LocalCUDACluster\n",
    "\n",
    "# instantiate a Client\n",
    "cluster=LocalCUDACluster()\n",
    "client=Client(cluster)"
   ]
  },
  {
   "cell_type": "code",
   "execution_count": 18,
   "id": "ea561eac-a731-4445-b70b-99c00317ad6a",
   "metadata": {
    "scrolled": true,
    "tags": []
   },
   "outputs": [
    {
     "name": "stdout",
     "output_type": "stream",
     "text": [
      "Dask dashboard (status) is accessible on http://18.209.105.128:8787/status\n",
      "Dask dashboard (gpu) is accessible on http://18.209.105.128:8787/gpu\n"
     ]
    }
   ],
   "source": [
    "# get the machine's external IP address\n",
    "from requests import get\n",
    "\n",
    "ip=get('https://api.ipify.org').content.decode('utf8')\n",
    "\n",
    "print(f'Dask dashboard (status) is accessible on http://{ip}:8787/status')\n",
    "print(f'Dask dashboard (gpu) is accessible on http://{ip}:8787/gpu')"
   ]
  },
  {
   "cell_type": "markdown",
   "id": "0b24d8ed-d4bd-4e64-98df-30fdc3511541",
   "metadata": {},
   "source": [
    "cuML nicely integrates with Dask to make training a models easy across multiple GPUs. cuML has a `cuml.dask.ensemble.RandomForestClassifier`[[doc]](https://docs.rapids.ai/api/cuml/stable/api.html#id47) algorithm. We build a classification model to predict the binary outcome. Other multi-node, multi-GPU algorithms can be found in the [documentation](https://docs.rapids.ai/api/cuml/stable/api.html#multi-node-multi-gpu-algorithms). "
   ]
  },
  {
   "cell_type": "code",
   "execution_count": 19,
   "id": "575eaf49-9c55-4161-b00c-46f5d145f727",
   "metadata": {},
   "outputs": [],
   "source": [
    "# import dependencies\n",
    "from cuml.dask.ensemble import RandomForestClassifier as cumlDaskRF\n",
    "\n",
    "from dask_ml.model_selection import train_test_split\n",
    "from dask_ml.metrics import accuracy_score"
   ]
  },
  {
   "cell_type": "code",
   "execution_count": 20,
   "id": "a7f7a187-d998-4ee1-bd7d-5ce8c11d2ea0",
   "metadata": {},
   "outputs": [],
   "source": [
    "# initialize features list\n",
    "features_list=['brand', 'cat_0', 'cat_1', 'cat_2', 'cat_3', \n",
    "               'price', 'ts_hour', 'ts_minute', 'ts_weekday', \n",
    "               'brand_target_sum', 'brand_count', 'cat_0_target_sum', \n",
    "               'cat_0_count', 'cat_1_target_sum', 'cat_1_count', \n",
    "               'cat_2_target_sum', 'cat_2_count', 'cat_3_target_sum', \n",
    "               'cat_3_count', 'TE_brand_target', 'TE_cat_0_target', \n",
    "               'TE_cat_1_target', 'TE_cat_2_target', 'TE_cat_3_target', \n",
    "               'relative_price_product', 'relative_price_category']\n",
    "\n",
    "include=features_list+['target']"
   ]
  },
  {
   "cell_type": "markdown",
   "id": "ab5d0100-00e5-4da9-82df-b89ea8f9bbd9",
   "metadata": {},
   "source": [
    "We start by importing data. Except for creating the cluster with multiple-GPUs, the code for importing data will be similar. Data needs to be split into a train and validation set, which can be accomplished with `dask_ml.model_selection.train_test_split()`[[doc]](https://ml.dask.org/modules/generated/dask_ml.model_selection.train_test_split.html). When fitting the model, data is expected to be partitioned with at least one partition on each Dask worker being used. If a worker has multiple data partitions, they will be concatenated before fitting, which will lead to additional memory usage. To minimize memory consumption, ensure that each worker has exactly one partition. When persisting data, we can use `cuml.dask.common.utils.persist_across_workers()` or `.persist()` with the data and workers. When using the latter approach, both `X` and `y` should be persisted across workers. "
   ]
  },
  {
   "cell_type": "code",
   "execution_count": 21,
   "id": "a603d150-a65e-44a1-b563-e83a91f882d8",
   "metadata": {
    "scrolled": true,
    "tags": []
   },
   "outputs": [
    {
     "name": "stdout",
     "output_type": "stream",
     "text": [
      "Total of 2461697 records split across 4 partitions. \n"
     ]
    }
   ],
   "source": [
    "# load data\n",
    "parquet_dir='processed_parquet'\n",
    "ddf=dask_cudf.read_parquet(parquet_dir, columns=include)\n",
    "\n",
    "print(f'Total of {len(ddf)} records split across {ddf.npartitions} partitions. ')"
   ]
  },
  {
   "cell_type": "code",
   "execution_count": 22,
   "id": "ca190f9e-f633-4d2a-8f66-0694050baf70",
   "metadata": {
    "scrolled": true,
    "tags": []
   },
   "outputs": [
    {
     "data": {
      "text/plain": [
       "DoneAndNotDoneFutures(done={<Future: finished, type: cudf.core.dataframe.DataFrame, key: ('split-0-64ab1cd5ba5076ed280a3c026b9e964e', 0)>, <Future: finished, type: cudf.core.dataframe.DataFrame, key: ('split-0-64ab1cd5ba5076ed280a3c026b9e964e', 3)>, <Future: finished, type: cudf.core.series.Series, key: ('split-0-fe8f06c0864cf5f4027440faedd263ec', 3)>, <Future: finished, type: cudf.core.series.Series, key: ('split-1-fe8f06c0864cf5f4027440faedd263ec', 2)>, <Future: finished, type: cudf.core.series.Series, key: ('split-1-fe8f06c0864cf5f4027440faedd263ec', 3)>, <Future: finished, type: cudf.core.series.Series, key: ('split-1-fe8f06c0864cf5f4027440faedd263ec', 1)>, <Future: finished, type: cudf.core.dataframe.DataFrame, key: ('split-1-64ab1cd5ba5076ed280a3c026b9e964e', 3)>, <Future: finished, type: cudf.core.dataframe.DataFrame, key: ('split-0-64ab1cd5ba5076ed280a3c026b9e964e', 1)>, <Future: finished, type: cudf.core.series.Series, key: ('split-1-fe8f06c0864cf5f4027440faedd263ec', 0)>, <Future: finished, type: cudf.core.series.Series, key: ('split-0-fe8f06c0864cf5f4027440faedd263ec', 1)>, <Future: finished, type: cudf.core.series.Series, key: ('split-0-fe8f06c0864cf5f4027440faedd263ec', 2)>, <Future: finished, type: cudf.core.dataframe.DataFrame, key: ('split-1-64ab1cd5ba5076ed280a3c026b9e964e', 2)>, <Future: finished, type: cudf.core.dataframe.DataFrame, key: ('split-0-64ab1cd5ba5076ed280a3c026b9e964e', 2)>, <Future: finished, type: cudf.core.series.Series, key: ('split-0-fe8f06c0864cf5f4027440faedd263ec', 0)>, <Future: finished, type: cudf.core.dataframe.DataFrame, key: ('split-1-64ab1cd5ba5076ed280a3c026b9e964e', 1)>, <Future: finished, type: cudf.core.dataframe.DataFrame, key: ('split-1-64ab1cd5ba5076ed280a3c026b9e964e', 0)>}, not_done=set())"
      ]
     },
     "execution_count": 22,
     "metadata": {},
     "output_type": "execute_result"
    }
   ],
   "source": [
    "y=ddf['target'].astype('int32') # Dask RF requires data to be int32\n",
    "X=ddf[features_list].astype('float32') # Dask RF requires data to be float32\n",
    "\n",
    "# split data into train and validation\n",
    "X_train, X_test, y_train, y_test=train_test_split(X, y, random_state=42)\n",
    "\n",
    "# distributing the data evenly across all the workers\n",
    "X_train, X_test, y_train, y_test=client.persist([X_train, X_test, y_train, y_test])\n",
    "wait([X_train, X_test, y_train, y_test])"
   ]
  },
  {
   "cell_type": "markdown",
   "id": "5e674b80-1a3e-46ff-94fa-66ab4d7365bc",
   "metadata": {},
   "source": [
    "Next, we train the model. "
   ]
  },
  {
   "cell_type": "code",
   "execution_count": 24,
   "id": "1d817e1b-f89b-4cd8-b740-21674d845786",
   "metadata": {
    "scrolled": true,
    "tags": []
   },
   "outputs": [
    {
     "name": "stdout",
     "output_type": "stream",
     "text": [
      "Training 2216183 samples took 0.03 minutes. \n"
     ]
    }
   ],
   "source": [
    "# cuML Random Forest params\n",
    "dask_rf_params={\n",
    "    'n_estimators': 150,\n",
    "    'n_streams': 1, \n",
    "    'ignore_empty_partitions': True, \n",
    "}\n",
    "\n",
    "dask_rf=cumlDaskRF(**dask_rf_params)\n",
    "\n",
    "start=time.time()\n",
    "dask_rf.fit(X_train, y_train)\n",
    "wait(dask_rf.rfs) # allow asynchronous training tasks to finish\n",
    "elapsed_time=time.time()-start\n",
    "\n",
    "print(f'Training {len(X_train)} samples took {round(elapsed_time/60, 2)} minutes. ')"
   ]
  },
  {
   "cell_type": "markdown",
   "id": "549dfbcf-dec9-4ce7-8a68-3e774e1561ed",
   "metadata": {},
   "source": [
    "<p><img src='images/tip.png' width=720></p>\n",
    "\n",
    "<p><img src='images/rf_train.png' width=720></p>\n",
    "\n",
    "When we examine the Dask Diagnostics Dashboard, we see that the `.fit()` executed quickly (left). Had we broadcast all data to all workers, we would have seen Task Streams that include transfers (right). This could be computationally intensive and take longer to train, depending on the size of the dataset. "
   ]
  },
  {
   "cell_type": "markdown",
   "id": "5c2263bf-c5f0-4d23-b6fe-a839de2f914e",
   "metadata": {},
   "source": [
    "Lastly, we evaluate the model performance. At inference time, predictions from trees on all of the workers are combined, just as if the trees had all been trained on a single GPU. We can check the performance of the estimator with `dask_ml.metrics.accuracy_score()`[[doc]](https://ml.dask.org/modules/generated/dask_ml.metrics.accuracy_score.html). "
   ]
  },
  {
   "cell_type": "code",
   "execution_count": 25,
   "id": "69ced8d1-c340-4e57-b1be-4914635082c8",
   "metadata": {
    "scrolled": true,
    "tags": []
   },
   "outputs": [
    {
     "name": "stdout",
     "output_type": "stream",
     "text": [
      "Accuracy score for test set: 61.38%\n",
      "Throughput is: 62229.21 per seconds. \n"
     ]
    }
   ],
   "source": [
    "# due to randomness in the algorithm, we may see slight variation in accuracies\n",
    "start=time.time()\n",
    "prediction_test=dask_rf.predict(X_test)\n",
    "elapsed_time=time.time()-start\n",
    "\n",
    "print(f'Accuracy score for test set: {round(float(accuracy_score(y_test, prediction_test>0.5))*100, 2)}%')\n",
    "\n",
    "throughput=round(len(X_test)/elapsed_time, 2)\n",
    "print(f'Throughput is: {throughput} per seconds. ')"
   ]
  },
  {
   "cell_type": "code",
   "execution_count": 26,
   "id": "1c8b722d-5080-481c-8e19-554a40bf3cc7",
   "metadata": {
    "scrolled": true,
    "tags": []
   },
   "outputs": [
    {
     "data": {
      "text/plain": [
       "{'status': 'ok', 'restart': False}"
      ]
     },
     "execution_count": 26,
     "metadata": {},
     "output_type": "execute_result"
    }
   ],
   "source": [
    "# clean GPU memory\n",
    "import IPython\n",
    "app = IPython.Application.instance()\n",
    "app.kernel.do_shutdown(restart=False)"
   ]
  },
  {
   "cell_type": "markdown",
   "id": "c769ebd6-bbe7-4e6e-a8ef-e0bfdbd7b586",
   "metadata": {},
   "source": [
    "<a name='s2-3'></a>\n",
    "## XGBoost ##\n",
    "Random Forest uses a bagging technique to train independent trees for the ensemble model. Another popular decision tree ensemble uses the gradient boosting algorithm, which trains decision tree models sequentially that address weaknesses from previous trees. The idea of boosting means the algorithm combines weak learners into a stronger one in an iterative fashion. It has gained popularity because it produces high accuracy while being fast on large datasets. \n",
    "\n",
    "<p><img src='images/XGBoost.png' width=720></p>\n",
    "\n",
    "The popular **XGBoost** [[doc]](https://xgboost.readthedocs.io/en/stable/) is an optimized distributed gradient boosting library. \n",
    "More information about XGBoost can be found in [this article](https://www.nvidia.com/en-us/glossary/data-science/xgboost/). Accelerating and scaling XGBoost GPU training is easy with the native support of Dask. With both libraries having integration with cuDF, we can even scale up the whole data processing pipeline. "
   ]
  },
  {
   "cell_type": "markdown",
   "id": "49b6725c-759b-4957-8c37-95e6711f96f5",
   "metadata": {},
   "source": [
    "<a name='s2-3.1'></a>\n",
    "### XGBoost on a Single GPU ###\n",
    "XGBoost can be used to train models for regression or classification. We use the loss function and `objective` parameter to define the task. The loss function can be configured to include [regularization](https://en.wikipedia.org/wiki/Regularization_(mathematics)). The regularization term controls the complexity of the model, which can help us avoid overfitting. As with other machine learning models, tuning an XGBoost model often involves balancing the bias-variance tradeoff in machine learning. \n",
    "\n",
    "XGBoost refers to the model as a [Booster](https://xgboost.readthedocs.io/en/stable/tutorials/model.html#introduction-to-boosted-trees). \n",
    "XGBoost can be accelerated with CUDA-capable GPUs by specifying the `tree_method` parameter as `gpu_hist`. Detail about GPU support for XGBoost can be found [here](https://xgboost.readthedocs.io/en/stable/gpu/index.html). \n",
    "\n",
    "XGBoost provides two sets of APIs. One is functional and the other is modeled after the scikit-learn interface. We will demonstrate both: \n",
    "* The functional API one uses `xgboost.train()` and `DMatrix` \n",
    "* Another set of API uses an `XGBClassifier`\n",
    "\n",
    "XGBoost has several model parameters: \n",
    "* General - the type of booster, which could be `tree model` or `linear model`. We will use the `tree model`\n",
    "* Booster - parameters related to the chosen booster. We will use some booster parameters related to Tree Boosters to overcome overfitting\n",
    "    * The following parameters adjust model complexity: \n",
    "        * `max_depth` (default=6) - maximum depth of a tree. Increasing this value will make the model more complex and more likely to overfit \n",
    "        * `min_child_weight` (default=1) - minimum sum of instance weight needed in a child. If the tree partition step results in a leaf node with the sum of instance weight less than `min_child_weight`, then the building process will give up further partitioning. The larger `min_child_weight` is, the more conservative the model will be\n",
    "        * `min_split_loss` or `gamma` (default=0) - the minimum loss reduction required to make a further partition on a leaf node of the tree. The larger `gamma` or `min_split_loss` is, the more conservative the model will be\n",
    "    * The following parameters increase the randomness of the model so it can generalize better: \n",
    "        * `subsample` (default=1) - subsample ratio of the training instances. Setting `subsample` to 0.5 means that XGBoost would randomly sample half of the training data prior to growing trees\n",
    "        * `colsample_bytree` (default=1) - subsample ratio of columns when constructing each tree\n",
    "        * `eta` or `learning_rate` (default=0.3) - step-size shrinkage used in update to prevent overfitting. `eta` shrinks the feature weights to make the boosting process more conservative\n",
    "* Learning Task - parameters related to the learning scenario\n",
    "    * `objective` (default=reg:squarederror) - various learning objectives. We use `binary:logisitc` for a binary classification task to output probabilities. The full list of `objective` options can be found [here](https://xgboost.readthedocs.io/en/stable/parameter.html#xgboost-parameters)\n",
    "\n",
    "More details about the parameters of XGBoost can be found [here](https://xgboost.readthedocs.io/en/stable/parameter.html#xgboost-parameters). \n",
    "\n",
    "<p><img src='images/tip.png' width=720></p>\n",
    "\n",
    "Parameters such as `max_depth` can cause XGBoost to consume more memory when training. "
   ]
  },
  {
   "cell_type": "code",
   "execution_count": 1,
   "id": "bfb2882c-8b9c-42ea-a73c-58d37ff3f569",
   "metadata": {},
   "outputs": [],
   "source": [
    "# import dependencies\n",
    "import warnings\n",
    "warnings.filterwarnings('ignore')\n",
    "\n",
    "import xgboost\n",
    "from cuml.model_selection import train_test_split\n",
    "from cuml.metrics import accuracy_score\n",
    "\n",
    "import matplotlib.pyplot as plt\n",
    "import dask_cudf\n",
    "import time\n",
    "import gc"
   ]
  },
  {
   "cell_type": "markdown",
   "id": "7ab1de78-2abf-4973-a538-c0176d2185b9",
   "metadata": {},
   "source": [
    "We start by importing data. Since we are training with a single GPU, we will load the data input the memory with `.compute()`. Data needs to be split into a train and test set, which can be accomplished with `cuml.model_selection.train_test_split()`[[doc]](https://docs.rapids.ai/api/cuml/stable/api.html#model-selection-and-data-splitting). "
   ]
  },
  {
   "cell_type": "code",
   "execution_count": 2,
   "id": "0ae15b27-bb1e-4408-9a48-5aa2c7c2cc7d",
   "metadata": {},
   "outputs": [],
   "source": [
    "# initializing list\n",
    "features_list=['brand', 'cat_0', 'cat_1', 'cat_2', 'cat_3', \n",
    "               'price', 'ts_hour', 'ts_minute', 'ts_weekday', \n",
    "               'brand_target_sum', 'brand_count', 'cat_0_target_sum', \n",
    "               'cat_0_count', 'cat_1_target_sum', 'cat_1_count', \n",
    "               'cat_2_target_sum', 'cat_2_count', 'cat_3_target_sum', \n",
    "               'cat_3_count', 'TE_brand_target', 'TE_cat_0_target', \n",
    "               'TE_cat_1_target', 'TE_cat_2_target', 'TE_cat_3_target', \n",
    "               'relative_price_product', 'relative_price_category']\n",
    "         \n",
    "include=features_list+['target']"
   ]
  },
  {
   "cell_type": "code",
   "execution_count": 3,
   "id": "e93bf219-eb9f-4e49-8209-3f4b214055f5",
   "metadata": {
    "scrolled": true,
    "tags": []
   },
   "outputs": [
    {
     "name": "stdout",
     "output_type": "stream",
     "text": [
      "Total of 2461697 records. \n"
     ]
    }
   ],
   "source": [
    "# load data with dask_cudf\n",
    "parquet_dir='processed_parquet'\n",
    "ddf=dask_cudf.read_parquet(parquet_dir, columns=include)\n",
    "\n",
    "# load data into single GPU memory\n",
    "gdf=ddf.compute()\n",
    "\n",
    "print(f'Total of {len(gdf)} records. ')"
   ]
  },
  {
   "cell_type": "code",
   "execution_count": 4,
   "id": "83575ac8-2484-4658-b06a-76c7895fa667",
   "metadata": {},
   "outputs": [],
   "source": [
    "# XGBoost treats all data as 32-bit float internally or we can explicitly convert\n",
    "y=gdf['target'].astype('float32')\n",
    "X=gdf[features_list].astype('float32')\n",
    "\n",
    "# split data into train and test sets\n",
    "X_train, X_test, y_train, y_test=train_test_split(X, y, random_state=42)"
   ]
  },
  {
   "cell_type": "markdown",
   "id": "231bb4a3-43d4-430c-912f-a018c5e04de8",
   "metadata": {},
   "source": [
    "[DMatrix](https://xgboost.readthedocs.io/en/latest/python/python_api.html#xgboost.DMatrix) is an internal data structure that is used by XGBoost, which is optimized for both memory efficiency and training speed. XGBoost supports building a DMatrix from a cuDF DataFrame that's already on the GPU without the need to first copy data to CPU memory. This significantly reduces overhead for the overall development workflow. "
   ]
  },
  {
   "cell_type": "code",
   "execution_count": 5,
   "id": "b70ff109-dc4c-4985-bb94-9cdba13d2bde",
   "metadata": {
    "scrolled": true,
    "tags": []
   },
   "outputs": [],
   "source": [
    "# create DMatrix\n",
    "dtrain=xgboost.DMatrix(X_train, y_train) \n",
    "dtest=xgboost.DMatrix(X_test, y_test)"
   ]
  },
  {
   "cell_type": "markdown",
   "id": "74e90115-3d8d-476b-811b-94dd1d7d4eab",
   "metadata": {},
   "source": [
    "Next, we will fit the model. XGBoost enables early stopping through the `early_stopping_rounds` parameter and custom objective as well as evaluation metrics. Early stopping will force XGBoost to stop the training process once the validation metric fails to improve after a specific number of consecutive rounds. XGBoost provides two sets of APIs: \n",
    "1. Uses `xgboost.train()`\n",
    "2. Uses `XGBClassifier`\n",
    "\n",
    "When training with `xgboost.train()`, we need to create an empty dictionary and pass it to the `evals_result` parameter if we want to save the training history. "
   ]
  },
  {
   "cell_type": "code",
   "execution_count": 6,
   "id": "d36216ae-db6f-400c-a0d9-66907fb40bfb",
   "metadata": {
    "scrolled": true,
    "tags": []
   },
   "outputs": [
    {
     "name": "stdout",
     "output_type": "stream",
     "text": [
      "[0]\ttrain-auc:0.60701\tvalid-auc:0.60556\n",
      "[1]\ttrain-auc:0.60901\tvalid-auc:0.60759\n",
      "[2]\ttrain-auc:0.61019\tvalid-auc:0.60897\n",
      "[3]\ttrain-auc:0.61117\tvalid-auc:0.60972\n",
      "[4]\ttrain-auc:0.61185\tvalid-auc:0.61031\n",
      "[5]\ttrain-auc:0.61249\tvalid-auc:0.61095\n",
      "[6]\ttrain-auc:0.61309\tvalid-auc:0.61148\n",
      "[7]\ttrain-auc:0.61374\tvalid-auc:0.61205\n",
      "[8]\ttrain-auc:0.61446\tvalid-auc:0.61264\n",
      "[9]\ttrain-auc:0.61537\tvalid-auc:0.61345\n",
      "[10]\ttrain-auc:0.61571\tvalid-auc:0.61367\n",
      "[11]\ttrain-auc:0.61627\tvalid-auc:0.61419\n",
      "[12]\ttrain-auc:0.61659\tvalid-auc:0.61443\n",
      "[13]\ttrain-auc:0.61700\tvalid-auc:0.61475\n",
      "[14]\ttrain-auc:0.61725\tvalid-auc:0.61489\n",
      "[15]\ttrain-auc:0.61793\tvalid-auc:0.61543\n",
      "[16]\ttrain-auc:0.61815\tvalid-auc:0.61551\n",
      "[17]\ttrain-auc:0.61860\tvalid-auc:0.61588\n",
      "[18]\ttrain-auc:0.61888\tvalid-auc:0.61605\n",
      "[19]\ttrain-auc:0.61911\tvalid-auc:0.61611\n",
      "[20]\ttrain-auc:0.61933\tvalid-auc:0.61623\n",
      "[21]\ttrain-auc:0.61952\tvalid-auc:0.61634\n",
      "[22]\ttrain-auc:0.61978\tvalid-auc:0.61647\n",
      "[23]\ttrain-auc:0.62005\tvalid-auc:0.61656\n",
      "[24]\ttrain-auc:0.62017\tvalid-auc:0.61660\n",
      "[25]\ttrain-auc:0.62034\tvalid-auc:0.61669\n",
      "[26]\ttrain-auc:0.62082\tvalid-auc:0.61707\n",
      "[27]\ttrain-auc:0.62109\tvalid-auc:0.61725\n",
      "[28]\ttrain-auc:0.62145\tvalid-auc:0.61753\n",
      "[29]\ttrain-auc:0.62161\tvalid-auc:0.61759\n",
      "[30]\ttrain-auc:0.62204\tvalid-auc:0.61790\n",
      "[31]\ttrain-auc:0.62231\tvalid-auc:0.61808\n",
      "[32]\ttrain-auc:0.62246\tvalid-auc:0.61816\n",
      "[33]\ttrain-auc:0.62266\tvalid-auc:0.61824\n",
      "[34]\ttrain-auc:0.62312\tvalid-auc:0.61854\n",
      "[35]\ttrain-auc:0.62351\tvalid-auc:0.61876\n",
      "[36]\ttrain-auc:0.62366\tvalid-auc:0.61882\n",
      "[37]\ttrain-auc:0.62375\tvalid-auc:0.61887\n",
      "[38]\ttrain-auc:0.62422\tvalid-auc:0.61920\n",
      "[39]\ttrain-auc:0.62437\tvalid-auc:0.61924\n",
      "[40]\ttrain-auc:0.62456\tvalid-auc:0.61933\n",
      "[41]\ttrain-auc:0.62470\tvalid-auc:0.61939\n",
      "[42]\ttrain-auc:0.62476\tvalid-auc:0.61941\n",
      "[43]\ttrain-auc:0.62488\tvalid-auc:0.61945\n",
      "[44]\ttrain-auc:0.62493\tvalid-auc:0.61945\n",
      "[45]\ttrain-auc:0.62523\tvalid-auc:0.61956\n",
      "[46]\ttrain-auc:0.62548\tvalid-auc:0.61965\n",
      "[47]\ttrain-auc:0.62560\tvalid-auc:0.61969\n",
      "[48]\ttrain-auc:0.62592\tvalid-auc:0.61985\n",
      "[49]\ttrain-auc:0.62600\tvalid-auc:0.61985\n",
      "[50]\ttrain-auc:0.62624\tvalid-auc:0.61993\n",
      "[51]\ttrain-auc:0.62650\tvalid-auc:0.62008\n",
      "[52]\ttrain-auc:0.62675\tvalid-auc:0.62024\n",
      "[53]\ttrain-auc:0.62707\tvalid-auc:0.62044\n",
      "[54]\ttrain-auc:0.62720\tvalid-auc:0.62049\n",
      "[55]\ttrain-auc:0.62738\tvalid-auc:0.62055\n",
      "[56]\ttrain-auc:0.62748\tvalid-auc:0.62059\n",
      "[57]\ttrain-auc:0.62765\tvalid-auc:0.62063\n",
      "[58]\ttrain-auc:0.62787\tvalid-auc:0.62074\n",
      "[59]\ttrain-auc:0.62814\tvalid-auc:0.62090\n",
      "[60]\ttrain-auc:0.62823\tvalid-auc:0.62098\n",
      "[61]\ttrain-auc:0.62828\tvalid-auc:0.62100\n",
      "[62]\ttrain-auc:0.62858\tvalid-auc:0.62118\n",
      "[63]\ttrain-auc:0.62871\tvalid-auc:0.62120\n",
      "[64]\ttrain-auc:0.62899\tvalid-auc:0.62142\n",
      "[65]\ttrain-auc:0.62924\tvalid-auc:0.62154\n",
      "[66]\ttrain-auc:0.62938\tvalid-auc:0.62159\n",
      "[67]\ttrain-auc:0.62949\tvalid-auc:0.62160\n",
      "[68]\ttrain-auc:0.62954\tvalid-auc:0.62162\n",
      "[69]\ttrain-auc:0.62960\tvalid-auc:0.62164\n",
      "[70]\ttrain-auc:0.62965\tvalid-auc:0.62164\n",
      "[71]\ttrain-auc:0.62988\tvalid-auc:0.62172\n",
      "[72]\ttrain-auc:0.62992\tvalid-auc:0.62173\n",
      "[73]\ttrain-auc:0.63026\tvalid-auc:0.62193\n",
      "[74]\ttrain-auc:0.63036\tvalid-auc:0.62197\n",
      "[75]\ttrain-auc:0.63059\tvalid-auc:0.62208\n",
      "[76]\ttrain-auc:0.63074\tvalid-auc:0.62214\n",
      "[77]\ttrain-auc:0.63091\tvalid-auc:0.62218\n",
      "[78]\ttrain-auc:0.63107\tvalid-auc:0.62226\n",
      "[79]\ttrain-auc:0.63132\tvalid-auc:0.62243\n",
      "[80]\ttrain-auc:0.63150\tvalid-auc:0.62248\n",
      "[81]\ttrain-auc:0.63166\tvalid-auc:0.62253\n",
      "[82]\ttrain-auc:0.63189\tvalid-auc:0.62262\n",
      "[83]\ttrain-auc:0.63201\tvalid-auc:0.62264\n",
      "[84]\ttrain-auc:0.63212\tvalid-auc:0.62269\n",
      "[85]\ttrain-auc:0.63222\tvalid-auc:0.62271\n",
      "[86]\ttrain-auc:0.63223\tvalid-auc:0.62271\n",
      "[87]\ttrain-auc:0.63234\tvalid-auc:0.62271\n",
      "[88]\ttrain-auc:0.63246\tvalid-auc:0.62277\n",
      "[89]\ttrain-auc:0.63269\tvalid-auc:0.62290\n",
      "[90]\ttrain-auc:0.63277\tvalid-auc:0.62291\n",
      "[91]\ttrain-auc:0.63289\tvalid-auc:0.62299\n",
      "[92]\ttrain-auc:0.63311\tvalid-auc:0.62306\n",
      "[93]\ttrain-auc:0.63328\tvalid-auc:0.62316\n",
      "[94]\ttrain-auc:0.63340\tvalid-auc:0.62320\n",
      "[95]\ttrain-auc:0.63361\tvalid-auc:0.62325\n",
      "[96]\ttrain-auc:0.63370\tvalid-auc:0.62327\n",
      "[97]\ttrain-auc:0.63392\tvalid-auc:0.62336\n",
      "[98]\ttrain-auc:0.63415\tvalid-auc:0.62345\n",
      "[99]\ttrain-auc:0.63420\tvalid-auc:0.62346\n",
      "[100]\ttrain-auc:0.63435\tvalid-auc:0.62352\n",
      "[101]\ttrain-auc:0.63443\tvalid-auc:0.62352\n",
      "[102]\ttrain-auc:0.63448\tvalid-auc:0.62352\n",
      "[103]\ttrain-auc:0.63470\tvalid-auc:0.62364\n",
      "[104]\ttrain-auc:0.63476\tvalid-auc:0.62366\n",
      "[105]\ttrain-auc:0.63487\tvalid-auc:0.62367\n",
      "[106]\ttrain-auc:0.63506\tvalid-auc:0.62371\n",
      "[107]\ttrain-auc:0.63526\tvalid-auc:0.62383\n",
      "[108]\ttrain-auc:0.63549\tvalid-auc:0.62393\n",
      "[109]\ttrain-auc:0.63565\tvalid-auc:0.62400\n",
      "[110]\ttrain-auc:0.63573\tvalid-auc:0.62401\n",
      "[111]\ttrain-auc:0.63577\tvalid-auc:0.62402\n",
      "[112]\ttrain-auc:0.63581\tvalid-auc:0.62403\n",
      "[113]\ttrain-auc:0.63589\tvalid-auc:0.62407\n",
      "[114]\ttrain-auc:0.63598\tvalid-auc:0.62409\n",
      "[115]\ttrain-auc:0.63614\tvalid-auc:0.62419\n",
      "[116]\ttrain-auc:0.63616\tvalid-auc:0.62419\n",
      "[117]\ttrain-auc:0.63638\tvalid-auc:0.62427\n",
      "[118]\ttrain-auc:0.63648\tvalid-auc:0.62430\n",
      "[119]\ttrain-auc:0.63667\tvalid-auc:0.62439\n",
      "[120]\ttrain-auc:0.63688\tvalid-auc:0.62449\n",
      "[121]\ttrain-auc:0.63693\tvalid-auc:0.62448\n",
      "[122]\ttrain-auc:0.63695\tvalid-auc:0.62449\n",
      "[123]\ttrain-auc:0.63710\tvalid-auc:0.62451\n",
      "[124]\ttrain-auc:0.63725\tvalid-auc:0.62457\n",
      "[125]\ttrain-auc:0.63732\tvalid-auc:0.62459\n",
      "[126]\ttrain-auc:0.63750\tvalid-auc:0.62463\n",
      "[127]\ttrain-auc:0.63759\tvalid-auc:0.62465\n",
      "[128]\ttrain-auc:0.63773\tvalid-auc:0.62470\n",
      "[129]\ttrain-auc:0.63785\tvalid-auc:0.62472\n",
      "[130]\ttrain-auc:0.63801\tvalid-auc:0.62480\n",
      "[131]\ttrain-auc:0.63805\tvalid-auc:0.62482\n",
      "[132]\ttrain-auc:0.63810\tvalid-auc:0.62483\n",
      "[133]\ttrain-auc:0.63823\tvalid-auc:0.62487\n",
      "[134]\ttrain-auc:0.63834\tvalid-auc:0.62491\n",
      "[135]\ttrain-auc:0.63847\tvalid-auc:0.62493\n",
      "[136]\ttrain-auc:0.63850\tvalid-auc:0.62493\n",
      "[137]\ttrain-auc:0.63862\tvalid-auc:0.62492\n",
      "[138]\ttrain-auc:0.63866\tvalid-auc:0.62493\n",
      "[139]\ttrain-auc:0.63874\tvalid-auc:0.62496\n",
      "[140]\ttrain-auc:0.63875\tvalid-auc:0.62496\n",
      "[141]\ttrain-auc:0.63892\tvalid-auc:0.62501\n",
      "[142]\ttrain-auc:0.63903\tvalid-auc:0.62505\n",
      "[143]\ttrain-auc:0.63930\tvalid-auc:0.62524\n",
      "[144]\ttrain-auc:0.63944\tvalid-auc:0.62534\n",
      "[145]\ttrain-auc:0.63959\tvalid-auc:0.62541\n",
      "[146]\ttrain-auc:0.63976\tvalid-auc:0.62549\n",
      "[147]\ttrain-auc:0.63989\tvalid-auc:0.62555\n",
      "[148]\ttrain-auc:0.63993\tvalid-auc:0.62555\n",
      "[149]\ttrain-auc:0.64001\tvalid-auc:0.62557\n",
      "[150]\ttrain-auc:0.64012\tvalid-auc:0.62558\n",
      "[151]\ttrain-auc:0.64027\tvalid-auc:0.62563\n",
      "[152]\ttrain-auc:0.64044\tvalid-auc:0.62568\n",
      "[153]\ttrain-auc:0.64052\tvalid-auc:0.62573\n",
      "[154]\ttrain-auc:0.64060\tvalid-auc:0.62575\n",
      "[155]\ttrain-auc:0.64074\tvalid-auc:0.62583\n",
      "[156]\ttrain-auc:0.64093\tvalid-auc:0.62588\n",
      "[157]\ttrain-auc:0.64102\tvalid-auc:0.62593\n",
      "[158]\ttrain-auc:0.64117\tvalid-auc:0.62598\n",
      "[159]\ttrain-auc:0.64126\tvalid-auc:0.62599\n",
      "[160]\ttrain-auc:0.64131\tvalid-auc:0.62598\n",
      "[161]\ttrain-auc:0.64149\tvalid-auc:0.62604\n",
      "[162]\ttrain-auc:0.64165\tvalid-auc:0.62606\n",
      "[163]\ttrain-auc:0.64185\tvalid-auc:0.62610\n",
      "[164]\ttrain-auc:0.64193\tvalid-auc:0.62608\n",
      "[165]\ttrain-auc:0.64208\tvalid-auc:0.62610\n",
      "[166]\ttrain-auc:0.64218\tvalid-auc:0.62610\n",
      "[167]\ttrain-auc:0.64229\tvalid-auc:0.62614\n",
      "[168]\ttrain-auc:0.64233\tvalid-auc:0.62615\n",
      "[169]\ttrain-auc:0.64238\tvalid-auc:0.62614\n",
      "[170]\ttrain-auc:0.64253\tvalid-auc:0.62620\n",
      "[171]\ttrain-auc:0.64261\tvalid-auc:0.62619\n",
      "[172]\ttrain-auc:0.64271\tvalid-auc:0.62620\n",
      "[173]\ttrain-auc:0.64287\tvalid-auc:0.62627\n",
      "[174]\ttrain-auc:0.64303\tvalid-auc:0.62633\n",
      "[175]\ttrain-auc:0.64312\tvalid-auc:0.62633\n",
      "[176]\ttrain-auc:0.64325\tvalid-auc:0.62636\n",
      "[177]\ttrain-auc:0.64334\tvalid-auc:0.62641\n",
      "[178]\ttrain-auc:0.64338\tvalid-auc:0.62641\n",
      "[179]\ttrain-auc:0.64350\tvalid-auc:0.62647\n",
      "[180]\ttrain-auc:0.64363\tvalid-auc:0.62649\n",
      "[181]\ttrain-auc:0.64373\tvalid-auc:0.62649\n",
      "[182]\ttrain-auc:0.64381\tvalid-auc:0.62651\n",
      "[183]\ttrain-auc:0.64384\tvalid-auc:0.62650\n",
      "[184]\ttrain-auc:0.64396\tvalid-auc:0.62653\n",
      "[185]\ttrain-auc:0.64408\tvalid-auc:0.62658\n",
      "[186]\ttrain-auc:0.64421\tvalid-auc:0.62661\n",
      "[187]\ttrain-auc:0.64430\tvalid-auc:0.62666\n",
      "[188]\ttrain-auc:0.64438\tvalid-auc:0.62669\n",
      "[189]\ttrain-auc:0.64449\tvalid-auc:0.62669\n",
      "[190]\ttrain-auc:0.64451\tvalid-auc:0.62670\n",
      "[191]\ttrain-auc:0.64463\tvalid-auc:0.62672\n",
      "[192]\ttrain-auc:0.64468\tvalid-auc:0.62675\n",
      "[193]\ttrain-auc:0.64483\tvalid-auc:0.62677\n",
      "[194]\ttrain-auc:0.64488\tvalid-auc:0.62678\n",
      "[195]\ttrain-auc:0.64496\tvalid-auc:0.62678\n",
      "[196]\ttrain-auc:0.64502\tvalid-auc:0.62678\n",
      "[197]\ttrain-auc:0.64518\tvalid-auc:0.62681\n",
      "[198]\ttrain-auc:0.64525\tvalid-auc:0.62683\n",
      "[199]\ttrain-auc:0.64531\tvalid-auc:0.62684\n",
      "[200]\ttrain-auc:0.64535\tvalid-auc:0.62684\n",
      "[201]\ttrain-auc:0.64538\tvalid-auc:0.62684\n",
      "[202]\ttrain-auc:0.64546\tvalid-auc:0.62685\n",
      "[203]\ttrain-auc:0.64550\tvalid-auc:0.62685\n",
      "[204]\ttrain-auc:0.64553\tvalid-auc:0.62684\n",
      "[205]\ttrain-auc:0.64566\tvalid-auc:0.62689\n",
      "[206]\ttrain-auc:0.64578\tvalid-auc:0.62691\n",
      "[207]\ttrain-auc:0.64591\tvalid-auc:0.62694\n",
      "[208]\ttrain-auc:0.64604\tvalid-auc:0.62697\n",
      "[209]\ttrain-auc:0.64614\tvalid-auc:0.62700\n",
      "[210]\ttrain-auc:0.64627\tvalid-auc:0.62701\n",
      "[211]\ttrain-auc:0.64638\tvalid-auc:0.62703\n",
      "[212]\ttrain-auc:0.64653\tvalid-auc:0.62707\n",
      "[213]\ttrain-auc:0.64655\tvalid-auc:0.62706\n",
      "[214]\ttrain-auc:0.64662\tvalid-auc:0.62708\n",
      "[215]\ttrain-auc:0.64672\tvalid-auc:0.62708\n",
      "[216]\ttrain-auc:0.64685\tvalid-auc:0.62711\n",
      "[217]\ttrain-auc:0.64688\tvalid-auc:0.62711\n",
      "[218]\ttrain-auc:0.64699\tvalid-auc:0.62710\n",
      "[219]\ttrain-auc:0.64715\tvalid-auc:0.62712\n",
      "[220]\ttrain-auc:0.64726\tvalid-auc:0.62713\n",
      "[221]\ttrain-auc:0.64745\tvalid-auc:0.62722\n",
      "[222]\ttrain-auc:0.64758\tvalid-auc:0.62726\n",
      "[223]\ttrain-auc:0.64770\tvalid-auc:0.62726\n",
      "[224]\ttrain-auc:0.64781\tvalid-auc:0.62731\n",
      "[225]\ttrain-auc:0.64785\tvalid-auc:0.62731\n",
      "[226]\ttrain-auc:0.64799\tvalid-auc:0.62737\n",
      "[227]\ttrain-auc:0.64808\tvalid-auc:0.62739\n",
      "[228]\ttrain-auc:0.64819\tvalid-auc:0.62741\n",
      "[229]\ttrain-auc:0.64823\tvalid-auc:0.62743\n",
      "[230]\ttrain-auc:0.64835\tvalid-auc:0.62750\n",
      "[231]\ttrain-auc:0.64838\tvalid-auc:0.62751\n",
      "[232]\ttrain-auc:0.64851\tvalid-auc:0.62753\n",
      "[233]\ttrain-auc:0.64862\tvalid-auc:0.62756\n",
      "[234]\ttrain-auc:0.64874\tvalid-auc:0.62763\n",
      "[235]\ttrain-auc:0.64884\tvalid-auc:0.62764\n",
      "[236]\ttrain-auc:0.64894\tvalid-auc:0.62765\n",
      "[237]\ttrain-auc:0.64911\tvalid-auc:0.62770\n",
      "[238]\ttrain-auc:0.64921\tvalid-auc:0.62774\n",
      "[239]\ttrain-auc:0.64932\tvalid-auc:0.62780\n",
      "[240]\ttrain-auc:0.64939\tvalid-auc:0.62782\n",
      "[241]\ttrain-auc:0.64954\tvalid-auc:0.62788\n",
      "[242]\ttrain-auc:0.64970\tvalid-auc:0.62794\n",
      "[243]\ttrain-auc:0.64979\tvalid-auc:0.62795\n",
      "[244]\ttrain-auc:0.64988\tvalid-auc:0.62797\n",
      "[245]\ttrain-auc:0.64993\tvalid-auc:0.62799\n",
      "[246]\ttrain-auc:0.65002\tvalid-auc:0.62801\n",
      "[247]\ttrain-auc:0.65013\tvalid-auc:0.62801\n",
      "[248]\ttrain-auc:0.65030\tvalid-auc:0.62804\n",
      "[249]\ttrain-auc:0.65042\tvalid-auc:0.62805\n",
      "[250]\ttrain-auc:0.65051\tvalid-auc:0.62808\n",
      "[251]\ttrain-auc:0.65066\tvalid-auc:0.62813\n",
      "[252]\ttrain-auc:0.65078\tvalid-auc:0.62818\n",
      "[253]\ttrain-auc:0.65091\tvalid-auc:0.62820\n",
      "[254]\ttrain-auc:0.65098\tvalid-auc:0.62821\n",
      "[255]\ttrain-auc:0.65110\tvalid-auc:0.62822\n",
      "[256]\ttrain-auc:0.65120\tvalid-auc:0.62825\n",
      "[257]\ttrain-auc:0.65127\tvalid-auc:0.62826\n",
      "[258]\ttrain-auc:0.65130\tvalid-auc:0.62826\n",
      "[259]\ttrain-auc:0.65139\tvalid-auc:0.62830\n",
      "[260]\ttrain-auc:0.65151\tvalid-auc:0.62836\n",
      "[261]\ttrain-auc:0.65161\tvalid-auc:0.62838\n",
      "[262]\ttrain-auc:0.65166\tvalid-auc:0.62839\n",
      "[263]\ttrain-auc:0.65179\tvalid-auc:0.62842\n",
      "[264]\ttrain-auc:0.65183\tvalid-auc:0.62843\n",
      "[265]\ttrain-auc:0.65187\tvalid-auc:0.62843\n",
      "[266]\ttrain-auc:0.65192\tvalid-auc:0.62842\n",
      "[267]\ttrain-auc:0.65199\tvalid-auc:0.62842\n",
      "[268]\ttrain-auc:0.65207\tvalid-auc:0.62845\n",
      "[269]\ttrain-auc:0.65218\tvalid-auc:0.62848\n",
      "[270]\ttrain-auc:0.65226\tvalid-auc:0.62850\n",
      "[271]\ttrain-auc:0.65233\tvalid-auc:0.62852\n",
      "[272]\ttrain-auc:0.65236\tvalid-auc:0.62851\n",
      "[273]\ttrain-auc:0.65245\tvalid-auc:0.62855\n",
      "[274]\ttrain-auc:0.65250\tvalid-auc:0.62854\n",
      "[275]\ttrain-auc:0.65253\tvalid-auc:0.62855\n",
      "[276]\ttrain-auc:0.65259\tvalid-auc:0.62856\n",
      "[277]\ttrain-auc:0.65259\tvalid-auc:0.62856\n",
      "[278]\ttrain-auc:0.65264\tvalid-auc:0.62857\n",
      "[279]\ttrain-auc:0.65275\tvalid-auc:0.62862\n",
      "[280]\ttrain-auc:0.65289\tvalid-auc:0.62864\n",
      "[281]\ttrain-auc:0.65298\tvalid-auc:0.62869\n",
      "[282]\ttrain-auc:0.65306\tvalid-auc:0.62870\n",
      "[283]\ttrain-auc:0.65313\tvalid-auc:0.62870\n",
      "[284]\ttrain-auc:0.65321\tvalid-auc:0.62871\n",
      "[285]\ttrain-auc:0.65323\tvalid-auc:0.62871\n",
      "[286]\ttrain-auc:0.65335\tvalid-auc:0.62875\n",
      "[287]\ttrain-auc:0.65344\tvalid-auc:0.62877\n",
      "[288]\ttrain-auc:0.65353\tvalid-auc:0.62879\n",
      "[289]\ttrain-auc:0.65358\tvalid-auc:0.62879\n",
      "[290]\ttrain-auc:0.65366\tvalid-auc:0.62882\n",
      "[291]\ttrain-auc:0.65376\tvalid-auc:0.62885\n",
      "[292]\ttrain-auc:0.65387\tvalid-auc:0.62885\n",
      "[293]\ttrain-auc:0.65396\tvalid-auc:0.62886\n",
      "[294]\ttrain-auc:0.65404\tvalid-auc:0.62886\n",
      "[295]\ttrain-auc:0.65409\tvalid-auc:0.62887\n",
      "[296]\ttrain-auc:0.65418\tvalid-auc:0.62887\n",
      "[297]\ttrain-auc:0.65424\tvalid-auc:0.62888\n",
      "[298]\ttrain-auc:0.65429\tvalid-auc:0.62889\n",
      "[299]\ttrain-auc:0.65442\tvalid-auc:0.62892\n",
      "[300]\ttrain-auc:0.65450\tvalid-auc:0.62892\n",
      "[301]\ttrain-auc:0.65458\tvalid-auc:0.62892\n",
      "[302]\ttrain-auc:0.65470\tvalid-auc:0.62894\n",
      "[303]\ttrain-auc:0.65475\tvalid-auc:0.62894\n",
      "[304]\ttrain-auc:0.65477\tvalid-auc:0.62893\n",
      "[305]\ttrain-auc:0.65485\tvalid-auc:0.62892\n",
      "[306]\ttrain-auc:0.65488\tvalid-auc:0.62893\n",
      "[307]\ttrain-auc:0.65490\tvalid-auc:0.62893\n",
      "[308]\ttrain-auc:0.65496\tvalid-auc:0.62895\n",
      "[309]\ttrain-auc:0.65506\tvalid-auc:0.62897\n",
      "[310]\ttrain-auc:0.65517\tvalid-auc:0.62900\n",
      "[311]\ttrain-auc:0.65526\tvalid-auc:0.62901\n",
      "[312]\ttrain-auc:0.65535\tvalid-auc:0.62900\n",
      "[313]\ttrain-auc:0.65551\tvalid-auc:0.62907\n",
      "[314]\ttrain-auc:0.65567\tvalid-auc:0.62916\n",
      "[315]\ttrain-auc:0.65575\tvalid-auc:0.62915\n",
      "[316]\ttrain-auc:0.65583\tvalid-auc:0.62919\n",
      "[317]\ttrain-auc:0.65595\tvalid-auc:0.62923\n",
      "[318]\ttrain-auc:0.65607\tvalid-auc:0.62924\n",
      "[319]\ttrain-auc:0.65617\tvalid-auc:0.62926\n",
      "[320]\ttrain-auc:0.65625\tvalid-auc:0.62927\n",
      "[321]\ttrain-auc:0.65639\tvalid-auc:0.62933\n",
      "[322]\ttrain-auc:0.65649\tvalid-auc:0.62936\n",
      "[323]\ttrain-auc:0.65656\tvalid-auc:0.62936\n",
      "[324]\ttrain-auc:0.65669\tvalid-auc:0.62938\n",
      "[325]\ttrain-auc:0.65680\tvalid-auc:0.62941\n",
      "[326]\ttrain-auc:0.65687\tvalid-auc:0.62942\n",
      "[327]\ttrain-auc:0.65692\tvalid-auc:0.62943\n",
      "[328]\ttrain-auc:0.65698\tvalid-auc:0.62945\n",
      "[329]\ttrain-auc:0.65702\tvalid-auc:0.62945\n",
      "[330]\ttrain-auc:0.65711\tvalid-auc:0.62943\n",
      "[331]\ttrain-auc:0.65722\tvalid-auc:0.62946\n",
      "[332]\ttrain-auc:0.65727\tvalid-auc:0.62947\n",
      "[333]\ttrain-auc:0.65730\tvalid-auc:0.62947\n",
      "[334]\ttrain-auc:0.65732\tvalid-auc:0.62948\n",
      "[335]\ttrain-auc:0.65744\tvalid-auc:0.62948\n",
      "[336]\ttrain-auc:0.65752\tvalid-auc:0.62949\n",
      "[337]\ttrain-auc:0.65769\tvalid-auc:0.62955\n",
      "[338]\ttrain-auc:0.65775\tvalid-auc:0.62957\n",
      "[339]\ttrain-auc:0.65789\tvalid-auc:0.62961\n",
      "[340]\ttrain-auc:0.65797\tvalid-auc:0.62965\n",
      "[341]\ttrain-auc:0.65807\tvalid-auc:0.62966\n",
      "[342]\ttrain-auc:0.65811\tvalid-auc:0.62966\n",
      "[343]\ttrain-auc:0.65817\tvalid-auc:0.62967\n",
      "[344]\ttrain-auc:0.65830\tvalid-auc:0.62969\n",
      "[345]\ttrain-auc:0.65837\tvalid-auc:0.62970\n",
      "[346]\ttrain-auc:0.65848\tvalid-auc:0.62973\n",
      "[347]\ttrain-auc:0.65857\tvalid-auc:0.62975\n",
      "[348]\ttrain-auc:0.65864\tvalid-auc:0.62976\n",
      "[349]\ttrain-auc:0.65870\tvalid-auc:0.62976\n",
      "Training 1846272 samples took 0.11 minutes. \n"
     ]
    }
   ],
   "source": [
    "# train XGBoost classification model on single GPU\n",
    "# define model parameter\n",
    "xgb_params={ \n",
    "    'eval_metric': ['auc'], \n",
    "    'objective': 'binary:logistic',\n",
    "    'tree_method': 'gpu_hist'\n",
    "}\n",
    "\n",
    "evaluation_result={}\n",
    "\n",
    "# train the model\n",
    "start=time.time()\n",
    "xgb_clf=xgboost.train(xgb_params, \n",
    "                   dtrain=dtrain,\n",
    "                   evals=[(dtrain, 'train'), (dtest, 'valid')],\n",
    "                   num_boost_round=350,\n",
    "                   early_stopping_rounds=5, \n",
    "                   evals_result=evaluation_result\n",
    ")\n",
    "elapsed_time=time.time()-start\n",
    "\n",
    "print(f'Training {len(X_train)} samples took {round(elapsed_time/60, 2)} minutes. ')"
   ]
  },
  {
   "cell_type": "markdown",
   "id": "98acf768-7831-4a40-bd9a-82cded017807",
   "metadata": {},
   "source": [
    "There is another interface that mimics scikit-learn estimators with higher level of abstraction. It might be easier to use compared to the functional interface but also has more constraints. "
   ]
  },
  {
   "cell_type": "code",
   "execution_count": 7,
   "id": "8d052a00-1d92-4a14-a421-3a3bcc6ac799",
   "metadata": {
    "scrolled": true,
    "tags": []
   },
   "outputs": [
    {
     "name": "stdout",
     "output_type": "stream",
     "text": [
      "Training 1846272 samples took 0.09 minutes. \n"
     ]
    }
   ],
   "source": [
    "# use XGBClassifier\n",
    "# define model parameter\n",
    "xgb_params={\n",
    "    'n_estimators': 350, \n",
    "    'tree_method': 'gpu_hist', \n",
    "    'early_stopping_rounds': 10, \n",
    "    'eval_metric': ['auc'], \n",
    "    'objective': 'binary:logistic'\n",
    "}\n",
    "\n",
    "xgb_clf=xgboost.XGBClassifier(**xgb_params)\n",
    "\n",
    "# train the model\n",
    "start=time.time()\n",
    "xgb_clf.fit(X_train, y_train, eval_set=[(X_test, y_test)], verbose=False)\n",
    "elapsed_time=time.time()-start\n",
    "\n",
    "print(f'Training {len(X_train)} samples took {round(elapsed_time/60, 2)} minutes. ')"
   ]
  },
  {
   "cell_type": "markdown",
   "id": "1b7ddeb9-f1b1-45b7-954f-6c88609cfca5",
   "metadata": {},
   "source": [
    "Finally, we evaluate the model performance. "
   ]
  },
  {
   "cell_type": "code",
   "execution_count": 8,
   "id": "1dda6c10-b636-496b-9603-45ec2864200a",
   "metadata": {
    "scrolled": true,
    "tags": []
   },
   "outputs": [
    {
     "data": {
      "image/png": "[encoded data removed]",
      "text/plain": [
       "<Figure size 640x480 with 1 Axes>"
      ]
     },
     "metadata": {},
     "output_type": "display_data"
    }
   ],
   "source": [
    "# plot training result\n",
    "plt.plot(evaluation_result['train']['auc'], label='Train Score (AUC)')\n",
    "plt.plot(evaluation_result['valid']['auc'], label='Test Score (AUC)')\n",
    "\n",
    "plt.xlabel('Iteration')\n",
    "plt.ylabel('Model Performance')\n",
    "plt.legend()\n",
    "plt.show()"
   ]
  },
  {
   "cell_type": "code",
   "execution_count": 9,
   "id": "c7c89f74-ad63-4f16-ac1e-57cd28281556",
   "metadata": {
    "scrolled": true,
    "tags": []
   },
   "outputs": [
    {
     "data": {
      "text/plain": [
       "4105"
      ]
     },
     "execution_count": 9,
     "metadata": {},
     "output_type": "execute_result"
    }
   ],
   "source": [
    "# clean up\n",
    "del gdf, X, y, X_train, X_test, y_train, y_test, dtrain, dtest, xgb_clf\n",
    "gc.collect()"
   ]
  },
  {
   "cell_type": "markdown",
   "id": "d208396c-fa1b-4282-b88b-6486830442a0",
   "metadata": {
    "tags": []
   },
   "source": [
    "<a name='s2-3.2'></a>\n",
    "### XGBoost on GPU Cluster with Dask ###\n",
    "By default, XGBoost trains models sequentially. This is fine if the dataset is small, but as the size of dataset or model grows, we will want to consider running XGBoost in distributed mode with Dask to speed up computations and reduce the memory burden on the GPU. XGBoost relies on CUDA and Dask to provide an efficient distributed training solution over multiple GPUs. \n",
    "\n",
    "During distributed training, XGBoost trains a model with a subset of data on each worker. When data is loaded with Dask-cuDF, the subsets are cuDF DataFrame partitions scatter across individual GPU workers. The histogram of gradients for each tree node is synched across workers. \n",
    "\n",
    "<p><img src='images/xgboost_dask.png' width=720></p>"
   ]
  },
  {
   "cell_type": "markdown",
   "id": "eb57047e-954e-459f-8db9-ee6c793ed85c",
   "metadata": {},
   "source": [
    "By default, Dask will only use a single GPU. To use multiple GPUs, users will want to either use the `dask_cuda.LocalCUDACluster()`[[doc]](https://docs.rapids.ai/api/dask-cuda/stable/api.html) API or launch Dask workers from the command line (one per GPU). We will initialize a `dask.distributed.Client` by pointing it to the address of the cluster scheduler. The Dask client connects to and submits computations to a Dask cluster. \n",
    "\n",
    "When using XGBoost with Dask, we need to call the `xgboost.dask` interface from the client side. The main difference with XGBoost’s Dask interface is that we pass our Dask client as an additional argument for carrying out the computation. Note that if the client parameter below is set to `None`, XGBoost will use the default client returned by Dask."
   ]
  },
  {
   "cell_type": "code",
   "execution_count": 10,
   "id": "9fbd41cb-f1c9-4995-94d1-db042b881bb8",
   "metadata": {
    "scrolled": true,
    "tags": []
   },
   "outputs": [
    {
     "name": "stderr",
     "output_type": "stream",
     "text": [
      "2023-12-24 19:49:27,935 - distributed.preloading - INFO - Creating preload: dask_cuda.initialize\n",
      "2023-12-24 19:49:27,935 - distributed.preloading - INFO - Import preload module: dask_cuda.initialize\n",
      "2023-12-24 19:49:27,952 - distributed.preloading - INFO - Creating preload: dask_cuda.initialize\n",
      "2023-12-24 19:49:27,952 - distributed.preloading - INFO - Import preload module: dask_cuda.initialize\n",
      "2023-12-24 19:49:28,000 - distributed.preloading - INFO - Creating preload: dask_cuda.initialize\n",
      "2023-12-24 19:49:28,000 - distributed.preloading - INFO - Import preload module: dask_cuda.initialize\n",
      "2023-12-24 19:49:28,037 - distributed.preloading - INFO - Creating preload: dask_cuda.initialize\n",
      "2023-12-24 19:49:28,037 - distributed.preloading - INFO - Import preload module: dask_cuda.initialize\n"
     ]
    }
   ],
   "source": [
    "# import dependencies\n",
    "from dask.distributed import Client, wait\n",
    "from dask_cuda import LocalCUDACluster\n",
    "\n",
    "# instantiate a Client\n",
    "cluster=LocalCUDACluster()\n",
    "client=Client(cluster)"
   ]
  },
  {
   "cell_type": "code",
   "execution_count": 11,
   "id": "3eb48d7c-9169-486c-b979-277c5c9aff55",
   "metadata": {
    "scrolled": true,
    "tags": []
   },
   "outputs": [
    {
     "name": "stdout",
     "output_type": "stream",
     "text": [
      "Dask dashboard (status) is accessible on http://18.209.105.128:8787/status\n",
      "Dask dashboard (gpu) is accessible on http://18.209.105.128:8787/gpu\n"
     ]
    }
   ],
   "source": [
    "# get the machine's external IP address\n",
    "from requests import get\n",
    "\n",
    "ip=get('https://api.ipify.org').content.decode('utf8')\n",
    "\n",
    "print(f'Dask dashboard (status) is accessible on http://{ip}:8787/status')\n",
    "print(f'Dask dashboard (gpu) is accessible on http://{ip}:8787/gpu')"
   ]
  },
  {
   "cell_type": "code",
   "execution_count": 12,
   "id": "7d72dda5-bb7b-42cc-901e-6a36ae591821",
   "metadata": {},
   "outputs": [],
   "source": [
    "# import dependencies\n",
    "from dask_ml.model_selection import train_test_split\n",
    "from dask_ml.metrics import accuracy_score"
   ]
  },
  {
   "cell_type": "markdown",
   "id": "3cf80e2c-5dca-4b9f-9ea9-8e8cb18788c3",
   "metadata": {},
   "source": [
    "We start by loading the data into GPUs. After data loading, we prepare the training and testing splits. We use Dask-cuDF for loading data from the disk, and the `dask_ml.model_selection.train_test_split()`[[doc]](https://ml.dask.org/modules/generated/dask_ml.model_selection.train_test_split.html) function from [Dask-ML](https://ml.dask.org/) for splitting up the dataset. The GPU backend of Dask works seamlessly with utilities in Dask-ML so the entire machine learning pipeline can be accelerated. \n",
    "\n",
    "<p><img src='images/tip.png' width=720></p>\n",
    "\n",
    "Even using Dask Dataframes, XGBoost executes completely in memory, meaning we can’t spill as dynamically from GPU to host memory. The total amount of RAM needed on the cluster is directly proportional to the total size of the training dataset. Users should expect large amounts of unmanaged memory during the training phase, consumed by the heap of the training tasks. This heap memory requirements are directly proportional to total dataset size / number of workers. This is unlike most other Dask workflows, where heap size is proportional to partition size * threads per worker."
   ]
  },
  {
   "cell_type": "code",
   "execution_count": 13,
   "id": "d1ee700c-5e7a-4562-9be0-9a1d225f9f7f",
   "metadata": {},
   "outputs": [],
   "source": [
    "# initializing list\n",
    "features_list=['brand', 'cat_0', 'cat_1', 'cat_2', 'cat_3', \n",
    "               'price', 'ts_hour', 'ts_minute', 'ts_weekday', \n",
    "               'brand_target_sum', 'brand_count', 'cat_0_target_sum', \n",
    "               'cat_0_count', 'cat_1_target_sum', 'cat_1_count', \n",
    "               'cat_2_target_sum', 'cat_2_count', 'cat_3_target_sum', \n",
    "               'cat_3_count', 'TE_brand_target', 'TE_cat_0_target', \n",
    "               'TE_cat_1_target', 'TE_cat_2_target', 'TE_cat_3_target', \n",
    "               'relative_price_product', 'relative_price_category']\n",
    "         \n",
    "include=features_list+['target']"
   ]
  },
  {
   "cell_type": "code",
   "execution_count": 14,
   "id": "63be3656-4724-4493-a6ce-fb5e59aa6cf7",
   "metadata": {
    "scrolled": true,
    "tags": []
   },
   "outputs": [
    {
     "name": "stdout",
     "output_type": "stream",
     "text": [
      "Total of 2461697 records split across 4 partitions. \n"
     ]
    }
   ],
   "source": [
    "# import data\n",
    "parquet_dir='processed_parquet'\n",
    "ddf=dask_cudf.read_parquet(parquet_dir, columns=include)\n",
    "\n",
    "print(f'Total of {len(ddf)} records split across {ddf.npartitions} partitions. ')"
   ]
  },
  {
   "cell_type": "code",
   "execution_count": 15,
   "id": "3a6db9e0-99c8-4c54-8bc1-b5b0116e8e4f",
   "metadata": {},
   "outputs": [],
   "source": [
    "# XGBoost treats all data as 32-bit float internally\n",
    "y=ddf['target'].astype('float32')\n",
    "X=ddf[features_list].astype('float32')"
   ]
  },
  {
   "cell_type": "code",
   "execution_count": 16,
   "id": "5bc23334-3cfd-4f39-95c7-fd6189a5670b",
   "metadata": {
    "scrolled": true,
    "tags": []
   },
   "outputs": [
    {
     "data": {
      "text/plain": [
       "DoneAndNotDoneFutures(done={<Future: finished, type: cudf.core.dataframe.DataFrame, key: ('split-0-82ac8d3bcfce49740bcb8d068a1f1564', 0)>, <Future: finished, type: cudf.core.series.Series, key: ('split-0-38e249818a14016eb3abdfc7cc4dcba2', 3)>, <Future: finished, type: cudf.core.series.Series, key: ('split-0-38e249818a14016eb3abdfc7cc4dcba2', 1)>, <Future: finished, type: cudf.core.dataframe.DataFrame, key: ('split-0-82ac8d3bcfce49740bcb8d068a1f1564', 2)>, <Future: finished, type: cudf.core.series.Series, key: ('split-1-38e249818a14016eb3abdfc7cc4dcba2', 3)>, <Future: finished, type: cudf.core.dataframe.DataFrame, key: ('split-0-82ac8d3bcfce49740bcb8d068a1f1564', 1)>, <Future: finished, type: cudf.core.dataframe.DataFrame, key: ('split-1-82ac8d3bcfce49740bcb8d068a1f1564', 2)>, <Future: finished, type: cudf.core.dataframe.DataFrame, key: ('split-0-82ac8d3bcfce49740bcb8d068a1f1564', 3)>, <Future: finished, type: cudf.core.series.Series, key: ('split-1-38e249818a14016eb3abdfc7cc4dcba2', 0)>, <Future: finished, type: cudf.core.series.Series, key: ('split-1-38e249818a14016eb3abdfc7cc4dcba2', 2)>, <Future: finished, type: cudf.core.series.Series, key: ('split-1-38e249818a14016eb3abdfc7cc4dcba2', 1)>, <Future: finished, type: cudf.core.series.Series, key: ('split-0-38e249818a14016eb3abdfc7cc4dcba2', 2)>, <Future: finished, type: cudf.core.dataframe.DataFrame, key: ('split-1-82ac8d3bcfce49740bcb8d068a1f1564', 0)>, <Future: finished, type: cudf.core.dataframe.DataFrame, key: ('split-1-82ac8d3bcfce49740bcb8d068a1f1564', 3)>, <Future: finished, type: cudf.core.series.Series, key: ('split-0-38e249818a14016eb3abdfc7cc4dcba2', 0)>, <Future: finished, type: cudf.core.dataframe.DataFrame, key: ('split-1-82ac8d3bcfce49740bcb8d068a1f1564', 1)>}, not_done=set())"
      ]
     },
     "execution_count": 16,
     "metadata": {},
     "output_type": "execute_result"
    }
   ],
   "source": [
    "# split data into train and test sets\n",
    "X_train, X_test, y_train, y_test=train_test_split(X, y, random_state=42)\n",
    "X_train, X_test, y_train, y_test=client.persist([X_train, X_test, y_train, y_test])\n",
    "wait([X_train, X_test, y_train, y_test])"
   ]
  },
  {
   "cell_type": "markdown",
   "id": "1419d87b-f2f1-4177-9be2-6694373d8c7f",
   "metadata": {},
   "source": [
    "We then create an `xgboost.dask.DaskMatrix`[[doc]](https://xgboost.readthedocs.io/en/stable/python/python_api.html#xgboost.dask.DaskDMatrix) object and pass it to `xgboost.dask.train()`, along with some other parameters, much like XGBoost's normal, non-Dask interface. We have to pass a Dask DataFrame or Dask Array to the `data` and `label` parameters. Importantly, we have to pass the Dask client as an additional argument for carrying out the computation. If we don't pass a client, `xgboost.dask.train()` will use a default client returned by Dask. \n",
    "\n",
    "The `xgboost.dask.DaskDMatrix` acts like a normal DMatrix and works as a proxy for local DMatrix scattered around the workers. The `DaskDMatrix` constructor forces computation that scatters DMatrix around the workers, which means it's where all earlier computations are actually being carried out, including operations like `.read_csv()`. To isolate the computation in DaskDMatrix from other lazy computations, we can explicitly wait for results of input data before constructing a `DaskDMatrix`. "
   ]
  },
  {
   "cell_type": "code",
   "execution_count": 17,
   "id": "0edccc32-9701-4307-8051-7b39e3ae6770",
   "metadata": {
    "scrolled": true,
    "tags": []
   },
   "outputs": [],
   "source": [
    "# create DMatrix\n",
    "dtrain=xgboost.dask.DaskDMatrix(client, X_train, y_train)\n",
    "dtest=xgboost.dask.DaskDMatrix(client, X_test, y_test)"
   ]
  },
  {
   "cell_type": "markdown",
   "id": "95808d1a-5bc0-4edc-86e2-e1ade5aee4ad",
   "metadata": {},
   "source": [
    "Next, we fit the model. We can implement more advanced early stopping strategies, which are implemented as a [callback](https://xgboost.readthedocs.io/en/stable/python/callbacks.html) function in XGBoost. Furthermore, we can implement custom objectives and evaluation metrics, as described [here](https://xgboost.readthedocs.io/en/stable/tutorials/custom_metric_obj.html). \n",
    "\n",
    "<p><img src='images/tip.png' width=720></p>\n",
    "\n",
    "We evaluate model performance with the popular [Receiver Operating Characteristic Area under the Curve](https://en.wikipedia.org/wiki/Receiver_operating_characteristic#Area_under_the_curve) by using `auc` for `eval_metric`. In a distributed environment, the AUC is calculated as a weighted average over the AUC of training rows on each node. Distributed AUC is an approximation that is sensitive to the distribution of data across workers. It will yield `NaN` when input dataset contains only negative or positive samples (on any node). \n",
    "\n",
    "Unlike `xgboost.train()`, which returns a booster, `xgboost.dask.train()` returns a dictionary with the boosters and evaluation results. "
   ]
  },
  {
   "cell_type": "code",
   "execution_count": 18,
   "id": "c47d8326-fd22-48f3-8280-bd90ef2e269b",
   "metadata": {
    "scrolled": true,
    "tags": []
   },
   "outputs": [
    {
     "name": "stderr",
     "output_type": "stream",
     "text": [
      "[19:52:01] task [xgboost.dask-0]:tcp://127.0.0.1:34019 got new rank 0\n",
      "[19:52:01] task [xgboost.dask-1]:tcp://127.0.0.1:43431 got new rank 1\n",
      "[19:52:01] task [xgboost.dask-2]:tcp://127.0.0.1:35135 got new rank 2\n",
      "[19:52:01] task [xgboost.dask-3]:tcp://127.0.0.1:44795 got new rank 3\n"
     ]
    },
    {
     "name": "stdout",
     "output_type": "stream",
     "text": [
      "Training 2216183 samples took 0.07 minutes. \n"
     ]
    }
   ],
   "source": [
    "# define model parameters\n",
    "xgb_params={ \n",
    "    'eval_metric': ['auc'], \n",
    "    'objective': 'binary:logistic',\n",
    "    'tree_method': 'gpu_hist'\n",
    "}\n",
    "\n",
    "# train the model\n",
    "start=time.time()\n",
    "xgb_dask_clf=xgboost.dask.train(client, \n",
    "                        xgb_params, \n",
    "                        dtrain=dtrain,\n",
    "                        evals=[(dtrain, 'train'), (dtest, 'valid')],\n",
    "                        num_boost_round=350,\n",
    "                        early_stopping_rounds=10, \n",
    "                        verbose_eval=False\n",
    ")\n",
    "elapsed_time=time.time()-start\n",
    "\n",
    "print(f'Training {len(X_train)} samples took {round(elapsed_time/60, 2)} minutes. ')"
   ]
  },
  {
   "cell_type": "markdown",
   "id": "34d23daf-5a51-46ce-824a-a9a66065c30a",
   "metadata": {},
   "source": [
    "Given the data and a set of parameters, the `xgboost.dask.train()` returns a booster and the computation history as a dictionary: \n",
    "```\n",
    "{'booster': Booster,\n",
    " 'history': dict}\n",
    " ``` \n",
    "\n",
    "The Booster returned is the same as the one returned by `xgboost.train()`, which means we can use it to predict or save for later. The `xgboost.Booster`[[doc]](https://xgboost.readthedocs.io/en/stable/python/python_api.html#xgboost.Booster) model can be referenced with `output['booster']`. For prediction, we pass the output returned by train into `xgboost.dask.predict()`[[doc]](https://xgboost.readthedocs.io/en/stable/python/python_api.html#xgboost.dask.predict) or equivalently `output['booster']`. The usage of `.predict()` is further described [here](https://xgboost.readthedocs.io/en/stable/prediction.html). We can check the performance of the estimator with `dask_ml.metrics.accuracy_score()`[[doc]](https://ml.dask.org/modules/generated/dask_ml.metrics.accuracy_score.html). \n",
    "\n",
    "Lastly, we evaluate the model. "
   ]
  },
  {
   "cell_type": "code",
   "execution_count": 19,
   "id": "5e573ef7-4621-4bfc-a162-9b2216c3e68a",
   "metadata": {
    "scrolled": true,
    "tags": []
   },
   "outputs": [
    {
     "name": "stdout",
     "output_type": "stream",
     "text": [
      "Accuracy score for test set: 61.52%\n",
      "Throughput is: 1707026.55 per seconds. \n"
     ]
    },
    {
     "name": "stderr",
     "output_type": "stream",
     "text": [
      "/opt/conda/envs/rapids/lib/python3.9/site-packages/cudf/core/single_column_frame.py:345: FutureWarning: Binary operations between host objects such as <class 'numpy.ndarray'> and <class 'cudf.core.series.Series'> are deprecated and will be removed in a future release. Please convert it to a cudf object before performing the operation.\n",
      "  warnings.warn(\n",
      "/opt/conda/envs/rapids/lib/python3.9/site-packages/cudf/core/single_column_frame.py:345: FutureWarning: Binary operations between host objects such as <class 'numpy.ndarray'> and <class 'cudf.core.series.Series'> are deprecated and will be removed in a future release. Please convert it to a cudf object before performing the operation.\n",
      "  warnings.warn(\n",
      "/opt/conda/envs/rapids/lib/python3.9/site-packages/cudf/core/single_column_frame.py:345: FutureWarning: Binary operations between host objects such as <class 'numpy.ndarray'> and <class 'cudf.core.series.Series'> are deprecated and will be removed in a future release. Please convert it to a cudf object before performing the operation.\n",
      "  warnings.warn(\n",
      "/opt/conda/envs/rapids/lib/python3.9/site-packages/cudf/core/single_column_frame.py:345: FutureWarning: Binary operations between host objects such as <class 'numpy.ndarray'> and <class 'cudf.core.series.Series'> are deprecated and will be removed in a future release. Please convert it to a cudf object before performing the operation.\n",
      "  warnings.warn(\n"
     ]
    }
   ],
   "source": [
    "# predict\n",
    "start=time.time()\n",
    "prediction_test=xgboost.dask.predict(client, xgb_dask_clf, dtest)\n",
    "elapsed_time=time.time()-start\n",
    "\n",
    "print(f'Accuracy score for test set: {round(float(accuracy_score(y_test, prediction_test>0.5))*100, 2)}%')\n",
    "\n",
    "throughput=round(len(X_test)/elapsed_time, 2)\n",
    "print(f'Throughput is: {throughput} per seconds. ')"
   ]
  },
  {
   "cell_type": "code",
   "execution_count": 20,
   "id": "b46ad6c8-9e8c-4037-9e49-dbf17cf6c9bd",
   "metadata": {
    "scrolled": true,
    "tags": []
   },
   "outputs": [
    {
     "data": {
      "image/png": "[encoded data removed]",
      "text/plain": [
       "<Figure size 640x480 with 1 Axes>"
      ]
     },
     "metadata": {},
     "output_type": "display_data"
    }
   ],
   "source": [
    "# plot training results\n",
    "history=xgb_dask_clf['history']\n",
    "\n",
    "plt.plot(history['train']['auc'], label='Train Score (AUC)')\n",
    "plt.plot(history['valid']['auc'], label='Test Score (AUC)')\n",
    "\n",
    "plt.xlabel('Iteration')\n",
    "plt.ylabel('Model Performance')\n",
    "plt.show()"
   ]
  },
  {
   "cell_type": "markdown",
   "id": "5bc3160f-a83d-4a9d-9417-05f0bf32c920",
   "metadata": {
    "tags": []
   },
   "source": [
    "<a name='s2-e2'></a>\n",
    "### Exercise #2 - Experimentation ###\n",
    "\n",
    "Machine learning requires experimentation to achieve optimal results. There are some model parameters we can use to reduce overfitting. At a high level, they can be categorized as: \n",
    "1. Parameters that control model complexity: \n",
    "    * `max_depth`, `min_child_weight` and `gamma`\n",
    "2. Parameters that add randomness to make training robust to noise: \n",
    "    * `subsample` and `colsample_bytree`\n",
    "\n",
    "We can also reduce `eta` (`learning_rate`) or increase `num_round`.\n",
    "\n",
    "**Instructions**: <br>\n",
    "* Modify the `<FIXME>`s only and execute the below cell to reduce overfitting. "
   ]
  },
  {
   "cell_type": "code",
   "execution_count": 21,
   "id": "a3e6486e-8654-4015-8b13-ff136e0f5172",
   "metadata": {
    "scrolled": true,
    "tags": []
   },
   "outputs": [
    {
     "name": "stderr",
     "output_type": "stream",
     "text": [
      "[19:56:42] task [xgboost.dask-0]:tcp://127.0.0.1:34019 got new rank 0\n",
      "[19:56:42] task [xgboost.dask-1]:tcp://127.0.0.1:43431 got new rank 1\n",
      "[19:56:42] task [xgboost.dask-2]:tcp://127.0.0.1:35135 got new rank 2\n",
      "[19:56:42] task [xgboost.dask-3]:tcp://127.0.0.1:44795 got new rank 3\n"
     ]
    },
    {
     "name": "stdout",
     "output_type": "stream",
     "text": [
      "Training 2216183 samples took 0.06 minutes. \n"
     ]
    }
   ],
   "source": [
    "# define model parameter\n",
    "xgb_params={ \n",
    "    'eval_metric': ['auc'], \n",
    "    'objective': 'binary:logistic',\n",
    "    'tree_method': 'gpu_hist', \n",
    "    'subsample': 0.8, \n",
    "    'colsample_bytree': 0.8, \n",
    "    'learning_rate': 0.1\n",
    "}\n",
    "\n",
    "# train the model\n",
    "start=time.time()\n",
    "xgb_dask_clf=xgboost.dask.train(client, \n",
    "                        xgb_params, \n",
    "                        dtrain=dtrain,\n",
    "                        evals=[(dtrain, 'train'), (dtest, 'valid')],\n",
    "                        num_boost_round=350,\n",
    "                        early_stopping_rounds=10, \n",
    "                        verbose_eval=False\n",
    ")\n",
    "elapsed_time=time.time()-start\n",
    "\n",
    "print(f'Training {len(X_train)} samples took {round(elapsed_time/60, 2)} minutes. ')"
   ]
  },
  {
   "cell_type": "raw",
   "id": "1998d6ad-d11d-4345-816e-c97301a67cf8",
   "metadata": {
    "tags": []
   },
   "source": [
    "xgb_params={ \n",
    "    'eval_metric': ['auc'], \n",
    "    'objective': 'binary:logistic',\n",
    "    'tree_method': 'gpu_hist', \n",
    "    'subsample': 0.8, \n",
    "    'colsample_bytree': 0.8, \n",
    "    'learning_rate': 0.1\n",
    "}\n",
    "\n",
    "start=time.time()\n",
    "xgb_dask_clf=xgboost.dask.train(client, # vs model = xgb.train(                     \n",
    "                        xgb_params, \n",
    "                        dtrain=dtrain,\n",
    "                        evals=[(dtrain, 'train'), (dtest, 'valid')],\n",
    "                        num_boost_round=350,\n",
    "                        early_stopping_rounds=10, \n",
    "                        verbose_eval=False\n",
    "                       )\n",
    "elapsed_time=time.time()-start\n",
    "\n",
    "print(f'Training {len(X_train)} samples took {round(elapsed_time/60, 2)} minutes. ')"
   ]
  },
  {
   "cell_type": "markdown",
   "id": "4bf9f5cc-e7db-4ef8-a5c7-520b89b9bac6",
   "metadata": {},
   "source": [
    "Click ... to show **solution**."
   ]
  },
  {
   "cell_type": "code",
   "execution_count": 22,
   "id": "6f9fdf9f-9848-4a43-80c0-fe1cc5280c2c",
   "metadata": {
    "scrolled": true,
    "tags": []
   },
   "outputs": [
    {
     "data": {
      "image/png": "[encoded data removed]",
      "text/plain": [
       "<Figure size 640x480 with 1 Axes>"
      ]
     },
     "metadata": {},
     "output_type": "display_data"
    }
   ],
   "source": [
    "# evaluate model\n",
    "history=xgb_dask_clf['history']\n",
    "\n",
    "plt.plot(history['train']['auc'], label='Train Score (AUC)')\n",
    "plt.plot(history['valid']['auc'], label='Test Score (AUC)')\n",
    "\n",
    "plt.xlabel('Iteration')\n",
    "plt.ylabel('Model Performance')\n",
    "plt.show()"
   ]
  },
  {
   "cell_type": "code",
   "execution_count": 23,
   "id": "6494a2ca-23b7-4f15-81ae-9d31abd4f209",
   "metadata": {
    "scrolled": true,
    "tags": []
   },
   "outputs": [
    {
     "name": "stdout",
     "output_type": "stream",
     "text": [
      "Accuracy score for val set: 61.31%\n",
      "Throughput is: 1724175.47 per seconds. \n"
     ]
    },
    {
     "name": "stderr",
     "output_type": "stream",
     "text": [
      "/opt/conda/envs/rapids/lib/python3.9/site-packages/cudf/core/single_column_frame.py:345: FutureWarning: Binary operations between host objects such as <class 'numpy.ndarray'> and <class 'cudf.core.series.Series'> are deprecated and will be removed in a future release. Please convert it to a cudf object before performing the operation.\n",
      "  warnings.warn(\n",
      "/opt/conda/envs/rapids/lib/python3.9/site-packages/cudf/core/single_column_frame.py:345: FutureWarning: Binary operations between host objects such as <class 'numpy.ndarray'> and <class 'cudf.core.series.Series'> are deprecated and will be removed in a future release. Please convert it to a cudf object before performing the operation.\n",
      "  warnings.warn(\n",
      "/opt/conda/envs/rapids/lib/python3.9/site-packages/cudf/core/single_column_frame.py:345: FutureWarning: Binary operations between host objects such as <class 'numpy.ndarray'> and <class 'cudf.core.series.Series'> are deprecated and will be removed in a future release. Please convert it to a cudf object before performing the operation.\n",
      "  warnings.warn(\n",
      "/opt/conda/envs/rapids/lib/python3.9/site-packages/cudf/core/single_column_frame.py:345: FutureWarning: Binary operations between host objects such as <class 'numpy.ndarray'> and <class 'cudf.core.series.Series'> are deprecated and will be removed in a future release. Please convert it to a cudf object before performing the operation.\n",
      "  warnings.warn(\n"
     ]
    }
   ],
   "source": [
    "# predict\n",
    "start=time.time()\n",
    "prediction_test=xgboost.dask.predict(client, xgb_dask_clf, dtest)\n",
    "elapsed_time=time.time()-start\n",
    "\n",
    "print(f'Accuracy score for val set: {round(float(accuracy_score(y_test, prediction_test>0.5))*100, 2)}%')\n",
    "\n",
    "throughput=round(len(X_test)/elapsed_time, 2)\n",
    "print(f'Throughput is: {throughput} per seconds. ')"
   ]
  },
  {
   "cell_type": "markdown",
   "id": "950a3bc2-f06c-474d-bbc3-0fa527bb6f05",
   "metadata": {},
   "source": [
    "<a name='s2-3.3'></a>\n",
    "### Save Model ###\n",
    "\n",
    "XGBoost has two distinct parts: \n",
    "1. The model consisting of trees\n",
    "2. Hyperparameters and configurations used for building the model\n",
    "\n",
    "Generally, we are only concerned with the model (#1), but sometimes the model's training configuration (#2) such as the objective function can also be useful if the model needs to be trained further. "
   ]
  },
  {
   "cell_type": "code",
   "execution_count": 24,
   "id": "6bf27227-5323-4512-b3cf-96cac6c08fc8",
   "metadata": {},
   "outputs": [],
   "source": [
    "# save model\n",
    "xgb_dask_clf['booster'].save_model('model.json')"
   ]
  },
  {
   "cell_type": "markdown",
   "id": "67a97d94-05d0-472f-8e59-49fd20010138",
   "metadata": {},
   "source": [
    "We can use instantiate `xgboost.Booster()`[[doc]](https://xgboost.readthedocs.io/en/stable/python/python_api.html#xgboost.Booster) and use `.load_model()`[[doc]](https://xgboost.readthedocs.io/en/stable/python/python_api.html#xgboost.Booster.load_model) to load the model configuration. "
   ]
  },
  {
   "cell_type": "code",
   "execution_count": 25,
   "id": "38b513dd-6168-4ae5-8ce5-f1fc96ed6309",
   "metadata": {},
   "outputs": [],
   "source": [
    "# load model\n",
    "xgb_dask_clf=xgboost.Booster()\n",
    "xgb_dask_clf.load_model('model.json')"
   ]
  },
  {
   "cell_type": "markdown",
   "id": "9a459eb1-3c25-49a5-bf51-2c67c8ae0d47",
   "metadata": {},
   "source": [
    "<a name='s2-4'></a>\n",
    "## Feature Importances ##\n",
    "Ensemble trees provide  estimates of feature importance from a trained model. Users can get the scores with `xgboost.Booster.get_score()`[[doc]](https://xgboost.readthedocs.io/en/stable/python/python_api.html#xgboost.Booster.get_score). Generally, importance provides a score that indicates how useful or valuable each feature was in the construction of the trees within the model. The more frequently a feature is used to split the data, the higher its relative importance. The importance types are defined as: \n",
    "* `weight` (default) - the number of times a feature is used to split the data across all trees. This is equivalent to `xgboost.Booster.get_fscore()`[[doc]](https://xgboost.readthedocs.io/en/stable/python/python_api.html#xgboost.Booster.get_score)\n",
    "* `gain` - the average gain across all splits the feature is used in\n",
    "* `cover` - the average coverage across all splits the feature is used in\n",
    "* `total_gain` - the total gain across all splits the feature is used in\n",
    "* `total_cover` - the total coverage across all splits the feature is used in\n",
    "\n",
    "We plot the scores manually. Alternatively, the built-in `xgboost.plot_importance()`[[doc]](https://xgboost.readthedocs.io/en/stable/python/python_api.html#xgboost.plot_importance) can be used. "
   ]
  },
  {
   "cell_type": "code",
   "execution_count": null,
   "id": "b8910bc7-049b-4faf-ad53-b1befd97cd79",
   "metadata": {
    "scrolled": true,
    "tags": []
   },
   "outputs": [],
   "source": [
    "# get scores\n",
    "scores=xgb_dask_clf.get_score()\n",
    "scores=sorted(scores.items(), key=lambda x:x[1], reverse=True)\n",
    "scores"
   ]
  },
  {
   "cell_type": "code",
   "execution_count": null,
   "id": "a6d3bce0-ffff-4ffa-a9e7-5d8d452dc5b3",
   "metadata": {
    "scrolled": true,
    "tags": []
   },
   "outputs": [],
   "source": [
    "# plot feature importances\n",
    "plt.bar(x=[feat for feat, score in scores], height=[score for feat, score in scores])\n",
    "plt.xticks(rotation=90)\n",
    "plt.show()"
   ]
  },
  {
   "cell_type": "code",
   "execution_count": null,
   "id": "87f7e119-2810-4b4f-bd40-38245d889122",
   "metadata": {
    "tags": []
   },
   "outputs": [],
   "source": [
    "# clean GPU memory\n",
    "import IPython\n",
    "app = IPython.Application.instance()\n",
    "app.kernel.do_shutdown(restart=False)"
   ]
  },
  {
   "cell_type": "markdown",
   "id": "f20b0671-e9a6-4fca-b3e2-be2730194739",
   "metadata": {},
   "source": [
    "**Well Done!** Let's move to the [next notebook](2_03_model_tuning.ipynb). "
   ]
  },
  {
   "cell_type": "markdown",
   "id": "2591ab18-7848-4c75-818a-1d11de62ebd6",
   "metadata": {},
   "source": [
    "<a href=\"https://www.nvidia.com/dli\"> <img src=\"images/DLI_Header.png\" alt=\"Header\" style=\"width: 400px;\"/> </a>"
   ]
  }
 ],
 "metadata": {
  "kernelspec": {
   "display_name": "Python 3 (ipykernel)",
   "language": "python",
   "name": "python3"
  },
  "language_info": {
   "codemirror_mode": {
    "name": "ipython",
    "version": 3
   },
   "file_extension": ".py",
   "mimetype": "text/x-python",
   "name": "python",
   "nbconvert_exporter": "python",
   "pygments_lexer": "ipython3",
   "version": "3.9.15"
  }
 },
 "nbformat": 4,
 "nbformat_minor": 5
}
