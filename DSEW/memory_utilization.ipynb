{
 "cells": [
  {
   "cell_type": "markdown",
   "id": "990e872a-38a9-4058-8004-69f23d6dfb44",
   "metadata": {},
   "source": [
    "<a href=\"https://www.nvidia.com/dli\"> <img src=\"images/DLI_Header.png\" alt=\"Header\" style=\"width: 400px;\"/> </a>"
   ]
  },
  {
   "cell_type": "markdown",
   "id": "7d627be1-3c91-4400-ac39-7fbcd5328f03",
   "metadata": {},
   "source": [
    "<a name='s1-2.2'></a>\n",
    "### Memory Utilization ###\n",
    "Memory utilization on a DataFrame depends largely on the date types for each column. \n",
    "\n",
    "<p><img src='images/dtypes.png' width=720></p>\n",
    "\n",
    "We can use `DataFrame.memory_usage()` to see the memory usage for each column (in bytes). Most of the common data types have a fixed size in memory, such as `int`, `float`, `datetime`, and `bool`. Memory usage for these data types is the respective memory requirement multiplied by the number of data points. For `string` data types, the memory usage reported is the number of data points times 8 bytes. This accounts for the 64-bit required for the pointer that points to an address in memory but doesn't include the memory used for the actual string values. The actual memory required for a `string` value is 49 bytes plus an additional byte for each character. The `deep` parameter provides a more accurate memory usage report that accounts for the system-level memory consumption of the contained `string` data type. \n",
    "\n",
    "Separately, we've provided a `dli_utils.make_decimal()` function to convert memory size into units based on powers of 2. In contrast to units based on powers of 10, this customary convention is commonly used to report memory capacity. More information about the two definitions can be found [here](https://en.wikipedia.org/wiki/Byte#Multiple-byte_units). "
   ]
  },
  {
   "cell_type": "code",
   "execution_count": 1,
   "id": "2c081dcc-73db-465e-a449-f4fe5d2ef50b",
   "metadata": {
    "scrolled": true,
    "tags": []
   },
   "outputs": [
    {
     "data": {
      "text/html": [
       "<div>\n",
       "<style scoped>\n",
       "    .dataframe tbody tr th:only-of-type {\n",
       "        vertical-align: middle;\n",
       "    }\n",
       "\n",
       "    .dataframe tbody tr th {\n",
       "        vertical-align: top;\n",
       "    }\n",
       "\n",
       "    .dataframe thead th {\n",
       "        text-align: right;\n",
       "    }\n",
       "</style>\n",
       "<table border=\"1\" class=\"dataframe\">\n",
       "  <thead>\n",
       "    <tr style=\"text-align: right;\">\n",
       "      <th></th>\n",
       "      <th>event_time</th>\n",
       "      <th>event_type</th>\n",
       "      <th>product_id</th>\n",
       "      <th>category_id</th>\n",
       "      <th>category_code</th>\n",
       "      <th>brand</th>\n",
       "      <th>price</th>\n",
       "      <th>user_id</th>\n",
       "      <th>user_session</th>\n",
       "    </tr>\n",
       "  </thead>\n",
       "  <tbody>\n",
       "    <tr>\n",
       "      <th>0</th>\n",
       "      <td>2020-03-01 00:00:00 UTC</td>\n",
       "      <td>view</td>\n",
       "      <td>10900348</td>\n",
       "      <td>2232732105912091273</td>\n",
       "      <td>appliances.kitchen.mixer</td>\n",
       "      <td>kitfort</td>\n",
       "      <td>117.63</td>\n",
       "      <td>550295099</td>\n",
       "      <td>23f5ab9e-7774-416d-900b-f2725da671aa</td>\n",
       "    </tr>\n",
       "    <tr>\n",
       "      <th>1</th>\n",
       "      <td>2020-03-01 00:00:01 UTC</td>\n",
       "      <td>view</td>\n",
       "      <td>14300020</td>\n",
       "      <td>2232732107967300275</td>\n",
       "      <td>apparel.underwear</td>\n",
       "      <td>casio</td>\n",
       "      <td>264.37</td>\n",
       "      <td>622070532</td>\n",
       "      <td>edf19213-f0dd-46e1-ae18-28968dbddd6e</td>\n",
       "    </tr>\n",
       "    <tr>\n",
       "      <th>2</th>\n",
       "      <td>2020-03-01 00:00:03 UTC</td>\n",
       "      <td>view</td>\n",
       "      <td>13200063</td>\n",
       "      <td>2232732061804790604</td>\n",
       "      <td>furniture.bedroom.bed</td>\n",
       "      <td>NaN</td>\n",
       "      <td>126.10</td>\n",
       "      <td>552832344</td>\n",
       "      <td>608087d8-6b69-21db-50a3-2b91ba015532</td>\n",
       "    </tr>\n",
       "    <tr>\n",
       "      <th>3</th>\n",
       "      <td>2020-03-01 00:00:03 UTC</td>\n",
       "      <td>view</td>\n",
       "      <td>100077498</td>\n",
       "      <td>2232732085846540487</td>\n",
       "      <td>construction.tools.generator</td>\n",
       "      <td>tamina</td>\n",
       "      <td>424.72</td>\n",
       "      <td>613391860</td>\n",
       "      <td>5ab6c3d5-edd7-4e15-8b0a-75b467a37fd0</td>\n",
       "    </tr>\n",
       "    <tr>\n",
       "      <th>4</th>\n",
       "      <td>2020-03-01 00:00:04 UTC</td>\n",
       "      <td>view</td>\n",
       "      <td>1005014</td>\n",
       "      <td>2232732093077520756</td>\n",
       "      <td>construction.tools.light</td>\n",
       "      <td>samsung</td>\n",
       "      <td>482.73</td>\n",
       "      <td>517021211</td>\n",
       "      <td>0c34308d-c455-40bb-9992-3e44920bc2b9</td>\n",
       "    </tr>\n",
       "  </tbody>\n",
       "</table>\n",
       "</div>"
      ],
      "text/plain": [
       "                event_time event_type  product_id          category_id  \\\n",
       "0  2020-03-01 00:00:00 UTC       view    10900348  2232732105912091273   \n",
       "1  2020-03-01 00:00:01 UTC       view    14300020  2232732107967300275   \n",
       "2  2020-03-01 00:00:03 UTC       view    13200063  2232732061804790604   \n",
       "3  2020-03-01 00:00:03 UTC       view   100077498  2232732085846540487   \n",
       "4  2020-03-01 00:00:04 UTC       view     1005014  2232732093077520756   \n",
       "\n",
       "                  category_code    brand   price    user_id  \\\n",
       "0      appliances.kitchen.mixer  kitfort  117.63  550295099   \n",
       "1             apparel.underwear    casio  264.37  622070532   \n",
       "2         furniture.bedroom.bed      NaN  126.10  552832344   \n",
       "3  construction.tools.generator   tamina  424.72  613391860   \n",
       "4      construction.tools.light  samsung  482.73  517021211   \n",
       "\n",
       "                           user_session  \n",
       "0  23f5ab9e-7774-416d-900b-f2725da671aa  \n",
       "1  edf19213-f0dd-46e1-ae18-28968dbddd6e  \n",
       "2  608087d8-6b69-21db-50a3-2b91ba015532  \n",
       "3  5ab6c3d5-edd7-4e15-8b0a-75b467a37fd0  \n",
       "4  0c34308d-c455-40bb-9992-3e44920bc2b9  "
      ]
     },
     "execution_count": 1,
     "metadata": {},
     "output_type": "execute_result"
    }
   ],
   "source": [
    "# import dependencies\n",
    "import pandas as pd\n",
    "import sys\n",
    "import random\n",
    "\n",
    "# import utility\n",
    "from dli_utils import make_decimal\n",
    "\n",
    "# import data\n",
    "df=pd.read_csv('2020-Mar.csv')\n",
    "\n",
    "# preview DataFrame\n",
    "df.head()"
   ]
  },
  {
   "cell_type": "code",
   "execution_count": 2,
   "id": "df5dd11c-e9b1-4de5-b81f-074023dd24d9",
   "metadata": {},
   "outputs": [],
   "source": [
    "# convert feature as datetime data type\n",
    "df['event_time']=pd.to_datetime(df['event_time'])"
   ]
  },
  {
   "cell_type": "code",
   "execution_count": 3,
   "id": "613ad7f5-9ad0-4e16-b2f1-f14839e15104",
   "metadata": {
    "scrolled": true,
    "tags": []
   },
   "outputs": [
    {
     "name": "stdout",
     "output_type": "stream",
     "text": [
      "Total memory use is 4056569352 bytes or ~3.78 GB.\n"
     ]
    },
    {
     "data": {
      "text/html": [
       "<div>\n",
       "<style scoped>\n",
       "    .dataframe tbody tr th:only-of-type {\n",
       "        vertical-align: middle;\n",
       "    }\n",
       "\n",
       "    .dataframe tbody tr th {\n",
       "        vertical-align: top;\n",
       "    }\n",
       "\n",
       "    .dataframe thead th {\n",
       "        text-align: right;\n",
       "    }\n",
       "</style>\n",
       "<table border=\"1\" class=\"dataframe\">\n",
       "  <thead>\n",
       "    <tr style=\"text-align: right;\">\n",
       "      <th></th>\n",
       "      <th>memory_usage</th>\n",
       "      <th>dtype</th>\n",
       "    </tr>\n",
       "  </thead>\n",
       "  <tbody>\n",
       "    <tr>\n",
       "      <th>event_time</th>\n",
       "      <td>450729928</td>\n",
       "      <td>datetime64[ns, UTC]</td>\n",
       "    </tr>\n",
       "    <tr>\n",
       "      <th>event_type</th>\n",
       "      <td>450729928</td>\n",
       "      <td>object</td>\n",
       "    </tr>\n",
       "    <tr>\n",
       "      <th>product_id</th>\n",
       "      <td>450729928</td>\n",
       "      <td>int64</td>\n",
       "    </tr>\n",
       "    <tr>\n",
       "      <th>category_id</th>\n",
       "      <td>450729928</td>\n",
       "      <td>int64</td>\n",
       "    </tr>\n",
       "    <tr>\n",
       "      <th>category_code</th>\n",
       "      <td>450729928</td>\n",
       "      <td>object</td>\n",
       "    </tr>\n",
       "    <tr>\n",
       "      <th>brand</th>\n",
       "      <td>450729928</td>\n",
       "      <td>object</td>\n",
       "    </tr>\n",
       "    <tr>\n",
       "      <th>price</th>\n",
       "      <td>450729928</td>\n",
       "      <td>float64</td>\n",
       "    </tr>\n",
       "    <tr>\n",
       "      <th>user_id</th>\n",
       "      <td>450729928</td>\n",
       "      <td>int64</td>\n",
       "    </tr>\n",
       "    <tr>\n",
       "      <th>user_session</th>\n",
       "      <td>450729928</td>\n",
       "      <td>object</td>\n",
       "    </tr>\n",
       "  </tbody>\n",
       "</table>\n",
       "</div>"
      ],
      "text/plain": [
       "               memory_usage                dtype\n",
       "event_time        450729928  datetime64[ns, UTC]\n",
       "event_type        450729928               object\n",
       "product_id        450729928                int64\n",
       "category_id       450729928                int64\n",
       "category_code     450729928               object\n",
       "brand             450729928               object\n",
       "price             450729928              float64\n",
       "user_id           450729928                int64\n",
       "user_session      450729928               object"
      ]
     },
     "execution_count": 3,
     "metadata": {},
     "output_type": "execute_result"
    }
   ],
   "source": [
    "# lists each column at 8 bytes/row\n",
    "memory_usage_df=df.memory_usage(index=False)\n",
    "memory_usage_df.name='memory_usage'\n",
    "dtypes_df=df.dtypes\n",
    "dtypes_df.name='dtype'\n",
    "\n",
    "# show each column uses roughly number of rows * 8 bytes\n",
    "# 8 bytes from 64-bit numerical data as well as 8 bytes to store a pointer for object data type\n",
    "byte_size=len(df) * 8 * len(df.columns)\n",
    "\n",
    "print(f'Total memory use is {byte_size} bytes or ~{make_decimal(byte_size)}.')\n",
    "\n",
    "pd.concat([memory_usage_df, dtypes_df], axis=1)"
   ]
  },
  {
   "cell_type": "code",
   "execution_count": 4,
   "id": "4eda6318-b37e-4c21-90b3-2aa7b5dc3bb5",
   "metadata": {
    "scrolled": true,
    "tags": []
   },
   "outputs": [
    {
     "name": "stdout",
     "output_type": "stream",
     "text": [
      "Total memory use is 18435137127 bytes or ~17.17 GB.\n"
     ]
    },
    {
     "data": {
      "text/html": [
       "<div>\n",
       "<style scoped>\n",
       "    .dataframe tbody tr th:only-of-type {\n",
       "        vertical-align: middle;\n",
       "    }\n",
       "\n",
       "    .dataframe tbody tr th {\n",
       "        vertical-align: top;\n",
       "    }\n",
       "\n",
       "    .dataframe thead th {\n",
       "        text-align: right;\n",
       "    }\n",
       "</style>\n",
       "<table border=\"1\" class=\"dataframe\">\n",
       "  <thead>\n",
       "    <tr style=\"text-align: right;\">\n",
       "      <th></th>\n",
       "      <th>memory_usage</th>\n",
       "      <th>dtype</th>\n",
       "    </tr>\n",
       "  </thead>\n",
       "  <tbody>\n",
       "    <tr>\n",
       "      <th>event_time</th>\n",
       "      <td>450729928</td>\n",
       "      <td>datetime64[ns, UTC]</td>\n",
       "    </tr>\n",
       "    <tr>\n",
       "      <th>event_type</th>\n",
       "      <td>3440915437</td>\n",
       "      <td>object</td>\n",
       "    </tr>\n",
       "    <tr>\n",
       "      <th>product_id</th>\n",
       "      <td>450729928</td>\n",
       "      <td>int64</td>\n",
       "    </tr>\n",
       "    <tr>\n",
       "      <th>category_id</th>\n",
       "      <td>450729928</td>\n",
       "      <td>int64</td>\n",
       "    </tr>\n",
       "    <tr>\n",
       "      <th>category_code</th>\n",
       "      <td>4208566142</td>\n",
       "      <td>object</td>\n",
       "    </tr>\n",
       "    <tr>\n",
       "      <th>brand</th>\n",
       "      <td>3292273606</td>\n",
       "      <td>object</td>\n",
       "    </tr>\n",
       "    <tr>\n",
       "      <th>price</th>\n",
       "      <td>450729928</td>\n",
       "      <td>float64</td>\n",
       "    </tr>\n",
       "    <tr>\n",
       "      <th>user_id</th>\n",
       "      <td>450729928</td>\n",
       "      <td>int64</td>\n",
       "    </tr>\n",
       "    <tr>\n",
       "      <th>user_session</th>\n",
       "      <td>5239732302</td>\n",
       "      <td>object</td>\n",
       "    </tr>\n",
       "  </tbody>\n",
       "</table>\n",
       "</div>"
      ],
      "text/plain": [
       "               memory_usage                dtype\n",
       "event_time        450729928  datetime64[ns, UTC]\n",
       "event_type       3440915437               object\n",
       "product_id        450729928                int64\n",
       "category_id       450729928                int64\n",
       "category_code    4208566142               object\n",
       "brand            3292273606               object\n",
       "price             450729928              float64\n",
       "user_id           450729928                int64\n",
       "user_session     5239732302               object"
      ]
     },
     "execution_count": 4,
     "metadata": {},
     "output_type": "execute_result"
    }
   ],
   "source": [
    "# lists each column's full memory usage\n",
    "memory_usage_df=df.memory_usage(deep=True, index=False)\n",
    "memory_usage_df.name='memory_usage'\n",
    "\n",
    "byte_size=memory_usage_df.sum()\n",
    "\n",
    "# show total memory usage\n",
    "print(f'Total memory use is {byte_size} bytes or ~{make_decimal(byte_size)}.')\n",
    "\n",
    "pd.concat([memory_usage_df, dtypes_df], axis=1)"
   ]
  },
  {
   "cell_type": "code",
   "execution_count": 5,
   "id": "eba51237-01cc-4054-9976-a830d17ce517",
   "metadata": {
    "scrolled": true,
    "tags": []
   },
   "outputs": [
    {
     "name": "stdout",
     "output_type": "stream",
     "text": [
      "Total memory use is 18435137271 bytes or ~17.17 GB.\n"
     ]
    }
   ],
   "source": [
    "# alternatively, use sys.getsizeof() instead\n",
    "byte_size=sys.getsizeof(df)\n",
    "\n",
    "print(f'Total memory use is {byte_size} bytes or ~{make_decimal(byte_size)}.')"
   ]
  },
  {
   "cell_type": "code",
   "execution_count": 6,
   "id": "58768be7-bc1c-428a-b246-5f1178b0a239",
   "metadata": {},
   "outputs": [
    {
     "name": "stdout",
     "output_type": "stream",
     "text": [
      "event_type column uses : 3440915437 bytes of memory.\n"
     ]
    }
   ],
   "source": [
    "# check random string-typed column\n",
    "string_cols=[col for col in df.columns if df[col].dtype=='object' ]\n",
    "column_to_check=random.choice(string_cols)\n",
    "\n",
    "overhead=49\n",
    "pointer_size=8\n",
    "\n",
    "# nan==nan when value is not a number\n",
    "# nan uses 32 bytes of memory\n",
    "print(f'{column_to_check} column uses : {sum([(len(item)+overhead+pointer_size) if item==item else 32 for item in df[column_to_check].values])} bytes of memory.')"
   ]
  },
  {
   "cell_type": "markdown",
   "id": "b59c12bd-380e-4d0b-8cda-31d8eda747c7",
   "metadata": {},
   "source": [
    "<p><img src='images/tip.png' width=720></p>\n",
    "When Python stores a string, it actually uses memory for the overhead of the Python object, metadata about the string, and the string itself. The amount of memory usage we calculated includes temporary objects that get deallocated after the initial import. It's important to note that Python has memory optimization mechanics for strings such that when the same string is created multiple time, Python will cache or \"intern\" it in memory and reuse it for later string objects. "
   ]
  },
  {
   "cell_type": "markdown",
   "id": "465e14e1-fa35-4372-950d-5dae4f6ba0bc",
   "metadata": {},
   "source": [
    "<a href=\"https://www.nvidia.com/dli\"> <img src=\"images/DLI_Header.png\" alt=\"Header\" style=\"width: 400px;\"/> </a>"
   ]
  },
  {
   "cell_type": "code",
   "execution_count": null,
   "id": "40eb8975-436a-4772-8826-d3621cfdf12c",
   "metadata": {},
   "outputs": [],
   "source": []
  }
 ],
 "metadata": {
  "kernelspec": {
   "display_name": "Python 3 (ipykernel)",
   "language": "python",
   "name": "python3"
  },
  "language_info": {
   "codemirror_mode": {
    "name": "ipython",
    "version": 3
   },
   "file_extension": ".py",
   "mimetype": "text/x-python",
   "name": "python",
   "nbconvert_exporter": "python",
   "pygments_lexer": "ipython3",
   "version": "3.9.15"
  }
 },
 "nbformat": 4,
 "nbformat_minor": 5
}
