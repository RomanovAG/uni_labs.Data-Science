{
 "cells": [
  {
   "cell_type": "markdown",
   "id": "cfe23db4-a87a-444e-8074-bd79d28c4560",
   "metadata": {},
   "source": [
    "<a href=\"https://www.nvidia.com/dli\"> <img src=\"images/DLI_Header.png\" alt=\"Header\" style=\"width: 400px;\"/> </a>"
   ]
  },
  {
   "cell_type": "markdown",
   "id": "919bc4a3-ca11-4330-9479-6bcd8420e00e",
   "metadata": {},
   "source": [
    "# Enhancing Data Science Outcomes With Efficient Workflow #"
   ]
  },
  {
   "cell_type": "markdown",
   "id": "e65cfc57-c86c-40d0-81a4-946554833619",
   "metadata": {},
   "source": [
    "## 03 - Model Tuning ##\n",
    "This lab covers the machine learning model development step of the data science workflow. Model development involves model building, evaluation, fine-tuning, model selection, and model persistence. \n",
    "\n",
    "<p><img src='images/pipeline_overview_2.png' width=1080></p>\n",
    "\n",
    "**Table of Contents**\n",
    "<br>\n",
    "In this notebook, we will perform model tuning. This notebook covers the below sections: \n",
    "1. [Feature Selection](#s3-1)\n",
    "    * [Exhaustive Feature Selection](#s3-1.1)\n",
    "2. [Hyperparameter Optimization](#s3-2)\n",
    "    * [Multiple Model Training in Parallel](#s3-2.1)"
   ]
  },
  {
   "cell_type": "markdown",
   "id": "e11e54a3-8d41-4c20-af54-80348018026d",
   "metadata": {},
   "source": [
    "Recall that distribution computing can help us scale data science in several dimensions: \n",
    "* When the challenge is memory bound, Dask offers the ability to work with larger datasets and thereby improving the performance and resilience of models\n",
    "    * Data parallelism\n",
    "* When the challenge is computing bound, GPU-accelerated machine learning algorithms can speed up computationally intensive workflows\n",
    "    * Task parallelism\n",
    "\n",
    "We will see both approaches used in this notebook. \n",
    "\n",
    "<p><img src='images/tip.png' width=720></p>\n",
    "\n",
    "Because there is a cost associated with distributing work and moving data from host to GPU, performance gains from GPU-acceleration will be diminished for small datasets. "
   ]
  },
  {
   "cell_type": "markdown",
   "id": "07eb5de8-823a-494f-b2f5-0e65f4027c2f",
   "metadata": {},
   "source": [
    "<a name='s3-1'></a>\n",
    "## Feature Selection ##\n",
    "With a tabular dataset, every column can be used as a feature, but not all of them are useful or relevant. Feature selection aims to exclude features that are redundant or irrelevant without incurring much loss of information. In other words, feature selection can help select a subset of features that contribute the most when it comes to model prediction. Some advantages of feature selection: \n",
    "1. results in pipelines that run faster by reducing training and inference time\n",
    "2. improves the generalization and reduces the chances of overfitting\n",
    "3. results in better performing model\n",
    "4. reduces model's complexity so it's easier to understand\n",
    "5. avoids the [curse of dimensionality](https://en.wikipedia.org/wiki/Curse_of_dimensionality)"
   ]
  },
  {
   "cell_type": "markdown",
   "id": "8defff61-4f49-420c-a565-0f4f9f6703cb",
   "metadata": {},
   "source": [
    "<a name='s3-1.1'></a>\n",
    "### Exhaustive Feature Selection ###\n",
    "One approach for feature selection tries to find a subset of features that yield the best performance by comparing models with different feature combinations. There are a few variations of this feature selection approach: \n",
    "* Exhaustive feature selection (EFS) - finds the subset of features by evaluating all feature combinations\n",
    "* Forward feature selection (FFS) - finds the best subset of features by adding one feature that best improves the model at each iteration\n",
    "* Sequential backward selection (SBS) or backward feature elimination - finds the best subset of features by removing one feature that has the least importance to the model at each iteration\n",
    "\n",
    "We will perform exhaustive feature selection by trying all combinations of features. By shortening the training process through GPU-acceleration, we can perform many experiments. "
   ]
  },
  {
   "cell_type": "code",
   "execution_count": 1,
   "id": "1ed5e7db-a9d8-467a-9919-2984f5bc1b76",
   "metadata": {
    "scrolled": true,
    "tags": []
   },
   "outputs": [
    {
     "name": "stderr",
     "output_type": "stream",
     "text": [
      "2023-12-24 20:02:35,649 - distributed.preloading - INFO - Creating preload: dask_cuda.initialize\n",
      "2023-12-24 20:02:35,649 - distributed.preloading - INFO - Import preload module: dask_cuda.initialize\n",
      "2023-12-24 20:02:35,660 - distributed.preloading - INFO - Creating preload: dask_cuda.initialize\n",
      "2023-12-24 20:02:35,660 - distributed.preloading - INFO - Import preload module: dask_cuda.initialize\n",
      "2023-12-24 20:02:35,664 - distributed.preloading - INFO - Creating preload: dask_cuda.initialize\n",
      "2023-12-24 20:02:35,664 - distributed.preloading - INFO - Import preload module: dask_cuda.initialize\n",
      "2023-12-24 20:02:35,708 - distributed.preloading - INFO - Creating preload: dask_cuda.initialize\n",
      "2023-12-24 20:02:35,708 - distributed.preloading - INFO - Import preload module: dask_cuda.initialize\n"
     ]
    }
   ],
   "source": [
    "# import dependencies\n",
    "import warnings\n",
    "warnings.filterwarnings('ignore')\n",
    "\n",
    "from dask.distributed import Client, wait\n",
    "from dask_cuda import LocalCUDACluster\n",
    "\n",
    "# instantiate a Client\n",
    "cluster=LocalCUDACluster()\n",
    "client=Client(cluster)"
   ]
  },
  {
   "cell_type": "code",
   "execution_count": 2,
   "id": "1aa3bcdb-d479-48aa-bee9-5b55c5484a35",
   "metadata": {
    "scrolled": true,
    "tags": []
   },
   "outputs": [
    {
     "name": "stdout",
     "output_type": "stream",
     "text": [
      "Dask dashboard (status) is accessible on http://18.209.105.128:8787/status\n",
      "Dask dashboard (gpu) is accessible on http://18.209.105.128:8787/gpu\n"
     ]
    }
   ],
   "source": [
    "# get the machine's external IP address\n",
    "from requests import get\n",
    "\n",
    "ip=get('https://api.ipify.org').content.decode('utf8')\n",
    "\n",
    "print(f'Dask dashboard (status) is accessible on http://{ip}:8787/status')\n",
    "print(f'Dask dashboard (gpu) is accessible on http://{ip}:8787/gpu')"
   ]
  },
  {
   "cell_type": "code",
   "execution_count": 3,
   "id": "66f360e8-00a6-4f69-9073-085b49635479",
   "metadata": {},
   "outputs": [],
   "source": [
    "# import dependencies\n",
    "from xgboost.dask import DaskXGBClassifier\n",
    "import xgboost\n",
    "from dask_ml.model_selection import train_test_split\n",
    "\n",
    "import dask_cudf\n",
    "import time\n",
    "import matplotlib.pyplot as plt\n",
    "import pickle\n",
    "import gc"
   ]
  },
  {
   "cell_type": "code",
   "execution_count": 4,
   "id": "fcda2cba-120d-4f2b-b57c-cbb2de796e4d",
   "metadata": {},
   "outputs": [],
   "source": [
    "# initializing list\n",
    "features_list=['brand', 'cat_0', 'cat_1', 'cat_2', 'cat_3', \n",
    "               'price', 'ts_hour', 'ts_minute', 'ts_weekday', \n",
    "               'brand_target_sum', 'brand_count', 'cat_0_target_sum', \n",
    "               'cat_0_count', 'cat_1_target_sum', 'cat_1_count', \n",
    "               'cat_2_target_sum', 'cat_2_count', 'cat_3_target_sum', \n",
    "               'cat_3_count', 'TE_brand_target', 'TE_cat_0_target', \n",
    "               'TE_cat_1_target', 'TE_cat_2_target', 'TE_cat_3_target', \n",
    "               'relative_price_product', 'relative_price_category']\n",
    "         \n",
    "include=features_list+['target']"
   ]
  },
  {
   "cell_type": "code",
   "execution_count": 5,
   "id": "0ebe4716-2098-44f8-9368-9cc1faa99efb",
   "metadata": {},
   "outputs": [
    {
     "name": "stdout",
     "output_type": "stream",
     "text": [
      "Total of 2461697 records split across 4 partitions. \n"
     ]
    }
   ],
   "source": [
    "# read data into Dask DataFrame\n",
    "parquet_dir='processed_parquet'\n",
    "ddf=dask_cudf.read_parquet(parquet_dir, columns=include)\n",
    "\n",
    "print(f'Total of {len(ddf)} records split across {ddf.npartitions} partitions. ')"
   ]
  },
  {
   "cell_type": "code",
   "execution_count": 6,
   "id": "9ed2a9a3-e452-496e-bf91-9f39be5a7ad7",
   "metadata": {
    "scrolled": true,
    "tags": []
   },
   "outputs": [],
   "source": [
    "# split data into train and test sets\n",
    "# since this data will be used multiple times, we cast it to float32 explicitly so \n",
    "# XGBoost doesn't have to do it each time\n",
    "y=ddf['target'].astype('float32')\n",
    "X=ddf[features_list].astype('float32')\n",
    "\n",
    "X_train, X_test, y_train, y_test=train_test_split(X, y, random_state=42)\n",
    "X_train, X_test, y_train, y_test=client.persist([X_train, X_test, y_train, y_test])\n",
    "wait([X_train, X_test, y_train, y_test])\n",
    "\n",
    "# create DaskDMatrix\n",
    "dtrain=xgboost.dask.DaskDMatrix(client, X_train, y_train) \n",
    "dtest=xgboost.dask.DaskDMatrix(client, X_test, y_test) "
   ]
  },
  {
   "cell_type": "code",
   "execution_count": 7,
   "id": "ea685475-54f7-47a5-abd1-5f75e8a612be",
   "metadata": {},
   "outputs": [],
   "source": [
    "# define function to train model\n",
    "def train_xgb_mgpu(columns): \n",
    "    # set train and test sets\n",
    "    X_train_subset=X_train[columns]\n",
    "    X_test_subset=X_test[columns]\n",
    "    client.persist([X_train_subset, X_test_subset])\n",
    "    wait([X_train_subset, X_test_subset])\n",
    "    \n",
    "    # create DaskDMatrix\n",
    "    dtrain_subset=xgboost.dask.DaskDMatrix(client, X_train_subset, y_train)\n",
    "    dtest_subset=xgboost.dask.DaskDMatrix(client, X_test_subset, y_test) \n",
    "    \n",
    "    # set model parameter\n",
    "    xgb_params={ \n",
    "        'eval_metric': ['auc'], \n",
    "        'objective': 'binary:logistic',\n",
    "        'tree_method': 'gpu_hist'\n",
    "    }\n",
    "    \n",
    "    # train the model\n",
    "    model=xgboost.dask.train(client, \n",
    "                         xgb_params, \n",
    "                         dtrain=dtrain_subset,\n",
    "                         evals=[(dtrain_subset, 'train'), (dtest_subset, 'valid')],\n",
    "                         num_boost_round=350,\n",
    "                         early_stopping_rounds=10, \n",
    "                         verbose_eval=False\n",
    "    )\n",
    "    return model"
   ]
  },
  {
   "cell_type": "code",
   "execution_count": 8,
   "id": "6d48dd8b-41a6-43ed-aa13-977cc63306e1",
   "metadata": {
    "scrolled": true,
    "tags": []
   },
   "outputs": [
    {
     "name": "stdout",
     "output_type": "stream",
     "text": [
      "0.0% complete | Training ['brand'].\r"
     ]
    },
    {
     "name": "stderr",
     "output_type": "stream",
     "text": [
      "[20:03:35] task [xgboost.dask-0]:tcp://127.0.0.1:37821 got new rank 0\n",
      "[20:03:35] task [xgboost.dask-1]:tcp://127.0.0.1:41067 got new rank 1\n",
      "[20:03:35] task [xgboost.dask-2]:tcp://127.0.0.1:38045 got new rank 2\n",
      "[20:03:35] task [xgboost.dask-3]:tcp://127.0.0.1:35531 got new rank 3\n"
     ]
    },
    {
     "name": "stdout",
     "output_type": "stream",
     "text": [
      "0.28% complete | Training ['cat_0'].\r"
     ]
    },
    {
     "name": "stderr",
     "output_type": "stream",
     "text": [
      "[20:03:36] task [xgboost.dask-0]:tcp://127.0.0.1:37821 got new rank 0\n",
      "[20:03:36] task [xgboost.dask-1]:tcp://127.0.0.1:41067 got new rank 1\n",
      "[20:03:36] task [xgboost.dask-2]:tcp://127.0.0.1:38045 got new rank 2\n",
      "[20:03:36] task [xgboost.dask-3]:tcp://127.0.0.1:35531 got new rank 3\n"
     ]
    },
    {
     "name": "stdout",
     "output_type": "stream",
     "text": [
      "0.57% complete | Training ['cat_1'].\r"
     ]
    },
    {
     "name": "stderr",
     "output_type": "stream",
     "text": [
      "[20:03:37] task [xgboost.dask-0]:tcp://127.0.0.1:37821 got new rank 0\n",
      "[20:03:37] task [xgboost.dask-1]:tcp://127.0.0.1:41067 got new rank 1\n",
      "[20:03:37] task [xgboost.dask-2]:tcp://127.0.0.1:38045 got new rank 2\n",
      "[20:03:37] task [xgboost.dask-3]:tcp://127.0.0.1:35531 got new rank 3\n"
     ]
    },
    {
     "name": "stdout",
     "output_type": "stream",
     "text": [
      "0.85% complete | Training ['cat_2'].\r"
     ]
    },
    {
     "name": "stderr",
     "output_type": "stream",
     "text": [
      "[20:03:37] task [xgboost.dask-0]:tcp://127.0.0.1:37821 got new rank 0\n",
      "[20:03:37] task [xgboost.dask-1]:tcp://127.0.0.1:41067 got new rank 1\n",
      "[20:03:37] task [xgboost.dask-2]:tcp://127.0.0.1:38045 got new rank 2\n",
      "[20:03:37] task [xgboost.dask-3]:tcp://127.0.0.1:35531 got new rank 3\n"
     ]
    },
    {
     "name": "stdout",
     "output_type": "stream",
     "text": [
      "1.14% complete | Training ['cat_3'].\r"
     ]
    },
    {
     "name": "stderr",
     "output_type": "stream",
     "text": [
      "[20:03:38] task [xgboost.dask-0]:tcp://127.0.0.1:37821 got new rank 0\n",
      "[20:03:38] task [xgboost.dask-1]:tcp://127.0.0.1:41067 got new rank 1\n",
      "[20:03:38] task [xgboost.dask-2]:tcp://127.0.0.1:38045 got new rank 2\n",
      "[20:03:38] task [xgboost.dask-3]:tcp://127.0.0.1:35531 got new rank 3\n"
     ]
    },
    {
     "name": "stdout",
     "output_type": "stream",
     "text": [
      "1.42% complete | Training ['price'].\r"
     ]
    },
    {
     "name": "stderr",
     "output_type": "stream",
     "text": [
      "[20:03:38] task [xgboost.dask-0]:tcp://127.0.0.1:37821 got new rank 0\n",
      "[20:03:38] task [xgboost.dask-1]:tcp://127.0.0.1:41067 got new rank 1\n",
      "[20:03:38] task [xgboost.dask-2]:tcp://127.0.0.1:38045 got new rank 2\n",
      "[20:03:38] task [xgboost.dask-3]:tcp://127.0.0.1:35531 got new rank 3\n"
     ]
    },
    {
     "name": "stdout",
     "output_type": "stream",
     "text": [
      "1.71% complete | Training ['ts_hour'].\r"
     ]
    },
    {
     "name": "stderr",
     "output_type": "stream",
     "text": [
      "[20:03:39] task [xgboost.dask-0]:tcp://127.0.0.1:37821 got new rank 0\n",
      "[20:03:39] task [xgboost.dask-1]:tcp://127.0.0.1:41067 got new rank 1\n",
      "[20:03:39] task [xgboost.dask-2]:tcp://127.0.0.1:38045 got new rank 2\n",
      "[20:03:39] task [xgboost.dask-3]:tcp://127.0.0.1:35531 got new rank 3\n"
     ]
    },
    {
     "name": "stdout",
     "output_type": "stream",
     "text": [
      "1.99% complete | Training ['ts_minute'].\r"
     ]
    },
    {
     "name": "stderr",
     "output_type": "stream",
     "text": [
      "[20:03:39] task [xgboost.dask-0]:tcp://127.0.0.1:37821 got new rank 0\n",
      "[20:03:39] task [xgboost.dask-1]:tcp://127.0.0.1:41067 got new rank 1\n",
      "[20:03:39] task [xgboost.dask-2]:tcp://127.0.0.1:38045 got new rank 2\n",
      "[20:03:39] task [xgboost.dask-3]:tcp://127.0.0.1:35531 got new rank 3\n"
     ]
    },
    {
     "name": "stdout",
     "output_type": "stream",
     "text": [
      "2.28% complete | Training ['ts_weekday'].\r"
     ]
    },
    {
     "name": "stderr",
     "output_type": "stream",
     "text": [
      "[20:03:39] task [xgboost.dask-0]:tcp://127.0.0.1:37821 got new rank 0\n",
      "[20:03:39] task [xgboost.dask-1]:tcp://127.0.0.1:41067 got new rank 1\n",
      "[20:03:39] task [xgboost.dask-2]:tcp://127.0.0.1:38045 got new rank 2\n",
      "[20:03:39] task [xgboost.dask-3]:tcp://127.0.0.1:35531 got new rank 3\n"
     ]
    },
    {
     "name": "stdout",
     "output_type": "stream",
     "text": [
      "2.56% complete | Training ['brand_target_sum'].\r"
     ]
    },
    {
     "name": "stderr",
     "output_type": "stream",
     "text": [
      "[20:03:40] task [xgboost.dask-0]:tcp://127.0.0.1:37821 got new rank 0\n",
      "[20:03:40] task [xgboost.dask-1]:tcp://127.0.0.1:41067 got new rank 1\n",
      "[20:03:40] task [xgboost.dask-2]:tcp://127.0.0.1:38045 got new rank 2\n",
      "[20:03:40] task [xgboost.dask-3]:tcp://127.0.0.1:35531 got new rank 3\n"
     ]
    },
    {
     "name": "stdout",
     "output_type": "stream",
     "text": [
      "2.85% complete | Training ['brand_count'].\r"
     ]
    },
    {
     "name": "stderr",
     "output_type": "stream",
     "text": [
      "[20:03:40] task [xgboost.dask-0]:tcp://127.0.0.1:37821 got new rank 0\n",
      "[20:03:40] task [xgboost.dask-1]:tcp://127.0.0.1:41067 got new rank 1\n",
      "[20:03:40] task [xgboost.dask-2]:tcp://127.0.0.1:38045 got new rank 2\n",
      "[20:03:40] task [xgboost.dask-3]:tcp://127.0.0.1:35531 got new rank 3\n"
     ]
    },
    {
     "name": "stdout",
     "output_type": "stream",
     "text": [
      "3.13% complete | Training ['cat_0_target_sum'].\r"
     ]
    },
    {
     "name": "stderr",
     "output_type": "stream",
     "text": [
      "[20:03:41] task [xgboost.dask-0]:tcp://127.0.0.1:37821 got new rank 0\n",
      "[20:03:41] task [xgboost.dask-1]:tcp://127.0.0.1:41067 got new rank 1\n",
      "[20:03:41] task [xgboost.dask-2]:tcp://127.0.0.1:38045 got new rank 2\n",
      "[20:03:41] task [xgboost.dask-3]:tcp://127.0.0.1:35531 got new rank 3\n"
     ]
    },
    {
     "name": "stdout",
     "output_type": "stream",
     "text": [
      "3.42% complete | Training ['cat_0_count'].\r"
     ]
    },
    {
     "name": "stderr",
     "output_type": "stream",
     "text": [
      "[20:03:41] task [xgboost.dask-0]:tcp://127.0.0.1:37821 got new rank 0\n",
      "[20:03:41] task [xgboost.dask-1]:tcp://127.0.0.1:41067 got new rank 1\n",
      "[20:03:41] task [xgboost.dask-2]:tcp://127.0.0.1:38045 got new rank 2\n",
      "[20:03:41] task [xgboost.dask-3]:tcp://127.0.0.1:35531 got new rank 3\n"
     ]
    },
    {
     "name": "stdout",
     "output_type": "stream",
     "text": [
      "3.7% complete | Training ['cat_1_target_sum'].\r"
     ]
    },
    {
     "name": "stderr",
     "output_type": "stream",
     "text": [
      "[20:03:42] task [xgboost.dask-0]:tcp://127.0.0.1:37821 got new rank 0\n",
      "[20:03:42] task [xgboost.dask-1]:tcp://127.0.0.1:41067 got new rank 1\n",
      "[20:03:42] task [xgboost.dask-2]:tcp://127.0.0.1:38045 got new rank 2\n",
      "[20:03:42] task [xgboost.dask-3]:tcp://127.0.0.1:35531 got new rank 3\n"
     ]
    },
    {
     "name": "stdout",
     "output_type": "stream",
     "text": [
      "3.99% complete | Training ['cat_1_count'].\r"
     ]
    },
    {
     "name": "stderr",
     "output_type": "stream",
     "text": [
      "[20:03:42] task [xgboost.dask-0]:tcp://127.0.0.1:37821 got new rank 0\n",
      "[20:03:42] task [xgboost.dask-1]:tcp://127.0.0.1:41067 got new rank 1\n",
      "[20:03:42] task [xgboost.dask-2]:tcp://127.0.0.1:38045 got new rank 2\n",
      "[20:03:42] task [xgboost.dask-3]:tcp://127.0.0.1:35531 got new rank 3\n"
     ]
    },
    {
     "name": "stdout",
     "output_type": "stream",
     "text": [
      "4.27% complete | Training ['cat_2_target_sum'].\r"
     ]
    },
    {
     "name": "stderr",
     "output_type": "stream",
     "text": [
      "[20:03:43] task [xgboost.dask-0]:tcp://127.0.0.1:37821 got new rank 0\n",
      "[20:03:43] task [xgboost.dask-1]:tcp://127.0.0.1:41067 got new rank 1\n",
      "[20:03:43] task [xgboost.dask-2]:tcp://127.0.0.1:38045 got new rank 2\n",
      "[20:03:43] task [xgboost.dask-3]:tcp://127.0.0.1:35531 got new rank 3\n"
     ]
    },
    {
     "name": "stdout",
     "output_type": "stream",
     "text": [
      "4.56% complete | Training ['cat_2_count'].\r"
     ]
    },
    {
     "name": "stderr",
     "output_type": "stream",
     "text": [
      "[20:03:43] task [xgboost.dask-0]:tcp://127.0.0.1:37821 got new rank 0\n",
      "[20:03:43] task [xgboost.dask-1]:tcp://127.0.0.1:41067 got new rank 1\n",
      "[20:03:43] task [xgboost.dask-2]:tcp://127.0.0.1:38045 got new rank 2\n",
      "[20:03:43] task [xgboost.dask-3]:tcp://127.0.0.1:35531 got new rank 3\n"
     ]
    },
    {
     "name": "stdout",
     "output_type": "stream",
     "text": [
      "4.84% complete | Training ['cat_3_target_sum'].\r"
     ]
    },
    {
     "name": "stderr",
     "output_type": "stream",
     "text": [
      "[20:03:44] task [xgboost.dask-0]:tcp://127.0.0.1:37821 got new rank 0\n",
      "[20:03:44] task [xgboost.dask-1]:tcp://127.0.0.1:41067 got new rank 1\n",
      "[20:03:44] task [xgboost.dask-2]:tcp://127.0.0.1:38045 got new rank 2\n",
      "[20:03:44] task [xgboost.dask-3]:tcp://127.0.0.1:35531 got new rank 3\n"
     ]
    },
    {
     "name": "stdout",
     "output_type": "stream",
     "text": [
      "5.13% complete | Training ['cat_3_count'].\r"
     ]
    },
    {
     "name": "stderr",
     "output_type": "stream",
     "text": [
      "[20:03:44] task [xgboost.dask-0]:tcp://127.0.0.1:37821 got new rank 0\n",
      "[20:03:44] task [xgboost.dask-1]:tcp://127.0.0.1:41067 got new rank 1\n",
      "[20:03:44] task [xgboost.dask-2]:tcp://127.0.0.1:38045 got new rank 2\n",
      "[20:03:44] task [xgboost.dask-3]:tcp://127.0.0.1:35531 got new rank 3\n"
     ]
    },
    {
     "name": "stdout",
     "output_type": "stream",
     "text": [
      "5.41% complete | Training ['TE_brand_target'].\r"
     ]
    },
    {
     "name": "stderr",
     "output_type": "stream",
     "text": [
      "[20:03:44] task [xgboost.dask-0]:tcp://127.0.0.1:37821 got new rank 0\n",
      "[20:03:44] task [xgboost.dask-1]:tcp://127.0.0.1:41067 got new rank 1\n",
      "[20:03:44] task [xgboost.dask-2]:tcp://127.0.0.1:38045 got new rank 2\n",
      "[20:03:44] task [xgboost.dask-3]:tcp://127.0.0.1:35531 got new rank 3\n"
     ]
    },
    {
     "name": "stdout",
     "output_type": "stream",
     "text": [
      "5.7% complete | Training ['TE_cat_0_target'].\r"
     ]
    },
    {
     "name": "stderr",
     "output_type": "stream",
     "text": [
      "[20:03:45] task [xgboost.dask-0]:tcp://127.0.0.1:37821 got new rank 0\n",
      "[20:03:45] task [xgboost.dask-1]:tcp://127.0.0.1:41067 got new rank 1\n",
      "[20:03:45] task [xgboost.dask-2]:tcp://127.0.0.1:38045 got new rank 2\n",
      "[20:03:45] task [xgboost.dask-3]:tcp://127.0.0.1:35531 got new rank 3\n"
     ]
    },
    {
     "name": "stdout",
     "output_type": "stream",
     "text": [
      "5.98% complete | Training ['TE_cat_1_target'].\r"
     ]
    },
    {
     "name": "stderr",
     "output_type": "stream",
     "text": [
      "[20:03:45] task [xgboost.dask-0]:tcp://127.0.0.1:37821 got new rank 0\n",
      "[20:03:45] task [xgboost.dask-1]:tcp://127.0.0.1:41067 got new rank 1\n",
      "[20:03:45] task [xgboost.dask-2]:tcp://127.0.0.1:38045 got new rank 2\n",
      "[20:03:45] task [xgboost.dask-3]:tcp://127.0.0.1:35531 got new rank 3\n"
     ]
    },
    {
     "name": "stdout",
     "output_type": "stream",
     "text": [
      "6.27% complete | Training ['TE_cat_2_target'].\r"
     ]
    },
    {
     "name": "stderr",
     "output_type": "stream",
     "text": [
      "[20:03:46] task [xgboost.dask-0]:tcp://127.0.0.1:37821 got new rank 0\n",
      "[20:03:46] task [xgboost.dask-1]:tcp://127.0.0.1:41067 got new rank 1\n",
      "[20:03:46] task [xgboost.dask-2]:tcp://127.0.0.1:38045 got new rank 2\n",
      "[20:03:46] task [xgboost.dask-3]:tcp://127.0.0.1:35531 got new rank 3\n"
     ]
    },
    {
     "name": "stdout",
     "output_type": "stream",
     "text": [
      "6.55% complete | Training ['TE_cat_3_target'].\r"
     ]
    },
    {
     "name": "stderr",
     "output_type": "stream",
     "text": [
      "[20:03:46] task [xgboost.dask-0]:tcp://127.0.0.1:37821 got new rank 0\n",
      "[20:03:46] task [xgboost.dask-1]:tcp://127.0.0.1:41067 got new rank 1\n",
      "[20:03:46] task [xgboost.dask-2]:tcp://127.0.0.1:38045 got new rank 2\n",
      "[20:03:46] task [xgboost.dask-3]:tcp://127.0.0.1:35531 got new rank 3\n"
     ]
    },
    {
     "name": "stdout",
     "output_type": "stream",
     "text": [
      "6.84% complete | Training ['relative_price_product'].\r"
     ]
    },
    {
     "name": "stderr",
     "output_type": "stream",
     "text": [
      "[20:03:46] task [xgboost.dask-0]:tcp://127.0.0.1:37821 got new rank 0\n",
      "[20:03:46] task [xgboost.dask-1]:tcp://127.0.0.1:41067 got new rank 1\n",
      "[20:03:46] task [xgboost.dask-2]:tcp://127.0.0.1:38045 got new rank 2\n",
      "[20:03:46] task [xgboost.dask-3]:tcp://127.0.0.1:35531 got new rank 3\n"
     ]
    },
    {
     "name": "stdout",
     "output_type": "stream",
     "text": [
      "7.12% complete | Training ['relative_price_category'].\r"
     ]
    },
    {
     "name": "stderr",
     "output_type": "stream",
     "text": [
      "[20:03:47] task [xgboost.dask-0]:tcp://127.0.0.1:37821 got new rank 0\n",
      "[20:03:47] task [xgboost.dask-1]:tcp://127.0.0.1:41067 got new rank 1\n",
      "[20:03:47] task [xgboost.dask-2]:tcp://127.0.0.1:38045 got new rank 2\n",
      "[20:03:47] task [xgboost.dask-3]:tcp://127.0.0.1:35531 got new rank 3\n"
     ]
    },
    {
     "name": "stdout",
     "output_type": "stream",
     "text": [
      "7.41% complete | Training ['TE_brand_target', 'cat_1'].\r"
     ]
    },
    {
     "name": "stderr",
     "output_type": "stream",
     "text": [
      "[20:03:48] task [xgboost.dask-0]:tcp://127.0.0.1:37821 got new rank 0\n",
      "[20:03:48] task [xgboost.dask-1]:tcp://127.0.0.1:41067 got new rank 1\n",
      "[20:03:48] task [xgboost.dask-2]:tcp://127.0.0.1:38045 got new rank 2\n",
      "[20:03:48] task [xgboost.dask-3]:tcp://127.0.0.1:35531 got new rank 3\n"
     ]
    },
    {
     "name": "stdout",
     "output_type": "stream",
     "text": [
      "7.69% complete | Training ['TE_brand_target', 'brand_count'].\r"
     ]
    },
    {
     "name": "stderr",
     "output_type": "stream",
     "text": [
      "[20:03:49] task [xgboost.dask-0]:tcp://127.0.0.1:37821 got new rank 0\n",
      "[20:03:49] task [xgboost.dask-1]:tcp://127.0.0.1:41067 got new rank 1\n",
      "[20:03:49] task [xgboost.dask-2]:tcp://127.0.0.1:38045 got new rank 2\n",
      "[20:03:49] task [xgboost.dask-3]:tcp://127.0.0.1:35531 got new rank 3\n"
     ]
    },
    {
     "name": "stdout",
     "output_type": "stream",
     "text": [
      "7.98% complete | Training ['TE_brand_target', 'ts_weekday'].\r"
     ]
    },
    {
     "name": "stderr",
     "output_type": "stream",
     "text": [
      "[20:03:49] task [xgboost.dask-0]:tcp://127.0.0.1:37821 got new rank 0\n",
      "[20:03:49] task [xgboost.dask-1]:tcp://127.0.0.1:41067 got new rank 1\n",
      "[20:03:49] task [xgboost.dask-2]:tcp://127.0.0.1:38045 got new rank 2\n",
      "[20:03:49] task [xgboost.dask-3]:tcp://127.0.0.1:35531 got new rank 3\n"
     ]
    },
    {
     "name": "stdout",
     "output_type": "stream",
     "text": [
      "8.26% complete | Training ['TE_brand_target', 'brand'].\r"
     ]
    },
    {
     "name": "stderr",
     "output_type": "stream",
     "text": [
      "[20:03:50] task [xgboost.dask-0]:tcp://127.0.0.1:37821 got new rank 0\n",
      "[20:03:50] task [xgboost.dask-1]:tcp://127.0.0.1:41067 got new rank 1\n",
      "[20:03:50] task [xgboost.dask-2]:tcp://127.0.0.1:38045 got new rank 2\n",
      "[20:03:50] task [xgboost.dask-3]:tcp://127.0.0.1:35531 got new rank 3\n"
     ]
    },
    {
     "name": "stdout",
     "output_type": "stream",
     "text": [
      "8.55% complete | Training ['TE_brand_target', 'TE_cat_0_target'].\r"
     ]
    },
    {
     "name": "stderr",
     "output_type": "stream",
     "text": [
      "[20:03:50] task [xgboost.dask-0]:tcp://127.0.0.1:37821 got new rank 0\n",
      "[20:03:50] task [xgboost.dask-1]:tcp://127.0.0.1:41067 got new rank 1\n",
      "[20:03:50] task [xgboost.dask-2]:tcp://127.0.0.1:38045 got new rank 2\n",
      "[20:03:50] task [xgboost.dask-3]:tcp://127.0.0.1:35531 got new rank 3\n"
     ]
    },
    {
     "name": "stdout",
     "output_type": "stream",
     "text": [
      "8.83% complete | Training ['TE_brand_target', 'TE_cat_3_target'].\r"
     ]
    },
    {
     "name": "stderr",
     "output_type": "stream",
     "text": [
      "[20:03:51] task [xgboost.dask-0]:tcp://127.0.0.1:37821 got new rank 0\n",
      "[20:03:51] task [xgboost.dask-1]:tcp://127.0.0.1:41067 got new rank 1\n",
      "[20:03:51] task [xgboost.dask-2]:tcp://127.0.0.1:38045 got new rank 2\n",
      "[20:03:51] task [xgboost.dask-3]:tcp://127.0.0.1:35531 got new rank 3\n"
     ]
    },
    {
     "name": "stdout",
     "output_type": "stream",
     "text": [
      "9.12% complete | Training ['TE_brand_target', 'ts_hour'].\r"
     ]
    },
    {
     "name": "stderr",
     "output_type": "stream",
     "text": [
      "[20:03:51] task [xgboost.dask-0]:tcp://127.0.0.1:37821 got new rank 0\n",
      "[20:03:51] task [xgboost.dask-1]:tcp://127.0.0.1:41067 got new rank 1\n",
      "[20:03:51] task [xgboost.dask-2]:tcp://127.0.0.1:38045 got new rank 2\n",
      "[20:03:51] task [xgboost.dask-3]:tcp://127.0.0.1:35531 got new rank 3\n"
     ]
    },
    {
     "name": "stdout",
     "output_type": "stream",
     "text": [
      "9.4% complete | Training ['TE_brand_target', 'cat_1_count'].\r"
     ]
    },
    {
     "name": "stderr",
     "output_type": "stream",
     "text": [
      "[20:03:52] task [xgboost.dask-0]:tcp://127.0.0.1:37821 got new rank 0\n",
      "[20:03:52] task [xgboost.dask-1]:tcp://127.0.0.1:41067 got new rank 1\n",
      "[20:03:52] task [xgboost.dask-2]:tcp://127.0.0.1:38045 got new rank 2\n",
      "[20:03:52] task [xgboost.dask-3]:tcp://127.0.0.1:35531 got new rank 3\n"
     ]
    },
    {
     "name": "stdout",
     "output_type": "stream",
     "text": [
      "9.69% complete | Training ['TE_brand_target', 'TE_cat_2_target'].\r"
     ]
    },
    {
     "name": "stderr",
     "output_type": "stream",
     "text": [
      "[20:03:53] task [xgboost.dask-0]:tcp://127.0.0.1:37821 got new rank 0\n",
      "[20:03:53] task [xgboost.dask-1]:tcp://127.0.0.1:41067 got new rank 1\n",
      "[20:03:53] task [xgboost.dask-2]:tcp://127.0.0.1:38045 got new rank 2\n",
      "[20:03:53] task [xgboost.dask-3]:tcp://127.0.0.1:35531 got new rank 3\n"
     ]
    },
    {
     "name": "stdout",
     "output_type": "stream",
     "text": [
      "9.97% complete | Training ['TE_brand_target', 'cat_3_count'].\r"
     ]
    },
    {
     "name": "stderr",
     "output_type": "stream",
     "text": [
      "[20:03:53] task [xgboost.dask-0]:tcp://127.0.0.1:37821 got new rank 0\n",
      "[20:03:53] task [xgboost.dask-1]:tcp://127.0.0.1:41067 got new rank 1\n",
      "[20:03:53] task [xgboost.dask-2]:tcp://127.0.0.1:38045 got new rank 2\n",
      "[20:03:53] task [xgboost.dask-3]:tcp://127.0.0.1:35531 got new rank 3\n"
     ]
    },
    {
     "name": "stdout",
     "output_type": "stream",
     "text": [
      "10.26% complete | Training ['TE_brand_target', 'TE_cat_1_target'].\r"
     ]
    },
    {
     "name": "stderr",
     "output_type": "stream",
     "text": [
      "[20:03:54] task [xgboost.dask-0]:tcp://127.0.0.1:37821 got new rank 0\n",
      "[20:03:54] task [xgboost.dask-1]:tcp://127.0.0.1:41067 got new rank 1\n",
      "[20:03:54] task [xgboost.dask-2]:tcp://127.0.0.1:38045 got new rank 2\n",
      "[20:03:54] task [xgboost.dask-3]:tcp://127.0.0.1:35531 got new rank 3\n"
     ]
    },
    {
     "name": "stdout",
     "output_type": "stream",
     "text": [
      "10.54% complete | Training ['TE_brand_target', 'relative_price_category'].\r"
     ]
    },
    {
     "name": "stderr",
     "output_type": "stream",
     "text": [
      "[20:03:55] task [xgboost.dask-0]:tcp://127.0.0.1:37821 got new rank 0\n",
      "[20:03:55] task [xgboost.dask-1]:tcp://127.0.0.1:41067 got new rank 1\n",
      "[20:03:55] task [xgboost.dask-2]:tcp://127.0.0.1:38045 got new rank 2\n",
      "[20:03:55] task [xgboost.dask-3]:tcp://127.0.0.1:35531 got new rank 3\n"
     ]
    },
    {
     "name": "stdout",
     "output_type": "stream",
     "text": [
      "10.83% complete | Training ['TE_brand_target', 'brand_target_sum'].\r"
     ]
    },
    {
     "name": "stderr",
     "output_type": "stream",
     "text": [
      "[20:03:56] task [xgboost.dask-0]:tcp://127.0.0.1:37821 got new rank 0\n",
      "[20:03:56] task [xgboost.dask-1]:tcp://127.0.0.1:41067 got new rank 1\n",
      "[20:03:56] task [xgboost.dask-2]:tcp://127.0.0.1:38045 got new rank 2\n",
      "[20:03:56] task [xgboost.dask-3]:tcp://127.0.0.1:35531 got new rank 3\n"
     ]
    },
    {
     "name": "stdout",
     "output_type": "stream",
     "text": [
      "11.11% complete | Training ['TE_brand_target', 'cat_2'].\r"
     ]
    },
    {
     "name": "stderr",
     "output_type": "stream",
     "text": [
      "[20:03:57] task [xgboost.dask-0]:tcp://127.0.0.1:37821 got new rank 0\n",
      "[20:03:57] task [xgboost.dask-1]:tcp://127.0.0.1:41067 got new rank 1\n",
      "[20:03:57] task [xgboost.dask-2]:tcp://127.0.0.1:38045 got new rank 2\n",
      "[20:03:57] task [xgboost.dask-3]:tcp://127.0.0.1:35531 got new rank 3\n"
     ]
    },
    {
     "name": "stdout",
     "output_type": "stream",
     "text": [
      "11.4% complete | Training ['TE_brand_target', 'cat_2_count'].\r"
     ]
    },
    {
     "name": "stderr",
     "output_type": "stream",
     "text": [
      "[20:03:57] task [xgboost.dask-0]:tcp://127.0.0.1:37821 got new rank 0\n",
      "[20:03:57] task [xgboost.dask-1]:tcp://127.0.0.1:41067 got new rank 1\n",
      "[20:03:57] task [xgboost.dask-2]:tcp://127.0.0.1:38045 got new rank 2\n",
      "[20:03:57] task [xgboost.dask-3]:tcp://127.0.0.1:35531 got new rank 3\n"
     ]
    },
    {
     "name": "stdout",
     "output_type": "stream",
     "text": [
      "11.68% complete | Training ['TE_brand_target', 'cat_2_target_sum'].\r"
     ]
    },
    {
     "name": "stderr",
     "output_type": "stream",
     "text": [
      "[20:03:58] task [xgboost.dask-0]:tcp://127.0.0.1:37821 got new rank 0\n",
      "[20:03:58] task [xgboost.dask-1]:tcp://127.0.0.1:41067 got new rank 1\n",
      "[20:03:58] task [xgboost.dask-2]:tcp://127.0.0.1:38045 got new rank 2\n",
      "[20:03:58] task [xgboost.dask-3]:tcp://127.0.0.1:35531 got new rank 3\n"
     ]
    },
    {
     "name": "stdout",
     "output_type": "stream",
     "text": [
      "11.97% complete | Training ['TE_brand_target', 'cat_0_target_sum'].\r"
     ]
    },
    {
     "name": "stderr",
     "output_type": "stream",
     "text": [
      "[20:03:58] task [xgboost.dask-0]:tcp://127.0.0.1:37821 got new rank 0\n",
      "[20:03:58] task [xgboost.dask-1]:tcp://127.0.0.1:41067 got new rank 1\n",
      "[20:03:58] task [xgboost.dask-2]:tcp://127.0.0.1:38045 got new rank 2\n",
      "[20:03:58] task [xgboost.dask-3]:tcp://127.0.0.1:35531 got new rank 3\n"
     ]
    },
    {
     "name": "stdout",
     "output_type": "stream",
     "text": [
      "12.25% complete | Training ['TE_brand_target', 'price'].\r"
     ]
    },
    {
     "name": "stderr",
     "output_type": "stream",
     "text": [
      "[20:03:59] task [xgboost.dask-0]:tcp://127.0.0.1:37821 got new rank 0\n",
      "[20:03:59] task [xgboost.dask-1]:tcp://127.0.0.1:41067 got new rank 1\n",
      "[20:03:59] task [xgboost.dask-2]:tcp://127.0.0.1:38045 got new rank 2\n",
      "[20:03:59] task [xgboost.dask-3]:tcp://127.0.0.1:35531 got new rank 3\n"
     ]
    },
    {
     "name": "stdout",
     "output_type": "stream",
     "text": [
      "12.54% complete | Training ['TE_brand_target', 'cat_3_target_sum'].\r"
     ]
    },
    {
     "name": "stderr",
     "output_type": "stream",
     "text": [
      "[20:04:00] task [xgboost.dask-0]:tcp://127.0.0.1:37821 got new rank 0\n",
      "[20:04:00] task [xgboost.dask-1]:tcp://127.0.0.1:41067 got new rank 1\n",
      "[20:04:00] task [xgboost.dask-2]:tcp://127.0.0.1:38045 got new rank 2\n",
      "[20:04:00] task [xgboost.dask-3]:tcp://127.0.0.1:35531 got new rank 3\n"
     ]
    },
    {
     "name": "stdout",
     "output_type": "stream",
     "text": [
      "12.82% complete | Training ['TE_brand_target', 'ts_minute'].\r"
     ]
    },
    {
     "name": "stderr",
     "output_type": "stream",
     "text": [
      "[20:04:01] task [xgboost.dask-0]:tcp://127.0.0.1:37821 got new rank 0\n",
      "[20:04:01] task [xgboost.dask-1]:tcp://127.0.0.1:41067 got new rank 1\n",
      "[20:04:01] task [xgboost.dask-2]:tcp://127.0.0.1:38045 got new rank 2\n",
      "[20:04:01] task [xgboost.dask-3]:tcp://127.0.0.1:35531 got new rank 3\n"
     ]
    },
    {
     "name": "stdout",
     "output_type": "stream",
     "text": [
      "13.11% complete | Training ['TE_brand_target', 'cat_0'].\r"
     ]
    },
    {
     "name": "stderr",
     "output_type": "stream",
     "text": [
      "[20:04:01] task [xgboost.dask-0]:tcp://127.0.0.1:37821 got new rank 0\n",
      "[20:04:01] task [xgboost.dask-1]:tcp://127.0.0.1:41067 got new rank 1\n",
      "[20:04:01] task [xgboost.dask-2]:tcp://127.0.0.1:38045 got new rank 2\n",
      "[20:04:01] task [xgboost.dask-3]:tcp://127.0.0.1:35531 got new rank 3\n"
     ]
    },
    {
     "name": "stdout",
     "output_type": "stream",
     "text": [
      "13.39% complete | Training ['TE_brand_target', 'cat_1_target_sum'].\r"
     ]
    },
    {
     "name": "stderr",
     "output_type": "stream",
     "text": [
      "[20:04:02] task [xgboost.dask-0]:tcp://127.0.0.1:37821 got new rank 0\n",
      "[20:04:02] task [xgboost.dask-1]:tcp://127.0.0.1:41067 got new rank 1\n",
      "[20:04:02] task [xgboost.dask-2]:tcp://127.0.0.1:38045 got new rank 2\n",
      "[20:04:02] task [xgboost.dask-3]:tcp://127.0.0.1:35531 got new rank 3\n"
     ]
    },
    {
     "name": "stdout",
     "output_type": "stream",
     "text": [
      "13.68% complete | Training ['TE_brand_target', 'cat_0_count'].\r"
     ]
    },
    {
     "name": "stderr",
     "output_type": "stream",
     "text": [
      "[20:04:03] task [xgboost.dask-0]:tcp://127.0.0.1:37821 got new rank 0\n",
      "[20:04:03] task [xgboost.dask-1]:tcp://127.0.0.1:41067 got new rank 1\n",
      "[20:04:03] task [xgboost.dask-2]:tcp://127.0.0.1:38045 got new rank 2\n",
      "[20:04:03] task [xgboost.dask-3]:tcp://127.0.0.1:35531 got new rank 3\n"
     ]
    },
    {
     "name": "stdout",
     "output_type": "stream",
     "text": [
      "13.96% complete | Training ['TE_brand_target', 'relative_price_product'].\r"
     ]
    },
    {
     "name": "stderr",
     "output_type": "stream",
     "text": [
      "[20:04:03] task [xgboost.dask-0]:tcp://127.0.0.1:37821 got new rank 0\n",
      "[20:04:03] task [xgboost.dask-1]:tcp://127.0.0.1:41067 got new rank 1\n",
      "[20:04:03] task [xgboost.dask-2]:tcp://127.0.0.1:38045 got new rank 2\n",
      "[20:04:03] task [xgboost.dask-3]:tcp://127.0.0.1:35531 got new rank 3\n"
     ]
    },
    {
     "name": "stdout",
     "output_type": "stream",
     "text": [
      "14.25% complete | Training ['TE_brand_target', 'cat_3'].\r"
     ]
    },
    {
     "name": "stderr",
     "output_type": "stream",
     "text": [
      "[20:04:04] task [xgboost.dask-0]:tcp://127.0.0.1:37821 got new rank 0\n",
      "[20:04:04] task [xgboost.dask-1]:tcp://127.0.0.1:41067 got new rank 1\n",
      "[20:04:04] task [xgboost.dask-2]:tcp://127.0.0.1:38045 got new rank 2\n",
      "[20:04:04] task [xgboost.dask-3]:tcp://127.0.0.1:35531 got new rank 3\n"
     ]
    },
    {
     "name": "stdout",
     "output_type": "stream",
     "text": [
      "14.53% complete | Training ['TE_brand_target', 'price', 'cat_1'].\r"
     ]
    },
    {
     "name": "stderr",
     "output_type": "stream",
     "text": [
      "[20:04:05] task [xgboost.dask-0]:tcp://127.0.0.1:37821 got new rank 0\n",
      "[20:04:05] task [xgboost.dask-1]:tcp://127.0.0.1:41067 got new rank 1\n",
      "[20:04:05] task [xgboost.dask-2]:tcp://127.0.0.1:38045 got new rank 2\n",
      "[20:04:05] task [xgboost.dask-3]:tcp://127.0.0.1:35531 got new rank 3\n"
     ]
    },
    {
     "name": "stdout",
     "output_type": "stream",
     "text": [
      "14.81% complete | Training ['TE_brand_target', 'price', 'brand_count'].\r"
     ]
    },
    {
     "name": "stderr",
     "output_type": "stream",
     "text": [
      "[20:04:06] task [xgboost.dask-0]:tcp://127.0.0.1:37821 got new rank 0\n",
      "[20:04:06] task [xgboost.dask-1]:tcp://127.0.0.1:41067 got new rank 1\n",
      "[20:04:06] task [xgboost.dask-2]:tcp://127.0.0.1:38045 got new rank 2\n",
      "[20:04:06] task [xgboost.dask-3]:tcp://127.0.0.1:35531 got new rank 3\n"
     ]
    },
    {
     "name": "stdout",
     "output_type": "stream",
     "text": [
      "15.1% complete | Training ['TE_brand_target', 'price', 'ts_weekday'].\r"
     ]
    },
    {
     "name": "stderr",
     "output_type": "stream",
     "text": [
      "[20:04:08] task [xgboost.dask-0]:tcp://127.0.0.1:37821 got new rank 0\n",
      "[20:04:08] task [xgboost.dask-1]:tcp://127.0.0.1:41067 got new rank 1\n",
      "[20:04:08] task [xgboost.dask-2]:tcp://127.0.0.1:38045 got new rank 2\n",
      "[20:04:08] task [xgboost.dask-3]:tcp://127.0.0.1:35531 got new rank 3\n"
     ]
    },
    {
     "name": "stdout",
     "output_type": "stream",
     "text": [
      "15.38% complete | Training ['TE_brand_target', 'price', 'brand'].\r"
     ]
    },
    {
     "name": "stderr",
     "output_type": "stream",
     "text": [
      "[20:04:10] task [xgboost.dask-0]:tcp://127.0.0.1:37821 got new rank 0\n",
      "[20:04:10] task [xgboost.dask-1]:tcp://127.0.0.1:41067 got new rank 1\n",
      "[20:04:10] task [xgboost.dask-2]:tcp://127.0.0.1:38045 got new rank 2\n",
      "[20:04:10] task [xgboost.dask-3]:tcp://127.0.0.1:35531 got new rank 3\n"
     ]
    },
    {
     "name": "stdout",
     "output_type": "stream",
     "text": [
      "15.67% complete | Training ['TE_brand_target', 'price', 'TE_cat_0_target'].\r"
     ]
    },
    {
     "name": "stderr",
     "output_type": "stream",
     "text": [
      "[20:04:12] task [xgboost.dask-0]:tcp://127.0.0.1:37821 got new rank 0\n",
      "[20:04:12] task [xgboost.dask-1]:tcp://127.0.0.1:41067 got new rank 1\n",
      "[20:04:12] task [xgboost.dask-2]:tcp://127.0.0.1:38045 got new rank 2\n",
      "[20:04:12] task [xgboost.dask-3]:tcp://127.0.0.1:35531 got new rank 3\n"
     ]
    },
    {
     "name": "stdout",
     "output_type": "stream",
     "text": [
      "15.95% complete | Training ['TE_brand_target', 'price', 'TE_cat_3_target'].\r"
     ]
    },
    {
     "name": "stderr",
     "output_type": "stream",
     "text": [
      "[20:04:14] task [xgboost.dask-0]:tcp://127.0.0.1:37821 got new rank 0\n",
      "[20:04:14] task [xgboost.dask-1]:tcp://127.0.0.1:41067 got new rank 1\n",
      "[20:04:14] task [xgboost.dask-2]:tcp://127.0.0.1:38045 got new rank 2\n",
      "[20:04:14] task [xgboost.dask-3]:tcp://127.0.0.1:35531 got new rank 3\n"
     ]
    },
    {
     "name": "stdout",
     "output_type": "stream",
     "text": [
      "16.24% complete | Training ['TE_brand_target', 'price', 'ts_hour'].\r"
     ]
    },
    {
     "name": "stderr",
     "output_type": "stream",
     "text": [
      "[20:04:15] task [xgboost.dask-0]:tcp://127.0.0.1:37821 got new rank 0\n",
      "[20:04:15] task [xgboost.dask-1]:tcp://127.0.0.1:41067 got new rank 1\n",
      "[20:04:15] task [xgboost.dask-2]:tcp://127.0.0.1:38045 got new rank 2\n",
      "[20:04:15] task [xgboost.dask-3]:tcp://127.0.0.1:35531 got new rank 3\n"
     ]
    },
    {
     "name": "stdout",
     "output_type": "stream",
     "text": [
      "16.52% complete | Training ['TE_brand_target', 'price', 'cat_1_count'].\r"
     ]
    },
    {
     "name": "stderr",
     "output_type": "stream",
     "text": [
      "[20:04:18] task [xgboost.dask-0]:tcp://127.0.0.1:37821 got new rank 0\n",
      "[20:04:18] task [xgboost.dask-1]:tcp://127.0.0.1:41067 got new rank 1\n",
      "[20:04:18] task [xgboost.dask-2]:tcp://127.0.0.1:38045 got new rank 2\n",
      "[20:04:18] task [xgboost.dask-3]:tcp://127.0.0.1:35531 got new rank 3\n"
     ]
    },
    {
     "name": "stdout",
     "output_type": "stream",
     "text": [
      "16.81% complete | Training ['TE_brand_target', 'price', 'TE_cat_2_target'].\r"
     ]
    },
    {
     "name": "stderr",
     "output_type": "stream",
     "text": [
      "[20:04:20] task [xgboost.dask-0]:tcp://127.0.0.1:37821 got new rank 0\n",
      "[20:04:20] task [xgboost.dask-1]:tcp://127.0.0.1:41067 got new rank 1\n",
      "[20:04:20] task [xgboost.dask-2]:tcp://127.0.0.1:38045 got new rank 2\n",
      "[20:04:20] task [xgboost.dask-3]:tcp://127.0.0.1:35531 got new rank 3\n"
     ]
    },
    {
     "name": "stdout",
     "output_type": "stream",
     "text": [
      "17.09% complete | Training ['TE_brand_target', 'price', 'cat_3_count'].\r"
     ]
    },
    {
     "name": "stderr",
     "output_type": "stream",
     "text": [
      "[20:04:21] task [xgboost.dask-0]:tcp://127.0.0.1:37821 got new rank 0\n",
      "[20:04:21] task [xgboost.dask-1]:tcp://127.0.0.1:41067 got new rank 1\n",
      "[20:04:21] task [xgboost.dask-2]:tcp://127.0.0.1:38045 got new rank 2\n",
      "[20:04:21] task [xgboost.dask-3]:tcp://127.0.0.1:35531 got new rank 3\n"
     ]
    },
    {
     "name": "stdout",
     "output_type": "stream",
     "text": [
      "17.38% complete | Training ['TE_brand_target', 'price', 'TE_cat_1_target'].\r"
     ]
    },
    {
     "name": "stderr",
     "output_type": "stream",
     "text": [
      "[20:04:23] task [xgboost.dask-0]:tcp://127.0.0.1:37821 got new rank 0\n",
      "[20:04:23] task [xgboost.dask-1]:tcp://127.0.0.1:41067 got new rank 1\n",
      "[20:04:23] task [xgboost.dask-2]:tcp://127.0.0.1:38045 got new rank 2\n",
      "[20:04:23] task [xgboost.dask-3]:tcp://127.0.0.1:35531 got new rank 3\n"
     ]
    },
    {
     "name": "stdout",
     "output_type": "stream",
     "text": [
      "17.66% complete | Training ['TE_brand_target', 'price', 'relative_price_category'].\r"
     ]
    },
    {
     "name": "stderr",
     "output_type": "stream",
     "text": [
      "[20:04:24] task [xgboost.dask-0]:tcp://127.0.0.1:37821 got new rank 0\n",
      "[20:04:24] task [xgboost.dask-1]:tcp://127.0.0.1:41067 got new rank 1\n",
      "[20:04:24] task [xgboost.dask-2]:tcp://127.0.0.1:38045 got new rank 2\n",
      "[20:04:24] task [xgboost.dask-3]:tcp://127.0.0.1:35531 got new rank 3\n"
     ]
    },
    {
     "name": "stdout",
     "output_type": "stream",
     "text": [
      "17.95% complete | Training ['TE_brand_target', 'price', 'brand_target_sum'].\r"
     ]
    },
    {
     "name": "stderr",
     "output_type": "stream",
     "text": [
      "[20:04:26] task [xgboost.dask-0]:tcp://127.0.0.1:37821 got new rank 0\n",
      "[20:04:26] task [xgboost.dask-1]:tcp://127.0.0.1:41067 got new rank 1\n",
      "[20:04:26] task [xgboost.dask-2]:tcp://127.0.0.1:38045 got new rank 2\n",
      "[20:04:26] task [xgboost.dask-3]:tcp://127.0.0.1:35531 got new rank 3\n"
     ]
    },
    {
     "name": "stdout",
     "output_type": "stream",
     "text": [
      "18.23% complete | Training ['TE_brand_target', 'price', 'cat_2'].\r"
     ]
    },
    {
     "name": "stderr",
     "output_type": "stream",
     "text": [
      "[20:04:28] task [xgboost.dask-0]:tcp://127.0.0.1:37821 got new rank 0\n",
      "[20:04:28] task [xgboost.dask-1]:tcp://127.0.0.1:41067 got new rank 1\n",
      "[20:04:28] task [xgboost.dask-2]:tcp://127.0.0.1:38045 got new rank 2\n",
      "[20:04:28] task [xgboost.dask-3]:tcp://127.0.0.1:35531 got new rank 3\n"
     ]
    },
    {
     "name": "stdout",
     "output_type": "stream",
     "text": [
      "18.52% complete | Training ['TE_brand_target', 'price', 'cat_2_count'].\r"
     ]
    },
    {
     "name": "stderr",
     "output_type": "stream",
     "text": [
      "[20:04:30] task [xgboost.dask-0]:tcp://127.0.0.1:37821 got new rank 0\n",
      "[20:04:30] task [xgboost.dask-1]:tcp://127.0.0.1:41067 got new rank 1\n",
      "[20:04:30] task [xgboost.dask-2]:tcp://127.0.0.1:38045 got new rank 2\n",
      "[20:04:30] task [xgboost.dask-3]:tcp://127.0.0.1:35531 got new rank 3\n"
     ]
    },
    {
     "name": "stdout",
     "output_type": "stream",
     "text": [
      "18.8% complete | Training ['TE_brand_target', 'price', 'cat_2_target_sum'].\r"
     ]
    },
    {
     "name": "stderr",
     "output_type": "stream",
     "text": [
      "[20:04:31] task [xgboost.dask-0]:tcp://127.0.0.1:37821 got new rank 0\n",
      "[20:04:31] task [xgboost.dask-1]:tcp://127.0.0.1:41067 got new rank 1\n",
      "[20:04:31] task [xgboost.dask-2]:tcp://127.0.0.1:38045 got new rank 2\n",
      "[20:04:31] task [xgboost.dask-3]:tcp://127.0.0.1:35531 got new rank 3\n"
     ]
    },
    {
     "name": "stdout",
     "output_type": "stream",
     "text": [
      "19.09% complete | Training ['TE_brand_target', 'price', 'cat_0_target_sum'].\r"
     ]
    },
    {
     "name": "stderr",
     "output_type": "stream",
     "text": [
      "[20:04:33] task [xgboost.dask-0]:tcp://127.0.0.1:37821 got new rank 0\n",
      "[20:04:33] task [xgboost.dask-1]:tcp://127.0.0.1:41067 got new rank 1\n",
      "[20:04:33] task [xgboost.dask-2]:tcp://127.0.0.1:38045 got new rank 2\n",
      "[20:04:33] task [xgboost.dask-3]:tcp://127.0.0.1:35531 got new rank 3\n"
     ]
    },
    {
     "name": "stdout",
     "output_type": "stream",
     "text": [
      "19.37% complete | Training ['TE_brand_target', 'price', 'cat_3_target_sum'].\r"
     ]
    },
    {
     "name": "stderr",
     "output_type": "stream",
     "text": [
      "[20:04:35] task [xgboost.dask-0]:tcp://127.0.0.1:37821 got new rank 0\n",
      "[20:04:35] task [xgboost.dask-1]:tcp://127.0.0.1:41067 got new rank 1\n",
      "[20:04:35] task [xgboost.dask-2]:tcp://127.0.0.1:38045 got new rank 2\n",
      "[20:04:35] task [xgboost.dask-3]:tcp://127.0.0.1:35531 got new rank 3\n"
     ]
    },
    {
     "name": "stdout",
     "output_type": "stream",
     "text": [
      "19.66% complete | Training ['TE_brand_target', 'price', 'ts_minute'].\r"
     ]
    },
    {
     "name": "stderr",
     "output_type": "stream",
     "text": [
      "[20:04:36] task [xgboost.dask-0]:tcp://127.0.0.1:37821 got new rank 0\n",
      "[20:04:36] task [xgboost.dask-1]:tcp://127.0.0.1:41067 got new rank 1\n",
      "[20:04:36] task [xgboost.dask-2]:tcp://127.0.0.1:38045 got new rank 2\n",
      "[20:04:36] task [xgboost.dask-3]:tcp://127.0.0.1:35531 got new rank 3\n"
     ]
    },
    {
     "name": "stdout",
     "output_type": "stream",
     "text": [
      "19.94% complete | Training ['TE_brand_target', 'price', 'cat_0'].\r"
     ]
    },
    {
     "name": "stderr",
     "output_type": "stream",
     "text": [
      "[20:04:38] task [xgboost.dask-0]:tcp://127.0.0.1:37821 got new rank 0\n",
      "[20:04:38] task [xgboost.dask-1]:tcp://127.0.0.1:41067 got new rank 1\n",
      "[20:04:38] task [xgboost.dask-2]:tcp://127.0.0.1:38045 got new rank 2\n",
      "[20:04:38] task [xgboost.dask-3]:tcp://127.0.0.1:35531 got new rank 3\n"
     ]
    },
    {
     "name": "stdout",
     "output_type": "stream",
     "text": [
      "20.23% complete | Training ['TE_brand_target', 'price', 'cat_1_target_sum'].\r"
     ]
    },
    {
     "name": "stderr",
     "output_type": "stream",
     "text": [
      "[20:04:39] task [xgboost.dask-0]:tcp://127.0.0.1:37821 got new rank 0\n",
      "[20:04:39] task [xgboost.dask-1]:tcp://127.0.0.1:41067 got new rank 1\n",
      "[20:04:39] task [xgboost.dask-2]:tcp://127.0.0.1:38045 got new rank 2\n",
      "[20:04:39] task [xgboost.dask-3]:tcp://127.0.0.1:35531 got new rank 3\n"
     ]
    },
    {
     "name": "stdout",
     "output_type": "stream",
     "text": [
      "20.51% complete | Training ['TE_brand_target', 'price', 'cat_0_count'].\r"
     ]
    },
    {
     "name": "stderr",
     "output_type": "stream",
     "text": [
      "[20:04:41] task [xgboost.dask-0]:tcp://127.0.0.1:37821 got new rank 0\n",
      "[20:04:41] task [xgboost.dask-1]:tcp://127.0.0.1:41067 got new rank 1\n",
      "[20:04:41] task [xgboost.dask-2]:tcp://127.0.0.1:38045 got new rank 2\n",
      "[20:04:41] task [xgboost.dask-3]:tcp://127.0.0.1:35531 got new rank 3\n"
     ]
    },
    {
     "name": "stdout",
     "output_type": "stream",
     "text": [
      "20.8% complete | Training ['TE_brand_target', 'price', 'relative_price_product'].\r"
     ]
    },
    {
     "name": "stderr",
     "output_type": "stream",
     "text": [
      "[20:04:42] task [xgboost.dask-0]:tcp://127.0.0.1:37821 got new rank 0\n",
      "[20:04:42] task [xgboost.dask-1]:tcp://127.0.0.1:41067 got new rank 1\n",
      "[20:04:42] task [xgboost.dask-2]:tcp://127.0.0.1:38045 got new rank 2\n",
      "[20:04:42] task [xgboost.dask-3]:tcp://127.0.0.1:35531 got new rank 3\n"
     ]
    },
    {
     "name": "stdout",
     "output_type": "stream",
     "text": [
      "21.08% complete | Training ['TE_brand_target', 'price', 'cat_3'].\r"
     ]
    },
    {
     "name": "stderr",
     "output_type": "stream",
     "text": [
      "[20:04:45] task [xgboost.dask-0]:tcp://127.0.0.1:37821 got new rank 0\n",
      "[20:04:45] task [xgboost.dask-1]:tcp://127.0.0.1:41067 got new rank 1\n",
      "[20:04:45] task [xgboost.dask-2]:tcp://127.0.0.1:38045 got new rank 2\n",
      "[20:04:45] task [xgboost.dask-3]:tcp://127.0.0.1:35531 got new rank 3\n"
     ]
    },
    {
     "name": "stdout",
     "output_type": "stream",
     "text": [
      "21.37% complete | Training ['TE_brand_target', 'price', 'relative_price_product', 'cat_1'].\r"
     ]
    },
    {
     "name": "stderr",
     "output_type": "stream",
     "text": [
      "[20:04:46] task [xgboost.dask-0]:tcp://127.0.0.1:37821 got new rank 0\n",
      "[20:04:46] task [xgboost.dask-1]:tcp://127.0.0.1:41067 got new rank 1\n",
      "[20:04:46] task [xgboost.dask-2]:tcp://127.0.0.1:38045 got new rank 2\n",
      "[20:04:46] task [xgboost.dask-3]:tcp://127.0.0.1:35531 got new rank 3\n"
     ]
    },
    {
     "name": "stdout",
     "output_type": "stream",
     "text": [
      "21.65% complete | Training ['TE_brand_target', 'price', 'relative_price_product', 'brand_count'].\r"
     ]
    },
    {
     "name": "stderr",
     "output_type": "stream",
     "text": [
      "[20:04:49] task [xgboost.dask-0]:tcp://127.0.0.1:37821 got new rank 0\n",
      "[20:04:49] task [xgboost.dask-1]:tcp://127.0.0.1:41067 got new rank 1\n",
      "[20:04:49] task [xgboost.dask-2]:tcp://127.0.0.1:38045 got new rank 2\n",
      "[20:04:49] task [xgboost.dask-3]:tcp://127.0.0.1:35531 got new rank 3\n"
     ]
    },
    {
     "name": "stdout",
     "output_type": "stream",
     "text": [
      "21.94% complete | Training ['TE_brand_target', 'price', 'relative_price_product', 'ts_weekday'].\r"
     ]
    },
    {
     "name": "stderr",
     "output_type": "stream",
     "text": [
      "[20:04:51] task [xgboost.dask-0]:tcp://127.0.0.1:37821 got new rank 0\n",
      "[20:04:51] task [xgboost.dask-1]:tcp://127.0.0.1:41067 got new rank 1\n",
      "[20:04:51] task [xgboost.dask-2]:tcp://127.0.0.1:38045 got new rank 2\n",
      "[20:04:51] task [xgboost.dask-3]:tcp://127.0.0.1:35531 got new rank 3\n"
     ]
    },
    {
     "name": "stdout",
     "output_type": "stream",
     "text": [
      "22.22% complete | Training ['TE_brand_target', 'price', 'relative_price_product', 'brand'].\r"
     ]
    },
    {
     "name": "stderr",
     "output_type": "stream",
     "text": [
      "[20:04:53] task [xgboost.dask-0]:tcp://127.0.0.1:37821 got new rank 0\n",
      "[20:04:53] task [xgboost.dask-1]:tcp://127.0.0.1:41067 got new rank 1\n",
      "[20:04:53] task [xgboost.dask-2]:tcp://127.0.0.1:38045 got new rank 2\n",
      "[20:04:53] task [xgboost.dask-3]:tcp://127.0.0.1:35531 got new rank 3\n"
     ]
    },
    {
     "name": "stdout",
     "output_type": "stream",
     "text": [
      "22.51% complete | Training ['TE_brand_target', 'price', 'relative_price_product', 'TE_cat_0_target'].\r"
     ]
    },
    {
     "name": "stderr",
     "output_type": "stream",
     "text": [
      "[20:04:55] task [xgboost.dask-0]:tcp://127.0.0.1:37821 got new rank 0\n",
      "[20:04:55] task [xgboost.dask-1]:tcp://127.0.0.1:41067 got new rank 1\n",
      "[20:04:55] task [xgboost.dask-2]:tcp://127.0.0.1:38045 got new rank 2\n",
      "[20:04:55] task [xgboost.dask-3]:tcp://127.0.0.1:35531 got new rank 3\n"
     ]
    },
    {
     "name": "stdout",
     "output_type": "stream",
     "text": [
      "22.79% complete | Training ['TE_brand_target', 'price', 'relative_price_product', 'TE_cat_3_target'].\r"
     ]
    },
    {
     "name": "stderr",
     "output_type": "stream",
     "text": [
      "[20:04:57] task [xgboost.dask-0]:tcp://127.0.0.1:37821 got new rank 0\n",
      "[20:04:57] task [xgboost.dask-1]:tcp://127.0.0.1:41067 got new rank 1\n",
      "[20:04:57] task [xgboost.dask-2]:tcp://127.0.0.1:38045 got new rank 2\n",
      "[20:04:57] task [xgboost.dask-3]:tcp://127.0.0.1:35531 got new rank 3\n"
     ]
    },
    {
     "name": "stdout",
     "output_type": "stream",
     "text": [
      "23.08% complete | Training ['TE_brand_target', 'price', 'relative_price_product', 'ts_hour'].\r"
     ]
    },
    {
     "name": "stderr",
     "output_type": "stream",
     "text": [
      "[20:04:59] task [xgboost.dask-0]:tcp://127.0.0.1:37821 got new rank 0\n",
      "[20:04:59] task [xgboost.dask-1]:tcp://127.0.0.1:41067 got new rank 1\n",
      "[20:04:59] task [xgboost.dask-2]:tcp://127.0.0.1:38045 got new rank 2\n",
      "[20:04:59] task [xgboost.dask-3]:tcp://127.0.0.1:35531 got new rank 3\n"
     ]
    },
    {
     "name": "stdout",
     "output_type": "stream",
     "text": [
      "23.36% complete | Training ['TE_brand_target', 'price', 'relative_price_product', 'cat_1_count'].\r"
     ]
    },
    {
     "name": "stderr",
     "output_type": "stream",
     "text": [
      "[20:05:02] task [xgboost.dask-0]:tcp://127.0.0.1:37821 got new rank 0\n",
      "[20:05:02] task [xgboost.dask-1]:tcp://127.0.0.1:41067 got new rank 1\n",
      "[20:05:02] task [xgboost.dask-2]:tcp://127.0.0.1:38045 got new rank 2\n",
      "[20:05:02] task [xgboost.dask-3]:tcp://127.0.0.1:35531 got new rank 3\n"
     ]
    },
    {
     "name": "stdout",
     "output_type": "stream",
     "text": [
      "23.65% complete | Training ['TE_brand_target', 'price', 'relative_price_product', 'TE_cat_2_target'].\r"
     ]
    },
    {
     "name": "stderr",
     "output_type": "stream",
     "text": [
      "[20:05:04] task [xgboost.dask-0]:tcp://127.0.0.1:37821 got new rank 0\n",
      "[20:05:04] task [xgboost.dask-1]:tcp://127.0.0.1:41067 got new rank 1\n",
      "[20:05:04] task [xgboost.dask-2]:tcp://127.0.0.1:38045 got new rank 2\n",
      "[20:05:04] task [xgboost.dask-3]:tcp://127.0.0.1:35531 got new rank 3\n"
     ]
    },
    {
     "name": "stdout",
     "output_type": "stream",
     "text": [
      "23.93% complete | Training ['TE_brand_target', 'price', 'relative_price_product', 'cat_3_count'].\r"
     ]
    },
    {
     "name": "stderr",
     "output_type": "stream",
     "text": [
      "[20:05:06] task [xgboost.dask-0]:tcp://127.0.0.1:37821 got new rank 0\n",
      "[20:05:06] task [xgboost.dask-1]:tcp://127.0.0.1:41067 got new rank 1\n",
      "[20:05:06] task [xgboost.dask-2]:tcp://127.0.0.1:38045 got new rank 2\n",
      "[20:05:06] task [xgboost.dask-3]:tcp://127.0.0.1:35531 got new rank 3\n"
     ]
    },
    {
     "name": "stdout",
     "output_type": "stream",
     "text": [
      "24.22% complete | Training ['TE_brand_target', 'price', 'relative_price_product', 'TE_cat_1_target'].\r"
     ]
    },
    {
     "name": "stderr",
     "output_type": "stream",
     "text": [
      "[20:05:08] task [xgboost.dask-0]:tcp://127.0.0.1:37821 got new rank 0\n",
      "[20:05:08] task [xgboost.dask-1]:tcp://127.0.0.1:41067 got new rank 1\n",
      "[20:05:08] task [xgboost.dask-2]:tcp://127.0.0.1:38045 got new rank 2\n",
      "[20:05:08] task [xgboost.dask-3]:tcp://127.0.0.1:35531 got new rank 3\n"
     ]
    },
    {
     "name": "stdout",
     "output_type": "stream",
     "text": [
      "24.5% complete | Training ['TE_brand_target', 'price', 'relative_price_product', 'relative_price_category'].\r"
     ]
    },
    {
     "name": "stderr",
     "output_type": "stream",
     "text": [
      "[20:05:10] task [xgboost.dask-0]:tcp://127.0.0.1:37821 got new rank 0\n",
      "[20:05:10] task [xgboost.dask-1]:tcp://127.0.0.1:41067 got new rank 1\n",
      "[20:05:10] task [xgboost.dask-2]:tcp://127.0.0.1:38045 got new rank 2\n",
      "[20:05:10] task [xgboost.dask-3]:tcp://127.0.0.1:35531 got new rank 3\n"
     ]
    },
    {
     "name": "stdout",
     "output_type": "stream",
     "text": [
      "24.79% complete | Training ['TE_brand_target', 'price', 'relative_price_product', 'brand_target_sum'].\r"
     ]
    },
    {
     "name": "stderr",
     "output_type": "stream",
     "text": [
      "[20:05:12] task [xgboost.dask-0]:tcp://127.0.0.1:37821 got new rank 0\n",
      "[20:05:12] task [xgboost.dask-1]:tcp://127.0.0.1:41067 got new rank 1\n",
      "[20:05:12] task [xgboost.dask-2]:tcp://127.0.0.1:38045 got new rank 2\n",
      "[20:05:12] task [xgboost.dask-3]:tcp://127.0.0.1:35531 got new rank 3\n"
     ]
    },
    {
     "name": "stdout",
     "output_type": "stream",
     "text": [
      "25.07% complete | Training ['TE_brand_target', 'price', 'relative_price_product', 'cat_2'].\r"
     ]
    },
    {
     "name": "stderr",
     "output_type": "stream",
     "text": [
      "[20:05:15] task [xgboost.dask-0]:tcp://127.0.0.1:37821 got new rank 0\n",
      "[20:05:15] task [xgboost.dask-1]:tcp://127.0.0.1:41067 got new rank 1\n",
      "[20:05:15] task [xgboost.dask-2]:tcp://127.0.0.1:38045 got new rank 2\n",
      "[20:05:15] task [xgboost.dask-3]:tcp://127.0.0.1:35531 got new rank 3\n"
     ]
    },
    {
     "name": "stdout",
     "output_type": "stream",
     "text": [
      "25.36% complete | Training ['TE_brand_target', 'price', 'relative_price_product', 'cat_2_count'].\r"
     ]
    },
    {
     "name": "stderr",
     "output_type": "stream",
     "text": [
      "[20:05:17] task [xgboost.dask-0]:tcp://127.0.0.1:37821 got new rank 0\n",
      "[20:05:17] task [xgboost.dask-1]:tcp://127.0.0.1:41067 got new rank 1\n",
      "[20:05:17] task [xgboost.dask-2]:tcp://127.0.0.1:38045 got new rank 2\n",
      "[20:05:17] task [xgboost.dask-3]:tcp://127.0.0.1:35531 got new rank 3\n"
     ]
    },
    {
     "name": "stdout",
     "output_type": "stream",
     "text": [
      "25.64% complete | Training ['TE_brand_target', 'price', 'relative_price_product', 'cat_2_target_sum'].\r"
     ]
    },
    {
     "name": "stderr",
     "output_type": "stream",
     "text": [
      "[20:05:19] task [xgboost.dask-0]:tcp://127.0.0.1:37821 got new rank 0\n",
      "[20:05:19] task [xgboost.dask-1]:tcp://127.0.0.1:41067 got new rank 1\n",
      "[20:05:19] task [xgboost.dask-2]:tcp://127.0.0.1:38045 got new rank 2\n",
      "[20:05:19] task [xgboost.dask-3]:tcp://127.0.0.1:35531 got new rank 3\n"
     ]
    },
    {
     "name": "stdout",
     "output_type": "stream",
     "text": [
      "25.93% complete | Training ['TE_brand_target', 'price', 'relative_price_product', 'cat_0_target_sum'].\r"
     ]
    },
    {
     "name": "stderr",
     "output_type": "stream",
     "text": [
      "[20:05:21] task [xgboost.dask-0]:tcp://127.0.0.1:37821 got new rank 0\n",
      "[20:05:21] task [xgboost.dask-1]:tcp://127.0.0.1:41067 got new rank 1\n",
      "[20:05:21] task [xgboost.dask-2]:tcp://127.0.0.1:38045 got new rank 2\n",
      "[20:05:21] task [xgboost.dask-3]:tcp://127.0.0.1:35531 got new rank 3\n"
     ]
    },
    {
     "name": "stdout",
     "output_type": "stream",
     "text": [
      "26.21% complete | Training ['TE_brand_target', 'price', 'relative_price_product', 'cat_3_target_sum'].\r"
     ]
    },
    {
     "name": "stderr",
     "output_type": "stream",
     "text": [
      "[20:05:24] task [xgboost.dask-0]:tcp://127.0.0.1:37821 got new rank 0\n",
      "[20:05:24] task [xgboost.dask-1]:tcp://127.0.0.1:41067 got new rank 1\n",
      "[20:05:24] task [xgboost.dask-2]:tcp://127.0.0.1:38045 got new rank 2\n",
      "[20:05:24] task [xgboost.dask-3]:tcp://127.0.0.1:35531 got new rank 3\n"
     ]
    },
    {
     "name": "stdout",
     "output_type": "stream",
     "text": [
      "26.5% complete | Training ['TE_brand_target', 'price', 'relative_price_product', 'ts_minute'].\r"
     ]
    },
    {
     "name": "stderr",
     "output_type": "stream",
     "text": [
      "[20:05:26] task [xgboost.dask-0]:tcp://127.0.0.1:37821 got new rank 0\n",
      "[20:05:26] task [xgboost.dask-1]:tcp://127.0.0.1:41067 got new rank 1\n",
      "[20:05:26] task [xgboost.dask-2]:tcp://127.0.0.1:38045 got new rank 2\n",
      "[20:05:26] task [xgboost.dask-3]:tcp://127.0.0.1:35531 got new rank 3\n"
     ]
    },
    {
     "name": "stdout",
     "output_type": "stream",
     "text": [
      "26.78% complete | Training ['TE_brand_target', 'price', 'relative_price_product', 'cat_0'].\r"
     ]
    },
    {
     "name": "stderr",
     "output_type": "stream",
     "text": [
      "[20:05:28] task [xgboost.dask-0]:tcp://127.0.0.1:37821 got new rank 0\n",
      "[20:05:28] task [xgboost.dask-1]:tcp://127.0.0.1:41067 got new rank 1\n",
      "[20:05:28] task [xgboost.dask-2]:tcp://127.0.0.1:38045 got new rank 2\n",
      "[20:05:28] task [xgboost.dask-3]:tcp://127.0.0.1:35531 got new rank 3\n"
     ]
    },
    {
     "name": "stdout",
     "output_type": "stream",
     "text": [
      "27.07% complete | Training ['TE_brand_target', 'price', 'relative_price_product', 'cat_1_target_sum'].\r"
     ]
    },
    {
     "name": "stderr",
     "output_type": "stream",
     "text": [
      "[20:05:30] task [xgboost.dask-0]:tcp://127.0.0.1:37821 got new rank 0\n",
      "[20:05:30] task [xgboost.dask-1]:tcp://127.0.0.1:41067 got new rank 1\n",
      "[20:05:30] task [xgboost.dask-2]:tcp://127.0.0.1:38045 got new rank 2\n",
      "[20:05:30] task [xgboost.dask-3]:tcp://127.0.0.1:35531 got new rank 3\n"
     ]
    },
    {
     "name": "stdout",
     "output_type": "stream",
     "text": [
      "27.35% complete | Training ['TE_brand_target', 'price', 'relative_price_product', 'cat_0_count'].\r"
     ]
    },
    {
     "name": "stderr",
     "output_type": "stream",
     "text": [
      "[20:05:32] task [xgboost.dask-0]:tcp://127.0.0.1:37821 got new rank 0\n",
      "[20:05:32] task [xgboost.dask-1]:tcp://127.0.0.1:41067 got new rank 1\n",
      "[20:05:32] task [xgboost.dask-2]:tcp://127.0.0.1:38045 got new rank 2\n",
      "[20:05:32] task [xgboost.dask-3]:tcp://127.0.0.1:35531 got new rank 3\n"
     ]
    },
    {
     "name": "stdout",
     "output_type": "stream",
     "text": [
      "27.64% complete | Training ['TE_brand_target', 'price', 'relative_price_product', 'cat_3'].\r"
     ]
    },
    {
     "name": "stderr",
     "output_type": "stream",
     "text": [
      "[20:05:35] task [xgboost.dask-0]:tcp://127.0.0.1:37821 got new rank 0\n",
      "[20:05:35] task [xgboost.dask-1]:tcp://127.0.0.1:41067 got new rank 1\n",
      "[20:05:35] task [xgboost.dask-2]:tcp://127.0.0.1:38045 got new rank 2\n",
      "[20:05:35] task [xgboost.dask-3]:tcp://127.0.0.1:35531 got new rank 3\n"
     ]
    },
    {
     "name": "stdout",
     "output_type": "stream",
     "text": [
      "27.92% complete | Training ['TE_brand_target', 'price', 'relative_price_product', 'ts_hour', 'cat_1'].\r"
     ]
    },
    {
     "name": "stderr",
     "output_type": "stream",
     "text": [
      "[20:05:37] task [xgboost.dask-0]:tcp://127.0.0.1:37821 got new rank 0\n",
      "[20:05:37] task [xgboost.dask-1]:tcp://127.0.0.1:41067 got new rank 1\n",
      "[20:05:37] task [xgboost.dask-2]:tcp://127.0.0.1:38045 got new rank 2\n",
      "[20:05:37] task [xgboost.dask-3]:tcp://127.0.0.1:35531 got new rank 3\n"
     ]
    },
    {
     "name": "stdout",
     "output_type": "stream",
     "text": [
      "28.21% complete | Training ['TE_brand_target', 'price', 'relative_price_product', 'ts_hour', 'brand_count'].\r"
     ]
    },
    {
     "name": "stderr",
     "output_type": "stream",
     "text": [
      "[20:05:39] task [xgboost.dask-0]:tcp://127.0.0.1:37821 got new rank 0\n",
      "[20:05:39] task [xgboost.dask-1]:tcp://127.0.0.1:41067 got new rank 1\n",
      "[20:05:39] task [xgboost.dask-2]:tcp://127.0.0.1:38045 got new rank 2\n",
      "[20:05:39] task [xgboost.dask-3]:tcp://127.0.0.1:35531 got new rank 3\n"
     ]
    },
    {
     "name": "stdout",
     "output_type": "stream",
     "text": [
      "28.49% complete | Training ['TE_brand_target', 'price', 'relative_price_product', 'ts_hour', 'ts_weekday'].\r"
     ]
    },
    {
     "name": "stderr",
     "output_type": "stream",
     "text": [
      "[20:05:41] task [xgboost.dask-0]:tcp://127.0.0.1:37821 got new rank 0\n",
      "[20:05:41] task [xgboost.dask-1]:tcp://127.0.0.1:41067 got new rank 1\n",
      "[20:05:41] task [xgboost.dask-2]:tcp://127.0.0.1:38045 got new rank 2\n",
      "[20:05:41] task [xgboost.dask-3]:tcp://127.0.0.1:35531 got new rank 3\n"
     ]
    },
    {
     "name": "stdout",
     "output_type": "stream",
     "text": [
      "28.77% complete | Training ['TE_brand_target', 'price', 'relative_price_product', 'ts_hour', 'brand'].\r"
     ]
    },
    {
     "name": "stderr",
     "output_type": "stream",
     "text": [
      "[20:05:44] task [xgboost.dask-0]:tcp://127.0.0.1:37821 got new rank 0\n",
      "[20:05:44] task [xgboost.dask-1]:tcp://127.0.0.1:41067 got new rank 1\n",
      "[20:05:44] task [xgboost.dask-2]:tcp://127.0.0.1:38045 got new rank 2\n",
      "[20:05:44] task [xgboost.dask-3]:tcp://127.0.0.1:35531 got new rank 3\n"
     ]
    },
    {
     "name": "stdout",
     "output_type": "stream",
     "text": [
      "29.06% complete | Training ['TE_brand_target', 'price', 'relative_price_product', 'ts_hour', 'TE_cat_0_target'].\r"
     ]
    },
    {
     "name": "stderr",
     "output_type": "stream",
     "text": [
      "[20:05:46] task [xgboost.dask-0]:tcp://127.0.0.1:37821 got new rank 0\n",
      "[20:05:46] task [xgboost.dask-1]:tcp://127.0.0.1:41067 got new rank 1\n",
      "[20:05:46] task [xgboost.dask-2]:tcp://127.0.0.1:38045 got new rank 2\n",
      "[20:05:46] task [xgboost.dask-3]:tcp://127.0.0.1:35531 got new rank 3\n"
     ]
    },
    {
     "name": "stdout",
     "output_type": "stream",
     "text": [
      "29.34% complete | Training ['TE_brand_target', 'price', 'relative_price_product', 'ts_hour', 'TE_cat_3_target'].\r"
     ]
    },
    {
     "name": "stderr",
     "output_type": "stream",
     "text": [
      "[20:05:48] task [xgboost.dask-0]:tcp://127.0.0.1:37821 got new rank 0\n",
      "[20:05:48] task [xgboost.dask-1]:tcp://127.0.0.1:41067 got new rank 1\n",
      "[20:05:48] task [xgboost.dask-2]:tcp://127.0.0.1:38045 got new rank 2\n",
      "[20:05:48] task [xgboost.dask-3]:tcp://127.0.0.1:35531 got new rank 3\n"
     ]
    },
    {
     "name": "stdout",
     "output_type": "stream",
     "text": [
      "29.63% complete | Training ['TE_brand_target', 'price', 'relative_price_product', 'ts_hour', 'cat_1_count'].\r"
     ]
    },
    {
     "name": "stderr",
     "output_type": "stream",
     "text": [
      "[20:05:51] task [xgboost.dask-0]:tcp://127.0.0.1:37821 got new rank 0\n",
      "[20:05:51] task [xgboost.dask-1]:tcp://127.0.0.1:41067 got new rank 1\n",
      "[20:05:51] task [xgboost.dask-2]:tcp://127.0.0.1:38045 got new rank 2\n",
      "[20:05:51] task [xgboost.dask-3]:tcp://127.0.0.1:35531 got new rank 3\n"
     ]
    },
    {
     "name": "stdout",
     "output_type": "stream",
     "text": [
      "29.91% complete | Training ['TE_brand_target', 'price', 'relative_price_product', 'ts_hour', 'TE_cat_2_target'].\r"
     ]
    },
    {
     "name": "stderr",
     "output_type": "stream",
     "text": [
      "[20:05:53] task [xgboost.dask-0]:tcp://127.0.0.1:37821 got new rank 0\n",
      "[20:05:53] task [xgboost.dask-1]:tcp://127.0.0.1:41067 got new rank 1\n",
      "[20:05:53] task [xgboost.dask-2]:tcp://127.0.0.1:38045 got new rank 2\n",
      "[20:05:53] task [xgboost.dask-3]:tcp://127.0.0.1:35531 got new rank 3\n"
     ]
    },
    {
     "name": "stdout",
     "output_type": "stream",
     "text": [
      "30.2% complete | Training ['TE_brand_target', 'price', 'relative_price_product', 'ts_hour', 'cat_3_count'].\r"
     ]
    },
    {
     "name": "stderr",
     "output_type": "stream",
     "text": [
      "[20:05:55] task [xgboost.dask-0]:tcp://127.0.0.1:37821 got new rank 0\n",
      "[20:05:55] task [xgboost.dask-1]:tcp://127.0.0.1:41067 got new rank 1\n",
      "[20:05:55] task [xgboost.dask-2]:tcp://127.0.0.1:38045 got new rank 2\n",
      "[20:05:55] task [xgboost.dask-3]:tcp://127.0.0.1:35531 got new rank 3\n"
     ]
    },
    {
     "name": "stdout",
     "output_type": "stream",
     "text": [
      "30.48% complete | Training ['TE_brand_target', 'price', 'relative_price_product', 'ts_hour', 'TE_cat_1_target'].\r"
     ]
    },
    {
     "name": "stderr",
     "output_type": "stream",
     "text": [
      "[20:05:58] task [xgboost.dask-0]:tcp://127.0.0.1:37821 got new rank 0\n",
      "[20:05:58] task [xgboost.dask-1]:tcp://127.0.0.1:41067 got new rank 1\n",
      "[20:05:58] task [xgboost.dask-2]:tcp://127.0.0.1:38045 got new rank 2\n",
      "[20:05:58] task [xgboost.dask-3]:tcp://127.0.0.1:35531 got new rank 3\n"
     ]
    },
    {
     "name": "stdout",
     "output_type": "stream",
     "text": [
      "30.77% complete | Training ['TE_brand_target', 'price', 'relative_price_product', 'ts_hour', 'relative_price_category'].\r"
     ]
    },
    {
     "name": "stderr",
     "output_type": "stream",
     "text": [
      "[20:05:59] task [xgboost.dask-0]:tcp://127.0.0.1:37821 got new rank 0\n",
      "[20:05:59] task [xgboost.dask-1]:tcp://127.0.0.1:41067 got new rank 1\n",
      "[20:05:59] task [xgboost.dask-2]:tcp://127.0.0.1:38045 got new rank 2\n",
      "[20:05:59] task [xgboost.dask-3]:tcp://127.0.0.1:35531 got new rank 3\n"
     ]
    },
    {
     "name": "stdout",
     "output_type": "stream",
     "text": [
      "31.05% complete | Training ['TE_brand_target', 'price', 'relative_price_product', 'ts_hour', 'brand_target_sum'].\r"
     ]
    },
    {
     "name": "stderr",
     "output_type": "stream",
     "text": [
      "[20:06:02] task [xgboost.dask-0]:tcp://127.0.0.1:37821 got new rank 0\n",
      "[20:06:02] task [xgboost.dask-1]:tcp://127.0.0.1:41067 got new rank 1\n",
      "[20:06:02] task [xgboost.dask-2]:tcp://127.0.0.1:38045 got new rank 2\n",
      "[20:06:02] task [xgboost.dask-3]:tcp://127.0.0.1:35531 got new rank 3\n"
     ]
    },
    {
     "name": "stdout",
     "output_type": "stream",
     "text": [
      "31.34% complete | Training ['TE_brand_target', 'price', 'relative_price_product', 'ts_hour', 'cat_2'].\r"
     ]
    },
    {
     "name": "stderr",
     "output_type": "stream",
     "text": [
      "[20:06:04] task [xgboost.dask-0]:tcp://127.0.0.1:37821 got new rank 0\n",
      "[20:06:04] task [xgboost.dask-1]:tcp://127.0.0.1:41067 got new rank 1\n",
      "[20:06:04] task [xgboost.dask-2]:tcp://127.0.0.1:38045 got new rank 2\n",
      "[20:06:04] task [xgboost.dask-3]:tcp://127.0.0.1:35531 got new rank 3\n"
     ]
    },
    {
     "name": "stdout",
     "output_type": "stream",
     "text": [
      "31.62% complete | Training ['TE_brand_target', 'price', 'relative_price_product', 'ts_hour', 'cat_2_count'].\r"
     ]
    },
    {
     "name": "stderr",
     "output_type": "stream",
     "text": [
      "[20:06:06] task [xgboost.dask-0]:tcp://127.0.0.1:37821 got new rank 0\n",
      "[20:06:06] task [xgboost.dask-1]:tcp://127.0.0.1:41067 got new rank 1\n",
      "[20:06:06] task [xgboost.dask-2]:tcp://127.0.0.1:38045 got new rank 2\n",
      "[20:06:06] task [xgboost.dask-3]:tcp://127.0.0.1:35531 got new rank 3\n"
     ]
    },
    {
     "name": "stdout",
     "output_type": "stream",
     "text": [
      "31.91% complete | Training ['TE_brand_target', 'price', 'relative_price_product', 'ts_hour', 'cat_2_target_sum'].\r"
     ]
    },
    {
     "name": "stderr",
     "output_type": "stream",
     "text": [
      "[20:06:09] task [xgboost.dask-0]:tcp://127.0.0.1:37821 got new rank 0\n",
      "[20:06:09] task [xgboost.dask-1]:tcp://127.0.0.1:41067 got new rank 1\n",
      "[20:06:09] task [xgboost.dask-2]:tcp://127.0.0.1:38045 got new rank 2\n",
      "[20:06:09] task [xgboost.dask-3]:tcp://127.0.0.1:35531 got new rank 3\n"
     ]
    },
    {
     "name": "stdout",
     "output_type": "stream",
     "text": [
      "32.19% complete | Training ['TE_brand_target', 'price', 'relative_price_product', 'ts_hour', 'cat_0_target_sum'].\r"
     ]
    },
    {
     "name": "stderr",
     "output_type": "stream",
     "text": [
      "[20:06:11] task [xgboost.dask-0]:tcp://127.0.0.1:37821 got new rank 0\n",
      "[20:06:11] task [xgboost.dask-1]:tcp://127.0.0.1:41067 got new rank 1\n",
      "[20:06:11] task [xgboost.dask-2]:tcp://127.0.0.1:38045 got new rank 2\n",
      "[20:06:11] task [xgboost.dask-3]:tcp://127.0.0.1:35531 got new rank 3\n"
     ]
    },
    {
     "name": "stdout",
     "output_type": "stream",
     "text": [
      "32.48% complete | Training ['TE_brand_target', 'price', 'relative_price_product', 'ts_hour', 'cat_3_target_sum'].\r"
     ]
    },
    {
     "name": "stderr",
     "output_type": "stream",
     "text": [
      "[20:06:13] task [xgboost.dask-0]:tcp://127.0.0.1:37821 got new rank 0\n",
      "[20:06:13] task [xgboost.dask-1]:tcp://127.0.0.1:41067 got new rank 1\n",
      "[20:06:13] task [xgboost.dask-2]:tcp://127.0.0.1:38045 got new rank 2\n",
      "[20:06:13] task [xgboost.dask-3]:tcp://127.0.0.1:35531 got new rank 3\n"
     ]
    },
    {
     "name": "stdout",
     "output_type": "stream",
     "text": [
      "32.76% complete | Training ['TE_brand_target', 'price', 'relative_price_product', 'ts_hour', 'ts_minute'].\r"
     ]
    },
    {
     "name": "stderr",
     "output_type": "stream",
     "text": [
      "[20:06:15] task [xgboost.dask-0]:tcp://127.0.0.1:37821 got new rank 0\n",
      "[20:06:15] task [xgboost.dask-1]:tcp://127.0.0.1:41067 got new rank 1\n",
      "[20:06:15] task [xgboost.dask-2]:tcp://127.0.0.1:38045 got new rank 2\n",
      "[20:06:15] task [xgboost.dask-3]:tcp://127.0.0.1:35531 got new rank 3\n"
     ]
    },
    {
     "name": "stdout",
     "output_type": "stream",
     "text": [
      "33.05% complete | Training ['TE_brand_target', 'price', 'relative_price_product', 'ts_hour', 'cat_0'].\r"
     ]
    },
    {
     "name": "stderr",
     "output_type": "stream",
     "text": [
      "[20:06:18] task [xgboost.dask-0]:tcp://127.0.0.1:37821 got new rank 0\n",
      "[20:06:18] task [xgboost.dask-1]:tcp://127.0.0.1:41067 got new rank 1\n",
      "[20:06:18] task [xgboost.dask-2]:tcp://127.0.0.1:38045 got new rank 2\n",
      "[20:06:18] task [xgboost.dask-3]:tcp://127.0.0.1:35531 got new rank 3\n"
     ]
    },
    {
     "name": "stdout",
     "output_type": "stream",
     "text": [
      "33.33% complete | Training ['TE_brand_target', 'price', 'relative_price_product', 'ts_hour', 'cat_1_target_sum'].\r"
     ]
    },
    {
     "name": "stderr",
     "output_type": "stream",
     "text": [
      "[20:06:20] task [xgboost.dask-0]:tcp://127.0.0.1:37821 got new rank 0\n",
      "[20:06:20] task [xgboost.dask-1]:tcp://127.0.0.1:41067 got new rank 1\n",
      "[20:06:20] task [xgboost.dask-2]:tcp://127.0.0.1:38045 got new rank 2\n",
      "[20:06:20] task [xgboost.dask-3]:tcp://127.0.0.1:35531 got new rank 3\n"
     ]
    },
    {
     "name": "stdout",
     "output_type": "stream",
     "text": [
      "33.62% complete | Training ['TE_brand_target', 'price', 'relative_price_product', 'ts_hour', 'cat_0_count'].\r"
     ]
    },
    {
     "name": "stderr",
     "output_type": "stream",
     "text": [
      "[20:06:22] task [xgboost.dask-0]:tcp://127.0.0.1:37821 got new rank 0\n",
      "[20:06:22] task [xgboost.dask-1]:tcp://127.0.0.1:41067 got new rank 1\n",
      "[20:06:22] task [xgboost.dask-2]:tcp://127.0.0.1:38045 got new rank 2\n",
      "[20:06:22] task [xgboost.dask-3]:tcp://127.0.0.1:35531 got new rank 3\n"
     ]
    },
    {
     "name": "stdout",
     "output_type": "stream",
     "text": [
      "33.9% complete | Training ['TE_brand_target', 'price', 'relative_price_product', 'ts_hour', 'cat_3'].\r"
     ]
    },
    {
     "name": "stderr",
     "output_type": "stream",
     "text": [
      "[20:06:25] task [xgboost.dask-0]:tcp://127.0.0.1:37821 got new rank 0\n",
      "[20:06:25] task [xgboost.dask-1]:tcp://127.0.0.1:41067 got new rank 1\n",
      "[20:06:25] task [xgboost.dask-2]:tcp://127.0.0.1:38045 got new rank 2\n",
      "[20:06:25] task [xgboost.dask-3]:tcp://127.0.0.1:35531 got new rank 3\n"
     ]
    },
    {
     "name": "stdout",
     "output_type": "stream",
     "text": [
      "34.19% complete | Training ['TE_brand_target', 'price', 'relative_price_product', 'ts_hour', 'cat_2', 'cat_1'].\r"
     ]
    },
    {
     "name": "stderr",
     "output_type": "stream",
     "text": [
      "[20:06:27] task [xgboost.dask-0]:tcp://127.0.0.1:37821 got new rank 0\n",
      "[20:06:27] task [xgboost.dask-1]:tcp://127.0.0.1:41067 got new rank 1\n",
      "[20:06:27] task [xgboost.dask-2]:tcp://127.0.0.1:38045 got new rank 2\n",
      "[20:06:27] task [xgboost.dask-3]:tcp://127.0.0.1:35531 got new rank 3\n"
     ]
    },
    {
     "name": "stdout",
     "output_type": "stream",
     "text": [
      "34.47% complete | Training ['TE_brand_target', 'price', 'relative_price_product', 'ts_hour', 'cat_2', 'brand_count'].\r"
     ]
    },
    {
     "name": "stderr",
     "output_type": "stream",
     "text": [
      "[20:06:29] task [xgboost.dask-0]:tcp://127.0.0.1:37821 got new rank 0\n",
      "[20:06:29] task [xgboost.dask-1]:tcp://127.0.0.1:41067 got new rank 1\n",
      "[20:06:29] task [xgboost.dask-2]:tcp://127.0.0.1:38045 got new rank 2\n",
      "[20:06:29] task [xgboost.dask-3]:tcp://127.0.0.1:35531 got new rank 3\n"
     ]
    },
    {
     "name": "stdout",
     "output_type": "stream",
     "text": [
      "34.76% complete | Training ['TE_brand_target', 'price', 'relative_price_product', 'ts_hour', 'cat_2', 'ts_weekday'].\r"
     ]
    },
    {
     "name": "stderr",
     "output_type": "stream",
     "text": [
      "[20:06:32] task [xgboost.dask-0]:tcp://127.0.0.1:37821 got new rank 0\n",
      "[20:06:32] task [xgboost.dask-1]:tcp://127.0.0.1:41067 got new rank 1\n",
      "[20:06:32] task [xgboost.dask-2]:tcp://127.0.0.1:38045 got new rank 2\n",
      "[20:06:32] task [xgboost.dask-3]:tcp://127.0.0.1:35531 got new rank 3\n"
     ]
    },
    {
     "name": "stdout",
     "output_type": "stream",
     "text": [
      "35.04% complete | Training ['TE_brand_target', 'price', 'relative_price_product', 'ts_hour', 'cat_2', 'brand'].\r"
     ]
    },
    {
     "name": "stderr",
     "output_type": "stream",
     "text": [
      "[20:06:34] task [xgboost.dask-0]:tcp://127.0.0.1:37821 got new rank 0\n",
      "[20:06:34] task [xgboost.dask-1]:tcp://127.0.0.1:41067 got new rank 1\n",
      "[20:06:34] task [xgboost.dask-2]:tcp://127.0.0.1:38045 got new rank 2\n",
      "[20:06:34] task [xgboost.dask-3]:tcp://127.0.0.1:35531 got new rank 3\n"
     ]
    },
    {
     "name": "stdout",
     "output_type": "stream",
     "text": [
      "35.33% complete | Training ['TE_brand_target', 'price', 'relative_price_product', 'ts_hour', 'cat_2', 'TE_cat_0_target'].\r"
     ]
    },
    {
     "name": "stderr",
     "output_type": "stream",
     "text": [
      "[20:06:37] task [xgboost.dask-0]:tcp://127.0.0.1:37821 got new rank 0\n",
      "[20:06:37] task [xgboost.dask-1]:tcp://127.0.0.1:41067 got new rank 1\n",
      "[20:06:37] task [xgboost.dask-2]:tcp://127.0.0.1:38045 got new rank 2\n",
      "[20:06:37] task [xgboost.dask-3]:tcp://127.0.0.1:35531 got new rank 3\n"
     ]
    },
    {
     "name": "stdout",
     "output_type": "stream",
     "text": [
      "35.61% complete | Training ['TE_brand_target', 'price', 'relative_price_product', 'ts_hour', 'cat_2', 'TE_cat_3_target'].\r"
     ]
    },
    {
     "name": "stderr",
     "output_type": "stream",
     "text": [
      "[20:06:39] task [xgboost.dask-0]:tcp://127.0.0.1:37821 got new rank 0\n",
      "[20:06:39] task [xgboost.dask-1]:tcp://127.0.0.1:41067 got new rank 1\n",
      "[20:06:39] task [xgboost.dask-2]:tcp://127.0.0.1:38045 got new rank 2\n",
      "[20:06:39] task [xgboost.dask-3]:tcp://127.0.0.1:35531 got new rank 3\n"
     ]
    },
    {
     "name": "stdout",
     "output_type": "stream",
     "text": [
      "35.9% complete | Training ['TE_brand_target', 'price', 'relative_price_product', 'ts_hour', 'cat_2', 'cat_1_count'].\r"
     ]
    },
    {
     "name": "stderr",
     "output_type": "stream",
     "text": [
      "[20:06:41] task [xgboost.dask-0]:tcp://127.0.0.1:37821 got new rank 0\n",
      "[20:06:41] task [xgboost.dask-1]:tcp://127.0.0.1:41067 got new rank 1\n",
      "[20:06:41] task [xgboost.dask-2]:tcp://127.0.0.1:38045 got new rank 2\n",
      "[20:06:41] task [xgboost.dask-3]:tcp://127.0.0.1:35531 got new rank 3\n"
     ]
    },
    {
     "name": "stdout",
     "output_type": "stream",
     "text": [
      "36.18% complete | Training ['TE_brand_target', 'price', 'relative_price_product', 'ts_hour', 'cat_2', 'TE_cat_2_target'].\r"
     ]
    },
    {
     "name": "stderr",
     "output_type": "stream",
     "text": [
      "[20:06:44] task [xgboost.dask-0]:tcp://127.0.0.1:37821 got new rank 0\n",
      "[20:06:44] task [xgboost.dask-1]:tcp://127.0.0.1:41067 got new rank 1\n",
      "[20:06:44] task [xgboost.dask-2]:tcp://127.0.0.1:38045 got new rank 2\n",
      "[20:06:44] task [xgboost.dask-3]:tcp://127.0.0.1:35531 got new rank 3\n"
     ]
    },
    {
     "name": "stdout",
     "output_type": "stream",
     "text": [
      "36.47% complete | Training ['TE_brand_target', 'price', 'relative_price_product', 'ts_hour', 'cat_2', 'cat_3_count'].\r"
     ]
    },
    {
     "name": "stderr",
     "output_type": "stream",
     "text": [
      "[20:06:46] task [xgboost.dask-0]:tcp://127.0.0.1:37821 got new rank 0\n",
      "[20:06:46] task [xgboost.dask-1]:tcp://127.0.0.1:41067 got new rank 1\n",
      "[20:06:46] task [xgboost.dask-2]:tcp://127.0.0.1:38045 got new rank 2\n",
      "[20:06:46] task [xgboost.dask-3]:tcp://127.0.0.1:35531 got new rank 3\n"
     ]
    },
    {
     "name": "stdout",
     "output_type": "stream",
     "text": [
      "36.75% complete | Training ['TE_brand_target', 'price', 'relative_price_product', 'ts_hour', 'cat_2', 'TE_cat_1_target'].\r"
     ]
    },
    {
     "name": "stderr",
     "output_type": "stream",
     "text": [
      "[20:06:48] task [xgboost.dask-0]:tcp://127.0.0.1:37821 got new rank 0\n",
      "[20:06:48] task [xgboost.dask-1]:tcp://127.0.0.1:41067 got new rank 1\n",
      "[20:06:48] task [xgboost.dask-2]:tcp://127.0.0.1:38045 got new rank 2\n",
      "[20:06:48] task [xgboost.dask-3]:tcp://127.0.0.1:35531 got new rank 3\n"
     ]
    },
    {
     "name": "stdout",
     "output_type": "stream",
     "text": [
      "37.04% complete | Training ['TE_brand_target', 'price', 'relative_price_product', 'ts_hour', 'cat_2', 'relative_price_category'].\r"
     ]
    },
    {
     "name": "stderr",
     "output_type": "stream",
     "text": [
      "[20:06:51] task [xgboost.dask-0]:tcp://127.0.0.1:37821 got new rank 0\n",
      "[20:06:51] task [xgboost.dask-1]:tcp://127.0.0.1:41067 got new rank 1\n",
      "[20:06:51] task [xgboost.dask-2]:tcp://127.0.0.1:38045 got new rank 2\n",
      "[20:06:51] task [xgboost.dask-3]:tcp://127.0.0.1:35531 got new rank 3\n"
     ]
    },
    {
     "name": "stdout",
     "output_type": "stream",
     "text": [
      "37.32% complete | Training ['TE_brand_target', 'price', 'relative_price_product', 'ts_hour', 'cat_2', 'brand_target_sum'].\r"
     ]
    },
    {
     "name": "stderr",
     "output_type": "stream",
     "text": [
      "[20:06:53] task [xgboost.dask-0]:tcp://127.0.0.1:37821 got new rank 0\n",
      "[20:06:53] task [xgboost.dask-1]:tcp://127.0.0.1:41067 got new rank 1\n",
      "[20:06:53] task [xgboost.dask-2]:tcp://127.0.0.1:38045 got new rank 2\n",
      "[20:06:53] task [xgboost.dask-3]:tcp://127.0.0.1:35531 got new rank 3\n"
     ]
    },
    {
     "name": "stdout",
     "output_type": "stream",
     "text": [
      "37.61% complete | Training ['TE_brand_target', 'price', 'relative_price_product', 'ts_hour', 'cat_2', 'cat_2_count'].\r"
     ]
    },
    {
     "name": "stderr",
     "output_type": "stream",
     "text": [
      "[20:06:56] task [xgboost.dask-0]:tcp://127.0.0.1:37821 got new rank 0\n",
      "[20:06:56] task [xgboost.dask-1]:tcp://127.0.0.1:41067 got new rank 1\n",
      "[20:06:56] task [xgboost.dask-2]:tcp://127.0.0.1:38045 got new rank 2\n",
      "[20:06:56] task [xgboost.dask-3]:tcp://127.0.0.1:35531 got new rank 3\n"
     ]
    },
    {
     "name": "stdout",
     "output_type": "stream",
     "text": [
      "37.89% complete | Training ['TE_brand_target', 'price', 'relative_price_product', 'ts_hour', 'cat_2', 'cat_2_target_sum'].\r"
     ]
    },
    {
     "name": "stderr",
     "output_type": "stream",
     "text": [
      "[20:06:58] task [xgboost.dask-0]:tcp://127.0.0.1:37821 got new rank 0\n",
      "[20:06:58] task [xgboost.dask-1]:tcp://127.0.0.1:41067 got new rank 1\n",
      "[20:06:58] task [xgboost.dask-2]:tcp://127.0.0.1:38045 got new rank 2\n",
      "[20:06:58] task [xgboost.dask-3]:tcp://127.0.0.1:35531 got new rank 3\n"
     ]
    },
    {
     "name": "stdout",
     "output_type": "stream",
     "text": [
      "38.18% complete | Training ['TE_brand_target', 'price', 'relative_price_product', 'ts_hour', 'cat_2', 'cat_0_target_sum'].\r"
     ]
    },
    {
     "name": "stderr",
     "output_type": "stream",
     "text": [
      "[20:07:00] task [xgboost.dask-0]:tcp://127.0.0.1:37821 got new rank 0\n",
      "[20:07:00] task [xgboost.dask-1]:tcp://127.0.0.1:41067 got new rank 1\n",
      "[20:07:00] task [xgboost.dask-2]:tcp://127.0.0.1:38045 got new rank 2\n",
      "[20:07:00] task [xgboost.dask-3]:tcp://127.0.0.1:35531 got new rank 3\n"
     ]
    },
    {
     "name": "stdout",
     "output_type": "stream",
     "text": [
      "38.46% complete | Training ['TE_brand_target', 'price', 'relative_price_product', 'ts_hour', 'cat_2', 'cat_3_target_sum'].\r"
     ]
    },
    {
     "name": "stderr",
     "output_type": "stream",
     "text": [
      "[20:07:03] task [xgboost.dask-0]:tcp://127.0.0.1:37821 got new rank 0\n",
      "[20:07:03] task [xgboost.dask-1]:tcp://127.0.0.1:41067 got new rank 1\n",
      "[20:07:03] task [xgboost.dask-2]:tcp://127.0.0.1:38045 got new rank 2\n",
      "[20:07:03] task [xgboost.dask-3]:tcp://127.0.0.1:35531 got new rank 3\n"
     ]
    },
    {
     "name": "stdout",
     "output_type": "stream",
     "text": [
      "38.75% complete | Training ['TE_brand_target', 'price', 'relative_price_product', 'ts_hour', 'cat_2', 'ts_minute'].\r"
     ]
    },
    {
     "name": "stderr",
     "output_type": "stream",
     "text": [
      "[20:07:05] task [xgboost.dask-0]:tcp://127.0.0.1:37821 got new rank 0\n",
      "[20:07:05] task [xgboost.dask-1]:tcp://127.0.0.1:41067 got new rank 1\n",
      "[20:07:05] task [xgboost.dask-2]:tcp://127.0.0.1:38045 got new rank 2\n",
      "[20:07:05] task [xgboost.dask-3]:tcp://127.0.0.1:35531 got new rank 3\n"
     ]
    },
    {
     "name": "stdout",
     "output_type": "stream",
     "text": [
      "39.03% complete | Training ['TE_brand_target', 'price', 'relative_price_product', 'ts_hour', 'cat_2', 'cat_0'].\r"
     ]
    },
    {
     "name": "stderr",
     "output_type": "stream",
     "text": [
      "[20:07:07] task [xgboost.dask-0]:tcp://127.0.0.1:37821 got new rank 0\n",
      "[20:07:07] task [xgboost.dask-1]:tcp://127.0.0.1:41067 got new rank 1\n",
      "[20:07:07] task [xgboost.dask-2]:tcp://127.0.0.1:38045 got new rank 2\n",
      "[20:07:07] task [xgboost.dask-3]:tcp://127.0.0.1:35531 got new rank 3\n"
     ]
    },
    {
     "name": "stdout",
     "output_type": "stream",
     "text": [
      "39.32% complete | Training ['TE_brand_target', 'price', 'relative_price_product', 'ts_hour', 'cat_2', 'cat_1_target_sum'].\r"
     ]
    },
    {
     "name": "stderr",
     "output_type": "stream",
     "text": [
      "[20:07:10] task [xgboost.dask-0]:tcp://127.0.0.1:37821 got new rank 0\n",
      "[20:07:10] task [xgboost.dask-1]:tcp://127.0.0.1:41067 got new rank 1\n",
      "[20:07:10] task [xgboost.dask-2]:tcp://127.0.0.1:38045 got new rank 2\n",
      "[20:07:10] task [xgboost.dask-3]:tcp://127.0.0.1:35531 got new rank 3\n"
     ]
    },
    {
     "name": "stdout",
     "output_type": "stream",
     "text": [
      "39.6% complete | Training ['TE_brand_target', 'price', 'relative_price_product', 'ts_hour', 'cat_2', 'cat_0_count'].\r"
     ]
    },
    {
     "name": "stderr",
     "output_type": "stream",
     "text": [
      "[20:07:12] task [xgboost.dask-0]:tcp://127.0.0.1:37821 got new rank 0\n",
      "[20:07:12] task [xgboost.dask-1]:tcp://127.0.0.1:41067 got new rank 1\n",
      "[20:07:12] task [xgboost.dask-2]:tcp://127.0.0.1:38045 got new rank 2\n",
      "[20:07:12] task [xgboost.dask-3]:tcp://127.0.0.1:35531 got new rank 3\n"
     ]
    },
    {
     "name": "stdout",
     "output_type": "stream",
     "text": [
      "39.89% complete | Training ['TE_brand_target', 'price', 'relative_price_product', 'ts_hour', 'cat_2', 'cat_3'].\r"
     ]
    },
    {
     "name": "stderr",
     "output_type": "stream",
     "text": [
      "[20:07:15] task [xgboost.dask-0]:tcp://127.0.0.1:37821 got new rank 0\n",
      "[20:07:15] task [xgboost.dask-1]:tcp://127.0.0.1:41067 got new rank 1\n",
      "[20:07:15] task [xgboost.dask-2]:tcp://127.0.0.1:38045 got new rank 2\n",
      "[20:07:15] task [xgboost.dask-3]:tcp://127.0.0.1:35531 got new rank 3\n"
     ]
    },
    {
     "name": "stdout",
     "output_type": "stream",
     "text": [
      "40.17% complete | Training ['TE_brand_target', 'price', 'relative_price_product', 'ts_hour', 'cat_2', 'relative_price_category', 'cat_1'].\r"
     ]
    },
    {
     "name": "stderr",
     "output_type": "stream",
     "text": [
      "[20:07:17] task [xgboost.dask-0]:tcp://127.0.0.1:37821 got new rank 0\n",
      "[20:07:17] task [xgboost.dask-1]:tcp://127.0.0.1:41067 got new rank 1\n",
      "[20:07:17] task [xgboost.dask-2]:tcp://127.0.0.1:38045 got new rank 2\n",
      "[20:07:17] task [xgboost.dask-3]:tcp://127.0.0.1:35531 got new rank 3\n"
     ]
    },
    {
     "name": "stdout",
     "output_type": "stream",
     "text": [
      "40.46% complete | Training ['TE_brand_target', 'price', 'relative_price_product', 'ts_hour', 'cat_2', 'relative_price_category', 'brand_count'].\r"
     ]
    },
    {
     "name": "stderr",
     "output_type": "stream",
     "text": [
      "[20:07:19] task [xgboost.dask-0]:tcp://127.0.0.1:37821 got new rank 0\n",
      "[20:07:19] task [xgboost.dask-1]:tcp://127.0.0.1:41067 got new rank 1\n",
      "[20:07:19] task [xgboost.dask-2]:tcp://127.0.0.1:38045 got new rank 2\n",
      "[20:07:19] task [xgboost.dask-3]:tcp://127.0.0.1:35531 got new rank 3\n"
     ]
    },
    {
     "name": "stdout",
     "output_type": "stream",
     "text": [
      "40.74% complete | Training ['TE_brand_target', 'price', 'relative_price_product', 'ts_hour', 'cat_2', 'relative_price_category', 'ts_weekday'].\r"
     ]
    },
    {
     "name": "stderr",
     "output_type": "stream",
     "text": [
      "[20:07:22] task [xgboost.dask-0]:tcp://127.0.0.1:37821 got new rank 0\n",
      "[20:07:22] task [xgboost.dask-1]:tcp://127.0.0.1:41067 got new rank 1\n",
      "[20:07:22] task [xgboost.dask-2]:tcp://127.0.0.1:38045 got new rank 2\n",
      "[20:07:22] task [xgboost.dask-3]:tcp://127.0.0.1:35531 got new rank 3\n"
     ]
    },
    {
     "name": "stdout",
     "output_type": "stream",
     "text": [
      "41.03% complete | Training ['TE_brand_target', 'price', 'relative_price_product', 'ts_hour', 'cat_2', 'relative_price_category', 'TE_cat_0_target'].\r"
     ]
    },
    {
     "name": "stderr",
     "output_type": "stream",
     "text": [
      "[20:07:24] task [xgboost.dask-0]:tcp://127.0.0.1:37821 got new rank 0\n",
      "[20:07:24] task [xgboost.dask-1]:tcp://127.0.0.1:41067 got new rank 1\n",
      "[20:07:24] task [xgboost.dask-2]:tcp://127.0.0.1:38045 got new rank 2\n",
      "[20:07:24] task [xgboost.dask-3]:tcp://127.0.0.1:35531 got new rank 3\n"
     ]
    },
    {
     "name": "stdout",
     "output_type": "stream",
     "text": [
      "41.31% complete | Training ['TE_brand_target', 'price', 'relative_price_product', 'ts_hour', 'cat_2', 'relative_price_category', 'TE_cat_3_target'].\r"
     ]
    },
    {
     "name": "stderr",
     "output_type": "stream",
     "text": [
      "[20:07:27] task [xgboost.dask-0]:tcp://127.0.0.1:37821 got new rank 0\n",
      "[20:07:27] task [xgboost.dask-1]:tcp://127.0.0.1:41067 got new rank 1\n",
      "[20:07:27] task [xgboost.dask-2]:tcp://127.0.0.1:38045 got new rank 2\n",
      "[20:07:27] task [xgboost.dask-3]:tcp://127.0.0.1:35531 got new rank 3\n"
     ]
    },
    {
     "name": "stdout",
     "output_type": "stream",
     "text": [
      "41.6% complete | Training ['TE_brand_target', 'price', 'relative_price_product', 'ts_hour', 'cat_2', 'relative_price_category', 'TE_cat_1_target'].\r"
     ]
    },
    {
     "name": "stderr",
     "output_type": "stream",
     "text": [
      "[20:07:29] task [xgboost.dask-0]:tcp://127.0.0.1:37821 got new rank 0\n",
      "[20:07:29] task [xgboost.dask-1]:tcp://127.0.0.1:41067 got new rank 1\n",
      "[20:07:29] task [xgboost.dask-2]:tcp://127.0.0.1:38045 got new rank 2\n",
      "[20:07:29] task [xgboost.dask-3]:tcp://127.0.0.1:35531 got new rank 3\n"
     ]
    },
    {
     "name": "stdout",
     "output_type": "stream",
     "text": [
      "41.88% complete | Training ['TE_brand_target', 'price', 'relative_price_product', 'ts_hour', 'cat_2', 'relative_price_category', 'brand_target_sum'].\r"
     ]
    },
    {
     "name": "stderr",
     "output_type": "stream",
     "text": [
      "[20:07:31] task [xgboost.dask-0]:tcp://127.0.0.1:37821 got new rank 0\n",
      "[20:07:31] task [xgboost.dask-1]:tcp://127.0.0.1:41067 got new rank 1\n",
      "[20:07:31] task [xgboost.dask-2]:tcp://127.0.0.1:38045 got new rank 2\n",
      "[20:07:31] task [xgboost.dask-3]:tcp://127.0.0.1:35531 got new rank 3\n"
     ]
    },
    {
     "name": "stdout",
     "output_type": "stream",
     "text": [
      "42.17% complete | Training ['TE_brand_target', 'price', 'relative_price_product', 'ts_hour', 'cat_2', 'relative_price_category', 'cat_2_target_sum'].\r"
     ]
    },
    {
     "name": "stderr",
     "output_type": "stream",
     "text": [
      "[20:07:34] task [xgboost.dask-0]:tcp://127.0.0.1:37821 got new rank 0\n",
      "[20:07:34] task [xgboost.dask-1]:tcp://127.0.0.1:41067 got new rank 1\n",
      "[20:07:34] task [xgboost.dask-2]:tcp://127.0.0.1:38045 got new rank 2\n",
      "[20:07:34] task [xgboost.dask-3]:tcp://127.0.0.1:35531 got new rank 3\n"
     ]
    },
    {
     "name": "stdout",
     "output_type": "stream",
     "text": [
      "42.45% complete | Training ['TE_brand_target', 'price', 'relative_price_product', 'ts_hour', 'cat_2', 'relative_price_category', 'cat_0_count'].\r"
     ]
    },
    {
     "name": "stderr",
     "output_type": "stream",
     "text": [
      "[20:07:36] task [xgboost.dask-0]:tcp://127.0.0.1:37821 got new rank 0\n",
      "[20:07:36] task [xgboost.dask-1]:tcp://127.0.0.1:41067 got new rank 1\n",
      "[20:07:36] task [xgboost.dask-2]:tcp://127.0.0.1:38045 got new rank 2\n",
      "[20:07:36] task [xgboost.dask-3]:tcp://127.0.0.1:35531 got new rank 3\n"
     ]
    },
    {
     "name": "stdout",
     "output_type": "stream",
     "text": [
      "42.74% complete | Training ['TE_brand_target', 'price', 'relative_price_product', 'ts_hour', 'cat_2', 'relative_price_category', 'cat_3'].\r"
     ]
    },
    {
     "name": "stderr",
     "output_type": "stream",
     "text": [
      "[20:07:38] task [xgboost.dask-0]:tcp://127.0.0.1:37821 got new rank 0\n",
      "[20:07:38] task [xgboost.dask-1]:tcp://127.0.0.1:41067 got new rank 1\n",
      "[20:07:38] task [xgboost.dask-2]:tcp://127.0.0.1:38045 got new rank 2\n",
      "[20:07:38] task [xgboost.dask-3]:tcp://127.0.0.1:35531 got new rank 3\n"
     ]
    },
    {
     "name": "stdout",
     "output_type": "stream",
     "text": [
      "43.02% complete | Training ['TE_brand_target', 'price', 'relative_price_product', 'ts_hour', 'cat_2', 'relative_price_category', 'brand'].\r"
     ]
    },
    {
     "name": "stderr",
     "output_type": "stream",
     "text": [
      "[20:07:41] task [xgboost.dask-0]:tcp://127.0.0.1:37821 got new rank 0\n",
      "[20:07:41] task [xgboost.dask-1]:tcp://127.0.0.1:41067 got new rank 1\n",
      "[20:07:41] task [xgboost.dask-2]:tcp://127.0.0.1:38045 got new rank 2\n",
      "[20:07:41] task [xgboost.dask-3]:tcp://127.0.0.1:35531 got new rank 3\n"
     ]
    },
    {
     "name": "stdout",
     "output_type": "stream",
     "text": [
      "43.3% complete | Training ['TE_brand_target', 'price', 'relative_price_product', 'ts_hour', 'cat_2', 'relative_price_category', 'cat_1_count'].\r"
     ]
    },
    {
     "name": "stderr",
     "output_type": "stream",
     "text": [
      "[20:07:43] task [xgboost.dask-0]:tcp://127.0.0.1:37821 got new rank 0\n",
      "[20:07:43] task [xgboost.dask-1]:tcp://127.0.0.1:41067 got new rank 1\n",
      "[20:07:43] task [xgboost.dask-2]:tcp://127.0.0.1:38045 got new rank 2\n",
      "[20:07:43] task [xgboost.dask-3]:tcp://127.0.0.1:35531 got new rank 3\n"
     ]
    },
    {
     "name": "stdout",
     "output_type": "stream",
     "text": [
      "43.59% complete | Training ['TE_brand_target', 'price', 'relative_price_product', 'ts_hour', 'cat_2', 'relative_price_category', 'TE_cat_2_target'].\r"
     ]
    },
    {
     "name": "stderr",
     "output_type": "stream",
     "text": [
      "[20:07:46] task [xgboost.dask-0]:tcp://127.0.0.1:37821 got new rank 0\n",
      "[20:07:46] task [xgboost.dask-1]:tcp://127.0.0.1:41067 got new rank 1\n",
      "[20:07:46] task [xgboost.dask-2]:tcp://127.0.0.1:38045 got new rank 2\n",
      "[20:07:46] task [xgboost.dask-3]:tcp://127.0.0.1:35531 got new rank 3\n"
     ]
    },
    {
     "name": "stdout",
     "output_type": "stream",
     "text": [
      "43.87% complete | Training ['TE_brand_target', 'price', 'relative_price_product', 'ts_hour', 'cat_2', 'relative_price_category', 'cat_3_count'].\r"
     ]
    },
    {
     "name": "stderr",
     "output_type": "stream",
     "text": [
      "[20:07:48] task [xgboost.dask-0]:tcp://127.0.0.1:37821 got new rank 0\n",
      "[20:07:48] task [xgboost.dask-1]:tcp://127.0.0.1:41067 got new rank 1\n",
      "[20:07:48] task [xgboost.dask-2]:tcp://127.0.0.1:38045 got new rank 2\n",
      "[20:07:48] task [xgboost.dask-3]:tcp://127.0.0.1:35531 got new rank 3\n"
     ]
    },
    {
     "name": "stdout",
     "output_type": "stream",
     "text": [
      "44.16% complete | Training ['TE_brand_target', 'price', 'relative_price_product', 'ts_hour', 'cat_2', 'relative_price_category', 'cat_2_count'].\r"
     ]
    },
    {
     "name": "stderr",
     "output_type": "stream",
     "text": [
      "[20:07:50] task [xgboost.dask-0]:tcp://127.0.0.1:37821 got new rank 0\n",
      "[20:07:50] task [xgboost.dask-1]:tcp://127.0.0.1:41067 got new rank 1\n",
      "[20:07:50] task [xgboost.dask-2]:tcp://127.0.0.1:38045 got new rank 2\n",
      "[20:07:50] task [xgboost.dask-3]:tcp://127.0.0.1:35531 got new rank 3\n"
     ]
    },
    {
     "name": "stdout",
     "output_type": "stream",
     "text": [
      "44.44% complete | Training ['TE_brand_target', 'price', 'relative_price_product', 'ts_hour', 'cat_2', 'relative_price_category', 'cat_0_target_sum'].\r"
     ]
    },
    {
     "name": "stderr",
     "output_type": "stream",
     "text": [
      "[20:07:53] task [xgboost.dask-0]:tcp://127.0.0.1:37821 got new rank 0\n",
      "[20:07:53] task [xgboost.dask-1]:tcp://127.0.0.1:41067 got new rank 1\n",
      "[20:07:53] task [xgboost.dask-2]:tcp://127.0.0.1:38045 got new rank 2\n",
      "[20:07:53] task [xgboost.dask-3]:tcp://127.0.0.1:35531 got new rank 3\n"
     ]
    },
    {
     "name": "stdout",
     "output_type": "stream",
     "text": [
      "44.73% complete | Training ['TE_brand_target', 'price', 'relative_price_product', 'ts_hour', 'cat_2', 'relative_price_category', 'cat_3_target_sum'].\r"
     ]
    },
    {
     "name": "stderr",
     "output_type": "stream",
     "text": [
      "[20:07:55] task [xgboost.dask-0]:tcp://127.0.0.1:37821 got new rank 0\n",
      "[20:07:55] task [xgboost.dask-1]:tcp://127.0.0.1:41067 got new rank 1\n",
      "[20:07:55] task [xgboost.dask-2]:tcp://127.0.0.1:38045 got new rank 2\n",
      "[20:07:55] task [xgboost.dask-3]:tcp://127.0.0.1:35531 got new rank 3\n"
     ]
    },
    {
     "name": "stdout",
     "output_type": "stream",
     "text": [
      "45.01% complete | Training ['TE_brand_target', 'price', 'relative_price_product', 'ts_hour', 'cat_2', 'relative_price_category', 'ts_minute'].\r"
     ]
    },
    {
     "name": "stderr",
     "output_type": "stream",
     "text": [
      "[20:07:58] task [xgboost.dask-0]:tcp://127.0.0.1:37821 got new rank 0\n",
      "[20:07:58] task [xgboost.dask-1]:tcp://127.0.0.1:41067 got new rank 1\n",
      "[20:07:58] task [xgboost.dask-2]:tcp://127.0.0.1:38045 got new rank 2\n",
      "[20:07:58] task [xgboost.dask-3]:tcp://127.0.0.1:35531 got new rank 3\n"
     ]
    },
    {
     "name": "stdout",
     "output_type": "stream",
     "text": [
      "45.3% complete | Training ['TE_brand_target', 'price', 'relative_price_product', 'ts_hour', 'cat_2', 'relative_price_category', 'cat_0'].\r"
     ]
    },
    {
     "name": "stderr",
     "output_type": "stream",
     "text": [
      "[20:08:00] task [xgboost.dask-0]:tcp://127.0.0.1:37821 got new rank 0\n",
      "[20:08:00] task [xgboost.dask-1]:tcp://127.0.0.1:41067 got new rank 1\n",
      "[20:08:00] task [xgboost.dask-2]:tcp://127.0.0.1:38045 got new rank 2\n",
      "[20:08:00] task [xgboost.dask-3]:tcp://127.0.0.1:35531 got new rank 3\n"
     ]
    },
    {
     "name": "stdout",
     "output_type": "stream",
     "text": [
      "45.58% complete | Training ['TE_brand_target', 'price', 'relative_price_product', 'ts_hour', 'cat_2', 'relative_price_category', 'cat_1_target_sum'].\r"
     ]
    },
    {
     "name": "stderr",
     "output_type": "stream",
     "text": [
      "[20:08:02] task [xgboost.dask-0]:tcp://127.0.0.1:37821 got new rank 0\n",
      "[20:08:02] task [xgboost.dask-1]:tcp://127.0.0.1:41067 got new rank 1\n",
      "[20:08:02] task [xgboost.dask-2]:tcp://127.0.0.1:38045 got new rank 2\n",
      "[20:08:02] task [xgboost.dask-3]:tcp://127.0.0.1:35531 got new rank 3\n"
     ]
    },
    {
     "name": "stdout",
     "output_type": "stream",
     "text": [
      "45.87% complete | Training ['TE_brand_target', 'price', 'relative_price_product', 'ts_hour', 'cat_2', 'relative_price_category', 'ts_weekday', 'cat_1'].\r"
     ]
    },
    {
     "name": "stderr",
     "output_type": "stream",
     "text": [
      "[20:08:05] task [xgboost.dask-0]:tcp://127.0.0.1:37821 got new rank 0\n",
      "[20:08:05] task [xgboost.dask-1]:tcp://127.0.0.1:41067 got new rank 1\n",
      "[20:08:05] task [xgboost.dask-2]:tcp://127.0.0.1:38045 got new rank 2\n",
      "[20:08:05] task [xgboost.dask-3]:tcp://127.0.0.1:35531 got new rank 3\n"
     ]
    },
    {
     "name": "stdout",
     "output_type": "stream",
     "text": [
      "46.15% complete | Training ['TE_brand_target', 'price', 'relative_price_product', 'ts_hour', 'cat_2', 'relative_price_category', 'ts_weekday', 'brand_count'].\r"
     ]
    },
    {
     "name": "stderr",
     "output_type": "stream",
     "text": [
      "[20:08:07] task [xgboost.dask-0]:tcp://127.0.0.1:37821 got new rank 0\n",
      "[20:08:07] task [xgboost.dask-1]:tcp://127.0.0.1:41067 got new rank 1\n",
      "[20:08:07] task [xgboost.dask-2]:tcp://127.0.0.1:38045 got new rank 2\n",
      "[20:08:07] task [xgboost.dask-3]:tcp://127.0.0.1:35531 got new rank 3\n"
     ]
    },
    {
     "name": "stdout",
     "output_type": "stream",
     "text": [
      "46.44% complete | Training ['TE_brand_target', 'price', 'relative_price_product', 'ts_hour', 'cat_2', 'relative_price_category', 'ts_weekday', 'TE_cat_0_target'].\r"
     ]
    },
    {
     "name": "stderr",
     "output_type": "stream",
     "text": [
      "[20:08:10] task [xgboost.dask-0]:tcp://127.0.0.1:37821 got new rank 0\n",
      "[20:08:10] task [xgboost.dask-1]:tcp://127.0.0.1:41067 got new rank 1\n",
      "[20:08:10] task [xgboost.dask-2]:tcp://127.0.0.1:38045 got new rank 2\n",
      "[20:08:10] task [xgboost.dask-3]:tcp://127.0.0.1:35531 got new rank 3\n"
     ]
    },
    {
     "name": "stdout",
     "output_type": "stream",
     "text": [
      "46.72% complete | Training ['TE_brand_target', 'price', 'relative_price_product', 'ts_hour', 'cat_2', 'relative_price_category', 'ts_weekday', 'TE_cat_3_target'].\r"
     ]
    },
    {
     "name": "stderr",
     "output_type": "stream",
     "text": [
      "[20:08:12] task [xgboost.dask-0]:tcp://127.0.0.1:37821 got new rank 0\n",
      "[20:08:12] task [xgboost.dask-1]:tcp://127.0.0.1:41067 got new rank 1\n",
      "[20:08:12] task [xgboost.dask-2]:tcp://127.0.0.1:38045 got new rank 2\n",
      "[20:08:12] task [xgboost.dask-3]:tcp://127.0.0.1:35531 got new rank 3\n"
     ]
    },
    {
     "name": "stdout",
     "output_type": "stream",
     "text": [
      "47.01% complete | Training ['TE_brand_target', 'price', 'relative_price_product', 'ts_hour', 'cat_2', 'relative_price_category', 'ts_weekday', 'TE_cat_1_target'].\r"
     ]
    },
    {
     "name": "stderr",
     "output_type": "stream",
     "text": [
      "[20:08:14] task [xgboost.dask-0]:tcp://127.0.0.1:37821 got new rank 0\n",
      "[20:08:14] task [xgboost.dask-1]:tcp://127.0.0.1:41067 got new rank 1\n",
      "[20:08:14] task [xgboost.dask-2]:tcp://127.0.0.1:38045 got new rank 2\n",
      "[20:08:14] task [xgboost.dask-3]:tcp://127.0.0.1:35531 got new rank 3\n"
     ]
    },
    {
     "name": "stdout",
     "output_type": "stream",
     "text": [
      "47.29% complete | Training ['TE_brand_target', 'price', 'relative_price_product', 'ts_hour', 'cat_2', 'relative_price_category', 'ts_weekday', 'brand_target_sum'].\r"
     ]
    },
    {
     "name": "stderr",
     "output_type": "stream",
     "text": [
      "[20:08:17] task [xgboost.dask-0]:tcp://127.0.0.1:37821 got new rank 0\n",
      "[20:08:17] task [xgboost.dask-1]:tcp://127.0.0.1:41067 got new rank 1\n",
      "[20:08:17] task [xgboost.dask-2]:tcp://127.0.0.1:38045 got new rank 2\n",
      "[20:08:17] task [xgboost.dask-3]:tcp://127.0.0.1:35531 got new rank 3\n"
     ]
    },
    {
     "name": "stdout",
     "output_type": "stream",
     "text": [
      "47.58% complete | Training ['TE_brand_target', 'price', 'relative_price_product', 'ts_hour', 'cat_2', 'relative_price_category', 'ts_weekday', 'cat_2_target_sum'].\r"
     ]
    },
    {
     "name": "stderr",
     "output_type": "stream",
     "text": [
      "[20:08:19] task [xgboost.dask-0]:tcp://127.0.0.1:37821 got new rank 0\n",
      "[20:08:19] task [xgboost.dask-1]:tcp://127.0.0.1:41067 got new rank 1\n",
      "[20:08:19] task [xgboost.dask-2]:tcp://127.0.0.1:38045 got new rank 2\n",
      "[20:08:19] task [xgboost.dask-3]:tcp://127.0.0.1:35531 got new rank 3\n"
     ]
    },
    {
     "name": "stdout",
     "output_type": "stream",
     "text": [
      "47.86% complete | Training ['TE_brand_target', 'price', 'relative_price_product', 'ts_hour', 'cat_2', 'relative_price_category', 'ts_weekday', 'cat_0_count'].\r"
     ]
    },
    {
     "name": "stderr",
     "output_type": "stream",
     "text": [
      "[20:08:22] task [xgboost.dask-0]:tcp://127.0.0.1:37821 got new rank 0\n",
      "[20:08:22] task [xgboost.dask-1]:tcp://127.0.0.1:41067 got new rank 1\n",
      "[20:08:22] task [xgboost.dask-2]:tcp://127.0.0.1:38045 got new rank 2\n",
      "[20:08:22] task [xgboost.dask-3]:tcp://127.0.0.1:35531 got new rank 3\n"
     ]
    },
    {
     "name": "stdout",
     "output_type": "stream",
     "text": [
      "48.15% complete | Training ['TE_brand_target', 'price', 'relative_price_product', 'ts_hour', 'cat_2', 'relative_price_category', 'ts_weekday', 'cat_3'].\r"
     ]
    },
    {
     "name": "stderr",
     "output_type": "stream",
     "text": [
      "[20:08:24] task [xgboost.dask-0]:tcp://127.0.0.1:37821 got new rank 0\n",
      "[20:08:24] task [xgboost.dask-1]:tcp://127.0.0.1:41067 got new rank 1\n",
      "[20:08:24] task [xgboost.dask-2]:tcp://127.0.0.1:38045 got new rank 2\n",
      "[20:08:24] task [xgboost.dask-3]:tcp://127.0.0.1:35531 got new rank 3\n"
     ]
    },
    {
     "name": "stdout",
     "output_type": "stream",
     "text": [
      "48.43% complete | Training ['TE_brand_target', 'price', 'relative_price_product', 'ts_hour', 'cat_2', 'relative_price_category', 'ts_weekday', 'brand'].\r"
     ]
    },
    {
     "name": "stderr",
     "output_type": "stream",
     "text": [
      "[20:08:27] task [xgboost.dask-0]:tcp://127.0.0.1:37821 got new rank 0\n",
      "[20:08:27] task [xgboost.dask-1]:tcp://127.0.0.1:41067 got new rank 1\n",
      "[20:08:27] task [xgboost.dask-2]:tcp://127.0.0.1:38045 got new rank 2\n",
      "[20:08:27] task [xgboost.dask-3]:tcp://127.0.0.1:35531 got new rank 3\n"
     ]
    },
    {
     "name": "stdout",
     "output_type": "stream",
     "text": [
      "48.72% complete | Training ['TE_brand_target', 'price', 'relative_price_product', 'ts_hour', 'cat_2', 'relative_price_category', 'ts_weekday', 'cat_1_count'].\r"
     ]
    },
    {
     "name": "stderr",
     "output_type": "stream",
     "text": [
      "[20:08:29] task [xgboost.dask-0]:tcp://127.0.0.1:37821 got new rank 0\n",
      "[20:08:29] task [xgboost.dask-1]:tcp://127.0.0.1:41067 got new rank 1\n",
      "[20:08:29] task [xgboost.dask-2]:tcp://127.0.0.1:38045 got new rank 2\n",
      "[20:08:29] task [xgboost.dask-3]:tcp://127.0.0.1:35531 got new rank 3\n"
     ]
    },
    {
     "name": "stdout",
     "output_type": "stream",
     "text": [
      "49.0% complete | Training ['TE_brand_target', 'price', 'relative_price_product', 'ts_hour', 'cat_2', 'relative_price_category', 'ts_weekday', 'TE_cat_2_target'].\r"
     ]
    },
    {
     "name": "stderr",
     "output_type": "stream",
     "text": [
      "[20:08:32] task [xgboost.dask-0]:tcp://127.0.0.1:37821 got new rank 0\n",
      "[20:08:32] task [xgboost.dask-1]:tcp://127.0.0.1:41067 got new rank 1\n",
      "[20:08:32] task [xgboost.dask-2]:tcp://127.0.0.1:38045 got new rank 2\n",
      "[20:08:32] task [xgboost.dask-3]:tcp://127.0.0.1:35531 got new rank 3\n"
     ]
    },
    {
     "name": "stdout",
     "output_type": "stream",
     "text": [
      "49.29% complete | Training ['TE_brand_target', 'price', 'relative_price_product', 'ts_hour', 'cat_2', 'relative_price_category', 'ts_weekday', 'cat_3_count'].\r"
     ]
    },
    {
     "name": "stderr",
     "output_type": "stream",
     "text": [
      "[20:08:34] task [xgboost.dask-0]:tcp://127.0.0.1:37821 got new rank 0\n",
      "[20:08:34] task [xgboost.dask-1]:tcp://127.0.0.1:41067 got new rank 1\n",
      "[20:08:34] task [xgboost.dask-2]:tcp://127.0.0.1:38045 got new rank 2\n",
      "[20:08:34] task [xgboost.dask-3]:tcp://127.0.0.1:35531 got new rank 3\n"
     ]
    },
    {
     "name": "stdout",
     "output_type": "stream",
     "text": [
      "49.57% complete | Training ['TE_brand_target', 'price', 'relative_price_product', 'ts_hour', 'cat_2', 'relative_price_category', 'ts_weekday', 'cat_2_count'].\r"
     ]
    },
    {
     "name": "stderr",
     "output_type": "stream",
     "text": [
      "[20:08:37] task [xgboost.dask-0]:tcp://127.0.0.1:37821 got new rank 0\n",
      "[20:08:37] task [xgboost.dask-1]:tcp://127.0.0.1:41067 got new rank 1\n",
      "[20:08:37] task [xgboost.dask-2]:tcp://127.0.0.1:38045 got new rank 2\n",
      "[20:08:37] task [xgboost.dask-3]:tcp://127.0.0.1:35531 got new rank 3\n"
     ]
    },
    {
     "name": "stdout",
     "output_type": "stream",
     "text": [
      "49.86% complete | Training ['TE_brand_target', 'price', 'relative_price_product', 'ts_hour', 'cat_2', 'relative_price_category', 'ts_weekday', 'cat_0_target_sum'].\r"
     ]
    },
    {
     "name": "stderr",
     "output_type": "stream",
     "text": [
      "[20:08:39] task [xgboost.dask-0]:tcp://127.0.0.1:37821 got new rank 0\n",
      "[20:08:39] task [xgboost.dask-1]:tcp://127.0.0.1:41067 got new rank 1\n",
      "[20:08:39] task [xgboost.dask-2]:tcp://127.0.0.1:38045 got new rank 2\n",
      "[20:08:39] task [xgboost.dask-3]:tcp://127.0.0.1:35531 got new rank 3\n"
     ]
    },
    {
     "name": "stdout",
     "output_type": "stream",
     "text": [
      "50.14% complete | Training ['TE_brand_target', 'price', 'relative_price_product', 'ts_hour', 'cat_2', 'relative_price_category', 'ts_weekday', 'cat_3_target_sum'].\r"
     ]
    },
    {
     "name": "stderr",
     "output_type": "stream",
     "text": [
      "[20:08:41] task [xgboost.dask-0]:tcp://127.0.0.1:37821 got new rank 0\n",
      "[20:08:41] task [xgboost.dask-1]:tcp://127.0.0.1:41067 got new rank 1\n",
      "[20:08:41] task [xgboost.dask-2]:tcp://127.0.0.1:38045 got new rank 2\n",
      "[20:08:41] task [xgboost.dask-3]:tcp://127.0.0.1:35531 got new rank 3\n"
     ]
    },
    {
     "name": "stdout",
     "output_type": "stream",
     "text": [
      "50.43% complete | Training ['TE_brand_target', 'price', 'relative_price_product', 'ts_hour', 'cat_2', 'relative_price_category', 'ts_weekday', 'ts_minute'].\r"
     ]
    },
    {
     "name": "stderr",
     "output_type": "stream",
     "text": [
      "[20:08:44] task [xgboost.dask-0]:tcp://127.0.0.1:37821 got new rank 0\n",
      "[20:08:44] task [xgboost.dask-1]:tcp://127.0.0.1:41067 got new rank 1\n",
      "[20:08:44] task [xgboost.dask-2]:tcp://127.0.0.1:38045 got new rank 2\n",
      "[20:08:44] task [xgboost.dask-3]:tcp://127.0.0.1:35531 got new rank 3\n"
     ]
    },
    {
     "name": "stdout",
     "output_type": "stream",
     "text": [
      "50.71% complete | Training ['TE_brand_target', 'price', 'relative_price_product', 'ts_hour', 'cat_2', 'relative_price_category', 'ts_weekday', 'cat_0'].\r"
     ]
    },
    {
     "name": "stderr",
     "output_type": "stream",
     "text": [
      "[20:08:46] task [xgboost.dask-0]:tcp://127.0.0.1:37821 got new rank 0\n",
      "[20:08:46] task [xgboost.dask-1]:tcp://127.0.0.1:41067 got new rank 1\n",
      "[20:08:46] task [xgboost.dask-2]:tcp://127.0.0.1:38045 got new rank 2\n",
      "[20:08:46] task [xgboost.dask-3]:tcp://127.0.0.1:35531 got new rank 3\n"
     ]
    },
    {
     "name": "stdout",
     "output_type": "stream",
     "text": [
      "51.0% complete | Training ['TE_brand_target', 'price', 'relative_price_product', 'ts_hour', 'cat_2', 'relative_price_category', 'ts_weekday', 'cat_1_target_sum'].\r"
     ]
    },
    {
     "name": "stderr",
     "output_type": "stream",
     "text": [
      "[20:08:49] task [xgboost.dask-0]:tcp://127.0.0.1:37821 got new rank 0\n",
      "[20:08:49] task [xgboost.dask-1]:tcp://127.0.0.1:41067 got new rank 1\n",
      "[20:08:49] task [xgboost.dask-2]:tcp://127.0.0.1:38045 got new rank 2\n",
      "[20:08:49] task [xgboost.dask-3]:tcp://127.0.0.1:35531 got new rank 3\n"
     ]
    },
    {
     "name": "stdout",
     "output_type": "stream",
     "text": [
      "51.28% complete | Training ['TE_brand_target', 'price', 'relative_price_product', 'ts_hour', 'cat_2', 'relative_price_category', 'ts_weekday', 'brand', 'cat_1'].\r"
     ]
    },
    {
     "name": "stderr",
     "output_type": "stream",
     "text": [
      "[20:08:51] task [xgboost.dask-0]:tcp://127.0.0.1:37821 got new rank 0\n",
      "[20:08:51] task [xgboost.dask-1]:tcp://127.0.0.1:41067 got new rank 1\n",
      "[20:08:51] task [xgboost.dask-2]:tcp://127.0.0.1:38045 got new rank 2\n",
      "[20:08:51] task [xgboost.dask-3]:tcp://127.0.0.1:35531 got new rank 3\n"
     ]
    },
    {
     "name": "stdout",
     "output_type": "stream",
     "text": [
      "51.57% complete | Training ['TE_brand_target', 'price', 'relative_price_product', 'ts_hour', 'cat_2', 'relative_price_category', 'ts_weekday', 'brand', 'brand_count'].\r"
     ]
    },
    {
     "name": "stderr",
     "output_type": "stream",
     "text": [
      "[20:08:54] task [xgboost.dask-0]:tcp://127.0.0.1:37821 got new rank 0\n",
      "[20:08:54] task [xgboost.dask-1]:tcp://127.0.0.1:41067 got new rank 1\n",
      "[20:08:54] task [xgboost.dask-2]:tcp://127.0.0.1:38045 got new rank 2\n",
      "[20:08:54] task [xgboost.dask-3]:tcp://127.0.0.1:35531 got new rank 3\n"
     ]
    },
    {
     "name": "stdout",
     "output_type": "stream",
     "text": [
      "51.85% complete | Training ['TE_brand_target', 'price', 'relative_price_product', 'ts_hour', 'cat_2', 'relative_price_category', 'ts_weekday', 'brand', 'cat_3_target_sum'].\r"
     ]
    },
    {
     "name": "stderr",
     "output_type": "stream",
     "text": [
      "[20:08:56] task [xgboost.dask-0]:tcp://127.0.0.1:37821 got new rank 0\n",
      "[20:08:56] task [xgboost.dask-1]:tcp://127.0.0.1:41067 got new rank 1\n",
      "[20:08:56] task [xgboost.dask-2]:tcp://127.0.0.1:38045 got new rank 2\n",
      "[20:08:56] task [xgboost.dask-3]:tcp://127.0.0.1:35531 got new rank 3\n"
     ]
    },
    {
     "name": "stdout",
     "output_type": "stream",
     "text": [
      "52.14% complete | Training ['TE_brand_target', 'price', 'relative_price_product', 'ts_hour', 'cat_2', 'relative_price_category', 'ts_weekday', 'brand', 'ts_minute'].\r"
     ]
    },
    {
     "name": "stderr",
     "output_type": "stream",
     "text": [
      "[20:08:59] task [xgboost.dask-0]:tcp://127.0.0.1:37821 got new rank 0\n",
      "[20:08:59] task [xgboost.dask-1]:tcp://127.0.0.1:41067 got new rank 1\n",
      "[20:08:59] task [xgboost.dask-2]:tcp://127.0.0.1:38045 got new rank 2\n",
      "[20:08:59] task [xgboost.dask-3]:tcp://127.0.0.1:35531 got new rank 3\n"
     ]
    },
    {
     "name": "stdout",
     "output_type": "stream",
     "text": [
      "52.42% complete | Training ['TE_brand_target', 'price', 'relative_price_product', 'ts_hour', 'cat_2', 'relative_price_category', 'ts_weekday', 'brand', 'TE_cat_0_target'].\r"
     ]
    },
    {
     "name": "stderr",
     "output_type": "stream",
     "text": [
      "[20:09:01] task [xgboost.dask-0]:tcp://127.0.0.1:37821 got new rank 0\n",
      "[20:09:01] task [xgboost.dask-1]:tcp://127.0.0.1:41067 got new rank 1\n",
      "[20:09:01] task [xgboost.dask-2]:tcp://127.0.0.1:38045 got new rank 2\n",
      "[20:09:01] task [xgboost.dask-3]:tcp://127.0.0.1:35531 got new rank 3\n"
     ]
    },
    {
     "name": "stdout",
     "output_type": "stream",
     "text": [
      "52.71% complete | Training ['TE_brand_target', 'price', 'relative_price_product', 'ts_hour', 'cat_2', 'relative_price_category', 'ts_weekday', 'brand', 'TE_cat_3_target'].\r"
     ]
    },
    {
     "name": "stderr",
     "output_type": "stream",
     "text": [
      "[20:09:04] task [xgboost.dask-0]:tcp://127.0.0.1:37821 got new rank 0\n",
      "[20:09:04] task [xgboost.dask-1]:tcp://127.0.0.1:41067 got new rank 1\n",
      "[20:09:04] task [xgboost.dask-2]:tcp://127.0.0.1:38045 got new rank 2\n",
      "[20:09:04] task [xgboost.dask-3]:tcp://127.0.0.1:35531 got new rank 3\n"
     ]
    },
    {
     "name": "stdout",
     "output_type": "stream",
     "text": [
      "52.99% complete | Training ['TE_brand_target', 'price', 'relative_price_product', 'ts_hour', 'cat_2', 'relative_price_category', 'ts_weekday', 'brand', 'cat_1_count'].\r"
     ]
    },
    {
     "name": "stderr",
     "output_type": "stream",
     "text": [
      "[20:09:06] task [xgboost.dask-0]:tcp://127.0.0.1:37821 got new rank 0\n",
      "[20:09:06] task [xgboost.dask-1]:tcp://127.0.0.1:41067 got new rank 1\n",
      "[20:09:06] task [xgboost.dask-2]:tcp://127.0.0.1:38045 got new rank 2\n",
      "[20:09:06] task [xgboost.dask-3]:tcp://127.0.0.1:35531 got new rank 3\n"
     ]
    },
    {
     "name": "stdout",
     "output_type": "stream",
     "text": [
      "53.28% complete | Training ['TE_brand_target', 'price', 'relative_price_product', 'ts_hour', 'cat_2', 'relative_price_category', 'ts_weekday', 'brand', 'TE_cat_2_target'].\r"
     ]
    },
    {
     "name": "stderr",
     "output_type": "stream",
     "text": [
      "[20:09:09] task [xgboost.dask-0]:tcp://127.0.0.1:37821 got new rank 0\n",
      "[20:09:09] task [xgboost.dask-1]:tcp://127.0.0.1:41067 got new rank 1\n",
      "[20:09:09] task [xgboost.dask-2]:tcp://127.0.0.1:38045 got new rank 2\n",
      "[20:09:09] task [xgboost.dask-3]:tcp://127.0.0.1:35531 got new rank 3\n"
     ]
    },
    {
     "name": "stdout",
     "output_type": "stream",
     "text": [
      "53.56% complete | Training ['TE_brand_target', 'price', 'relative_price_product', 'ts_hour', 'cat_2', 'relative_price_category', 'ts_weekday', 'brand', 'cat_3_count'].\r"
     ]
    },
    {
     "name": "stderr",
     "output_type": "stream",
     "text": [
      "[20:09:11] task [xgboost.dask-0]:tcp://127.0.0.1:37821 got new rank 0\n",
      "[20:09:11] task [xgboost.dask-1]:tcp://127.0.0.1:41067 got new rank 1\n",
      "[20:09:11] task [xgboost.dask-2]:tcp://127.0.0.1:38045 got new rank 2\n",
      "[20:09:11] task [xgboost.dask-3]:tcp://127.0.0.1:35531 got new rank 3\n"
     ]
    },
    {
     "name": "stdout",
     "output_type": "stream",
     "text": [
      "53.85% complete | Training ['TE_brand_target', 'price', 'relative_price_product', 'ts_hour', 'cat_2', 'relative_price_category', 'ts_weekday', 'brand', 'TE_cat_1_target'].\r"
     ]
    },
    {
     "name": "stderr",
     "output_type": "stream",
     "text": [
      "[20:09:14] task [xgboost.dask-0]:tcp://127.0.0.1:37821 got new rank 0\n",
      "[20:09:14] task [xgboost.dask-1]:tcp://127.0.0.1:41067 got new rank 1\n",
      "[20:09:14] task [xgboost.dask-2]:tcp://127.0.0.1:38045 got new rank 2\n",
      "[20:09:14] task [xgboost.dask-3]:tcp://127.0.0.1:35531 got new rank 3\n"
     ]
    },
    {
     "name": "stdout",
     "output_type": "stream",
     "text": [
      "54.13% complete | Training ['TE_brand_target', 'price', 'relative_price_product', 'ts_hour', 'cat_2', 'relative_price_category', 'ts_weekday', 'brand', 'cat_0'].\r"
     ]
    },
    {
     "name": "stderr",
     "output_type": "stream",
     "text": [
      "[20:09:16] task [xgboost.dask-0]:tcp://127.0.0.1:37821 got new rank 0\n",
      "[20:09:16] task [xgboost.dask-1]:tcp://127.0.0.1:41067 got new rank 1\n",
      "[20:09:16] task [xgboost.dask-2]:tcp://127.0.0.1:38045 got new rank 2\n",
      "[20:09:16] task [xgboost.dask-3]:tcp://127.0.0.1:35531 got new rank 3\n"
     ]
    },
    {
     "name": "stdout",
     "output_type": "stream",
     "text": [
      "54.42% complete | Training ['TE_brand_target', 'price', 'relative_price_product', 'ts_hour', 'cat_2', 'relative_price_category', 'ts_weekday', 'brand', 'cat_0_count'].\r"
     ]
    },
    {
     "name": "stderr",
     "output_type": "stream",
     "text": [
      "[20:09:19] task [xgboost.dask-0]:tcp://127.0.0.1:37821 got new rank 0\n",
      "[20:09:19] task [xgboost.dask-1]:tcp://127.0.0.1:41067 got new rank 1\n",
      "[20:09:19] task [xgboost.dask-2]:tcp://127.0.0.1:38045 got new rank 2\n",
      "[20:09:19] task [xgboost.dask-3]:tcp://127.0.0.1:35531 got new rank 3\n"
     ]
    },
    {
     "name": "stdout",
     "output_type": "stream",
     "text": [
      "54.7% complete | Training ['TE_brand_target', 'price', 'relative_price_product', 'ts_hour', 'cat_2', 'relative_price_category', 'ts_weekday', 'brand', 'cat_1_target_sum'].\r"
     ]
    },
    {
     "name": "stderr",
     "output_type": "stream",
     "text": [
      "[20:09:21] task [xgboost.dask-0]:tcp://127.0.0.1:37821 got new rank 0\n",
      "[20:09:21] task [xgboost.dask-1]:tcp://127.0.0.1:41067 got new rank 1\n",
      "[20:09:21] task [xgboost.dask-2]:tcp://127.0.0.1:38045 got new rank 2\n",
      "[20:09:21] task [xgboost.dask-3]:tcp://127.0.0.1:35531 got new rank 3\n"
     ]
    },
    {
     "name": "stdout",
     "output_type": "stream",
     "text": [
      "54.99% complete | Training ['TE_brand_target', 'price', 'relative_price_product', 'ts_hour', 'cat_2', 'relative_price_category', 'ts_weekday', 'brand', 'brand_target_sum'].\r"
     ]
    },
    {
     "name": "stderr",
     "output_type": "stream",
     "text": [
      "[20:09:24] task [xgboost.dask-0]:tcp://127.0.0.1:37821 got new rank 0\n",
      "[20:09:24] task [xgboost.dask-1]:tcp://127.0.0.1:41067 got new rank 1\n",
      "[20:09:24] task [xgboost.dask-2]:tcp://127.0.0.1:38045 got new rank 2\n",
      "[20:09:24] task [xgboost.dask-3]:tcp://127.0.0.1:35531 got new rank 3\n"
     ]
    },
    {
     "name": "stdout",
     "output_type": "stream",
     "text": [
      "55.27% complete | Training ['TE_brand_target', 'price', 'relative_price_product', 'ts_hour', 'cat_2', 'relative_price_category', 'ts_weekday', 'brand', 'cat_2_count'].\r"
     ]
    },
    {
     "name": "stderr",
     "output_type": "stream",
     "text": [
      "[20:09:26] task [xgboost.dask-0]:tcp://127.0.0.1:37821 got new rank 0\n",
      "[20:09:26] task [xgboost.dask-1]:tcp://127.0.0.1:41067 got new rank 1\n",
      "[20:09:26] task [xgboost.dask-2]:tcp://127.0.0.1:38045 got new rank 2\n",
      "[20:09:26] task [xgboost.dask-3]:tcp://127.0.0.1:35531 got new rank 3\n"
     ]
    },
    {
     "name": "stdout",
     "output_type": "stream",
     "text": [
      "55.56% complete | Training ['TE_brand_target', 'price', 'relative_price_product', 'ts_hour', 'cat_2', 'relative_price_category', 'ts_weekday', 'brand', 'cat_3'].\r"
     ]
    },
    {
     "name": "stderr",
     "output_type": "stream",
     "text": [
      "[20:09:29] task [xgboost.dask-0]:tcp://127.0.0.1:37821 got new rank 0\n",
      "[20:09:29] task [xgboost.dask-1]:tcp://127.0.0.1:41067 got new rank 1\n",
      "[20:09:29] task [xgboost.dask-2]:tcp://127.0.0.1:38045 got new rank 2\n",
      "[20:09:29] task [xgboost.dask-3]:tcp://127.0.0.1:35531 got new rank 3\n"
     ]
    },
    {
     "name": "stdout",
     "output_type": "stream",
     "text": [
      "55.84% complete | Training ['TE_brand_target', 'price', 'relative_price_product', 'ts_hour', 'cat_2', 'relative_price_category', 'ts_weekday', 'brand', 'cat_2_target_sum'].\r"
     ]
    },
    {
     "name": "stderr",
     "output_type": "stream",
     "text": [
      "[20:09:32] task [xgboost.dask-0]:tcp://127.0.0.1:37821 got new rank 0\n",
      "[20:09:32] task [xgboost.dask-1]:tcp://127.0.0.1:41067 got new rank 1\n",
      "[20:09:32] task [xgboost.dask-2]:tcp://127.0.0.1:38045 got new rank 2\n",
      "[20:09:32] task [xgboost.dask-3]:tcp://127.0.0.1:35531 got new rank 3\n"
     ]
    },
    {
     "name": "stdout",
     "output_type": "stream",
     "text": [
      "56.13% complete | Training ['TE_brand_target', 'price', 'relative_price_product', 'ts_hour', 'cat_2', 'relative_price_category', 'ts_weekday', 'brand', 'cat_0_target_sum'].\r"
     ]
    },
    {
     "name": "stderr",
     "output_type": "stream",
     "text": [
      "[20:09:34] task [xgboost.dask-0]:tcp://127.0.0.1:37821 got new rank 0\n",
      "[20:09:34] task [xgboost.dask-1]:tcp://127.0.0.1:41067 got new rank 1\n",
      "[20:09:34] task [xgboost.dask-2]:tcp://127.0.0.1:38045 got new rank 2\n",
      "[20:09:34] task [xgboost.dask-3]:tcp://127.0.0.1:35531 got new rank 3\n"
     ]
    },
    {
     "name": "stdout",
     "output_type": "stream",
     "text": [
      "56.41% complete | Training ['TE_brand_target', 'price', 'relative_price_product', 'ts_hour', 'cat_2', 'relative_price_category', 'ts_weekday', 'brand', 'cat_0', 'cat_1'].\r"
     ]
    },
    {
     "name": "stderr",
     "output_type": "stream",
     "text": [
      "[20:09:37] task [xgboost.dask-0]:tcp://127.0.0.1:37821 got new rank 0\n",
      "[20:09:37] task [xgboost.dask-1]:tcp://127.0.0.1:41067 got new rank 1\n",
      "[20:09:37] task [xgboost.dask-2]:tcp://127.0.0.1:38045 got new rank 2\n",
      "[20:09:37] task [xgboost.dask-3]:tcp://127.0.0.1:35531 got new rank 3\n"
     ]
    },
    {
     "name": "stdout",
     "output_type": "stream",
     "text": [
      "56.7% complete | Training ['TE_brand_target', 'price', 'relative_price_product', 'ts_hour', 'cat_2', 'relative_price_category', 'ts_weekday', 'brand', 'cat_0', 'brand_count'].\r"
     ]
    },
    {
     "name": "stderr",
     "output_type": "stream",
     "text": [
      "[20:09:39] task [xgboost.dask-0]:tcp://127.0.0.1:37821 got new rank 0\n",
      "[20:09:39] task [xgboost.dask-1]:tcp://127.0.0.1:41067 got new rank 1\n",
      "[20:09:39] task [xgboost.dask-2]:tcp://127.0.0.1:38045 got new rank 2\n",
      "[20:09:39] task [xgboost.dask-3]:tcp://127.0.0.1:35531 got new rank 3\n"
     ]
    },
    {
     "name": "stdout",
     "output_type": "stream",
     "text": [
      "56.98% complete | Training ['TE_brand_target', 'price', 'relative_price_product', 'ts_hour', 'cat_2', 'relative_price_category', 'ts_weekday', 'brand', 'cat_0', 'cat_3_target_sum'].\r"
     ]
    },
    {
     "name": "stderr",
     "output_type": "stream",
     "text": [
      "[20:09:42] task [xgboost.dask-0]:tcp://127.0.0.1:37821 got new rank 0\n",
      "[20:09:42] task [xgboost.dask-1]:tcp://127.0.0.1:41067 got new rank 1\n",
      "[20:09:42] task [xgboost.dask-2]:tcp://127.0.0.1:38045 got new rank 2\n",
      "[20:09:42] task [xgboost.dask-3]:tcp://127.0.0.1:35531 got new rank 3\n"
     ]
    },
    {
     "name": "stdout",
     "output_type": "stream",
     "text": [
      "57.26% complete | Training ['TE_brand_target', 'price', 'relative_price_product', 'ts_hour', 'cat_2', 'relative_price_category', 'ts_weekday', 'brand', 'cat_0', 'ts_minute'].\r"
     ]
    },
    {
     "name": "stderr",
     "output_type": "stream",
     "text": [
      "[20:09:44] task [xgboost.dask-0]:tcp://127.0.0.1:37821 got new rank 0\n",
      "[20:09:44] task [xgboost.dask-1]:tcp://127.0.0.1:41067 got new rank 1\n",
      "[20:09:44] task [xgboost.dask-2]:tcp://127.0.0.1:38045 got new rank 2\n",
      "[20:09:44] task [xgboost.dask-3]:tcp://127.0.0.1:35531 got new rank 3\n"
     ]
    },
    {
     "name": "stdout",
     "output_type": "stream",
     "text": [
      "57.55% complete | Training ['TE_brand_target', 'price', 'relative_price_product', 'ts_hour', 'cat_2', 'relative_price_category', 'ts_weekday', 'brand', 'cat_0', 'TE_cat_0_target'].\r"
     ]
    },
    {
     "name": "stderr",
     "output_type": "stream",
     "text": [
      "[20:09:47] task [xgboost.dask-0]:tcp://127.0.0.1:37821 got new rank 0\n",
      "[20:09:47] task [xgboost.dask-1]:tcp://127.0.0.1:41067 got new rank 1\n",
      "[20:09:47] task [xgboost.dask-2]:tcp://127.0.0.1:38045 got new rank 2\n",
      "[20:09:47] task [xgboost.dask-3]:tcp://127.0.0.1:35531 got new rank 3\n"
     ]
    },
    {
     "name": "stdout",
     "output_type": "stream",
     "text": [
      "57.83% complete | Training ['TE_brand_target', 'price', 'relative_price_product', 'ts_hour', 'cat_2', 'relative_price_category', 'ts_weekday', 'brand', 'cat_0', 'TE_cat_3_target'].\r"
     ]
    },
    {
     "name": "stderr",
     "output_type": "stream",
     "text": [
      "[20:09:49] task [xgboost.dask-0]:tcp://127.0.0.1:37821 got new rank 0\n",
      "[20:09:49] task [xgboost.dask-1]:tcp://127.0.0.1:41067 got new rank 1\n",
      "[20:09:49] task [xgboost.dask-2]:tcp://127.0.0.1:38045 got new rank 2\n",
      "[20:09:49] task [xgboost.dask-3]:tcp://127.0.0.1:35531 got new rank 3\n"
     ]
    },
    {
     "name": "stdout",
     "output_type": "stream",
     "text": [
      "58.12% complete | Training ['TE_brand_target', 'price', 'relative_price_product', 'ts_hour', 'cat_2', 'relative_price_category', 'ts_weekday', 'brand', 'cat_0', 'cat_1_count'].\r"
     ]
    },
    {
     "name": "stderr",
     "output_type": "stream",
     "text": [
      "[20:09:52] task [xgboost.dask-0]:tcp://127.0.0.1:37821 got new rank 0\n",
      "[20:09:52] task [xgboost.dask-1]:tcp://127.0.0.1:41067 got new rank 1\n",
      "[20:09:52] task [xgboost.dask-2]:tcp://127.0.0.1:38045 got new rank 2\n",
      "[20:09:52] task [xgboost.dask-3]:tcp://127.0.0.1:35531 got new rank 3\n"
     ]
    },
    {
     "name": "stdout",
     "output_type": "stream",
     "text": [
      "58.4% complete | Training ['TE_brand_target', 'price', 'relative_price_product', 'ts_hour', 'cat_2', 'relative_price_category', 'ts_weekday', 'brand', 'cat_0', 'TE_cat_2_target'].\r"
     ]
    },
    {
     "name": "stderr",
     "output_type": "stream",
     "text": [
      "[20:09:54] task [xgboost.dask-0]:tcp://127.0.0.1:37821 got new rank 0\n",
      "[20:09:54] task [xgboost.dask-1]:tcp://127.0.0.1:41067 got new rank 1\n",
      "[20:09:54] task [xgboost.dask-2]:tcp://127.0.0.1:38045 got new rank 2\n",
      "[20:09:54] task [xgboost.dask-3]:tcp://127.0.0.1:35531 got new rank 3\n"
     ]
    },
    {
     "name": "stdout",
     "output_type": "stream",
     "text": [
      "58.69% complete | Training ['TE_brand_target', 'price', 'relative_price_product', 'ts_hour', 'cat_2', 'relative_price_category', 'ts_weekday', 'brand', 'cat_0', 'cat_3_count'].\r"
     ]
    },
    {
     "name": "stderr",
     "output_type": "stream",
     "text": [
      "[20:09:57] task [xgboost.dask-0]:tcp://127.0.0.1:37821 got new rank 0\n",
      "[20:09:57] task [xgboost.dask-1]:tcp://127.0.0.1:41067 got new rank 1\n",
      "[20:09:57] task [xgboost.dask-2]:tcp://127.0.0.1:38045 got new rank 2\n",
      "[20:09:57] task [xgboost.dask-3]:tcp://127.0.0.1:35531 got new rank 3\n"
     ]
    },
    {
     "name": "stdout",
     "output_type": "stream",
     "text": [
      "58.97% complete | Training ['TE_brand_target', 'price', 'relative_price_product', 'ts_hour', 'cat_2', 'relative_price_category', 'ts_weekday', 'brand', 'cat_0', 'TE_cat_1_target'].\r"
     ]
    },
    {
     "name": "stderr",
     "output_type": "stream",
     "text": [
      "[20:09:59] task [xgboost.dask-0]:tcp://127.0.0.1:37821 got new rank 0\n",
      "[20:09:59] task [xgboost.dask-1]:tcp://127.0.0.1:41067 got new rank 1\n",
      "[20:09:59] task [xgboost.dask-2]:tcp://127.0.0.1:38045 got new rank 2\n",
      "[20:09:59] task [xgboost.dask-3]:tcp://127.0.0.1:35531 got new rank 3\n"
     ]
    },
    {
     "name": "stdout",
     "output_type": "stream",
     "text": [
      "59.26% complete | Training ['TE_brand_target', 'price', 'relative_price_product', 'ts_hour', 'cat_2', 'relative_price_category', 'ts_weekday', 'brand', 'cat_0', 'cat_1_target_sum'].\r"
     ]
    },
    {
     "name": "stderr",
     "output_type": "stream",
     "text": [
      "[20:10:02] task [xgboost.dask-0]:tcp://127.0.0.1:37821 got new rank 0\n",
      "[20:10:02] task [xgboost.dask-1]:tcp://127.0.0.1:41067 got new rank 1\n",
      "[20:10:02] task [xgboost.dask-2]:tcp://127.0.0.1:38045 got new rank 2\n",
      "[20:10:02] task [xgboost.dask-3]:tcp://127.0.0.1:35531 got new rank 3\n"
     ]
    },
    {
     "name": "stdout",
     "output_type": "stream",
     "text": [
      "59.54% complete | Training ['TE_brand_target', 'price', 'relative_price_product', 'ts_hour', 'cat_2', 'relative_price_category', 'ts_weekday', 'brand', 'cat_0', 'cat_0_count'].\r"
     ]
    },
    {
     "name": "stderr",
     "output_type": "stream",
     "text": [
      "[20:10:04] task [xgboost.dask-0]:tcp://127.0.0.1:37821 got new rank 0\n",
      "[20:10:04] task [xgboost.dask-1]:tcp://127.0.0.1:41067 got new rank 1\n",
      "[20:10:04] task [xgboost.dask-2]:tcp://127.0.0.1:38045 got new rank 2\n",
      "[20:10:04] task [xgboost.dask-3]:tcp://127.0.0.1:35531 got new rank 3\n"
     ]
    },
    {
     "name": "stdout",
     "output_type": "stream",
     "text": [
      "59.83% complete | Training ['TE_brand_target', 'price', 'relative_price_product', 'ts_hour', 'cat_2', 'relative_price_category', 'ts_weekday', 'brand', 'cat_0', 'brand_target_sum'].\r"
     ]
    },
    {
     "name": "stderr",
     "output_type": "stream",
     "text": [
      "[20:10:07] task [xgboost.dask-0]:tcp://127.0.0.1:37821 got new rank 0\n",
      "[20:10:07] task [xgboost.dask-1]:tcp://127.0.0.1:41067 got new rank 1\n",
      "[20:10:07] task [xgboost.dask-2]:tcp://127.0.0.1:38045 got new rank 2\n",
      "[20:10:07] task [xgboost.dask-3]:tcp://127.0.0.1:35531 got new rank 3\n"
     ]
    },
    {
     "name": "stdout",
     "output_type": "stream",
     "text": [
      "60.11% complete | Training ['TE_brand_target', 'price', 'relative_price_product', 'ts_hour', 'cat_2', 'relative_price_category', 'ts_weekday', 'brand', 'cat_0', 'cat_2_count'].\r"
     ]
    },
    {
     "name": "stderr",
     "output_type": "stream",
     "text": [
      "[20:10:10] task [xgboost.dask-0]:tcp://127.0.0.1:37821 got new rank 0\n",
      "[20:10:10] task [xgboost.dask-1]:tcp://127.0.0.1:41067 got new rank 1\n",
      "[20:10:10] task [xgboost.dask-2]:tcp://127.0.0.1:38045 got new rank 2\n",
      "[20:10:10] task [xgboost.dask-3]:tcp://127.0.0.1:35531 got new rank 3\n"
     ]
    },
    {
     "name": "stdout",
     "output_type": "stream",
     "text": [
      "60.4% complete | Training ['TE_brand_target', 'price', 'relative_price_product', 'ts_hour', 'cat_2', 'relative_price_category', 'ts_weekday', 'brand', 'cat_0', 'cat_3'].\r"
     ]
    },
    {
     "name": "stderr",
     "output_type": "stream",
     "text": [
      "[20:10:12] task [xgboost.dask-0]:tcp://127.0.0.1:37821 got new rank 0\n",
      "[20:10:12] task [xgboost.dask-1]:tcp://127.0.0.1:41067 got new rank 1\n",
      "[20:10:12] task [xgboost.dask-2]:tcp://127.0.0.1:38045 got new rank 2\n",
      "[20:10:12] task [xgboost.dask-3]:tcp://127.0.0.1:35531 got new rank 3\n"
     ]
    },
    {
     "name": "stdout",
     "output_type": "stream",
     "text": [
      "60.68% complete | Training ['TE_brand_target', 'price', 'relative_price_product', 'ts_hour', 'cat_2', 'relative_price_category', 'ts_weekday', 'brand', 'cat_0', 'cat_2_target_sum'].\r"
     ]
    },
    {
     "name": "stderr",
     "output_type": "stream",
     "text": [
      "[20:10:15] task [xgboost.dask-0]:tcp://127.0.0.1:37821 got new rank 0\n",
      "[20:10:15] task [xgboost.dask-1]:tcp://127.0.0.1:41067 got new rank 1\n",
      "[20:10:15] task [xgboost.dask-2]:tcp://127.0.0.1:38045 got new rank 2\n",
      "[20:10:15] task [xgboost.dask-3]:tcp://127.0.0.1:35531 got new rank 3\n"
     ]
    },
    {
     "name": "stdout",
     "output_type": "stream",
     "text": [
      "60.97% complete | Training ['TE_brand_target', 'price', 'relative_price_product', 'ts_hour', 'cat_2', 'relative_price_category', 'ts_weekday', 'brand', 'cat_0', 'cat_0_target_sum'].\r"
     ]
    },
    {
     "name": "stderr",
     "output_type": "stream",
     "text": [
      "[20:10:17] task [xgboost.dask-0]:tcp://127.0.0.1:37821 got new rank 0\n",
      "[20:10:17] task [xgboost.dask-1]:tcp://127.0.0.1:41067 got new rank 1\n",
      "[20:10:17] task [xgboost.dask-2]:tcp://127.0.0.1:38045 got new rank 2\n",
      "[20:10:17] task [xgboost.dask-3]:tcp://127.0.0.1:35531 got new rank 3\n"
     ]
    },
    {
     "name": "stdout",
     "output_type": "stream",
     "text": [
      "61.25% complete | Training ['TE_brand_target', 'price', 'relative_price_product', 'ts_hour', 'cat_2', 'relative_price_category', 'ts_weekday', 'brand', 'cat_0', 'cat_3_target_sum', 'cat_1'].\r"
     ]
    },
    {
     "name": "stderr",
     "output_type": "stream",
     "text": [
      "[20:10:20] task [xgboost.dask-0]:tcp://127.0.0.1:37821 got new rank 0\n",
      "[20:10:20] task [xgboost.dask-1]:tcp://127.0.0.1:41067 got new rank 1\n",
      "[20:10:20] task [xgboost.dask-2]:tcp://127.0.0.1:38045 got new rank 2\n",
      "[20:10:20] task [xgboost.dask-3]:tcp://127.0.0.1:35531 got new rank 3\n"
     ]
    },
    {
     "name": "stdout",
     "output_type": "stream",
     "text": [
      "61.54% complete | Training ['TE_brand_target', 'price', 'relative_price_product', 'ts_hour', 'cat_2', 'relative_price_category', 'ts_weekday', 'brand', 'cat_0', 'cat_3_target_sum', 'brand_count'].\r"
     ]
    },
    {
     "name": "stderr",
     "output_type": "stream",
     "text": [
      "[20:10:22] task [xgboost.dask-0]:tcp://127.0.0.1:37821 got new rank 0\n",
      "[20:10:22] task [xgboost.dask-1]:tcp://127.0.0.1:41067 got new rank 1\n",
      "[20:10:22] task [xgboost.dask-2]:tcp://127.0.0.1:38045 got new rank 2\n",
      "[20:10:22] task [xgboost.dask-3]:tcp://127.0.0.1:35531 got new rank 3\n"
     ]
    },
    {
     "name": "stdout",
     "output_type": "stream",
     "text": [
      "61.82% complete | Training ['TE_brand_target', 'price', 'relative_price_product', 'ts_hour', 'cat_2', 'relative_price_category', 'ts_weekday', 'brand', 'cat_0', 'cat_3_target_sum', 'ts_minute'].\r"
     ]
    },
    {
     "name": "stderr",
     "output_type": "stream",
     "text": [
      "[20:10:25] task [xgboost.dask-0]:tcp://127.0.0.1:37821 got new rank 0\n",
      "[20:10:25] task [xgboost.dask-1]:tcp://127.0.0.1:41067 got new rank 1\n",
      "[20:10:25] task [xgboost.dask-2]:tcp://127.0.0.1:38045 got new rank 2\n",
      "[20:10:25] task [xgboost.dask-3]:tcp://127.0.0.1:35531 got new rank 3\n"
     ]
    },
    {
     "name": "stdout",
     "output_type": "stream",
     "text": [
      "62.11% complete | Training ['TE_brand_target', 'price', 'relative_price_product', 'ts_hour', 'cat_2', 'relative_price_category', 'ts_weekday', 'brand', 'cat_0', 'cat_3_target_sum', 'TE_cat_0_target'].\r"
     ]
    },
    {
     "name": "stderr",
     "output_type": "stream",
     "text": [
      "[20:10:28] task [xgboost.dask-0]:tcp://127.0.0.1:37821 got new rank 0\n",
      "[20:10:28] task [xgboost.dask-1]:tcp://127.0.0.1:41067 got new rank 1\n",
      "[20:10:28] task [xgboost.dask-2]:tcp://127.0.0.1:38045 got new rank 2\n",
      "[20:10:28] task [xgboost.dask-3]:tcp://127.0.0.1:35531 got new rank 3\n"
     ]
    },
    {
     "name": "stdout",
     "output_type": "stream",
     "text": [
      "62.39% complete | Training ['TE_brand_target', 'price', 'relative_price_product', 'ts_hour', 'cat_2', 'relative_price_category', 'ts_weekday', 'brand', 'cat_0', 'cat_3_target_sum', 'TE_cat_3_target'].\r"
     ]
    },
    {
     "name": "stderr",
     "output_type": "stream",
     "text": [
      "[20:10:30] task [xgboost.dask-0]:tcp://127.0.0.1:37821 got new rank 0\n",
      "[20:10:30] task [xgboost.dask-1]:tcp://127.0.0.1:41067 got new rank 1\n",
      "[20:10:30] task [xgboost.dask-2]:tcp://127.0.0.1:38045 got new rank 2\n",
      "[20:10:30] task [xgboost.dask-3]:tcp://127.0.0.1:35531 got new rank 3\n"
     ]
    },
    {
     "name": "stdout",
     "output_type": "stream",
     "text": [
      "62.68% complete | Training ['TE_brand_target', 'price', 'relative_price_product', 'ts_hour', 'cat_2', 'relative_price_category', 'ts_weekday', 'brand', 'cat_0', 'cat_3_target_sum', 'cat_1_count'].\r"
     ]
    },
    {
     "name": "stderr",
     "output_type": "stream",
     "text": [
      "[20:10:33] task [xgboost.dask-0]:tcp://127.0.0.1:37821 got new rank 0\n",
      "[20:10:33] task [xgboost.dask-1]:tcp://127.0.0.1:41067 got new rank 1\n",
      "[20:10:33] task [xgboost.dask-2]:tcp://127.0.0.1:38045 got new rank 2\n",
      "[20:10:33] task [xgboost.dask-3]:tcp://127.0.0.1:35531 got new rank 3\n"
     ]
    },
    {
     "name": "stdout",
     "output_type": "stream",
     "text": [
      "62.96% complete | Training ['TE_brand_target', 'price', 'relative_price_product', 'ts_hour', 'cat_2', 'relative_price_category', 'ts_weekday', 'brand', 'cat_0', 'cat_3_target_sum', 'TE_cat_2_target'].\r"
     ]
    },
    {
     "name": "stderr",
     "output_type": "stream",
     "text": [
      "[20:10:35] task [xgboost.dask-0]:tcp://127.0.0.1:37821 got new rank 0\n",
      "[20:10:35] task [xgboost.dask-1]:tcp://127.0.0.1:41067 got new rank 1\n",
      "[20:10:35] task [xgboost.dask-2]:tcp://127.0.0.1:38045 got new rank 2\n",
      "[20:10:35] task [xgboost.dask-3]:tcp://127.0.0.1:35531 got new rank 3\n"
     ]
    },
    {
     "name": "stdout",
     "output_type": "stream",
     "text": [
      "63.25% complete | Training ['TE_brand_target', 'price', 'relative_price_product', 'ts_hour', 'cat_2', 'relative_price_category', 'ts_weekday', 'brand', 'cat_0', 'cat_3_target_sum', 'cat_3_count'].\r"
     ]
    },
    {
     "name": "stderr",
     "output_type": "stream",
     "text": [
      "[20:10:38] task [xgboost.dask-0]:tcp://127.0.0.1:37821 got new rank 0\n",
      "[20:10:38] task [xgboost.dask-1]:tcp://127.0.0.1:41067 got new rank 1\n",
      "[20:10:38] task [xgboost.dask-2]:tcp://127.0.0.1:38045 got new rank 2\n",
      "[20:10:38] task [xgboost.dask-3]:tcp://127.0.0.1:35531 got new rank 3\n"
     ]
    },
    {
     "name": "stdout",
     "output_type": "stream",
     "text": [
      "63.53% complete | Training ['TE_brand_target', 'price', 'relative_price_product', 'ts_hour', 'cat_2', 'relative_price_category', 'ts_weekday', 'brand', 'cat_0', 'cat_3_target_sum', 'TE_cat_1_target'].\r"
     ]
    },
    {
     "name": "stderr",
     "output_type": "stream",
     "text": [
      "[20:10:41] task [xgboost.dask-0]:tcp://127.0.0.1:37821 got new rank 0\n",
      "[20:10:41] task [xgboost.dask-1]:tcp://127.0.0.1:41067 got new rank 1\n",
      "[20:10:41] task [xgboost.dask-2]:tcp://127.0.0.1:38045 got new rank 2\n",
      "[20:10:41] task [xgboost.dask-3]:tcp://127.0.0.1:35531 got new rank 3\n"
     ]
    },
    {
     "name": "stdout",
     "output_type": "stream",
     "text": [
      "63.82% complete | Training ['TE_brand_target', 'price', 'relative_price_product', 'ts_hour', 'cat_2', 'relative_price_category', 'ts_weekday', 'brand', 'cat_0', 'cat_3_target_sum', 'cat_1_target_sum'].\r"
     ]
    },
    {
     "name": "stderr",
     "output_type": "stream",
     "text": [
      "[20:10:43] task [xgboost.dask-0]:tcp://127.0.0.1:37821 got new rank 0\n",
      "[20:10:43] task [xgboost.dask-1]:tcp://127.0.0.1:41067 got new rank 1\n",
      "[20:10:43] task [xgboost.dask-2]:tcp://127.0.0.1:38045 got new rank 2\n",
      "[20:10:43] task [xgboost.dask-3]:tcp://127.0.0.1:35531 got new rank 3\n"
     ]
    },
    {
     "name": "stdout",
     "output_type": "stream",
     "text": [
      "64.1% complete | Training ['TE_brand_target', 'price', 'relative_price_product', 'ts_hour', 'cat_2', 'relative_price_category', 'ts_weekday', 'brand', 'cat_0', 'cat_3_target_sum', 'cat_0_count'].\r"
     ]
    },
    {
     "name": "stderr",
     "output_type": "stream",
     "text": [
      "[20:10:46] task [xgboost.dask-0]:tcp://127.0.0.1:37821 got new rank 0\n",
      "[20:10:46] task [xgboost.dask-1]:tcp://127.0.0.1:41067 got new rank 1\n",
      "[20:10:46] task [xgboost.dask-2]:tcp://127.0.0.1:38045 got new rank 2\n",
      "[20:10:46] task [xgboost.dask-3]:tcp://127.0.0.1:35531 got new rank 3\n"
     ]
    },
    {
     "name": "stdout",
     "output_type": "stream",
     "text": [
      "64.39% complete | Training ['TE_brand_target', 'price', 'relative_price_product', 'ts_hour', 'cat_2', 'relative_price_category', 'ts_weekday', 'brand', 'cat_0', 'cat_3_target_sum', 'brand_target_sum'].\r"
     ]
    },
    {
     "name": "stderr",
     "output_type": "stream",
     "text": [
      "[20:10:48] task [xgboost.dask-0]:tcp://127.0.0.1:37821 got new rank 0\n",
      "[20:10:48] task [xgboost.dask-1]:tcp://127.0.0.1:41067 got new rank 1\n",
      "[20:10:48] task [xgboost.dask-2]:tcp://127.0.0.1:38045 got new rank 2\n",
      "[20:10:48] task [xgboost.dask-3]:tcp://127.0.0.1:35531 got new rank 3\n"
     ]
    },
    {
     "name": "stdout",
     "output_type": "stream",
     "text": [
      "64.67% complete | Training ['TE_brand_target', 'price', 'relative_price_product', 'ts_hour', 'cat_2', 'relative_price_category', 'ts_weekday', 'brand', 'cat_0', 'cat_3_target_sum', 'cat_2_count'].\r"
     ]
    },
    {
     "name": "stderr",
     "output_type": "stream",
     "text": [
      "[20:10:51] task [xgboost.dask-0]:tcp://127.0.0.1:37821 got new rank 0\n",
      "[20:10:51] task [xgboost.dask-1]:tcp://127.0.0.1:41067 got new rank 1\n",
      "[20:10:51] task [xgboost.dask-2]:tcp://127.0.0.1:38045 got new rank 2\n",
      "[20:10:51] task [xgboost.dask-3]:tcp://127.0.0.1:35531 got new rank 3\n"
     ]
    },
    {
     "name": "stdout",
     "output_type": "stream",
     "text": [
      "64.96% complete | Training ['TE_brand_target', 'price', 'relative_price_product', 'ts_hour', 'cat_2', 'relative_price_category', 'ts_weekday', 'brand', 'cat_0', 'cat_3_target_sum', 'cat_3'].\r"
     ]
    },
    {
     "name": "stderr",
     "output_type": "stream",
     "text": [
      "[20:10:53] task [xgboost.dask-0]:tcp://127.0.0.1:37821 got new rank 0\n",
      "[20:10:53] task [xgboost.dask-1]:tcp://127.0.0.1:41067 got new rank 1\n",
      "[20:10:53] task [xgboost.dask-2]:tcp://127.0.0.1:38045 got new rank 2\n",
      "[20:10:53] task [xgboost.dask-3]:tcp://127.0.0.1:35531 got new rank 3\n"
     ]
    },
    {
     "name": "stdout",
     "output_type": "stream",
     "text": [
      "65.24% complete | Training ['TE_brand_target', 'price', 'relative_price_product', 'ts_hour', 'cat_2', 'relative_price_category', 'ts_weekday', 'brand', 'cat_0', 'cat_3_target_sum', 'cat_2_target_sum'].\r"
     ]
    },
    {
     "name": "stderr",
     "output_type": "stream",
     "text": [
      "[20:10:56] task [xgboost.dask-0]:tcp://127.0.0.1:37821 got new rank 0\n",
      "[20:10:56] task [xgboost.dask-1]:tcp://127.0.0.1:41067 got new rank 1\n",
      "[20:10:56] task [xgboost.dask-2]:tcp://127.0.0.1:38045 got new rank 2\n",
      "[20:10:56] task [xgboost.dask-3]:tcp://127.0.0.1:35531 got new rank 3\n"
     ]
    },
    {
     "name": "stdout",
     "output_type": "stream",
     "text": [
      "65.53% complete | Training ['TE_brand_target', 'price', 'relative_price_product', 'ts_hour', 'cat_2', 'relative_price_category', 'ts_weekday', 'brand', 'cat_0', 'cat_3_target_sum', 'cat_0_target_sum'].\r"
     ]
    },
    {
     "name": "stderr",
     "output_type": "stream",
     "text": [
      "[20:10:59] task [xgboost.dask-0]:tcp://127.0.0.1:37821 got new rank 0\n",
      "[20:10:59] task [xgboost.dask-1]:tcp://127.0.0.1:41067 got new rank 1\n",
      "[20:10:59] task [xgboost.dask-2]:tcp://127.0.0.1:38045 got new rank 2\n",
      "[20:10:59] task [xgboost.dask-3]:tcp://127.0.0.1:35531 got new rank 3\n"
     ]
    },
    {
     "name": "stdout",
     "output_type": "stream",
     "text": [
      "65.81% complete | Training ['TE_brand_target', 'price', 'relative_price_product', 'ts_hour', 'cat_2', 'relative_price_category', 'ts_weekday', 'brand', 'cat_0', 'cat_3_target_sum', 'cat_3_count', 'cat_1'].\r"
     ]
    },
    {
     "name": "stderr",
     "output_type": "stream",
     "text": [
      "[20:11:01] task [xgboost.dask-0]:tcp://127.0.0.1:37821 got new rank 0\n",
      "[20:11:01] task [xgboost.dask-1]:tcp://127.0.0.1:41067 got new rank 1\n",
      "[20:11:01] task [xgboost.dask-2]:tcp://127.0.0.1:38045 got new rank 2\n",
      "[20:11:01] task [xgboost.dask-3]:tcp://127.0.0.1:35531 got new rank 3\n"
     ]
    },
    {
     "name": "stdout",
     "output_type": "stream",
     "text": [
      "66.1% complete | Training ['TE_brand_target', 'price', 'relative_price_product', 'ts_hour', 'cat_2', 'relative_price_category', 'ts_weekday', 'brand', 'cat_0', 'cat_3_target_sum', 'cat_3_count', 'brand_count'].\r"
     ]
    },
    {
     "name": "stderr",
     "output_type": "stream",
     "text": [
      "[20:11:04] task [xgboost.dask-0]:tcp://127.0.0.1:37821 got new rank 0\n",
      "[20:11:04] task [xgboost.dask-1]:tcp://127.0.0.1:41067 got new rank 1\n",
      "[20:11:04] task [xgboost.dask-2]:tcp://127.0.0.1:38045 got new rank 2\n",
      "[20:11:04] task [xgboost.dask-3]:tcp://127.0.0.1:35531 got new rank 3\n"
     ]
    },
    {
     "name": "stdout",
     "output_type": "stream",
     "text": [
      "66.38% complete | Training ['TE_brand_target', 'price', 'relative_price_product', 'ts_hour', 'cat_2', 'relative_price_category', 'ts_weekday', 'brand', 'cat_0', 'cat_3_target_sum', 'cat_3_count', 'ts_minute'].\r"
     ]
    },
    {
     "name": "stderr",
     "output_type": "stream",
     "text": [
      "[20:11:06] task [xgboost.dask-0]:tcp://127.0.0.1:37821 got new rank 0\n",
      "[20:11:06] task [xgboost.dask-1]:tcp://127.0.0.1:41067 got new rank 1\n",
      "[20:11:06] task [xgboost.dask-2]:tcp://127.0.0.1:38045 got new rank 2\n",
      "[20:11:06] task [xgboost.dask-3]:tcp://127.0.0.1:35531 got new rank 3\n"
     ]
    },
    {
     "name": "stdout",
     "output_type": "stream",
     "text": [
      "66.67% complete | Training ['TE_brand_target', 'price', 'relative_price_product', 'ts_hour', 'cat_2', 'relative_price_category', 'ts_weekday', 'brand', 'cat_0', 'cat_3_target_sum', 'cat_3_count', 'TE_cat_0_target'].\r"
     ]
    },
    {
     "name": "stderr",
     "output_type": "stream",
     "text": [
      "[20:11:09] task [xgboost.dask-0]:tcp://127.0.0.1:37821 got new rank 0\n",
      "[20:11:09] task [xgboost.dask-1]:tcp://127.0.0.1:41067 got new rank 1\n",
      "[20:11:09] task [xgboost.dask-2]:tcp://127.0.0.1:38045 got new rank 2\n",
      "[20:11:09] task [xgboost.dask-3]:tcp://127.0.0.1:35531 got new rank 3\n"
     ]
    },
    {
     "name": "stdout",
     "output_type": "stream",
     "text": [
      "66.95% complete | Training ['TE_brand_target', 'price', 'relative_price_product', 'ts_hour', 'cat_2', 'relative_price_category', 'ts_weekday', 'brand', 'cat_0', 'cat_3_target_sum', 'cat_3_count', 'TE_cat_3_target'].\r"
     ]
    },
    {
     "name": "stderr",
     "output_type": "stream",
     "text": [
      "[20:11:12] task [xgboost.dask-0]:tcp://127.0.0.1:37821 got new rank 0\n",
      "[20:11:12] task [xgboost.dask-1]:tcp://127.0.0.1:41067 got new rank 1\n",
      "[20:11:12] task [xgboost.dask-2]:tcp://127.0.0.1:38045 got new rank 2\n",
      "[20:11:12] task [xgboost.dask-3]:tcp://127.0.0.1:35531 got new rank 3\n"
     ]
    },
    {
     "name": "stdout",
     "output_type": "stream",
     "text": [
      "67.24% complete | Training ['TE_brand_target', 'price', 'relative_price_product', 'ts_hour', 'cat_2', 'relative_price_category', 'ts_weekday', 'brand', 'cat_0', 'cat_3_target_sum', 'cat_3_count', 'cat_1_count'].\r"
     ]
    },
    {
     "name": "stderr",
     "output_type": "stream",
     "text": [
      "[20:11:14] task [xgboost.dask-0]:tcp://127.0.0.1:37821 got new rank 0\n",
      "[20:11:14] task [xgboost.dask-1]:tcp://127.0.0.1:41067 got new rank 1\n",
      "[20:11:14] task [xgboost.dask-2]:tcp://127.0.0.1:38045 got new rank 2\n",
      "[20:11:14] task [xgboost.dask-3]:tcp://127.0.0.1:35531 got new rank 3\n"
     ]
    },
    {
     "name": "stdout",
     "output_type": "stream",
     "text": [
      "67.52% complete | Training ['TE_brand_target', 'price', 'relative_price_product', 'ts_hour', 'cat_2', 'relative_price_category', 'ts_weekday', 'brand', 'cat_0', 'cat_3_target_sum', 'cat_3_count', 'TE_cat_2_target'].\r"
     ]
    },
    {
     "name": "stderr",
     "output_type": "stream",
     "text": [
      "[20:11:17] task [xgboost.dask-0]:tcp://127.0.0.1:37821 got new rank 0\n",
      "[20:11:17] task [xgboost.dask-1]:tcp://127.0.0.1:41067 got new rank 1\n",
      "[20:11:17] task [xgboost.dask-2]:tcp://127.0.0.1:38045 got new rank 2\n",
      "[20:11:17] task [xgboost.dask-3]:tcp://127.0.0.1:35531 got new rank 3\n"
     ]
    },
    {
     "name": "stdout",
     "output_type": "stream",
     "text": [
      "67.81% complete | Training ['TE_brand_target', 'price', 'relative_price_product', 'ts_hour', 'cat_2', 'relative_price_category', 'ts_weekday', 'brand', 'cat_0', 'cat_3_target_sum', 'cat_3_count', 'TE_cat_1_target'].\r"
     ]
    },
    {
     "name": "stderr",
     "output_type": "stream",
     "text": [
      "[20:11:20] task [xgboost.dask-0]:tcp://127.0.0.1:37821 got new rank 0\n",
      "[20:11:20] task [xgboost.dask-1]:tcp://127.0.0.1:41067 got new rank 1\n",
      "[20:11:20] task [xgboost.dask-2]:tcp://127.0.0.1:38045 got new rank 2\n",
      "[20:11:20] task [xgboost.dask-3]:tcp://127.0.0.1:35531 got new rank 3\n"
     ]
    },
    {
     "name": "stdout",
     "output_type": "stream",
     "text": [
      "68.09% complete | Training ['TE_brand_target', 'price', 'relative_price_product', 'ts_hour', 'cat_2', 'relative_price_category', 'ts_weekday', 'brand', 'cat_0', 'cat_3_target_sum', 'cat_3_count', 'cat_1_target_sum'].\r"
     ]
    },
    {
     "name": "stderr",
     "output_type": "stream",
     "text": [
      "[20:11:22] task [xgboost.dask-0]:tcp://127.0.0.1:37821 got new rank 0\n",
      "[20:11:22] task [xgboost.dask-1]:tcp://127.0.0.1:41067 got new rank 1\n",
      "[20:11:22] task [xgboost.dask-2]:tcp://127.0.0.1:38045 got new rank 2\n",
      "[20:11:22] task [xgboost.dask-3]:tcp://127.0.0.1:35531 got new rank 3\n"
     ]
    },
    {
     "name": "stdout",
     "output_type": "stream",
     "text": [
      "68.38% complete | Training ['TE_brand_target', 'price', 'relative_price_product', 'ts_hour', 'cat_2', 'relative_price_category', 'ts_weekday', 'brand', 'cat_0', 'cat_3_target_sum', 'cat_3_count', 'cat_0_count'].\r"
     ]
    },
    {
     "name": "stderr",
     "output_type": "stream",
     "text": [
      "[20:11:25] task [xgboost.dask-0]:tcp://127.0.0.1:37821 got new rank 0\n",
      "[20:11:25] task [xgboost.dask-1]:tcp://127.0.0.1:41067 got new rank 1\n",
      "[20:11:25] task [xgboost.dask-2]:tcp://127.0.0.1:38045 got new rank 2\n",
      "[20:11:25] task [xgboost.dask-3]:tcp://127.0.0.1:35531 got new rank 3\n"
     ]
    },
    {
     "name": "stdout",
     "output_type": "stream",
     "text": [
      "68.66% complete | Training ['TE_brand_target', 'price', 'relative_price_product', 'ts_hour', 'cat_2', 'relative_price_category', 'ts_weekday', 'brand', 'cat_0', 'cat_3_target_sum', 'cat_3_count', 'brand_target_sum'].\r"
     ]
    },
    {
     "name": "stderr",
     "output_type": "stream",
     "text": [
      "[20:11:27] task [xgboost.dask-0]:tcp://127.0.0.1:37821 got new rank 0\n",
      "[20:11:27] task [xgboost.dask-1]:tcp://127.0.0.1:41067 got new rank 1\n",
      "[20:11:27] task [xgboost.dask-2]:tcp://127.0.0.1:38045 got new rank 2\n",
      "[20:11:27] task [xgboost.dask-3]:tcp://127.0.0.1:35531 got new rank 3\n"
     ]
    },
    {
     "name": "stdout",
     "output_type": "stream",
     "text": [
      "68.95% complete | Training ['TE_brand_target', 'price', 'relative_price_product', 'ts_hour', 'cat_2', 'relative_price_category', 'ts_weekday', 'brand', 'cat_0', 'cat_3_target_sum', 'cat_3_count', 'cat_2_count'].\r"
     ]
    },
    {
     "name": "stderr",
     "output_type": "stream",
     "text": [
      "[20:11:30] task [xgboost.dask-0]:tcp://127.0.0.1:37821 got new rank 0\n",
      "[20:11:30] task [xgboost.dask-1]:tcp://127.0.0.1:41067 got new rank 1\n",
      "[20:11:30] task [xgboost.dask-2]:tcp://127.0.0.1:38045 got new rank 2\n",
      "[20:11:30] task [xgboost.dask-3]:tcp://127.0.0.1:35531 got new rank 3\n"
     ]
    },
    {
     "name": "stdout",
     "output_type": "stream",
     "text": [
      "69.23% complete | Training ['TE_brand_target', 'price', 'relative_price_product', 'ts_hour', 'cat_2', 'relative_price_category', 'ts_weekday', 'brand', 'cat_0', 'cat_3_target_sum', 'cat_3_count', 'cat_3'].\r"
     ]
    },
    {
     "name": "stderr",
     "output_type": "stream",
     "text": [
      "[20:11:33] task [xgboost.dask-0]:tcp://127.0.0.1:37821 got new rank 0\n",
      "[20:11:33] task [xgboost.dask-1]:tcp://127.0.0.1:41067 got new rank 1\n",
      "[20:11:33] task [xgboost.dask-2]:tcp://127.0.0.1:38045 got new rank 2\n",
      "[20:11:33] task [xgboost.dask-3]:tcp://127.0.0.1:35531 got new rank 3\n"
     ]
    },
    {
     "name": "stdout",
     "output_type": "stream",
     "text": [
      "69.52% complete | Training ['TE_brand_target', 'price', 'relative_price_product', 'ts_hour', 'cat_2', 'relative_price_category', 'ts_weekday', 'brand', 'cat_0', 'cat_3_target_sum', 'cat_3_count', 'cat_2_target_sum'].\r"
     ]
    },
    {
     "name": "stderr",
     "output_type": "stream",
     "text": [
      "[20:11:35] task [xgboost.dask-0]:tcp://127.0.0.1:37821 got new rank 0\n",
      "[20:11:35] task [xgboost.dask-1]:tcp://127.0.0.1:41067 got new rank 1\n",
      "[20:11:35] task [xgboost.dask-2]:tcp://127.0.0.1:38045 got new rank 2\n",
      "[20:11:35] task [xgboost.dask-3]:tcp://127.0.0.1:35531 got new rank 3\n"
     ]
    },
    {
     "name": "stdout",
     "output_type": "stream",
     "text": [
      "69.8% complete | Training ['TE_brand_target', 'price', 'relative_price_product', 'ts_hour', 'cat_2', 'relative_price_category', 'ts_weekday', 'brand', 'cat_0', 'cat_3_target_sum', 'cat_3_count', 'cat_0_target_sum'].\r"
     ]
    },
    {
     "name": "stderr",
     "output_type": "stream",
     "text": [
      "[20:11:38] task [xgboost.dask-0]:tcp://127.0.0.1:37821 got new rank 0\n",
      "[20:11:38] task [xgboost.dask-1]:tcp://127.0.0.1:41067 got new rank 1\n",
      "[20:11:38] task [xgboost.dask-2]:tcp://127.0.0.1:38045 got new rank 2\n",
      "[20:11:38] task [xgboost.dask-3]:tcp://127.0.0.1:35531 got new rank 3\n"
     ]
    },
    {
     "name": "stdout",
     "output_type": "stream",
     "text": [
      "70.09% complete | Training ['TE_brand_target', 'price', 'relative_price_product', 'ts_hour', 'cat_2', 'relative_price_category', 'ts_weekday', 'brand', 'cat_0', 'cat_3_target_sum', 'cat_3_count', 'cat_0_count', 'cat_1'].\r"
     ]
    },
    {
     "name": "stderr",
     "output_type": "stream",
     "text": [
      "[20:11:40] task [xgboost.dask-0]:tcp://127.0.0.1:37821 got new rank 0\n",
      "[20:11:40] task [xgboost.dask-1]:tcp://127.0.0.1:41067 got new rank 1\n",
      "[20:11:40] task [xgboost.dask-2]:tcp://127.0.0.1:38045 got new rank 2\n",
      "[20:11:40] task [xgboost.dask-3]:tcp://127.0.0.1:35531 got new rank 3\n"
     ]
    },
    {
     "name": "stdout",
     "output_type": "stream",
     "text": [
      "70.37% complete | Training ['TE_brand_target', 'price', 'relative_price_product', 'ts_hour', 'cat_2', 'relative_price_category', 'ts_weekday', 'brand', 'cat_0', 'cat_3_target_sum', 'cat_3_count', 'cat_0_count', 'brand_count'].\r"
     ]
    },
    {
     "name": "stderr",
     "output_type": "stream",
     "text": [
      "[20:11:43] task [xgboost.dask-0]:tcp://127.0.0.1:37821 got new rank 0\n",
      "[20:11:43] task [xgboost.dask-1]:tcp://127.0.0.1:41067 got new rank 1\n",
      "[20:11:43] task [xgboost.dask-2]:tcp://127.0.0.1:38045 got new rank 2\n",
      "[20:11:43] task [xgboost.dask-3]:tcp://127.0.0.1:35531 got new rank 3\n"
     ]
    },
    {
     "name": "stdout",
     "output_type": "stream",
     "text": [
      "70.66% complete | Training ['TE_brand_target', 'price', 'relative_price_product', 'ts_hour', 'cat_2', 'relative_price_category', 'ts_weekday', 'brand', 'cat_0', 'cat_3_target_sum', 'cat_3_count', 'cat_0_count', 'ts_minute'].\r"
     ]
    },
    {
     "name": "stderr",
     "output_type": "stream",
     "text": [
      "[20:11:46] task [xgboost.dask-0]:tcp://127.0.0.1:37821 got new rank 0\n",
      "[20:11:46] task [xgboost.dask-1]:tcp://127.0.0.1:41067 got new rank 1\n",
      "[20:11:46] task [xgboost.dask-2]:tcp://127.0.0.1:38045 got new rank 2\n",
      "[20:11:46] task [xgboost.dask-3]:tcp://127.0.0.1:35531 got new rank 3\n"
     ]
    },
    {
     "name": "stdout",
     "output_type": "stream",
     "text": [
      "70.94% complete | Training ['TE_brand_target', 'price', 'relative_price_product', 'ts_hour', 'cat_2', 'relative_price_category', 'ts_weekday', 'brand', 'cat_0', 'cat_3_target_sum', 'cat_3_count', 'cat_0_count', 'TE_cat_0_target'].\r"
     ]
    },
    {
     "name": "stderr",
     "output_type": "stream",
     "text": [
      "[20:11:48] task [xgboost.dask-0]:tcp://127.0.0.1:37821 got new rank 0\n",
      "[20:11:48] task [xgboost.dask-1]:tcp://127.0.0.1:41067 got new rank 1\n",
      "[20:11:48] task [xgboost.dask-2]:tcp://127.0.0.1:38045 got new rank 2\n",
      "[20:11:48] task [xgboost.dask-3]:tcp://127.0.0.1:35531 got new rank 3\n"
     ]
    },
    {
     "name": "stdout",
     "output_type": "stream",
     "text": [
      "71.23% complete | Training ['TE_brand_target', 'price', 'relative_price_product', 'ts_hour', 'cat_2', 'relative_price_category', 'ts_weekday', 'brand', 'cat_0', 'cat_3_target_sum', 'cat_3_count', 'cat_0_count', 'TE_cat_3_target'].\r"
     ]
    },
    {
     "name": "stderr",
     "output_type": "stream",
     "text": [
      "[20:11:51] task [xgboost.dask-0]:tcp://127.0.0.1:37821 got new rank 0\n",
      "[20:11:51] task [xgboost.dask-1]:tcp://127.0.0.1:41067 got new rank 1\n",
      "[20:11:51] task [xgboost.dask-2]:tcp://127.0.0.1:38045 got new rank 2\n",
      "[20:11:51] task [xgboost.dask-3]:tcp://127.0.0.1:35531 got new rank 3\n"
     ]
    },
    {
     "name": "stdout",
     "output_type": "stream",
     "text": [
      "71.51% complete | Training ['TE_brand_target', 'price', 'relative_price_product', 'ts_hour', 'cat_2', 'relative_price_category', 'ts_weekday', 'brand', 'cat_0', 'cat_3_target_sum', 'cat_3_count', 'cat_0_count', 'cat_1_count'].\r"
     ]
    },
    {
     "name": "stderr",
     "output_type": "stream",
     "text": [
      "[20:11:54] task [xgboost.dask-0]:tcp://127.0.0.1:37821 got new rank 0\n",
      "[20:11:54] task [xgboost.dask-1]:tcp://127.0.0.1:41067 got new rank 1\n",
      "[20:11:54] task [xgboost.dask-2]:tcp://127.0.0.1:38045 got new rank 2\n",
      "[20:11:54] task [xgboost.dask-3]:tcp://127.0.0.1:35531 got new rank 3\n"
     ]
    },
    {
     "name": "stdout",
     "output_type": "stream",
     "text": [
      "71.79% complete | Training ['TE_brand_target', 'price', 'relative_price_product', 'ts_hour', 'cat_2', 'relative_price_category', 'ts_weekday', 'brand', 'cat_0', 'cat_3_target_sum', 'cat_3_count', 'cat_0_count', 'TE_cat_2_target'].\r"
     ]
    },
    {
     "name": "stderr",
     "output_type": "stream",
     "text": [
      "[20:11:56] task [xgboost.dask-0]:tcp://127.0.0.1:37821 got new rank 0\n",
      "[20:11:56] task [xgboost.dask-1]:tcp://127.0.0.1:41067 got new rank 1\n",
      "[20:11:56] task [xgboost.dask-2]:tcp://127.0.0.1:38045 got new rank 2\n",
      "[20:11:56] task [xgboost.dask-3]:tcp://127.0.0.1:35531 got new rank 3\n"
     ]
    },
    {
     "name": "stdout",
     "output_type": "stream",
     "text": [
      "72.08% complete | Training ['TE_brand_target', 'price', 'relative_price_product', 'ts_hour', 'cat_2', 'relative_price_category', 'ts_weekday', 'brand', 'cat_0', 'cat_3_target_sum', 'cat_3_count', 'cat_0_count', 'TE_cat_1_target'].\r"
     ]
    },
    {
     "name": "stderr",
     "output_type": "stream",
     "text": [
      "[20:11:59] task [xgboost.dask-0]:tcp://127.0.0.1:37821 got new rank 0\n",
      "[20:11:59] task [xgboost.dask-1]:tcp://127.0.0.1:41067 got new rank 1\n",
      "[20:11:59] task [xgboost.dask-2]:tcp://127.0.0.1:38045 got new rank 2\n",
      "[20:11:59] task [xgboost.dask-3]:tcp://127.0.0.1:35531 got new rank 3\n"
     ]
    },
    {
     "name": "stdout",
     "output_type": "stream",
     "text": [
      "72.36% complete | Training ['TE_brand_target', 'price', 'relative_price_product', 'ts_hour', 'cat_2', 'relative_price_category', 'ts_weekday', 'brand', 'cat_0', 'cat_3_target_sum', 'cat_3_count', 'cat_0_count', 'cat_1_target_sum'].\r"
     ]
    },
    {
     "name": "stderr",
     "output_type": "stream",
     "text": [
      "[20:12:01] task [xgboost.dask-0]:tcp://127.0.0.1:37821 got new rank 0\n",
      "[20:12:01] task [xgboost.dask-1]:tcp://127.0.0.1:41067 got new rank 1\n",
      "[20:12:01] task [xgboost.dask-2]:tcp://127.0.0.1:38045 got new rank 2\n",
      "[20:12:01] task [xgboost.dask-3]:tcp://127.0.0.1:35531 got new rank 3\n"
     ]
    },
    {
     "name": "stdout",
     "output_type": "stream",
     "text": [
      "72.65% complete | Training ['TE_brand_target', 'price', 'relative_price_product', 'ts_hour', 'cat_2', 'relative_price_category', 'ts_weekday', 'brand', 'cat_0', 'cat_3_target_sum', 'cat_3_count', 'cat_0_count', 'brand_target_sum'].\r"
     ]
    },
    {
     "name": "stderr",
     "output_type": "stream",
     "text": [
      "[20:12:04] task [xgboost.dask-0]:tcp://127.0.0.1:37821 got new rank 0\n",
      "[20:12:04] task [xgboost.dask-1]:tcp://127.0.0.1:41067 got new rank 1\n",
      "[20:12:04] task [xgboost.dask-2]:tcp://127.0.0.1:38045 got new rank 2\n",
      "[20:12:04] task [xgboost.dask-3]:tcp://127.0.0.1:35531 got new rank 3\n"
     ]
    },
    {
     "name": "stdout",
     "output_type": "stream",
     "text": [
      "72.93% complete | Training ['TE_brand_target', 'price', 'relative_price_product', 'ts_hour', 'cat_2', 'relative_price_category', 'ts_weekday', 'brand', 'cat_0', 'cat_3_target_sum', 'cat_3_count', 'cat_0_count', 'cat_2_count'].\r"
     ]
    },
    {
     "name": "stderr",
     "output_type": "stream",
     "text": [
      "[20:12:07] task [xgboost.dask-0]:tcp://127.0.0.1:37821 got new rank 0\n",
      "[20:12:07] task [xgboost.dask-1]:tcp://127.0.0.1:41067 got new rank 1\n",
      "[20:12:07] task [xgboost.dask-2]:tcp://127.0.0.1:38045 got new rank 2\n",
      "[20:12:07] task [xgboost.dask-3]:tcp://127.0.0.1:35531 got new rank 3\n"
     ]
    },
    {
     "name": "stdout",
     "output_type": "stream",
     "text": [
      "73.22% complete | Training ['TE_brand_target', 'price', 'relative_price_product', 'ts_hour', 'cat_2', 'relative_price_category', 'ts_weekday', 'brand', 'cat_0', 'cat_3_target_sum', 'cat_3_count', 'cat_0_count', 'cat_3'].\r"
     ]
    },
    {
     "name": "stderr",
     "output_type": "stream",
     "text": [
      "[20:12:09] task [xgboost.dask-0]:tcp://127.0.0.1:37821 got new rank 0\n",
      "[20:12:09] task [xgboost.dask-1]:tcp://127.0.0.1:41067 got new rank 1\n",
      "[20:12:09] task [xgboost.dask-2]:tcp://127.0.0.1:38045 got new rank 2\n",
      "[20:12:09] task [xgboost.dask-3]:tcp://127.0.0.1:35531 got new rank 3\n"
     ]
    },
    {
     "name": "stdout",
     "output_type": "stream",
     "text": [
      "73.5% complete | Training ['TE_brand_target', 'price', 'relative_price_product', 'ts_hour', 'cat_2', 'relative_price_category', 'ts_weekday', 'brand', 'cat_0', 'cat_3_target_sum', 'cat_3_count', 'cat_0_count', 'cat_2_target_sum'].\r"
     ]
    },
    {
     "name": "stderr",
     "output_type": "stream",
     "text": [
      "[20:12:12] task [xgboost.dask-0]:tcp://127.0.0.1:37821 got new rank 0\n",
      "[20:12:12] task [xgboost.dask-1]:tcp://127.0.0.1:41067 got new rank 1\n",
      "[20:12:12] task [xgboost.dask-2]:tcp://127.0.0.1:38045 got new rank 2\n",
      "[20:12:12] task [xgboost.dask-3]:tcp://127.0.0.1:35531 got new rank 3\n"
     ]
    },
    {
     "name": "stdout",
     "output_type": "stream",
     "text": [
      "73.79% complete | Training ['TE_brand_target', 'price', 'relative_price_product', 'ts_hour', 'cat_2', 'relative_price_category', 'ts_weekday', 'brand', 'cat_0', 'cat_3_target_sum', 'cat_3_count', 'cat_0_count', 'cat_0_target_sum'].\r"
     ]
    },
    {
     "name": "stderr",
     "output_type": "stream",
     "text": [
      "[20:12:15] task [xgboost.dask-0]:tcp://127.0.0.1:37821 got new rank 0\n",
      "[20:12:15] task [xgboost.dask-1]:tcp://127.0.0.1:41067 got new rank 1\n",
      "[20:12:15] task [xgboost.dask-2]:tcp://127.0.0.1:38045 got new rank 2\n",
      "[20:12:15] task [xgboost.dask-3]:tcp://127.0.0.1:35531 got new rank 3\n"
     ]
    },
    {
     "name": "stdout",
     "output_type": "stream",
     "text": [
      "74.07% complete | Training ['TE_brand_target', 'price', 'relative_price_product', 'ts_hour', 'cat_2', 'relative_price_category', 'ts_weekday', 'brand', 'cat_0', 'cat_3_target_sum', 'cat_3_count', 'cat_0_count', 'cat_3', 'cat_1'].\r"
     ]
    },
    {
     "name": "stderr",
     "output_type": "stream",
     "text": [
      "[20:12:17] task [xgboost.dask-0]:tcp://127.0.0.1:37821 got new rank 0\n",
      "[20:12:17] task [xgboost.dask-1]:tcp://127.0.0.1:41067 got new rank 1\n",
      "[20:12:17] task [xgboost.dask-2]:tcp://127.0.0.1:38045 got new rank 2\n",
      "[20:12:17] task [xgboost.dask-3]:tcp://127.0.0.1:35531 got new rank 3\n"
     ]
    },
    {
     "name": "stdout",
     "output_type": "stream",
     "text": [
      "74.36% complete | Training ['TE_brand_target', 'price', 'relative_price_product', 'ts_hour', 'cat_2', 'relative_price_category', 'ts_weekday', 'brand', 'cat_0', 'cat_3_target_sum', 'cat_3_count', 'cat_0_count', 'cat_3', 'brand_count'].\r"
     ]
    },
    {
     "name": "stderr",
     "output_type": "stream",
     "text": [
      "[20:12:20] task [xgboost.dask-0]:tcp://127.0.0.1:37821 got new rank 0\n",
      "[20:12:20] task [xgboost.dask-1]:tcp://127.0.0.1:41067 got new rank 1\n",
      "[20:12:20] task [xgboost.dask-2]:tcp://127.0.0.1:38045 got new rank 2\n",
      "[20:12:20] task [xgboost.dask-3]:tcp://127.0.0.1:35531 got new rank 3\n"
     ]
    },
    {
     "name": "stdout",
     "output_type": "stream",
     "text": [
      "74.64% complete | Training ['TE_brand_target', 'price', 'relative_price_product', 'ts_hour', 'cat_2', 'relative_price_category', 'ts_weekday', 'brand', 'cat_0', 'cat_3_target_sum', 'cat_3_count', 'cat_0_count', 'cat_3', 'ts_minute'].\r"
     ]
    },
    {
     "name": "stderr",
     "output_type": "stream",
     "text": [
      "[20:12:23] task [xgboost.dask-0]:tcp://127.0.0.1:37821 got new rank 0\n",
      "[20:12:23] task [xgboost.dask-1]:tcp://127.0.0.1:41067 got new rank 1\n",
      "[20:12:23] task [xgboost.dask-2]:tcp://127.0.0.1:38045 got new rank 2\n",
      "[20:12:23] task [xgboost.dask-3]:tcp://127.0.0.1:35531 got new rank 3\n"
     ]
    },
    {
     "name": "stdout",
     "output_type": "stream",
     "text": [
      "74.93% complete | Training ['TE_brand_target', 'price', 'relative_price_product', 'ts_hour', 'cat_2', 'relative_price_category', 'ts_weekday', 'brand', 'cat_0', 'cat_3_target_sum', 'cat_3_count', 'cat_0_count', 'cat_3', 'TE_cat_0_target'].\r"
     ]
    },
    {
     "name": "stderr",
     "output_type": "stream",
     "text": [
      "[20:12:25] task [xgboost.dask-0]:tcp://127.0.0.1:37821 got new rank 0\n",
      "[20:12:25] task [xgboost.dask-1]:tcp://127.0.0.1:41067 got new rank 1\n",
      "[20:12:25] task [xgboost.dask-2]:tcp://127.0.0.1:38045 got new rank 2\n",
      "[20:12:25] task [xgboost.dask-3]:tcp://127.0.0.1:35531 got new rank 3\n"
     ]
    },
    {
     "name": "stdout",
     "output_type": "stream",
     "text": [
      "75.21% complete | Training ['TE_brand_target', 'price', 'relative_price_product', 'ts_hour', 'cat_2', 'relative_price_category', 'ts_weekday', 'brand', 'cat_0', 'cat_3_target_sum', 'cat_3_count', 'cat_0_count', 'cat_3', 'TE_cat_3_target'].\r"
     ]
    },
    {
     "name": "stderr",
     "output_type": "stream",
     "text": [
      "[20:12:28] task [xgboost.dask-0]:tcp://127.0.0.1:37821 got new rank 0\n",
      "[20:12:28] task [xgboost.dask-1]:tcp://127.0.0.1:41067 got new rank 1\n",
      "[20:12:28] task [xgboost.dask-2]:tcp://127.0.0.1:38045 got new rank 2\n",
      "[20:12:28] task [xgboost.dask-3]:tcp://127.0.0.1:35531 got new rank 3\n"
     ]
    },
    {
     "name": "stdout",
     "output_type": "stream",
     "text": [
      "75.5% complete | Training ['TE_brand_target', 'price', 'relative_price_product', 'ts_hour', 'cat_2', 'relative_price_category', 'ts_weekday', 'brand', 'cat_0', 'cat_3_target_sum', 'cat_3_count', 'cat_0_count', 'cat_3', 'cat_1_count'].\r"
     ]
    },
    {
     "name": "stderr",
     "output_type": "stream",
     "text": [
      "[20:12:31] task [xgboost.dask-0]:tcp://127.0.0.1:37821 got new rank 0\n",
      "[20:12:31] task [xgboost.dask-1]:tcp://127.0.0.1:41067 got new rank 1\n",
      "[20:12:31] task [xgboost.dask-2]:tcp://127.0.0.1:38045 got new rank 2\n",
      "[20:12:31] task [xgboost.dask-3]:tcp://127.0.0.1:35531 got new rank 3\n"
     ]
    },
    {
     "name": "stdout",
     "output_type": "stream",
     "text": [
      "75.78% complete | Training ['TE_brand_target', 'price', 'relative_price_product', 'ts_hour', 'cat_2', 'relative_price_category', 'ts_weekday', 'brand', 'cat_0', 'cat_3_target_sum', 'cat_3_count', 'cat_0_count', 'cat_3', 'TE_cat_2_target'].\r"
     ]
    },
    {
     "name": "stderr",
     "output_type": "stream",
     "text": [
      "[20:12:33] task [xgboost.dask-0]:tcp://127.0.0.1:37821 got new rank 0\n",
      "[20:12:33] task [xgboost.dask-1]:tcp://127.0.0.1:41067 got new rank 1\n",
      "[20:12:33] task [xgboost.dask-2]:tcp://127.0.0.1:38045 got new rank 2\n",
      "[20:12:33] task [xgboost.dask-3]:tcp://127.0.0.1:35531 got new rank 3\n"
     ]
    },
    {
     "name": "stdout",
     "output_type": "stream",
     "text": [
      "76.07% complete | Training ['TE_brand_target', 'price', 'relative_price_product', 'ts_hour', 'cat_2', 'relative_price_category', 'ts_weekday', 'brand', 'cat_0', 'cat_3_target_sum', 'cat_3_count', 'cat_0_count', 'cat_3', 'TE_cat_1_target'].\r"
     ]
    },
    {
     "name": "stderr",
     "output_type": "stream",
     "text": [
      "[20:12:36] task [xgboost.dask-0]:tcp://127.0.0.1:37821 got new rank 0\n",
      "[20:12:36] task [xgboost.dask-1]:tcp://127.0.0.1:41067 got new rank 1\n",
      "[20:12:36] task [xgboost.dask-2]:tcp://127.0.0.1:38045 got new rank 2\n",
      "[20:12:36] task [xgboost.dask-3]:tcp://127.0.0.1:35531 got new rank 3\n"
     ]
    },
    {
     "name": "stdout",
     "output_type": "stream",
     "text": [
      "76.35% complete | Training ['TE_brand_target', 'price', 'relative_price_product', 'ts_hour', 'cat_2', 'relative_price_category', 'ts_weekday', 'brand', 'cat_0', 'cat_3_target_sum', 'cat_3_count', 'cat_0_count', 'cat_3', 'cat_1_target_sum'].\r"
     ]
    },
    {
     "name": "stderr",
     "output_type": "stream",
     "text": [
      "[20:12:39] task [xgboost.dask-0]:tcp://127.0.0.1:37821 got new rank 0\n",
      "[20:12:39] task [xgboost.dask-1]:tcp://127.0.0.1:41067 got new rank 1\n",
      "[20:12:39] task [xgboost.dask-2]:tcp://127.0.0.1:38045 got new rank 2\n",
      "[20:12:39] task [xgboost.dask-3]:tcp://127.0.0.1:35531 got new rank 3\n"
     ]
    },
    {
     "name": "stdout",
     "output_type": "stream",
     "text": [
      "76.64% complete | Training ['TE_brand_target', 'price', 'relative_price_product', 'ts_hour', 'cat_2', 'relative_price_category', 'ts_weekday', 'brand', 'cat_0', 'cat_3_target_sum', 'cat_3_count', 'cat_0_count', 'cat_3', 'brand_target_sum'].\r"
     ]
    },
    {
     "name": "stderr",
     "output_type": "stream",
     "text": [
      "[20:12:41] task [xgboost.dask-0]:tcp://127.0.0.1:37821 got new rank 0\n",
      "[20:12:41] task [xgboost.dask-1]:tcp://127.0.0.1:41067 got new rank 1\n",
      "[20:12:41] task [xgboost.dask-2]:tcp://127.0.0.1:38045 got new rank 2\n",
      "[20:12:41] task [xgboost.dask-3]:tcp://127.0.0.1:35531 got new rank 3\n"
     ]
    },
    {
     "name": "stdout",
     "output_type": "stream",
     "text": [
      "76.92% complete | Training ['TE_brand_target', 'price', 'relative_price_product', 'ts_hour', 'cat_2', 'relative_price_category', 'ts_weekday', 'brand', 'cat_0', 'cat_3_target_sum', 'cat_3_count', 'cat_0_count', 'cat_3', 'cat_2_count'].\r"
     ]
    },
    {
     "name": "stderr",
     "output_type": "stream",
     "text": [
      "[20:12:44] task [xgboost.dask-0]:tcp://127.0.0.1:37821 got new rank 0\n",
      "[20:12:44] task [xgboost.dask-1]:tcp://127.0.0.1:41067 got new rank 1\n",
      "[20:12:44] task [xgboost.dask-2]:tcp://127.0.0.1:38045 got new rank 2\n",
      "[20:12:44] task [xgboost.dask-3]:tcp://127.0.0.1:35531 got new rank 3\n"
     ]
    },
    {
     "name": "stdout",
     "output_type": "stream",
     "text": [
      "77.21% complete | Training ['TE_brand_target', 'price', 'relative_price_product', 'ts_hour', 'cat_2', 'relative_price_category', 'ts_weekday', 'brand', 'cat_0', 'cat_3_target_sum', 'cat_3_count', 'cat_0_count', 'cat_3', 'cat_2_target_sum'].\r"
     ]
    },
    {
     "name": "stderr",
     "output_type": "stream",
     "text": [
      "[20:12:47] task [xgboost.dask-0]:tcp://127.0.0.1:37821 got new rank 0\n",
      "[20:12:47] task [xgboost.dask-1]:tcp://127.0.0.1:41067 got new rank 1\n",
      "[20:12:47] task [xgboost.dask-2]:tcp://127.0.0.1:38045 got new rank 2\n",
      "[20:12:47] task [xgboost.dask-3]:tcp://127.0.0.1:35531 got new rank 3\n"
     ]
    },
    {
     "name": "stdout",
     "output_type": "stream",
     "text": [
      "77.49% complete | Training ['TE_brand_target', 'price', 'relative_price_product', 'ts_hour', 'cat_2', 'relative_price_category', 'ts_weekday', 'brand', 'cat_0', 'cat_3_target_sum', 'cat_3_count', 'cat_0_count', 'cat_3', 'cat_0_target_sum'].\r"
     ]
    },
    {
     "name": "stderr",
     "output_type": "stream",
     "text": [
      "[20:12:49] task [xgboost.dask-0]:tcp://127.0.0.1:37821 got new rank 0\n",
      "[20:12:49] task [xgboost.dask-1]:tcp://127.0.0.1:41067 got new rank 1\n",
      "[20:12:49] task [xgboost.dask-2]:tcp://127.0.0.1:38045 got new rank 2\n",
      "[20:12:49] task [xgboost.dask-3]:tcp://127.0.0.1:35531 got new rank 3\n"
     ]
    },
    {
     "name": "stdout",
     "output_type": "stream",
     "text": [
      "77.78% complete | Training ['TE_brand_target', 'price', 'relative_price_product', 'ts_hour', 'cat_2', 'relative_price_category', 'ts_weekday', 'brand', 'cat_0', 'cat_3_target_sum', 'cat_3_count', 'cat_0_count', 'cat_3', 'brand_count', 'cat_1'].\r"
     ]
    },
    {
     "name": "stderr",
     "output_type": "stream",
     "text": [
      "[20:12:52] task [xgboost.dask-0]:tcp://127.0.0.1:37821 got new rank 0\n",
      "[20:12:52] task [xgboost.dask-1]:tcp://127.0.0.1:41067 got new rank 1\n",
      "[20:12:52] task [xgboost.dask-2]:tcp://127.0.0.1:38045 got new rank 2\n",
      "[20:12:52] task [xgboost.dask-3]:tcp://127.0.0.1:35531 got new rank 3\n"
     ]
    },
    {
     "name": "stdout",
     "output_type": "stream",
     "text": [
      "78.06% complete | Training ['TE_brand_target', 'price', 'relative_price_product', 'ts_hour', 'cat_2', 'relative_price_category', 'ts_weekday', 'brand', 'cat_0', 'cat_3_target_sum', 'cat_3_count', 'cat_0_count', 'cat_3', 'brand_count', 'ts_minute'].\r"
     ]
    },
    {
     "name": "stderr",
     "output_type": "stream",
     "text": [
      "[20:12:55] task [xgboost.dask-0]:tcp://127.0.0.1:37821 got new rank 0\n",
      "[20:12:55] task [xgboost.dask-1]:tcp://127.0.0.1:41067 got new rank 1\n",
      "[20:12:55] task [xgboost.dask-2]:tcp://127.0.0.1:38045 got new rank 2\n",
      "[20:12:55] task [xgboost.dask-3]:tcp://127.0.0.1:35531 got new rank 3\n"
     ]
    },
    {
     "name": "stdout",
     "output_type": "stream",
     "text": [
      "78.35% complete | Training ['TE_brand_target', 'price', 'relative_price_product', 'ts_hour', 'cat_2', 'relative_price_category', 'ts_weekday', 'brand', 'cat_0', 'cat_3_target_sum', 'cat_3_count', 'cat_0_count', 'cat_3', 'brand_count', 'TE_cat_0_target'].\r"
     ]
    },
    {
     "name": "stderr",
     "output_type": "stream",
     "text": [
      "[20:12:57] task [xgboost.dask-0]:tcp://127.0.0.1:37821 got new rank 0\n",
      "[20:12:57] task [xgboost.dask-1]:tcp://127.0.0.1:41067 got new rank 1\n",
      "[20:12:57] task [xgboost.dask-2]:tcp://127.0.0.1:38045 got new rank 2\n",
      "[20:12:57] task [xgboost.dask-3]:tcp://127.0.0.1:35531 got new rank 3\n"
     ]
    },
    {
     "name": "stdout",
     "output_type": "stream",
     "text": [
      "78.63% complete | Training ['TE_brand_target', 'price', 'relative_price_product', 'ts_hour', 'cat_2', 'relative_price_category', 'ts_weekday', 'brand', 'cat_0', 'cat_3_target_sum', 'cat_3_count', 'cat_0_count', 'cat_3', 'brand_count', 'TE_cat_3_target'].\r"
     ]
    },
    {
     "name": "stderr",
     "output_type": "stream",
     "text": [
      "[20:13:00] task [xgboost.dask-0]:tcp://127.0.0.1:37821 got new rank 0\n",
      "[20:13:00] task [xgboost.dask-1]:tcp://127.0.0.1:41067 got new rank 1\n",
      "[20:13:00] task [xgboost.dask-2]:tcp://127.0.0.1:38045 got new rank 2\n",
      "[20:13:00] task [xgboost.dask-3]:tcp://127.0.0.1:35531 got new rank 3\n"
     ]
    },
    {
     "name": "stdout",
     "output_type": "stream",
     "text": [
      "78.92% complete | Training ['TE_brand_target', 'price', 'relative_price_product', 'ts_hour', 'cat_2', 'relative_price_category', 'ts_weekday', 'brand', 'cat_0', 'cat_3_target_sum', 'cat_3_count', 'cat_0_count', 'cat_3', 'brand_count', 'cat_1_count'].\r"
     ]
    },
    {
     "name": "stderr",
     "output_type": "stream",
     "text": [
      "[20:13:03] task [xgboost.dask-0]:tcp://127.0.0.1:37821 got new rank 0\n",
      "[20:13:03] task [xgboost.dask-1]:tcp://127.0.0.1:41067 got new rank 1\n",
      "[20:13:03] task [xgboost.dask-2]:tcp://127.0.0.1:38045 got new rank 2\n",
      "[20:13:03] task [xgboost.dask-3]:tcp://127.0.0.1:35531 got new rank 3\n"
     ]
    },
    {
     "name": "stdout",
     "output_type": "stream",
     "text": [
      "79.2% complete | Training ['TE_brand_target', 'price', 'relative_price_product', 'ts_hour', 'cat_2', 'relative_price_category', 'ts_weekday', 'brand', 'cat_0', 'cat_3_target_sum', 'cat_3_count', 'cat_0_count', 'cat_3', 'brand_count', 'TE_cat_2_target'].\r"
     ]
    },
    {
     "name": "stderr",
     "output_type": "stream",
     "text": [
      "[20:13:06] task [xgboost.dask-0]:tcp://127.0.0.1:37821 got new rank 0\n",
      "[20:13:06] task [xgboost.dask-1]:tcp://127.0.0.1:41067 got new rank 1\n",
      "[20:13:06] task [xgboost.dask-2]:tcp://127.0.0.1:38045 got new rank 2\n",
      "[20:13:06] task [xgboost.dask-3]:tcp://127.0.0.1:35531 got new rank 3\n"
     ]
    },
    {
     "name": "stdout",
     "output_type": "stream",
     "text": [
      "79.49% complete | Training ['TE_brand_target', 'price', 'relative_price_product', 'ts_hour', 'cat_2', 'relative_price_category', 'ts_weekday', 'brand', 'cat_0', 'cat_3_target_sum', 'cat_3_count', 'cat_0_count', 'cat_3', 'brand_count', 'TE_cat_1_target'].\r"
     ]
    },
    {
     "name": "stderr",
     "output_type": "stream",
     "text": [
      "[20:13:08] task [xgboost.dask-0]:tcp://127.0.0.1:37821 got new rank 0\n",
      "[20:13:08] task [xgboost.dask-1]:tcp://127.0.0.1:41067 got new rank 1\n",
      "[20:13:08] task [xgboost.dask-2]:tcp://127.0.0.1:38045 got new rank 2\n",
      "[20:13:08] task [xgboost.dask-3]:tcp://127.0.0.1:35531 got new rank 3\n"
     ]
    },
    {
     "name": "stdout",
     "output_type": "stream",
     "text": [
      "79.77% complete | Training ['TE_brand_target', 'price', 'relative_price_product', 'ts_hour', 'cat_2', 'relative_price_category', 'ts_weekday', 'brand', 'cat_0', 'cat_3_target_sum', 'cat_3_count', 'cat_0_count', 'cat_3', 'brand_count', 'cat_1_target_sum'].\r"
     ]
    },
    {
     "name": "stderr",
     "output_type": "stream",
     "text": [
      "[20:13:11] task [xgboost.dask-0]:tcp://127.0.0.1:37821 got new rank 0\n",
      "[20:13:11] task [xgboost.dask-1]:tcp://127.0.0.1:41067 got new rank 1\n",
      "[20:13:11] task [xgboost.dask-2]:tcp://127.0.0.1:38045 got new rank 2\n",
      "[20:13:11] task [xgboost.dask-3]:tcp://127.0.0.1:35531 got new rank 3\n"
     ]
    },
    {
     "name": "stdout",
     "output_type": "stream",
     "text": [
      "80.06% complete | Training ['TE_brand_target', 'price', 'relative_price_product', 'ts_hour', 'cat_2', 'relative_price_category', 'ts_weekday', 'brand', 'cat_0', 'cat_3_target_sum', 'cat_3_count', 'cat_0_count', 'cat_3', 'brand_count', 'brand_target_sum'].\r"
     ]
    },
    {
     "name": "stderr",
     "output_type": "stream",
     "text": [
      "[20:13:14] task [xgboost.dask-0]:tcp://127.0.0.1:37821 got new rank 0\n",
      "[20:13:14] task [xgboost.dask-1]:tcp://127.0.0.1:41067 got new rank 1\n",
      "[20:13:14] task [xgboost.dask-2]:tcp://127.0.0.1:38045 got new rank 2\n",
      "[20:13:14] task [xgboost.dask-3]:tcp://127.0.0.1:35531 got new rank 3\n"
     ]
    },
    {
     "name": "stdout",
     "output_type": "stream",
     "text": [
      "80.34% complete | Training ['TE_brand_target', 'price', 'relative_price_product', 'ts_hour', 'cat_2', 'relative_price_category', 'ts_weekday', 'brand', 'cat_0', 'cat_3_target_sum', 'cat_3_count', 'cat_0_count', 'cat_3', 'brand_count', 'cat_2_count'].\r"
     ]
    },
    {
     "name": "stderr",
     "output_type": "stream",
     "text": [
      "[20:13:17] task [xgboost.dask-0]:tcp://127.0.0.1:37821 got new rank 0\n",
      "[20:13:17] task [xgboost.dask-1]:tcp://127.0.0.1:41067 got new rank 1\n",
      "[20:13:17] task [xgboost.dask-2]:tcp://127.0.0.1:38045 got new rank 2\n",
      "[20:13:17] task [xgboost.dask-3]:tcp://127.0.0.1:35531 got new rank 3\n"
     ]
    },
    {
     "name": "stdout",
     "output_type": "stream",
     "text": [
      "80.63% complete | Training ['TE_brand_target', 'price', 'relative_price_product', 'ts_hour', 'cat_2', 'relative_price_category', 'ts_weekday', 'brand', 'cat_0', 'cat_3_target_sum', 'cat_3_count', 'cat_0_count', 'cat_3', 'brand_count', 'cat_2_target_sum'].\r"
     ]
    },
    {
     "name": "stderr",
     "output_type": "stream",
     "text": [
      "[20:13:19] task [xgboost.dask-0]:tcp://127.0.0.1:37821 got new rank 0\n",
      "[20:13:19] task [xgboost.dask-1]:tcp://127.0.0.1:41067 got new rank 1\n",
      "[20:13:19] task [xgboost.dask-2]:tcp://127.0.0.1:38045 got new rank 2\n",
      "[20:13:19] task [xgboost.dask-3]:tcp://127.0.0.1:35531 got new rank 3\n"
     ]
    },
    {
     "name": "stdout",
     "output_type": "stream",
     "text": [
      "80.91% complete | Training ['TE_brand_target', 'price', 'relative_price_product', 'ts_hour', 'cat_2', 'relative_price_category', 'ts_weekday', 'brand', 'cat_0', 'cat_3_target_sum', 'cat_3_count', 'cat_0_count', 'cat_3', 'brand_count', 'cat_0_target_sum'].\r"
     ]
    },
    {
     "name": "stderr",
     "output_type": "stream",
     "text": [
      "[20:13:22] task [xgboost.dask-0]:tcp://127.0.0.1:37821 got new rank 0\n",
      "[20:13:22] task [xgboost.dask-1]:tcp://127.0.0.1:41067 got new rank 1\n",
      "[20:13:22] task [xgboost.dask-2]:tcp://127.0.0.1:38045 got new rank 2\n",
      "[20:13:22] task [xgboost.dask-3]:tcp://127.0.0.1:35531 got new rank 3\n"
     ]
    },
    {
     "name": "stdout",
     "output_type": "stream",
     "text": [
      "81.2% complete | Training ['TE_brand_target', 'price', 'relative_price_product', 'ts_hour', 'cat_2', 'relative_price_category', 'ts_weekday', 'brand', 'cat_0', 'cat_3_target_sum', 'cat_3_count', 'cat_0_count', 'cat_3', 'brand_count', 'cat_1_target_sum', 'cat_1'].\r"
     ]
    },
    {
     "name": "stderr",
     "output_type": "stream",
     "text": [
      "[20:13:25] task [xgboost.dask-0]:tcp://127.0.0.1:37821 got new rank 0\n",
      "[20:13:25] task [xgboost.dask-1]:tcp://127.0.0.1:41067 got new rank 1\n",
      "[20:13:25] task [xgboost.dask-2]:tcp://127.0.0.1:38045 got new rank 2\n",
      "[20:13:25] task [xgboost.dask-3]:tcp://127.0.0.1:35531 got new rank 3\n"
     ]
    },
    {
     "name": "stdout",
     "output_type": "stream",
     "text": [
      "81.48% complete | Training ['TE_brand_target', 'price', 'relative_price_product', 'ts_hour', 'cat_2', 'relative_price_category', 'ts_weekday', 'brand', 'cat_0', 'cat_3_target_sum', 'cat_3_count', 'cat_0_count', 'cat_3', 'brand_count', 'cat_1_target_sum', 'ts_minute'].\r"
     ]
    },
    {
     "name": "stderr",
     "output_type": "stream",
     "text": [
      "[20:13:28] task [xgboost.dask-0]:tcp://127.0.0.1:37821 got new rank 0\n",
      "[20:13:28] task [xgboost.dask-1]:tcp://127.0.0.1:41067 got new rank 1\n",
      "[20:13:28] task [xgboost.dask-2]:tcp://127.0.0.1:38045 got new rank 2\n",
      "[20:13:28] task [xgboost.dask-3]:tcp://127.0.0.1:35531 got new rank 3\n"
     ]
    },
    {
     "name": "stdout",
     "output_type": "stream",
     "text": [
      "81.77% complete | Training ['TE_brand_target', 'price', 'relative_price_product', 'ts_hour', 'cat_2', 'relative_price_category', 'ts_weekday', 'brand', 'cat_0', 'cat_3_target_sum', 'cat_3_count', 'cat_0_count', 'cat_3', 'brand_count', 'cat_1_target_sum', 'TE_cat_0_target'].\r"
     ]
    },
    {
     "name": "stderr",
     "output_type": "stream",
     "text": [
      "[20:13:31] task [xgboost.dask-0]:tcp://127.0.0.1:37821 got new rank 0\n",
      "[20:13:31] task [xgboost.dask-1]:tcp://127.0.0.1:41067 got new rank 1\n",
      "[20:13:31] task [xgboost.dask-2]:tcp://127.0.0.1:38045 got new rank 2\n",
      "[20:13:31] task [xgboost.dask-3]:tcp://127.0.0.1:35531 got new rank 3\n"
     ]
    },
    {
     "name": "stdout",
     "output_type": "stream",
     "text": [
      "82.05% complete | Training ['TE_brand_target', 'price', 'relative_price_product', 'ts_hour', 'cat_2', 'relative_price_category', 'ts_weekday', 'brand', 'cat_0', 'cat_3_target_sum', 'cat_3_count', 'cat_0_count', 'cat_3', 'brand_count', 'cat_1_target_sum', 'TE_cat_3_target'].\r"
     ]
    },
    {
     "name": "stderr",
     "output_type": "stream",
     "text": [
      "[20:13:33] task [xgboost.dask-0]:tcp://127.0.0.1:37821 got new rank 0\n",
      "[20:13:33] task [xgboost.dask-1]:tcp://127.0.0.1:41067 got new rank 1\n",
      "[20:13:33] task [xgboost.dask-2]:tcp://127.0.0.1:38045 got new rank 2\n",
      "[20:13:33] task [xgboost.dask-3]:tcp://127.0.0.1:35531 got new rank 3\n"
     ]
    },
    {
     "name": "stdout",
     "output_type": "stream",
     "text": [
      "82.34% complete | Training ['TE_brand_target', 'price', 'relative_price_product', 'ts_hour', 'cat_2', 'relative_price_category', 'ts_weekday', 'brand', 'cat_0', 'cat_3_target_sum', 'cat_3_count', 'cat_0_count', 'cat_3', 'brand_count', 'cat_1_target_sum', 'cat_1_count'].\r"
     ]
    },
    {
     "name": "stderr",
     "output_type": "stream",
     "text": [
      "[20:13:36] task [xgboost.dask-0]:tcp://127.0.0.1:37821 got new rank 0\n",
      "[20:13:36] task [xgboost.dask-1]:tcp://127.0.0.1:41067 got new rank 1\n",
      "[20:13:36] task [xgboost.dask-2]:tcp://127.0.0.1:38045 got new rank 2\n",
      "[20:13:36] task [xgboost.dask-3]:tcp://127.0.0.1:35531 got new rank 3\n"
     ]
    },
    {
     "name": "stdout",
     "output_type": "stream",
     "text": [
      "82.62% complete | Training ['TE_brand_target', 'price', 'relative_price_product', 'ts_hour', 'cat_2', 'relative_price_category', 'ts_weekday', 'brand', 'cat_0', 'cat_3_target_sum', 'cat_3_count', 'cat_0_count', 'cat_3', 'brand_count', 'cat_1_target_sum', 'TE_cat_2_target'].\r"
     ]
    },
    {
     "name": "stderr",
     "output_type": "stream",
     "text": [
      "[20:13:39] task [xgboost.dask-0]:tcp://127.0.0.1:37821 got new rank 0\n",
      "[20:13:39] task [xgboost.dask-1]:tcp://127.0.0.1:41067 got new rank 1\n",
      "[20:13:39] task [xgboost.dask-2]:tcp://127.0.0.1:38045 got new rank 2\n",
      "[20:13:39] task [xgboost.dask-3]:tcp://127.0.0.1:35531 got new rank 3\n"
     ]
    },
    {
     "name": "stdout",
     "output_type": "stream",
     "text": [
      "82.91% complete | Training ['TE_brand_target', 'price', 'relative_price_product', 'ts_hour', 'cat_2', 'relative_price_category', 'ts_weekday', 'brand', 'cat_0', 'cat_3_target_sum', 'cat_3_count', 'cat_0_count', 'cat_3', 'brand_count', 'cat_1_target_sum', 'TE_cat_1_target'].\r"
     ]
    },
    {
     "name": "stderr",
     "output_type": "stream",
     "text": [
      "[20:13:42] task [xgboost.dask-0]:tcp://127.0.0.1:37821 got new rank 0\n",
      "[20:13:42] task [xgboost.dask-1]:tcp://127.0.0.1:41067 got new rank 1\n",
      "[20:13:42] task [xgboost.dask-2]:tcp://127.0.0.1:38045 got new rank 2\n",
      "[20:13:42] task [xgboost.dask-3]:tcp://127.0.0.1:35531 got new rank 3\n"
     ]
    },
    {
     "name": "stdout",
     "output_type": "stream",
     "text": [
      "83.19% complete | Training ['TE_brand_target', 'price', 'relative_price_product', 'ts_hour', 'cat_2', 'relative_price_category', 'ts_weekday', 'brand', 'cat_0', 'cat_3_target_sum', 'cat_3_count', 'cat_0_count', 'cat_3', 'brand_count', 'cat_1_target_sum', 'brand_target_sum'].\r"
     ]
    },
    {
     "name": "stderr",
     "output_type": "stream",
     "text": [
      "[20:13:45] task [xgboost.dask-0]:tcp://127.0.0.1:37821 got new rank 0\n",
      "[20:13:45] task [xgboost.dask-1]:tcp://127.0.0.1:41067 got new rank 1\n",
      "[20:13:45] task [xgboost.dask-2]:tcp://127.0.0.1:38045 got new rank 2\n",
      "[20:13:45] task [xgboost.dask-3]:tcp://127.0.0.1:35531 got new rank 3\n"
     ]
    },
    {
     "name": "stdout",
     "output_type": "stream",
     "text": [
      "83.48% complete | Training ['TE_brand_target', 'price', 'relative_price_product', 'ts_hour', 'cat_2', 'relative_price_category', 'ts_weekday', 'brand', 'cat_0', 'cat_3_target_sum', 'cat_3_count', 'cat_0_count', 'cat_3', 'brand_count', 'cat_1_target_sum', 'cat_2_count'].\r"
     ]
    },
    {
     "name": "stderr",
     "output_type": "stream",
     "text": [
      "[20:13:47] task [xgboost.dask-0]:tcp://127.0.0.1:37821 got new rank 0\n",
      "[20:13:47] task [xgboost.dask-1]:tcp://127.0.0.1:41067 got new rank 1\n",
      "[20:13:47] task [xgboost.dask-2]:tcp://127.0.0.1:38045 got new rank 2\n",
      "[20:13:47] task [xgboost.dask-3]:tcp://127.0.0.1:35531 got new rank 3\n"
     ]
    },
    {
     "name": "stdout",
     "output_type": "stream",
     "text": [
      "83.76% complete | Training ['TE_brand_target', 'price', 'relative_price_product', 'ts_hour', 'cat_2', 'relative_price_category', 'ts_weekday', 'brand', 'cat_0', 'cat_3_target_sum', 'cat_3_count', 'cat_0_count', 'cat_3', 'brand_count', 'cat_1_target_sum', 'cat_2_target_sum'].\r"
     ]
    },
    {
     "name": "stderr",
     "output_type": "stream",
     "text": [
      "[20:13:50] task [xgboost.dask-0]:tcp://127.0.0.1:37821 got new rank 0\n",
      "[20:13:50] task [xgboost.dask-1]:tcp://127.0.0.1:41067 got new rank 1\n",
      "[20:13:50] task [xgboost.dask-2]:tcp://127.0.0.1:38045 got new rank 2\n",
      "[20:13:50] task [xgboost.dask-3]:tcp://127.0.0.1:35531 got new rank 3\n"
     ]
    },
    {
     "name": "stdout",
     "output_type": "stream",
     "text": [
      "84.05% complete | Training ['TE_brand_target', 'price', 'relative_price_product', 'ts_hour', 'cat_2', 'relative_price_category', 'ts_weekday', 'brand', 'cat_0', 'cat_3_target_sum', 'cat_3_count', 'cat_0_count', 'cat_3', 'brand_count', 'cat_1_target_sum', 'cat_0_target_sum'].\r"
     ]
    },
    {
     "name": "stderr",
     "output_type": "stream",
     "text": [
      "[20:13:53] task [xgboost.dask-0]:tcp://127.0.0.1:37821 got new rank 0\n",
      "[20:13:53] task [xgboost.dask-1]:tcp://127.0.0.1:41067 got new rank 1\n",
      "[20:13:53] task [xgboost.dask-2]:tcp://127.0.0.1:38045 got new rank 2\n",
      "[20:13:53] task [xgboost.dask-3]:tcp://127.0.0.1:35531 got new rank 3\n"
     ]
    },
    {
     "name": "stdout",
     "output_type": "stream",
     "text": [
      "Training 296 models took 10.35 minutes. \n"
     ]
    }
   ],
   "source": [
    "# iterative train XGBoost model with different features\n",
    "# set total number of features and number of iterations\n",
    "num_features=len(features_list)\n",
    "iter_num=sum([n for n in range(num_features+1)])\n",
    "\n",
    "remaining_feat=features_list\n",
    "best_features={}\n",
    "count=0\n",
    "current_best_score=0\n",
    "early_stopping_count=0\n",
    "\n",
    "# model training\n",
    "start=time.time()\n",
    "\n",
    "while len(remaining_feat)>0 and early_stopping_count<=5:\n",
    "    \n",
    "    scores=[]\n",
    "    for feat in remaining_feat: \n",
    "        training_feat=list(best_features.keys())+[feat]\n",
    "        print(f'{round(count/iter_num*100, 2)}% complete | Training {training_feat}.', end='\\r')\n",
    "        \n",
    "        model=train_xgb_mgpu(training_feat)\n",
    "        count+=1\n",
    "        \n",
    "        accuracy_score=model['booster'].best_score\n",
    "        scores.append(accuracy_score)\n",
    "\n",
    "    best_score=max(scores)\n",
    "    best_feat=remaining_feat[scores.index(best_score)]\n",
    "    best_features[best_feat]=best_score\n",
    "\n",
    "    remaining_feat=list(set(features_list)-set(best_features.keys()))\n",
    "    \n",
    "    if best_score>current_best_score: \n",
    "        current_best_score=best_score\n",
    "    else: \n",
    "        early_stopping_count+=1\n",
    "\n",
    "elapsed_time=time.time()-start\n",
    "print(f'Training {count} models took {round(elapsed_time/60, 2)} minutes. ')"
   ]
  },
  {
   "cell_type": "code",
   "execution_count": 9,
   "id": "021385e8-ee67-4813-80d2-f7c9cca6c530",
   "metadata": {
    "scrolled": true,
    "tags": []
   },
   "outputs": [
    {
     "name": "stdout",
     "output_type": "stream",
     "text": [
      "Best validation score is: 0.6323556495746291\n"
     ]
    },
    {
     "data": {
      "image/png": "[encoded data removed]",
      "text/plain": [
       "<Figure size 640x480 with 1 Axes>"
      ]
     },
     "metadata": {},
     "output_type": "display_data"
    }
   ],
   "source": [
    "# print best training score\n",
    "print(f'Best validation score is: {max(best_features.values())}')\n",
    "\n",
    "# plot model performances\n",
    "plt.bar(x=best_features.keys(), height=best_features.values())\n",
    "plt.xticks(rotation=90)\n",
    "plt.ylim([min(best_features.values())-0.001, max(best_features.values())+0.001])\n",
    "plt.hlines(max(best_features.values()), 0, len(features_list), color='orange')\n",
    "plt.ylabel('Incremental Feature Name')\n",
    "plt.xlabel('Incremental Model Performance')\n",
    "plt.show()"
   ]
  },
  {
   "cell_type": "code",
   "execution_count": 10,
   "id": "e5fc4aaa-a48b-48f9-a0f0-bc5638eb23d9",
   "metadata": {},
   "outputs": [
    {
     "name": "stdout",
     "output_type": "stream",
     "text": [
      "Selected features are: ['TE_brand_target', 'price', 'relative_price_product', 'ts_hour', 'cat_2', 'relative_price_category', 'ts_weekday', 'brand', 'cat_0', 'cat_3_target_sum']\n"
     ]
    }
   ],
   "source": [
    "# save list of selected features\n",
    "features=list(best_features.keys())\n",
    "scores=list(best_features.values())\n",
    "\n",
    "# get list of selected features\n",
    "selected_features=features[:scores.index(max(scores))+1]\n",
    "print(f'Selected features are: {selected_features}')\n",
    "\n",
    "with open('selected_features.pkl', 'wb') as f: \n",
    "    pickle.dump(selected_features, f)"
   ]
  },
  {
   "cell_type": "markdown",
   "id": "b32e554f-fd40-4f84-a73a-5834f281e6b0",
   "metadata": {},
   "source": [
    "Based on the numerous iterative training, we see that the model actually starts to perform worse with additional features. Going forward, we should train a model using only the features that are beneficial to the model. Furthermore, we should adjust the data processing pipeline such that it doesn't create the noisy features. "
   ]
  },
  {
   "cell_type": "code",
   "execution_count": 11,
   "id": "0c7064e8-0c21-4a51-afa7-7caa8faf7cb6",
   "metadata": {},
   "outputs": [
    {
     "data": {
      "text/plain": [
       "8174"
      ]
     },
     "execution_count": 11,
     "metadata": {},
     "output_type": "execute_result"
    }
   ],
   "source": [
    "del model, X_train, X_test, y_train, y_test, X, y, ddf\n",
    "gc.collect()"
   ]
  },
  {
   "cell_type": "markdown",
   "id": "896bbec2-2077-41db-8fd0-f1696d70caf2",
   "metadata": {},
   "source": [
    "<a name='s3-2'></a>\n",
    "## Hyperparameter Optimization ##\n",
    "Hyperparameters refer to the parameters used during the model training process but are not \"learned\" during the training. While finding the optimal hyperparameters can be computationally costly, it can improve model performance. `Dask-ML` and `cuML` can be used to improve the efficiency of hyperparameter optimization by leveraging GPU-acceleration and distributed schedulers. \n",
    "\n",
    "We will use `dask_ml.model_selection.GridSearchCV`[[doc]](https://ml.dask.org/modules/generated/dask_ml.model_selection.GridSearchCV.html) to performs an exhaustive search over specific parameter values for a model. `GridSearchCV` requires an `estimator`, which an object of this type is instantiated for each parameter search. It uses a 3-fold cross-validation by default. \n",
    "\n",
    "When using `dask_ml.model_selection.GridSearchCV`, we have to use `xgboost.XGBClassifier` as the estimator. The GridSearchCV is designed to extend single node algorithms, like estimators in scikit-learn that accepts numpy arrays. It runs the estimators with different hyperparameter on each worker's local data, instead of running them on the distributed data structure. The GridSearchCV will train variations of the estimator in parallel. It works when datasets fit in memory on the individual workers. Since we've performed feature selection, we only need to load a subset of features, thereby reducing the memory burden. \n",
    "\n",
    "<p><img src='images/tip.png' width=720></p>\n",
    "\n",
    "We cannot use `dask_ml.model_selection.GridSearchCV` with `xgboost.dask.DaskXGBClassifier`. For use cases when the dataset is too large to fit into GPU memory, Dask is used to distribute data into partitions and `xgboost.dask.DaskXGBClassifier` is used to train on Dask collections and avoid loading all the data into memory at once. However, the estimators that `dask_ml` supports cannot handle partial training. "
   ]
  },
  {
   "cell_type": "code",
   "execution_count": 12,
   "id": "0a17f9af-8678-469f-a52a-e8c018d21cbd",
   "metadata": {},
   "outputs": [],
   "source": [
    "# import dependencies\n",
    "import xgboost\n",
    "from dask_ml.model_selection import GridSearchCV\n",
    "from sklearn.model_selection import train_test_split\n",
    "\n",
    "import dask.dataframe as dd\n",
    "import matplotlib.pyplot as plt\n",
    "import numpy as np\n",
    "import dask_cudf\n",
    "import time\n",
    "import pandas as pd\n",
    "import pickle"
   ]
  },
  {
   "cell_type": "markdown",
   "id": "d7577951-954d-4274-92e5-302708007781",
   "metadata": {},
   "source": [
    "We start by loading the data. We will use the best features we found from the previous exercise. "
   ]
  },
  {
   "cell_type": "code",
   "execution_count": 13,
   "id": "ad3bd2ad-c5cf-4e1e-918d-d16d0da9f134",
   "metadata": {},
   "outputs": [],
   "source": [
    "# initializing list\n",
    "with open('selected_features.pkl', 'rb') as f: \n",
    "    features_list=pickle.load(f)\n",
    "         \n",
    "include=features_list+['target']"
   ]
  },
  {
   "cell_type": "code",
   "execution_count": 14,
   "id": "e2ee5ea3-f86f-40f8-815a-3a9518c30963",
   "metadata": {
    "scrolled": true,
    "tags": []
   },
   "outputs": [
    {
     "name": "stdout",
     "output_type": "stream",
     "text": [
      "Total of 2461697 records. \n"
     ]
    }
   ],
   "source": [
    "# load data\n",
    "parquet_dir='processed_parquet'\n",
    "ddf=dd.read_parquet(parquet_dir, columns=include)\n",
    "df=ddf.compute()\n",
    "\n",
    "print(f'Total of {len(df)} records. ')"
   ]
  },
  {
   "cell_type": "code",
   "execution_count": 15,
   "id": "bda4d25c-4c71-4785-a001-b02bf44f9478",
   "metadata": {},
   "outputs": [],
   "source": [
    "# under the hood, XGBoost converts floats to `float32`.\n",
    "y=df['target'].astype('float32')\n",
    "X=df[features_list].astype('float32')\n",
    "\n",
    "X_train, X_test, y_train, y_test=train_test_split(X, y, random_state=42)"
   ]
  },
  {
   "cell_type": "code",
   "execution_count": 16,
   "id": "e0d8c2c9-7ab2-4049-842a-2451dbb4ea0d",
   "metadata": {},
   "outputs": [],
   "source": [
    "# define estimator\n",
    "xgb_params={ \n",
    "    'n_estimators': 350, \n",
    "    'eval_metric': ['auc'], \n",
    "    'objective': 'binary:logistic',\n",
    "    'tree_method': 'gpu_hist', \n",
    "    'early_stopping_rounds': 10\n",
    "    # 'n_jobs': 4\n",
    "}\n",
    "\n",
    "xgb_gpu=xgboost.XGBClassifier(**xgb_params, n_jobs=4)"
   ]
  },
  {
   "cell_type": "markdown",
   "id": "a61f373a-4a52-461b-8b81-5bd73b5e65af",
   "metadata": {},
   "source": [
    "We will want to define a `param_grid` to include possible parameter setting we want to experiment. The performance of each experimentation is cross validated on a holdout set. By default, `dask_ml.model_selection.GridSearchCV` uses a 3-fold cross validation but can be changed using the `cv` parameter. "
   ]
  },
  {
   "cell_type": "code",
   "execution_count": 17,
   "id": "c6b38623-dab3-4afa-925a-528df063d61b",
   "metadata": {},
   "outputs": [],
   "source": [
    "param_grid={\n",
    "    'max_depth': range(5, 8), # default is 6\n",
    "    'learning_rate': np.arange(0.1, 0.31, 0.2), # default is 0.3\n",
    "    'subsample': np.arange(0.6, 1.01, 0.2), # default is 1\n",
    "    'min_child_weight': [1, 10], # default is 1\n",
    "    'colsample_bytree': np.arange(0.9, 1.01, 0.1) # default is 1\n",
    "} "
   ]
  },
  {
   "cell_type": "markdown",
   "id": "a60b9bcb-c4a3-465f-9a66-6fc4ee5557d5",
   "metadata": {},
   "source": [
    "`dask_ml.model_selection.GridSearchCV` requires a `scheduler`, which specifies the Dask scheduler to use. If not set, the default scheduler will be used, which may not use the GPU workers. When fitting, we will pass `X`, and `y`, which reference the DataFrame that we loaded into memory with  `dask.dataframe` and `.compute()`. "
   ]
  },
  {
   "cell_type": "code",
   "execution_count": 18,
   "id": "b98a85fc-d76a-4645-9db3-2863622a4636",
   "metadata": {
    "scrolled": true,
    "tags": []
   },
   "outputs": [
    {
     "name": "stdout",
     "output_type": "stream",
     "text": [
      "Training took 4.44 minutes. \n"
     ]
    }
   ],
   "source": [
    "grid_search = GridSearchCV(\n",
    "    xgb_gpu,\n",
    "    param_grid=param_grid, \n",
    "    # n_jobs=4\n",
    "    scheduler=client\n",
    ")\n",
    "\n",
    "start = time.time()\n",
    "grid_search.fit(X_train, y_train, eval_set=[(X_test, y_test)], verbose=False)\n",
    "elapsed_time=time.time()-start\n",
    "\n",
    "print(f'Training took {round(elapsed_time/60, 2)} minutes. ')"
   ]
  },
  {
   "cell_type": "markdown",
   "id": "a27750a7-8fb8-491c-843c-36c8fcd63666",
   "metadata": {},
   "source": [
    "`GridSearchCV` provides the search results via the `.cv_results_` property. Since the output is fairly small, we can use Pandas to visualize the search results in a pandas DataFrame. "
   ]
  },
  {
   "cell_type": "code",
   "execution_count": 19,
   "id": "8c0f5f50-9887-4456-83d5-202ad5de0e78",
   "metadata": {
    "scrolled": true,
    "tags": []
   },
   "outputs": [
    {
     "data": {
      "text/html": [
       "<div>\n",
       "<style scoped>\n",
       "    .dataframe tbody tr th:only-of-type {\n",
       "        vertical-align: middle;\n",
       "    }\n",
       "\n",
       "    .dataframe tbody tr th {\n",
       "        vertical-align: top;\n",
       "    }\n",
       "\n",
       "    .dataframe thead th {\n",
       "        text-align: right;\n",
       "    }\n",
       "</style>\n",
       "<table border=\"1\" class=\"dataframe\">\n",
       "  <thead>\n",
       "    <tr style=\"text-align: right;\">\n",
       "      <th></th>\n",
       "      <th>params</th>\n",
       "      <th>mean_fit_time</th>\n",
       "      <th>std_fit_time</th>\n",
       "      <th>mean_score_time</th>\n",
       "      <th>std_score_time</th>\n",
       "      <th>split0_test_score</th>\n",
       "      <th>split1_test_score</th>\n",
       "      <th>split2_test_score</th>\n",
       "      <th>mean_test_score</th>\n",
       "      <th>std_test_score</th>\n",
       "      <th>rank_test_score</th>\n",
       "      <th>param_colsample_bytree</th>\n",
       "      <th>param_learning_rate</th>\n",
       "      <th>param_max_depth</th>\n",
       "      <th>param_min_child_weight</th>\n",
       "      <th>param_subsample</th>\n",
       "    </tr>\n",
       "  </thead>\n",
       "  <tbody>\n",
       "    <tr>\n",
       "      <th>0</th>\n",
       "      <td>{'colsample_bytree': 0.9, 'learning_rate': 0.1...</td>\n",
       "      <td>3.340596</td>\n",
       "      <td>0.028590</td>\n",
       "      <td>0.941523</td>\n",
       "      <td>0.004449</td>\n",
       "      <td>0.609076</td>\n",
       "      <td>0.609349</td>\n",
       "      <td>0.610118</td>\n",
       "      <td>0.609514</td>\n",
       "      <td>0.000441</td>\n",
       "      <td>72</td>\n",
       "      <td>0.9</td>\n",
       "      <td>0.1</td>\n",
       "      <td>5</td>\n",
       "      <td>1</td>\n",
       "      <td>0.6</td>\n",
       "    </tr>\n",
       "    <tr>\n",
       "      <th>1</th>\n",
       "      <td>{'colsample_bytree': 0.9, 'learning_rate': 0.1...</td>\n",
       "      <td>3.327109</td>\n",
       "      <td>0.035618</td>\n",
       "      <td>0.948094</td>\n",
       "      <td>0.001567</td>\n",
       "      <td>0.609893</td>\n",
       "      <td>0.609305</td>\n",
       "      <td>0.610197</td>\n",
       "      <td>0.609799</td>\n",
       "      <td>0.000370</td>\n",
       "      <td>65</td>\n",
       "      <td>0.9</td>\n",
       "      <td>0.1</td>\n",
       "      <td>5</td>\n",
       "      <td>1</td>\n",
       "      <td>0.8</td>\n",
       "    </tr>\n",
       "    <tr>\n",
       "      <th>2</th>\n",
       "      <td>{'colsample_bytree': 0.9, 'learning_rate': 0.1...</td>\n",
       "      <td>3.196492</td>\n",
       "      <td>0.048098</td>\n",
       "      <td>0.946612</td>\n",
       "      <td>0.003187</td>\n",
       "      <td>0.609606</td>\n",
       "      <td>0.609448</td>\n",
       "      <td>0.610064</td>\n",
       "      <td>0.609706</td>\n",
       "      <td>0.000261</td>\n",
       "      <td>66</td>\n",
       "      <td>0.9</td>\n",
       "      <td>0.1</td>\n",
       "      <td>5</td>\n",
       "      <td>1</td>\n",
       "      <td>1.0</td>\n",
       "    </tr>\n",
       "    <tr>\n",
       "      <th>3</th>\n",
       "      <td>{'colsample_bytree': 0.9, 'learning_rate': 0.1...</td>\n",
       "      <td>3.328840</td>\n",
       "      <td>0.049396</td>\n",
       "      <td>0.950254</td>\n",
       "      <td>0.003589</td>\n",
       "      <td>0.608943</td>\n",
       "      <td>0.609346</td>\n",
       "      <td>0.610421</td>\n",
       "      <td>0.609570</td>\n",
       "      <td>0.000624</td>\n",
       "      <td>71</td>\n",
       "      <td>0.9</td>\n",
       "      <td>0.1</td>\n",
       "      <td>5</td>\n",
       "      <td>10</td>\n",
       "      <td>0.6</td>\n",
       "    </tr>\n",
       "    <tr>\n",
       "      <th>4</th>\n",
       "      <td>{'colsample_bytree': 0.9, 'learning_rate': 0.1...</td>\n",
       "      <td>3.326946</td>\n",
       "      <td>0.025773</td>\n",
       "      <td>0.944596</td>\n",
       "      <td>0.005112</td>\n",
       "      <td>0.609471</td>\n",
       "      <td>0.609416</td>\n",
       "      <td>0.610038</td>\n",
       "      <td>0.609641</td>\n",
       "      <td>0.000281</td>\n",
       "      <td>69</td>\n",
       "      <td>0.9</td>\n",
       "      <td>0.1</td>\n",
       "      <td>5</td>\n",
       "      <td>10</td>\n",
       "      <td>0.8</td>\n",
       "    </tr>\n",
       "  </tbody>\n",
       "</table>\n",
       "</div>"
      ],
      "text/plain": [
       "                                              params  mean_fit_time  \\\n",
       "0  {'colsample_bytree': 0.9, 'learning_rate': 0.1...       3.340596   \n",
       "1  {'colsample_bytree': 0.9, 'learning_rate': 0.1...       3.327109   \n",
       "2  {'colsample_bytree': 0.9, 'learning_rate': 0.1...       3.196492   \n",
       "3  {'colsample_bytree': 0.9, 'learning_rate': 0.1...       3.328840   \n",
       "4  {'colsample_bytree': 0.9, 'learning_rate': 0.1...       3.326946   \n",
       "\n",
       "   std_fit_time  mean_score_time  std_score_time  split0_test_score  \\\n",
       "0      0.028590         0.941523        0.004449           0.609076   \n",
       "1      0.035618         0.948094        0.001567           0.609893   \n",
       "2      0.048098         0.946612        0.003187           0.609606   \n",
       "3      0.049396         0.950254        0.003589           0.608943   \n",
       "4      0.025773         0.944596        0.005112           0.609471   \n",
       "\n",
       "   split1_test_score  split2_test_score  mean_test_score  std_test_score  \\\n",
       "0           0.609349           0.610118         0.609514        0.000441   \n",
       "1           0.609305           0.610197         0.609799        0.000370   \n",
       "2           0.609448           0.610064         0.609706        0.000261   \n",
       "3           0.609346           0.610421         0.609570        0.000624   \n",
       "4           0.609416           0.610038         0.609641        0.000281   \n",
       "\n",
       "   rank_test_score param_colsample_bytree param_learning_rate param_max_depth  \\\n",
       "0               72                    0.9                 0.1               5   \n",
       "1               65                    0.9                 0.1               5   \n",
       "2               66                    0.9                 0.1               5   \n",
       "3               71                    0.9                 0.1               5   \n",
       "4               69                    0.9                 0.1               5   \n",
       "\n",
       "  param_min_child_weight param_subsample  \n",
       "0                      1             0.6  \n",
       "1                      1             0.8  \n",
       "2                      1             1.0  \n",
       "3                     10             0.6  \n",
       "4                     10             0.8  "
      ]
     },
     "execution_count": 19,
     "metadata": {},
     "output_type": "execute_result"
    }
   ],
   "source": [
    "# load search results in pandas DataFrame\n",
    "pd.DataFrame(grid_search.cv_results_).head()"
   ]
  },
  {
   "cell_type": "markdown",
   "id": "5ab43ef0-4590-4765-b82c-0b156bfd8a51",
   "metadata": {},
   "source": [
    "Once the search is complete, we can use the `.best_estimator_` property to get the estimator which gave the highest score. We can also get the parameter setting that gave the best results with the `.best_params_` property. Knowing the optimal hyperparameters to use, we will use them to retrain the model. "
   ]
  },
  {
   "cell_type": "code",
   "execution_count": 20,
   "id": "80dcf7cf-c4dd-4843-a250-7c6b1bb92cbe",
   "metadata": {
    "scrolled": true,
    "tags": []
   },
   "outputs": [
    {
     "name": "stdout",
     "output_type": "stream",
     "text": [
      "{'colsample_bytree': 1.0, 'learning_rate': 0.30000000000000004, 'max_depth': 7, 'min_child_weight': 1, 'subsample': 1.0}\n"
     ]
    }
   ],
   "source": [
    "# print best parameters\n",
    "best_params=grid_search.best_params_\n",
    "print(best_params)"
   ]
  },
  {
   "cell_type": "code",
   "execution_count": null,
   "id": "b735761d-0d6e-4817-90db-005cb29eeaf5",
   "metadata": {},
   "outputs": [],
   "source": [
    "# import dependencies\n",
    "from dask_ml.model_selection import train_test_split\n",
    "from dask_ml.metrics import accuracy_score"
   ]
  },
  {
   "cell_type": "code",
   "execution_count": null,
   "id": "9ca54a21-47bd-4f9e-8266-f47d817b7c89",
   "metadata": {
    "scrolled": true,
    "tags": []
   },
   "outputs": [],
   "source": [
    "# load data\n",
    "parquet_dir='processed_parquet'\n",
    "ddf=dask_cudf.read_parquet(parquet_dir, columns=include)\n",
    "\n",
    "print(f'Total of {len(ddf)} records split across {ddf.npartitions} partitions. ')"
   ]
  },
  {
   "cell_type": "code",
   "execution_count": null,
   "id": "78b1c9fd-f77b-4c3e-8125-22c0039d7355",
   "metadata": {
    "scrolled": true,
    "tags": []
   },
   "outputs": [],
   "source": [
    "# split data into train and test sets\n",
    "y=ddf['target'].astype('float32')\n",
    "X=ddf[features_list].astype('float32')\n",
    "\n",
    "X_train, X_test, y_train, y_test=train_test_split(X, y, random_state=42)\n",
    "X_train, X_test, y_train, y_test=client.persist([X_train, X_test, y_train, y_test])\n",
    "wait([X_train, X_test, y_train, y_test])"
   ]
  },
  {
   "cell_type": "code",
   "execution_count": null,
   "id": "28c685ce-9f07-40ba-b6ac-651e9b979c55",
   "metadata": {
    "scrolled": true,
    "tags": []
   },
   "outputs": [],
   "source": [
    "# create DaskDMatrix\n",
    "dtrain=xgboost.dask.DaskDMatrix(client, X_train, y_train)\n",
    "dtest=xgboost.dask.DaskDMatrix(client, X_test, y_test)"
   ]
  },
  {
   "cell_type": "code",
   "execution_count": null,
   "id": "e44490d2-a3e5-4c8b-b1e9-6b39e8b896a0",
   "metadata": {
    "scrolled": true,
    "tags": []
   },
   "outputs": [],
   "source": [
    "# retrain optimized model\n",
    "xgb_params.update(best_params)\n",
    "\n",
    "# train the model\n",
    "xgb_dask_clf=xgboost.dask.train(client, \n",
    "                     xgb_params, \n",
    "                     dtrain=dtrain,\n",
    "                     evals=[(dtrain, 'train'), (dtest, 'valid')],\n",
    "                     num_boost_round=350,\n",
    "                     early_stopping_rounds=10\n",
    ")"
   ]
  },
  {
   "cell_type": "code",
   "execution_count": null,
   "id": "0888f85a-4d78-4650-92d5-330c18c2f152",
   "metadata": {
    "scrolled": true,
    "tags": []
   },
   "outputs": [],
   "source": [
    "# predict\n",
    "start=time.time()\n",
    "prediction_test=xgboost.dask.predict(client, xgb_dask_clf, dtest)\n",
    "elapsed_time=time.time()-start\n",
    "\n",
    "print(f'Accuracy score for test set: {round(float(accuracy_score(y_test, prediction_test>0.5))*100, 2)}%')\n",
    "\n",
    "throughput=round(len(X_test)/elapsed_time, 2)\n",
    "print(f'Throughput is: {throughput} per seconds. ')"
   ]
  },
  {
   "cell_type": "markdown",
   "id": "d4e64bc6-809c-4cf8-ac8d-3bd5b35c9507",
   "metadata": {},
   "source": [
    "<p><img src='images/tip.png' width=720></p>\n",
    "\n",
    "It is recommended to use a grid-search method to find the optimal hyperparameters of a model that results in the most accurate predictions. To avoid overfitting, we can increase training data sample size that introduces more patterns, reduce the number of features to reduce complexity, or introduce data regularization. To avoid underfitting, we can introduce more complexity by adding more features, although this approach may require more data to fit. "
   ]
  },
  {
   "cell_type": "markdown",
   "id": "0847595d-9993-4e59-a03b-9ae40315afa5",
   "metadata": {},
   "source": [
    "<a href=\"https://www.nvidia.com/dli\"> <img src=\"images/DLI_Header.png\" alt=\"Header\" style=\"width: 400px;\"/> </a>"
   ]
  }
 ],
 "metadata": {
  "kernelspec": {
   "display_name": "Python 3 (ipykernel)",
   "language": "python",
   "name": "python3"
  },
  "language_info": {
   "codemirror_mode": {
    "name": "ipython",
    "version": 3
   },
   "file_extension": ".py",
   "mimetype": "text/x-python",
   "name": "python",
   "nbconvert_exporter": "python",
   "pygments_lexer": "ipython3",
   "version": "3.9.15"
  }
 },
 "nbformat": 4,
 "nbformat_minor": 5
}
